{
 "cells": [
  {
   "cell_type": "code",
   "execution_count": 104,
   "metadata": {},
   "outputs": [],
   "source": [
    "#for importing, formatting and data manipulation\n",
    "import pandas as pd\n",
    "import numpy as np\n",
    "import glob\n",
    "import datetime\n",
    "#from time import time\n",
    "#from datetime import datetime\n",
    "#from datetime import timedelta\n",
    "import tempfile\n",
    "from qiime2 import Artifact\n",
    "import zipfile\n",
    "import yaml\n",
    "import json\n",
    "\n",
    "#for plotting\n",
    "import matplotlib.pyplot as plt\n",
    "import matplotlib.ticker as ticker\n",
    "from matplotlib_venn import venn3, venn3_circles\n",
    "import seaborn as sns\n",
    "#sns.set(style=\"whitegrid\")\n",
    "import plotly.express as px\n",
    "%matplotlib inline\n",
    "from IPython.display import display\n",
    "from upsetplot import plot\n",
    "#import pyupset as pyu\n",
    "pd.set_option('display.max_rows', 15)\n",
    "pd.set_option('display.max_columns', 500)\n",
    "pd.set_option('display.width', 1000)\n",
    "from pandas.plotting import register_matplotlib_converters\n",
    "from mpl_toolkits.mplot3d import Axes3D\n",
    "import plotly.graph_objects as go\n",
    "from statsmodels.tsa.stattools import acf, pacf\n",
    "from statsmodels.tsa.statespace.sarimax import SARIMAX\n",
    "register_matplotlib_converters()\n",
    "\n",
    "#for statistical analyses\n",
    "from sklearn.preprocessing import StandardScaler\n",
    "from sklearn.decomposition import PCA\n",
    "from sklearn.cluster import KMeans\n",
    "from sklearn.covariance import EllipticEnvelope\n",
    "from sklearn.ensemble import IsolationForest\n",
    "from skbio.diversity import alpha_diversity\n",
    "from skbio.stats.distance import permanova\n",
    "from skbio import DistanceMatrix\n",
    "from scipy.spatial.distance import cdist\n",
    "from skbio.stats.composition import clr\n",
    "from skbio.stats.composition import alr\n",
    "from skbio.stats.composition import ilr\n",
    "from skbio.diversity.alpha import chao1"
   ]
  },
  {
   "cell_type": "markdown",
   "metadata": {},
   "source": [
    "## Import and format metadata from lab, and BBMP"
   ]
  },
  {
   "cell_type": "markdown",
   "metadata": {},
   "source": [
    "### Import lab metadata"
   ]
  },
  {
   "cell_type": "code",
   "execution_count": 2,
   "metadata": {},
   "outputs": [],
   "source": [
    "def load_df():\n",
    "    \n",
    "    filenames = glob.glob('/Users/Diana/Documents/escuela/phd/ch2/bb_data/20**/METADATA.txt')\n",
    "    #load all metadata and concatenate them into one dataframe\n",
    "    md = []\n",
    "    for filename in filenames:\n",
    "        df = pd.read_csv(filename, sep='\\t')\n",
    "        md.append(df)\n",
    "        print (filename)\n",
    "    \n",
    "    md = pd.concat(md)\n",
    "    \n",
    "    #drop empty columns and rows\n",
    "    md.dropna(how='all', axis=1, inplace=True) #empty cols\n",
    "    md.dropna(how='all', inplace=True) #empty rows\n",
    "    \n",
    "    return md"
   ]
  },
  {
   "cell_type": "code",
   "execution_count": 3,
   "metadata": {},
   "outputs": [
    {
     "name": "stdout",
     "output_type": "stream",
     "text": [
      "/Users/Diana/Documents/escuela/phd/ch2/bb_data/2014/METADATA.txt\n",
      "/Users/Diana/Documents/escuela/phd/ch2/bb_data/2022/METADATA.txt\n",
      "/Users/Diana/Documents/escuela/phd/ch2/bb_data/2015/METADATA.txt\n",
      "/Users/Diana/Documents/escuela/phd/ch2/bb_data/2017/METADATA.txt\n",
      "/Users/Diana/Documents/escuela/phd/ch2/bb_data/2019/METADATA.txt\n",
      "/Users/Diana/Documents/escuela/phd/ch2/bb_data/2021/METADATA.txt\n",
      "/Users/Diana/Documents/escuela/phd/ch2/bb_data/2020/METADATA.txt\n",
      "/Users/Diana/Documents/escuela/phd/ch2/bb_data/2018/METADATA.txt\n",
      "/Users/Diana/Documents/escuela/phd/ch2/bb_data/2016/METADATA.txt\n"
     ]
    }
   ],
   "source": [
    "md = load_df()"
   ]
  },
  {
   "cell_type": "markdown",
   "metadata": {},
   "source": [
    "#### Renumber dates"
   ]
  },
  {
   "cell_type": "code",
   "execution_count": 4,
   "metadata": {},
   "outputs": [],
   "source": [
    "#create a dictionary for months\n",
    "month_dic = {\n",
    "    \"Jan\": 1,\n",
    "    \"Feb\": 2,\n",
    "    \"Mar\": 3,\n",
    "    \"Apr\": 4,\n",
    "    \"May\": 5,\n",
    "    \"Jun\": 6,\n",
    "    \"Jul\": 7,\n",
    "    \"Aug\": 8,\n",
    "    \"Sep\": 9,\n",
    "    \"Oct\": 10,\n",
    "    \"Nov\": 11,\n",
    "    \"Dec\": 12\n",
    "}\n",
    "month_season = {\n",
    "    \"Jan\": \"Winter\",\n",
    "    \"Feb\": \"Winter\",\n",
    "    \"Mar\": \"Spring\",\n",
    "    \"Apr\": \"Spring\",\n",
    "    \"May\": \"Spring\",\n",
    "    \"Jun\": \"Summer\",\n",
    "    \"Jul\": \"Summer\",\n",
    "    \"Aug\": \"Summer\",\n",
    "    \"Sep\": \"Autumn\",\n",
    "    \"Oct\": \"Autumn\",\n",
    "    \"Nov\": \"Autumn\",\n",
    "    \"Dec\": \"Winter\"\n",
    "}\n",
    "depth_num = {\n",
    "    \"A\": 1,\n",
    "    \"B\": 5,\n",
    "    \"C\": 10,\n",
    "    \"D\": 60,\n",
    "    \"E\": 30\n",
    "}"
   ]
  },
  {
   "cell_type": "code",
   "execution_count": 5,
   "metadata": {},
   "outputs": [],
   "source": [
    "#add month to a new column\n",
    "md['month_name'] = md['date'].str.split('-').str[1]\n",
    "\n",
    "#add month number\n",
    "md['month']= md['month_name'].map(month_dic)\n",
    "\n",
    "#add day number\n",
    "md['day'] = md['date'].str.split('-').str[0]\n",
    "md[[\"year\", \"month\", \"day\"]] = md[[\"year\", \"month\", \"day\"]].apply(pd.to_numeric)\n",
    "\n",
    "#remove symbol for better handling of data\n",
    "#md.rename(columns={\"Week#\": \"Weekn\"}, inplace=True)\n",
    "#md.rename(columns={\"Depth\": \"depth\"}, inplace=True) #to match dfo\n",
    "\n",
    "#change to int to remove decimals from date columns\n",
    "md.year = md.year.apply(int)\n",
    "md.depth = md.depth.apply(int)\n",
    "md.weekn = md.weekn.apply(int)\n",
    "\n",
    "#change to str to aggregate them into time_string to match dfos formatting of the date\n",
    "md.year = md.year.apply(str)\n",
    "md.month = md.month.apply(str)\n",
    "md.day = md.day.apply(str)\n",
    "#add leading zero to match date format in dfo metadata\n",
    "md['month'] = md['month'].str.zfill(2)\n",
    "md['day'] = md['day'].str.zfill(2)\n",
    "\n",
    "#add leading zero to match date format in dfo metadata\n",
    "md['month'] = md['month'].str.zfill(2)\n",
    "md['day'] = md['day'].str.zfill(2)\n",
    "\n",
    "md['time_string'] = md[['year', 'month', 'day']].agg('-'.join, axis=1)"
   ]
  },
  {
   "cell_type": "markdown",
   "metadata": {},
   "source": [
    "### Import and manage BBMP data"
   ]
  },
  {
   "cell_type": "markdown",
   "metadata": {},
   "source": [
    "#### Metadata __md__ is formatted. It contains 38 columns.\n",
    "__md__ is the lab's metadata for sampling, extraction and sequencing. \\\n",
    "__dfo_md__ is BBMP remote sensing data (salinity, pH, temperature, density..) \\\n",
    "__bio_niskin__ is nutrient data \\\n",
    "Format __bio_niskin__ data to merge with __md__. __bio_niskin__ is 32 columns, including year, month, day, and depth. __dfo_md__ also has 32 columns, including year_time, month_time, day_time. To merge these data with __md__, we will change the time stamps columns to the same name, and generate a time_string column."
   ]
  },
  {
   "cell_type": "code",
   "execution_count": 6,
   "metadata": {},
   "outputs": [
    {
     "name": "stderr",
     "output_type": "stream",
     "text": [
      "/var/folders/kv/yq6jygk116l27q2bwnk25k0w0000gn/T/ipykernel_64907/2823838939.py:35: UserWarning: You are merging on int and float columns where the float values are not equal to their int representation.\n",
      "  merged = pd.merge(md, dfo_md, on=[\"year\", \"month\", \"depth\", \"day\"], how=\"left\")\n",
      "/var/folders/kv/yq6jygk116l27q2bwnk25k0w0000gn/T/ipykernel_64907/2823838939.py:36: UserWarning: You are merging on int and float columns where the float values are not equal to their int representation.\n",
      "  allyears = pd.merge(md, dfo_md, on=[\"year\", \"month\", \"depth\", \"day\"], how=\"outer\")\n",
      "/var/folders/kv/yq6jygk116l27q2bwnk25k0w0000gn/T/ipykernel_64907/2823838939.py:40: UserWarning: You are merging on int and float columns where the float values are not equal to their int representation.\n",
      "  all_md = pd.merge(merged, bio_niskin, on=[\"day\", \"month\", \"year\", 'depth'], how=\"left\")\n",
      "/var/folders/kv/yq6jygk116l27q2bwnk25k0w0000gn/T/ipykernel_64907/2823838939.py:49: FutureWarning: The default value of numeric_only in DataFrameGroupBy.mean is deprecated. In a future version, numeric_only will default to False. Either specify numeric_only or select only columns which should be valid for the function.\n",
      "  year_season = preall_md.groupby(by = ['year','season']).mean().reset_index()\n"
     ]
    }
   ],
   "source": [
    "dfo_md = pd.read_csv(\"/Users/Diana/Documents/escuela/phd/ch2/bb_data/bbmp_aggregated_profiles.csv\")\n",
    "bio_niskin = pd.read_csv(\"/Users/Diana/Documents/escuela/phd/ch2/bb_data/BBMP_Data_2022.csv\")#\n",
    "#dfo_metadata_y14 = pd.read_csv(\"/Users/Diana/Documents/escuela/phd/bb_data/2019/data_export/trim-analysis/dfo_metadata_y14.tsv\", sep='\\t')\n",
    "\n",
    "#change to str to aggregate them into time_string\n",
    "bio_niskin.year = bio_niskin.year.apply(str)\n",
    "bio_niskin.month = bio_niskin.month.apply(str)\n",
    "bio_niskin.day = bio_niskin.day.apply(str)\n",
    "#add leading zero to match date format in dfo metadata\n",
    "bio_niskin['month'] = bio_niskin['month'].str.zfill(2)\n",
    "bio_niskin['day'] = bio_niskin['day'].str.zfill(2)\n",
    "\n",
    "bio_niskin['time_string'] = bio_niskin[['year', 'month', 'day']].agg('-'.join, axis=1)\n",
    "\n",
    "#make a new column for time_string without the time\n",
    "dfo_md['time_string_time'] = dfo_md['time_string']\n",
    "dfo_md['time_string'] = dfo_md['time_string'].str.split(' ').str[0]\n",
    "\n",
    "#renaming columns to ensure correct merging\n",
    "dfo_md.rename(columns={\"depth\":\"bbmpdepth\",\"pressure\": \"depth\", \"year_time\": \"year\", \"month_time\": \"month\", \"day_time\": \"day\"}, inplace=True)\n",
    "\n",
    "#change to int to remove decimals from date columns\n",
    "cols = ['year', 'depth', 'month', 'day']\n",
    "md[cols] = md[cols].apply(pd.to_numeric, errors='ignore', axis=1)\n",
    "dfo_md[cols] = dfo_md[cols].apply(pd.to_numeric, errors='ignore', axis=1)\n",
    "bio_niskin[cols] = bio_niskin[cols].apply(pd.to_numeric, errors='ignore', axis=1)\n",
    "\n",
    "#make a season column\n",
    "md['season'] = ''\n",
    "\n",
    "for month, season in month_season.items():\n",
    "    md.loc[md['month_name'] == month, 'season'] = season\n",
    "\n",
    "#merging party\n",
    "merged = pd.merge(md, dfo_md, on=[\"year\", \"month\", \"depth\", \"day\"], how=\"left\")\n",
    "allyears = pd.merge(md, dfo_md, on=[\"year\", \"month\", \"depth\", \"day\"], how=\"outer\")\n",
    "\n",
    "#add nutrient data\n",
    "preall_md= pd.merge(allyears, bio_niskin, on=[\"day\", \"month\", \"year\", 'depth'], how=\"outer\")\n",
    "all_md = pd.merge(merged, bio_niskin, on=[\"day\", \"month\", \"year\", 'depth'], how=\"left\")\n",
    "\n",
    "#split dfs by depth\n",
    "shallow_depths = [1, 5, 10]\n",
    "shallow = all_md[all_md[\"depth\"] < 30]\n",
    "#shallow = shallow.groupby(['year', 'month', \"day\"]).mean().reset_index()\n",
    "deep = all_md[all_md.depth == 60]\n",
    "\n",
    "#split dfs by season\n",
    "year_season = preall_md.groupby(by = ['year','season']).mean().reset_index()\n",
    "\n",
    "Winter = year_season.loc[year_season['season'] == 'Winter',:]\n",
    "Spring = year_season.loc[year_season['season'] == 'Spring',:]\n",
    "Summer = year_season.loc[year_season['season'] == 'Summer',:]\n",
    "Autumn = year_season.loc[year_season['season'] == 'Autumn',:]\n",
    "\n",
    "#save output as csv\n",
    "all_md.to_csv('allmetadata.csv')"
   ]
  },
  {
   "cell_type": "markdown",
   "metadata": {},
   "source": [
    "## Find missing data"
   ]
  },
  {
   "cell_type": "code",
   "execution_count": 7,
   "metadata": {},
   "outputs": [],
   "source": [
    "emptynit = all_md[all_md['Nitrate'].isna()]"
   ]
  },
  {
   "cell_type": "markdown",
   "metadata": {},
   "source": [
    "## Plotting party"
   ]
  },
  {
   "cell_type": "code",
   "execution_count": null,
   "metadata": {
    "scrolled": true
   },
   "outputs": [],
   "source": [
    "#plotly seasonal averages figure\n",
    "fig2 = go.Figure()\n",
    "for template in [\"plotly_white\"]:\n",
    "    fig2.add_trace(go.Scatter(x=Winter['year'], y=Winter['temperature'],\n",
    "                    mode='lines',\n",
    "                    name='Winter',\n",
    "                    marker_color='#838B8B'))\n",
    "    fig2.add_trace(go.Scatter(x=Spring['year'], y=Spring['temperature'],\n",
    "                    mode='lines',\n",
    "                    name='Spring',\n",
    "                    marker_color='#FFB5C5'))\n",
    "    fig2.add_trace(go.Scatter(x=Summer['year'], y=Summer['temperature'],\n",
    "                    mode='lines',\n",
    "                    name='Summer',\n",
    "                    marker_color='#87CEFF'))\n",
    "    fig2.add_trace(go.Scatter(x=Autumn['year'], y=Autumn['temperature'],\n",
    "                    mode='lines',\n",
    "                    name='Autumn',\n",
    "                    marker_color='#FF8000'))\n",
    "    fig2.update_layout(\n",
    "    height=800,\n",
    "    xaxis_title=\"Years\",\n",
    "    yaxis_title='Temperature in degree',\n",
    "    title_text='Average Temperature seasonwise over the years',\n",
    "    template=template)\n",
    "\n",
    "fig2.show()"
   ]
  },
  {
   "cell_type": "code",
   "execution_count": null,
   "metadata": {
    "scrolled": true
   },
   "outputs": [],
   "source": [
    "#seaborn season averages plot\n",
    "sns.lineplot(year_season['year'],year_season['temperature'], hue =year_season[\"season\"])"
   ]
  },
  {
   "cell_type": "code",
   "execution_count": null,
   "metadata": {},
   "outputs": [],
   "source": [
    "plt.style.use('ggplot')"
   ]
  },
  {
   "cell_type": "markdown",
   "metadata": {},
   "source": [
    "### Detect and plot anomalies in variables"
   ]
  },
  {
   "cell_type": "code",
   "execution_count": null,
   "metadata": {},
   "outputs": [],
   "source": [
    "def detect_anomalies(metadata, depth, yr=all, month=all):\n",
    "    md_col = depth[['weekn', metadata, \"year\", \"month\"]].copy()\n",
    "    md_col = md_col[md_col[metadata].notna()]\n",
    "    if yr != all:\n",
    "        #mdcol_yr = md_col[md_col.Year == yr]\n",
    "        mdcol_yr = md_col[md_col['year'].isin(yr)]\n",
    "    else: \n",
    "        mdcol_yr = md_col\n",
    "        \n",
    "    if month != all:\n",
    "        #mdcol_yr = mdcol_yr[mdcol_yr.Month == month]\n",
    "        mdcol_yr = mdcol_yr[mdcol_yr['month'].isin(month)]\n",
    "    \n",
    "    mdcol_yr = mdcol_yr.drop(columns=['year', \"month\"])\n",
    "    mdcol_yr = mdcol_yr.set_index(['weekn'])\n",
    "    \n",
    "    #modelling time\n",
    "    outliers_fraction = float(.01)\n",
    "    scaler = StandardScaler()\n",
    "    np_scaled = scaler.fit_transform(mdcol_yr.values.reshape(-1, 1))\n",
    "    data = pd.DataFrame(np_scaled)\n",
    "    # train isolation forest\n",
    "    model =  IsolationForest(contamination=outliers_fraction)\n",
    "    model.fit(data)\n",
    "    \n",
    "    #predict data\n",
    "    mdcol_yr['anomaly'] = model.predict(data)\n",
    "    \n",
    "    \n",
    "    # visualization\n",
    "    fig, ax = plt.subplots(figsize=(10,6))\n",
    "    a = mdcol_yr.loc[mdcol_yr['anomaly'] == -1, [metadata]] #anomaly\n",
    "    ax.plot(mdcol_yr.index, mdcol_yr[metadata], color='black', label = 'Normal')\n",
    "    ax.scatter(a.index,a[metadata], color='red', label = 'Anomaly')\n",
    "    plt.axvline(36, ls='--')\n",
    "    plt.legend()\n",
    "    plt.show();\n",
    "    #add axes names"
   ]
  },
  {
   "cell_type": "code",
   "execution_count": null,
   "metadata": {},
   "outputs": [],
   "source": [
    "detect_anomalies('Phosphate', shallow, yr={2022}, month={1,2,3})"
   ]
  },
  {
   "cell_type": "markdown",
   "metadata": {},
   "source": [
    "## Add prokaryotic community"
   ]
  },
  {
   "cell_type": "markdown",
   "metadata": {},
   "source": [
    "#### Upload functions"
   ]
  },
  {
   "cell_type": "code",
   "execution_count": 77,
   "metadata": {},
   "outputs": [],
   "source": [
    "# Special thanks to Alex Manuele https://github.com/alexmanuele\n",
    "def consolidate_tables(MG):\n",
    "    if MG == '16S':\n",
    "        comm = '02-PROKs'\n",
    "    else :\n",
    "        comm = '02-EUKs'\n",
    "        \n",
    "    table_list = glob.glob('{0}/table.qza'.format('/Users/Diana/Documents/escuela/phd/size_fractions/BB22_size-fraction-comparison-analysed/to_transfer/'+comm))\n",
    "    print(\"Found all \"+MG+\" tables.\")\n",
    "\n",
    "        \n",
    "    dataframes = []  \n",
    "    for table_path in table_list:\n",
    "        with tempfile.TemporaryDirectory() as tempdir:\n",
    "            #load table, dump contents to tempdir\n",
    "            table = Artifact.load(table_path)\n",
    "            #Make sure the tables are all FeatureFrequency type\n",
    "            assert str(table.type) == 'FeatureTable[Frequency]', \"{0}: Expected FeatureTable[Frequency], got {1}\".format(table_path, table.type)\n",
    "            Artifact.extract(table_path, tempdir)\n",
    "            #get the provenance form the tempdir and format it for DF\n",
    "            prov = '{0}/{1}/provenance/'.format(tempdir, table.uuid)\n",
    "            action = yaml.load(open(\"{0}action/action.yaml\".format(prov), 'r'), Loader=yaml.BaseLoader)\n",
    "            paramlist = action['action']['parameters']\n",
    "            paramlist.append({'table_uuid': \"{}\".format(table.uuid)})\n",
    "            paramdict = {}\n",
    "            for record in paramlist:\n",
    "                paramdict.update(record)\n",
    "\n",
    "            # Get the data into a dataframe\n",
    "              #Biom data\n",
    "            df = table.view(pd.DataFrame).unstack().reset_index()\n",
    "            df.columns = ['feature_id', 'sample_name', 'feature_frequency']\n",
    "            df['table_uuid'] = [\"{}\".format(table.uuid)] * df.shape[0]\n",
    "              #param data\n",
    "            pdf = pd.DataFrame.from_records([paramdict])\n",
    "              #merge params into main df\n",
    "            df = df.merge(pdf, on='table_uuid')\n",
    "            \n",
    "\n",
    "            #I like having these columns as the last three. Makes it more readable\n",
    "            cols = df.columns.tolist()\n",
    "            reorder = ['sample_name', 'feature_id', 'feature_frequency']\n",
    "            for val in reorder:\n",
    "                cols.append(cols.pop(cols.index(val)))\n",
    "            df = df[cols]\n",
    "            df['table_path'] = [table_path] * df.shape[0]\n",
    "            df['sample_name'] = df['sample_name'].str.replace('-', '.')\n",
    "            dataframes.append(df)\n",
    "            \n",
    "            # Adding table_id, forward and reverse trim columns\n",
    "            #df['table_id'] = str(table_path.split('/')[-3]) #add a table_id column\n",
    "            #df['forward_trim'], df['reverse_trim'] = df['table_id'].str.split('R', 1).str\n",
    "            #df['forward_trim'] = df['forward_trim'].map(lambda x: x.lstrip('F'))\n",
    "            #df[\"forward_trim\"] = pd.to_numeric(df[\"forward_trim\"])\n",
    "            #df[\"reverse_trim\"] = pd.to_numeric(df[\"reverse_trim\"])\n",
    "\n",
    "    #Stick all the dataframes together\n",
    "    #outputfile=\"merged_all_tables.tsv\"\n",
    "    df = pd.concat(dataframes)\n",
    "    df['sample_name'] = df['sample_name'].str.replace(r'\\.S([1-9]|[1-9][0-9]|[1-9][0-9][0-9]).L001\\.','', regex=True)\n",
    "    \n",
    "    #df.to_csv(comm+'/merged_all_tables.tsv', sep='\\t', index=False)\n",
    "    print(\"Successfully saved all tables.\")\n",
    "    return df, comm"
   ]
  },
  {
   "cell_type": "code",
   "execution_count": 9,
   "metadata": {},
   "outputs": [],
   "source": [
    "def merge_metadata(df):\n",
    "    #df = pd.read_csv('02-PROKs/'+'/merged_all_tables.tsv', sep='\\t')\n",
    "\n",
    "    tables = df[['sample_name', 'feature_id', 'feature_frequency']].copy()\n",
    "    tables.rename(columns={'sample_name':'sampleid'}, inplace=True)\n",
    "\n",
    "    all_md['sampleid'] = all_md['sampleid'].str.replace('_', '.')\n",
    "    merged = pd.merge(tables,all_md, on='sampleid', how='left') #all_md is the metadata file\n",
    "    merged = merged[merged.feature_frequency != 0]\n",
    "    \n",
    "    merged['year'] = 2022\n",
    "    merged[\"size_code\"] = ''\n",
    "\n",
    "    merged[\"size_code\"] = merged[\"sampleid\"].str.extract(r'[1-9][0-9]?[A-E]([L-S])')\n",
    "    merged[\"size_code\"] = merged[\"size_code\"].fillna('W')\n",
    "    merged[\"depth_code\"] = merged[\"sampleid\"].str.extract(r'[1-9][0-9]?([A-E])')\n",
    "    merged['depth']= merged['depth_code'].map(depth_num)\n",
    "    merged[\"weekn\"] = merged[\"sampleid\"].str.extract(r'\\.([1-9][0-9]?)[A-E]')\n",
    "    merged['weekn'] = pd.to_numeric(merged['weekn'])\n",
    "    merged['depth'] = pd.to_numeric(merged['depth'])\n",
    "    merged['date'] = merged.groupby('weekn', as_index=False)['date'].transform('first')\n",
    "    \n",
    "    merged['Total'] = merged['feature_frequency'].groupby(merged['sampleid']).transform('sum')\n",
    "    merged['ratio'] = merged['feature_frequency']/merged['Total']\n",
    "    merged['nASVs'] = merged['feature_id'].groupby(merged['sampleid']).transform('count')\n",
    "    merged['weekdepth'] = merged[\"weekn\"].astype(str) + merged[\"depth\"].astype(str)\n",
    "    merged['avg'] = merged['nASVs'].groupby(merged['weekdepth']).transform('mean')\n",
    "    merged['diff'] = merged['nASVs'] - merged['avg']\n",
    "\n",
    "    print('Set up metadata ...')\n",
    "    \n",
    "    #merged.to_csv(comm+'/merged_asvs_metadata.tsv', sep = '\\t')\n",
    "    print('Saved merged_asvs_metadata.tsv')\n",
    "    \n",
    "    return merged"
   ]
  },
  {
   "cell_type": "code",
   "execution_count": 10,
   "metadata": {},
   "outputs": [],
   "source": [
    "def pick_metadata(merged, depth='all', size_fraction='both', year='all', R='all', F='all', txsubset = 'all'):\n",
    "#make df of features/composition+run+comm\n",
    "\n",
    "    depth = depth\n",
    "    year = year\n",
    "    size_fraction = size_fraction\n",
    "    txsubset = txsubset\n",
    "        \n",
    "    files = glob.glob('{0}/*/class/*/data/taxonomy.tsv'.format('/Users/Diana/Documents/escuela/phd/size_fractions/BB22_size-fraction-comparison-analysed/to_transfer'))\n",
    "    taxos = []\n",
    "#    if not os.path.exists(path+composition):\n",
    "#        os.mkdir(path+composition)\n",
    "    for filename in files:\n",
    "        tax = pd.read_csv(filename, sep='\\t')\n",
    "        taxos.append(tax)\n",
    "        \n",
    "    print('Appended all taxonomies to taxos')\n",
    "    taxos = pd.concat(taxos)\n",
    "    taxos = taxos.rename(columns={\"Feature ID\": \"feature_id\"}, errors=\"raise\")\n",
    "    taxos = taxos.drop_duplicates()\n",
    "\n",
    "    separated = merged.merge(taxos, how='left', on='feature_id') #merged excludes features of frequency = 0\n",
    "    separated = separated.drop_duplicates()\n",
    "    \n",
    "    if depth != 'all':\n",
    "        separated = separated[separated[\"depth\"] == depth]\n",
    "    if size_fraction != 'both':\n",
    "        separated = separated[separated[\"size_fraction\"] == size_fraction]\n",
    "\n",
    "    separated[['Domain', 'Phylum', 'Class', 'Order', 'Family', 'Genus', 'Species']] = separated['Taxon'].str.split('; ', expand=True)\n",
    "    cols = ['Domain', 'Phylum', 'Class', 'Order', 'Family', 'Genus', 'Species']\n",
    "    for col in cols:\n",
    "        separated[col] = separated[col].fillna('Unassigned')\n",
    "    \n",
    "    #separated['total'] = separated.groupby(['table_id','sample-id'])['feature_frequency'].transform('sum')\n",
    "    #separated['ratio'] = separated['feature_frequency']/(separated['total'])\n",
    "    #separated_taxonomies = separated.copy()\n",
    "    \n",
    "    #make a dictionary with keys for id-ing the taxon belonging to this sub-community\n",
    "    #separated_dic = pd.Series(separated.Taxon.values,separated.feature_id.values).to_dict()\n",
    "    print('Saved separated by metadata dataframe.')\n",
    "    \n",
    "    return separated"
   ]
  },
  {
   "cell_type": "code",
   "execution_count": 17,
   "metadata": {},
   "outputs": [],
   "source": [
    "def taxbarplot(separated, level, depth, topn): #separated is the df, #level is a string of taxonomic level column name, depth is an integer\n",
    "    sfd=separated[separated.depth==depth]\n",
    "    toptaxa = sfd[['feature_id', 'feature_frequency', 'Taxon', 'size_code', 'depth','weekn', level]].copy()\n",
    "    toptaxa = toptaxa.drop_duplicates()\n",
    "    df_agg = toptaxa.groupby(['size_code',level, 'depth']).agg({'feature_frequency':sum})\n",
    "    topd = df_agg['feature_frequency'].groupby('size_code', group_keys=False).nlargest(topn)\n",
    "    topd = topd.to_frame()\n",
    "    topd = topd.reset_index()\n",
    "\n",
    "    df_agg = df_agg.reset_index()\n",
    "    df_agg['set_name'] = df_agg['size_code']+df_agg['depth'].astype(str)\n",
    "    \n",
    "    cumulab = separated[['feature_frequency', 'depth', 'size_code', 'Genus']].copy()\n",
    "    cumulab1 = cumulab.groupby(['Genus']).agg({'feature_frequency':sum})\n",
    "\n",
    "    resultpivot = df_agg.pivot_table(index=level, columns='set_name', values='feature_frequency')\n",
    "    resultpivot = resultpivot.fillna(0)\n",
    "    resultpivot[resultpivot != 0] = 1\n",
    "    tosave = pd.merge(resultpivot, cumulab1, left_index=True, right_index=True)\n",
    "    tosave.to_csv(level+'_'+str(depth)+'16S_relab.csv')\n",
    "    \n",
    "    top10d_list = topd[level].unique()\n",
    "    top10d = sfd.copy()\n",
    "    top10d.loc[~top10d[level].isin(top10d_list), level] = 'Other' #isnot in top list\n",
    "    phyld = top10d.groupby(['size_code','weekn', level])['ratio'].sum()\n",
    "    phyld = phyld.reset_index()\n",
    "\n",
    "\n",
    "    fig = px.bar(phyld, x=\"size_code\", y=\"ratio\", facet_col=\"weekn\", color=level, labels={\n",
    "                     \"feature_frequency\": \"Relative abundance\",\n",
    "                     \"size_code\": \"\",\n",
    "                     \"weekn\": \"w\"})# color_discrete_map=colors_dict)\n",
    "    fig.update_xaxes(type='category', dtick=1)\n",
    "    fig.update_layout(\n",
    "        title=\"Relative abundance of top 10\" + level + 'observed at Depth' + str(depth),\n",
    "        yaxis_title=\"Relative abundance\",\n",
    "        xaxis_title=\"Size fraction\",\n",
    "        legend_title=level,\n",
    "        font=dict(size=8)\n",
    "    )\n",
    "\n",
    "    fig.show()\n",
    "    #fig.write_image(\"outputs/fig1.png\")\n",
    "    #fig.to_image(format=\"png\")"
   ]
  },
  {
   "cell_type": "code",
   "execution_count": 65,
   "metadata": {},
   "outputs": [],
   "source": [
    "def pcaplot(separated, depth, comm):\n",
    "    \n",
    "    if comm == '16S':\n",
    "        folder = '02-PROKs'\n",
    "    else:\n",
    "        folder = '02-EUKs'\n",
    "    df=separated[separated.depth==depth]\n",
    "    \n",
    "    sfdpiv= df.pivot(index='sampleid', columns='feature_id', values='feature_frequency')\n",
    "    sfdpiv=sfdpiv.fillna(0)\n",
    "    sfdclr=sfdpiv.mask(sfdpiv==0).fillna(0.1)\n",
    "    clr_transformed_array = clr(sfdclr)\n",
    "    samples = sfdpiv.index\n",
    "    asvs = sfdpiv.columns\n",
    "    \n",
    "    #Creating the dataframe with the clr transformed data, and assigning the sample names\n",
    "    clr_transformed = pd.DataFrame(clr_transformed_array, columns=asvs)\n",
    "    #Assigning the asv names\n",
    "    clr_transformed['samples'] = samples\n",
    "    clr_transformed = clr_transformed.set_index('samples')\n",
    "    clr_transformed.head()\n",
    "\n",
    "    #calculate distance matrix\n",
    "    dist = cdist(clr_transformed, clr_transformed, 'euclid')\n",
    "    distance_matrix = pd.DataFrame(dist, columns=samples)\n",
    "    distance_matrix['samples'] = samples\n",
    "    distance_matrix = distance_matrix.set_index('samples')\n",
    "\n",
    "    #format for pca\n",
    "    dm = DistanceMatrix(distance_matrix)\n",
    "\n",
    "    pca = PCA(n_components=2)\n",
    "    components = pca.fit_transform(distance_matrix)\n",
    "\n",
    "    sns.set(rc={\"figure.figsize\":(4, 3)})\n",
    "    sns.set_style(\"whitegrid\", {'axes.grid' : False})\n",
    "    plot_df = pd.DataFrame(data = components, columns = ['dim1', 'dim2'], index = sfdpiv.index)\n",
    "    plot_df['dim1'] = plot_df['dim1']/1000\n",
    "    plot_df['dim2'] = plot_df['dim2']/1000\n",
    "    plot_df2 = pd.merge(plot_df,df[['sampleid','size_code','weekn']],on='sampleid', how='left')\n",
    "    \n",
    "    #plot\n",
    "    ax=sns.scatterplot(x = 'dim1', y = 'dim2', size = 'weekn', hue= 'size_code', style=\"size_code\", data = plot_df2,palette=palette_dict) #,palette=sns.color_palette(\"dark:salmon_r\", as_cmap=True))\n",
    "    plt.ylabel('Component 2')\n",
    "    plt.xlabel('Component 1')\n",
    "    sns.move_legend(ax, \"upper left\", bbox_to_anchor=(1, 1))\n",
    "    plt.savefig('outputs/'+folder+'/D'+str(depth)+'_PCAplot.png', dpi=200, bbox_inches=\"tight\")"
   ]
  },
  {
   "cell_type": "code",
   "execution_count": 72,
   "metadata": {},
   "outputs": [
    {
     "data": {
      "image/png": "[encoded data removed]",
      "text/plain": [
       "<Figure size 400x300 with 1 Axes>"
      ]
     },
     "metadata": {},
     "output_type": "display_data"
    }
   ],
   "source": [
    "pcaplot(separated, 1, '18S')"
   ]
  },
  {
   "cell_type": "code",
   "execution_count": 97,
   "metadata": {},
   "outputs": [],
   "source": [
    "def boxplot_depth(separated, comm, depth, ycolumn, yaxislabel='def'):\n",
    "    \n",
    "    if comm == '16S':\n",
    "        comm_id = '02-PROKs'\n",
    "    else:\n",
    "        comm_id = '02-EUKs'\n",
    "    \n",
    "    if yaxislabel != 'def':\n",
    "        ycol = ycolumn\n",
    "    \n",
    "    sfd=separated[separated.depth==depth]\n",
    "    \n",
    "    #define color palettes\n",
    "    sizecodes = ['S', 'L', 'W']\n",
    "    palette_colors = sns.color_palette()\n",
    "    palette_dict = {sizecode: color for sizecode, color in zip(sizecodes, palette_colors)}\n",
    "    \n",
    "    #plot\n",
    "    sns.set(rc={\"figure.figsize\":(4, 3)})\n",
    "    sns.boxplot(data=sfd, x=\"size_code\", y=ycolumn, palette=palette_dict, order=['S', 'L', 'W'])#, hue=\"size_code\")\n",
    "    plt.ylabel(yaxislabel)\n",
    "    plt.xlabel('Size fraction')\n",
    "    plt.savefig('outputs/'+comm_id+'/D'+str(depth)+'_adboxplot.png', dpi=200, bbox_inches=\"tight\")\n",
    "    plt.clf()\n",
    "    plt.cla()\n",
    "    plt.close()\n",
    "    \n",
    "    sns.set(rc={\"figure.figsize\":(7, 3)})\n",
    "    ax=sns.barplot(data=sfd, x=\"weekn\", y=\"diff\", hue=\"size_code\", palette=palette_dict)#, hue=\"size_code\")\n",
    "    plt.ylabel('Number of ASVs relative to weekly average')\n",
    "    plt.xlabel('Week number')\n",
    "    plt.savefig('outputs/'+comm_id+'/D'+str(depth)+'_avgbarplot.png', dpi=200, bbox_inches=\"tight\")\n",
    "\n",
    "    plt.clf() \n",
    "    sns.set(rc={\"figure.figsize\":(7, 3)})\n",
    "    ax=sns.lineplot(x = \"weekn\", y = ycolumn, data=sfd, hue=\"size_code\", palette=palette_dict)\n",
    "    plt.ylabel(yaxislabel)\n",
    "    plt.xlabel('Week')\n",
    "    plt.legend(title='Size fraction')\n",
    "    sns.move_legend(ax, \"upper left\", bbox_to_anchor=(1, 1))\n",
    "    plt.savefig('outputs/'+comm_id+'/D'+str(depth)+'_adlineplot.png', dpi=200, bbox_inches=\"tight\")"
   ]
  },
  {
   "cell_type": "code",
   "execution_count": 105,
   "metadata": {},
   "outputs": [],
   "source": [
    "def upsetprep(comm, level):\n",
    "    if comm == '16S':\n",
    "        comm_id = '02-PROKs'\n",
    "    else:\n",
    "        comm_id = '02-EUKs'\n",
    "        \n",
    "    depths = [1, 5, 10, 30, 60]\n",
    "    \n",
    "    cumulab = separated[['feature_frequency', 'depth', 'size_code', level]].copy()\n",
    "    cumulab1 = cumulab.groupby([level]).agg({'feature_frequency':sum})\n",
    "    \n",
    "    for d in depths:\n",
    "        #make csv\n",
    "        sfd=separated[separated.depth==d]\n",
    "        \n",
    "        toptaxa = sfd[['feature_id', 'feature_frequency', 'Taxon', 'size_code', 'depth','weekn', level]].copy()\n",
    "        toptaxa = toptaxa.drop_duplicates()\n",
    "        df_agg = toptaxa.groupby(['size_code',level, 'depth']).agg({'feature_frequency':sum})\n",
    "        topd = df_agg['feature_frequency'].groupby('size_code', group_keys=False).nlargest(10)\n",
    "        topd = topd.to_frame()\n",
    "        topd = topd.reset_index()\n",
    "\n",
    "        df_agg = df_agg.reset_index()\n",
    "        df_agg['set_name'] = df_agg['size_code']+df_agg['depth'].astype(str)\n",
    "    \n",
    "        resultpivot = df_agg.pivot_table(index=level, columns='set_name', values='feature_frequency')\n",
    "        resultpivot = resultpivot.fillna(0)\n",
    "        resultpivot[resultpivot != 0] = 1\n",
    "        tosave = pd.merge(resultpivot, cumulab1, left_index=True, right_index=True)\n",
    "        tosave.to_csv('csvs/'+comm_id+'/'+level+'_d'+str(d)+'_relab.csv')\n",
    "        \n",
    "        \n",
    "        #make json\n",
    "        data = {\n",
    "            \"file\": \"https://raw.githubusercontent.com/dianahaider/size_fractions/main/csvs/\"+comm_id+'/'+level+'_d'+str(d)+'_relab.csv',\n",
    "            \"name\": comm + level,\n",
    "            \"header\": 0,\n",
    "            \"separator\": \",\",\n",
    "            \"skip\": 0,\n",
    "            \"meta\":[\n",
    "                {\"type\":\"id\", \"index\":0, \"name\":\"Name\"},\n",
    "                {\"type\":\"integer\", \"index\":4, \"name\":\"Rel. ab.\"}\n",
    "            ],\n",
    "            \"sets\": [\n",
    "                {\"format\": \"binary\", \"start\":1, \"end\": 3}\n",
    "            ]\n",
    "        }\n",
    "        \n",
    "        with open('json/'+comm_id+'/'+level+'_d'+str(d)+'.json', 'w') as f:\n",
    "            json.dump(data, f)"
   ]
  },
  {
   "cell_type": "markdown",
   "metadata": {},
   "source": [
    "Data prep"
   ]
  },
  {
   "cell_type": "code",
   "execution_count": 78,
   "metadata": {},
   "outputs": [
    {
     "name": "stdout",
     "output_type": "stream",
     "text": [
      "Found all 18S tables.\n",
      "Successfully saved all tables.\n"
     ]
    }
   ],
   "source": [
    "df, comm = consolidate_tables('18S')"
   ]
  },
  {
   "cell_type": "code",
   "execution_count": 12,
   "metadata": {},
   "outputs": [
    {
     "name": "stdout",
     "output_type": "stream",
     "text": [
      "Set up metadata ...\n",
      "Saved merged_asvs_metadata.tsv\n"
     ]
    }
   ],
   "source": [
    "merged = merge_metadata(df)"
   ]
  },
  {
   "cell_type": "code",
   "execution_count": 13,
   "metadata": {},
   "outputs": [
    {
     "name": "stdout",
     "output_type": "stream",
     "text": [
      "Appended all taxonomies to taxos\n",
      "Saved separated by metadata dataframe.\n"
     ]
    }
   ],
   "source": [
    "separated = pick_metadata(merged)"
   ]
  },
  {
   "cell_type": "code",
   "execution_count": 98,
   "metadata": {},
   "outputs": [
    {
     "data": {
      "image/png": "[encoded data removed]",
      "text/plain": [
       "<Figure size 700x300 with 1 Axes>"
      ]
     },
     "metadata": {},
     "output_type": "display_data"
    }
   ],
   "source": [
    "boxplot_depth(separated, comm, 1, 'nASVs', 'Number of ASVs')"
   ]
  },
  {
   "cell_type": "code",
   "execution_count": 22,
   "metadata": {},
   "outputs": [
    {
     "data": {
      "application/vnd.plotly.v1+json": {
       "config": {
        "plotlyServerURL": "https://plot.ly"
       },
       "data": [
        {
         "alignmentgroup": "True",
         "hovertemplate": "Phylum=Other<br>w=1<br>=%{x}<br>ratio=%{y}<extra></extra>",
         "legendgroup": "Other",
         "marker": {
          "color": "#636efa",
          "pattern": {
           "shape": ""
          }
         },
         "name": "Other",
         "offsetgroup": "Other",
         "orientation": "v",
         "showlegend": true,
         "textposition": "auto",
         "type": "bar",
         "x": [
          "L",
          "W"
         ],
         "xaxis": "x",
         "y": [
          0.012727272727272726,
          0.03333333333333333
         ],
         "yaxis": "y"
        },
        {
         "alignmentgroup": "True",
         "hovertemplate": "Phylum=Other<br>w=2<br>=%{x}<br>ratio=%{y}<extra></extra>",
         "legendgroup": "Other",
         "marker": {
          "color": "#636efa",
          "pattern": {
           "shape": ""
          }
         },
         "name": "Other",
         "offsetgroup": "Other",
         "orientation": "v",
         "showlegend": false,
         "textposition": "auto",
         "type": "bar",
         "x": [
          "L",
          "W"
         ],
         "xaxis": "x2",
         "y": [
          0.05342237061769616,
          0.013986013986013986
         ],
         "yaxis": "y2"
        },
        {
         "alignmentgroup": "True",
         "hovertemplate": "Phylum=Other<br>w=3<br>=%{x}<br>ratio=%{y}<extra></extra>",
         "legendgroup": "Other",
         "marker": {
          "color": "#636efa",
          "pattern": {
           "shape": ""
          }
         },
         "name": "Other",
         "offsetgroup": "Other",
         "orientation": "v",
         "showlegend": false,
         "textposition": "auto",
         "type": "bar",
         "x": [
          "S",
          "W"
         ],
         "xaxis": "x3",
         "y": [
          0.0875,
          0.014218009478672985
         ],
         "yaxis": "y3"
        },
        {
         "alignmentgroup": "True",
         "hovertemplate": "Phylum=Other<br>w=4<br>=%{x}<br>ratio=%{y}<extra></extra>",
         "legendgroup": "Other",
         "marker": {
          "color": "#636efa",
          "pattern": {
           "shape": ""
          }
         },
         "name": "Other",
         "offsetgroup": "Other",
         "orientation": "v",
         "showlegend": false,
         "textposition": "auto",
         "type": "bar",
         "x": [
          "L",
          "S"
         ],
         "xaxis": "x4",
         "y": [
          0.03783783783783784,
          0.02040816326530612
         ],
         "yaxis": "y4"
        },
        {
         "alignmentgroup": "True",
         "hovertemplate": "Phylum=Other<br>w=5<br>=%{x}<br>ratio=%{y}<extra></extra>",
         "legendgroup": "Other",
         "marker": {
          "color": "#636efa",
          "pattern": {
           "shape": ""
          }
         },
         "name": "Other",
         "offsetgroup": "Other",
         "orientation": "v",
         "showlegend": false,
         "textposition": "auto",
         "type": "bar",
         "x": [
          "L",
          "S",
          "W"
         ],
         "xaxis": "x5",
         "y": [
          0.04964539007092199,
          0.10465116279069767,
          0.013071895424836602
         ],
         "yaxis": "y5"
        },
        {
         "alignmentgroup": "True",
         "hovertemplate": "Phylum=Other<br>w=6<br>=%{x}<br>ratio=%{y}<extra></extra>",
         "legendgroup": "Other",
         "marker": {
          "color": "#636efa",
          "pattern": {
           "shape": ""
          }
         },
         "name": "Other",
         "offsetgroup": "Other",
         "orientation": "v",
         "showlegend": false,
         "textposition": "auto",
         "type": "bar",
         "x": [
          "L",
          "S",
          "W"
         ],
         "xaxis": "x6",
         "y": [
          0.06695464362850972,
          0.07236842105263158,
          0.09803921568627451
         ],
         "yaxis": "y6"
        },
        {
         "alignmentgroup": "True",
         "hovertemplate": "Phylum=Other<br>w=7<br>=%{x}<br>ratio=%{y}<extra></extra>",
         "legendgroup": "Other",
         "marker": {
          "color": "#636efa",
          "pattern": {
           "shape": ""
          }
         },
         "name": "Other",
         "offsetgroup": "Other",
         "orientation": "v",
         "showlegend": false,
         "textposition": "auto",
         "type": "bar",
         "x": [
          "L"
         ],
         "xaxis": "x7",
         "y": [
          0.047619047619047616
         ],
         "yaxis": "y7"
        },
        {
         "alignmentgroup": "True",
         "hovertemplate": "Phylum=Other<br>w=8<br>=%{x}<br>ratio=%{y}<extra></extra>",
         "legendgroup": "Other",
         "marker": {
          "color": "#636efa",
          "pattern": {
           "shape": ""
          }
         },
         "name": "Other",
         "offsetgroup": "Other",
         "orientation": "v",
         "showlegend": false,
         "textposition": "auto",
         "type": "bar",
         "x": [
          "L",
          "S"
         ],
         "xaxis": "x8",
         "y": [
          0.014925373134328358,
          0.19480519480519481
         ],
         "yaxis": "y8"
        },
        {
         "alignmentgroup": "True",
         "hovertemplate": "Phylum=Other<br>w=10<br>=%{x}<br>ratio=%{y}<extra></extra>",
         "legendgroup": "Other",
         "marker": {
          "color": "#636efa",
          "pattern": {
           "shape": ""
          }
         },
         "name": "Other",
         "offsetgroup": "Other",
         "orientation": "v",
         "showlegend": false,
         "textposition": "auto",
         "type": "bar",
         "x": [
          "L",
          "W"
         ],
         "xaxis": "x9",
         "y": [
          0.02631578947368421,
          0.04477611940298507
         ],
         "yaxis": "y9"
        },
        {
         "alignmentgroup": "True",
         "hovertemplate": "Phylum=Other<br>w=11<br>=%{x}<br>ratio=%{y}<extra></extra>",
         "legendgroup": "Other",
         "marker": {
          "color": "#636efa",
          "pattern": {
           "shape": ""
          }
         },
         "name": "Other",
         "offsetgroup": "Other",
         "orientation": "v",
         "showlegend": false,
         "textposition": "auto",
         "type": "bar",
         "x": [
          "S"
         ],
         "xaxis": "x10",
         "y": [
          0.024793388429752067
         ],
         "yaxis": "y10"
        },
        {
         "alignmentgroup": "True",
         "hovertemplate": "Phylum=Other<br>w=12<br>=%{x}<br>ratio=%{y}<extra></extra>",
         "legendgroup": "Other",
         "marker": {
          "color": "#636efa",
          "pattern": {
           "shape": ""
          }
         },
         "name": "Other",
         "offsetgroup": "Other",
         "orientation": "v",
         "showlegend": false,
         "textposition": "auto",
         "type": "bar",
         "x": [
          "S"
         ],
         "xaxis": "x11",
         "y": [
          0.01824817518248175
         ],
         "yaxis": "y11"
        },
        {
         "alignmentgroup": "True",
         "hovertemplate": "Phylum=Other<br>w=14<br>=%{x}<br>ratio=%{y}<extra></extra>",
         "legendgroup": "Other",
         "marker": {
          "color": "#636efa",
          "pattern": {
           "shape": ""
          }
         },
         "name": "Other",
         "offsetgroup": "Other",
         "orientation": "v",
         "showlegend": false,
         "textposition": "auto",
         "type": "bar",
         "x": [
          "S"
         ],
         "xaxis": "x13",
         "y": [
          0.038461538461538464
         ],
         "yaxis": "y13"
        },
        {
         "alignmentgroup": "True",
         "hovertemplate": "Phylum=Other<br>w=15<br>=%{x}<br>ratio=%{y}<extra></extra>",
         "legendgroup": "Other",
         "marker": {
          "color": "#636efa",
          "pattern": {
           "shape": ""
          }
         },
         "name": "Other",
         "offsetgroup": "Other",
         "orientation": "v",
         "showlegend": false,
         "textposition": "auto",
         "type": "bar",
         "x": [
          "L",
          "W"
         ],
         "xaxis": "x14",
         "y": [
          1,
          0.08035714285714286
         ],
         "yaxis": "y14"
        },
        {
         "alignmentgroup": "True",
         "hovertemplate": "Phylum=Other<br>w=16<br>=%{x}<br>ratio=%{y}<extra></extra>",
         "legendgroup": "Other",
         "marker": {
          "color": "#636efa",
          "pattern": {
           "shape": ""
          }
         },
         "name": "Other",
         "offsetgroup": "Other",
         "orientation": "v",
         "showlegend": false,
         "textposition": "auto",
         "type": "bar",
         "x": [
          "L"
         ],
         "xaxis": "x15",
         "y": [
          0.05439330543933055
         ],
         "yaxis": "y15"
        },
        {
         "alignmentgroup": "True",
         "hovertemplate": "Phylum=Other<br>w=9<br>=%{x}<br>ratio=%{y}<extra></extra>",
         "legendgroup": "Other",
         "marker": {
          "color": "#636efa",
          "pattern": {
           "shape": ""
          }
         },
         "name": "Other",
         "offsetgroup": "Other",
         "orientation": "v",
         "showlegend": false,
         "textposition": "auto",
         "type": "bar",
         "x": [
          "S",
          "W"
         ],
         "xaxis": "x16",
         "y": [
          0.04597701149425287,
          0.08333333333333333
         ],
         "yaxis": "y16"
        },
        {
         "alignmentgroup": "True",
         "hovertemplate": "Phylum=Unassigned<br>w=1<br>=%{x}<br>ratio=%{y}<extra></extra>",
         "legendgroup": "Unassigned",
         "marker": {
          "color": "#EF553B",
          "pattern": {
           "shape": ""
          }
         },
         "name": "Unassigned",
         "offsetgroup": "Unassigned",
         "orientation": "v",
         "showlegend": true,
         "textposition": "auto",
         "type": "bar",
         "x": [
          "L"
         ],
         "xaxis": "x",
         "y": [
          0.0036363636363636364
         ],
         "yaxis": "y"
        },
        {
         "alignmentgroup": "True",
         "hovertemplate": "Phylum=Unassigned<br>w=2<br>=%{x}<br>ratio=%{y}<extra></extra>",
         "legendgroup": "Unassigned",
         "marker": {
          "color": "#EF553B",
          "pattern": {
           "shape": ""
          }
         },
         "name": "Unassigned",
         "offsetgroup": "Unassigned",
         "orientation": "v",
         "showlegend": false,
         "textposition": "auto",
         "type": "bar",
         "x": [
          "L"
         ],
         "xaxis": "x2",
         "y": [
          0.008347245409015025
         ],
         "yaxis": "y2"
        },
        {
         "alignmentgroup": "True",
         "hovertemplate": "Phylum=Unassigned<br>w=3<br>=%{x}<br>ratio=%{y}<extra></extra>",
         "legendgroup": "Unassigned",
         "marker": {
          "color": "#EF553B",
          "pattern": {
           "shape": ""
          }
         },
         "name": "Unassigned",
         "offsetgroup": "Unassigned",
         "orientation": "v",
         "showlegend": false,
         "textposition": "auto",
         "type": "bar",
         "x": [
          "L"
         ],
         "xaxis": "x3",
         "y": [
          0.004918032786885246
         ],
         "yaxis": "y3"
        },
        {
         "alignmentgroup": "True",
         "hovertemplate": "Phylum=Unassigned<br>w=4<br>=%{x}<br>ratio=%{y}<extra></extra>",
         "legendgroup": "Unassigned",
         "marker": {
          "color": "#EF553B",
          "pattern": {
           "shape": ""
          }
         },
         "name": "Unassigned",
         "offsetgroup": "Unassigned",
         "orientation": "v",
         "showlegend": false,
         "textposition": "auto",
         "type": "bar",
         "x": [
          "L"
         ],
         "xaxis": "x4",
         "y": [
          0.021621621621621623
         ],
         "yaxis": "y4"
        },
        {
         "alignmentgroup": "True",
         "hovertemplate": "Phylum=Unassigned<br>w=5<br>=%{x}<br>ratio=%{y}<extra></extra>",
         "legendgroup": "Unassigned",
         "marker": {
          "color": "#EF553B",
          "pattern": {
           "shape": ""
          }
         },
         "name": "Unassigned",
         "offsetgroup": "Unassigned",
         "orientation": "v",
         "showlegend": false,
         "textposition": "auto",
         "type": "bar",
         "x": [
          "L",
          "W"
         ],
         "xaxis": "x5",
         "y": [
          0.0425531914893617,
          0.032679738562091505
         ],
         "yaxis": "y5"
        },
        {
         "alignmentgroup": "True",
         "hovertemplate": "Phylum=Unassigned<br>w=6<br>=%{x}<br>ratio=%{y}<extra></extra>",
         "legendgroup": "Unassigned",
         "marker": {
          "color": "#EF553B",
          "pattern": {
           "shape": ""
          }
         },
         "name": "Unassigned",
         "offsetgroup": "Unassigned",
         "orientation": "v",
         "showlegend": false,
         "textposition": "auto",
         "type": "bar",
         "x": [
          "L"
         ],
         "xaxis": "x6",
         "y": [
          0.02591792656587473
         ],
         "yaxis": "y6"
        },
        {
         "alignmentgroup": "True",
         "hovertemplate": "Phylum=Unassigned<br>w=7<br>=%{x}<br>ratio=%{y}<extra></extra>",
         "legendgroup": "Unassigned",
         "marker": {
          "color": "#EF553B",
          "pattern": {
           "shape": ""
          }
         },
         "name": "Unassigned",
         "offsetgroup": "Unassigned",
         "orientation": "v",
         "showlegend": false,
         "textposition": "auto",
         "type": "bar",
         "x": [
          "L"
         ],
         "xaxis": "x7",
         "y": [
          0.1111111111111111
         ],
         "yaxis": "y7"
        },
        {
         "alignmentgroup": "True",
         "hovertemplate": "Phylum=Unassigned<br>w=8<br>=%{x}<br>ratio=%{y}<extra></extra>",
         "legendgroup": "Unassigned",
         "marker": {
          "color": "#EF553B",
          "pattern": {
           "shape": ""
          }
         },
         "name": "Unassigned",
         "offsetgroup": "Unassigned",
         "orientation": "v",
         "showlegend": false,
         "textposition": "auto",
         "type": "bar",
         "x": [
          "L"
         ],
         "xaxis": "x8",
         "y": [
          0.05970149253731343
         ],
         "yaxis": "y8"
        },
        {
         "alignmentgroup": "True",
         "hovertemplate": "Phylum=Unassigned<br>w=10<br>=%{x}<br>ratio=%{y}<extra></extra>",
         "legendgroup": "Unassigned",
         "marker": {
          "color": "#EF553B",
          "pattern": {
           "shape": ""
          }
         },
         "name": "Unassigned",
         "offsetgroup": "Unassigned",
         "orientation": "v",
         "showlegend": false,
         "textposition": "auto",
         "type": "bar",
         "x": [
          "L"
         ],
         "xaxis": "x9",
         "y": [
          0.09210526315789473
         ],
         "yaxis": "y9"
        },
        {
         "alignmentgroup": "True",
         "hovertemplate": "Phylum=Unassigned<br>w=11<br>=%{x}<br>ratio=%{y}<extra></extra>",
         "legendgroup": "Unassigned",
         "marker": {
          "color": "#EF553B",
          "pattern": {
           "shape": ""
          }
         },
         "name": "Unassigned",
         "offsetgroup": "Unassigned",
         "orientation": "v",
         "showlegend": false,
         "textposition": "auto",
         "type": "bar",
         "x": [
          "L"
         ],
         "xaxis": "x10",
         "y": [
          1
         ],
         "yaxis": "y10"
        },
        {
         "alignmentgroup": "True",
         "hovertemplate": "Phylum=Unassigned<br>w=14<br>=%{x}<br>ratio=%{y}<extra></extra>",
         "legendgroup": "Unassigned",
         "marker": {
          "color": "#EF553B",
          "pattern": {
           "shape": ""
          }
         },
         "name": "Unassigned",
         "offsetgroup": "Unassigned",
         "orientation": "v",
         "showlegend": false,
         "textposition": "auto",
         "type": "bar",
         "x": [
          "L"
         ],
         "xaxis": "x13",
         "y": [
          0.11320754716981132
         ],
         "yaxis": "y13"
        },
        {
         "alignmentgroup": "True",
         "hovertemplate": "Phylum=Unassigned<br>w=16<br>=%{x}<br>ratio=%{y}<extra></extra>",
         "legendgroup": "Unassigned",
         "marker": {
          "color": "#EF553B",
          "pattern": {
           "shape": ""
          }
         },
         "name": "Unassigned",
         "offsetgroup": "Unassigned",
         "orientation": "v",
         "showlegend": false,
         "textposition": "auto",
         "type": "bar",
         "x": [
          "L"
         ],
         "xaxis": "x15",
         "y": [
          0.02510460251046025
         ],
         "yaxis": "y15"
        },
        {
         "alignmentgroup": "True",
         "hovertemplate": "Phylum=Unassigned<br>w=9<br>=%{x}<br>ratio=%{y}<extra></extra>",
         "legendgroup": "Unassigned",
         "marker": {
          "color": "#EF553B",
          "pattern": {
           "shape": ""
          }
         },
         "name": "Unassigned",
         "offsetgroup": "Unassigned",
         "orientation": "v",
         "showlegend": false,
         "textposition": "auto",
         "type": "bar",
         "x": [
          "W"
         ],
         "xaxis": "x16",
         "y": [
          0.01282051282051282
         ],
         "yaxis": "y16"
        },
        {
         "alignmentgroup": "True",
         "hovertemplate": "Phylum=p__Arthropoda<br>w=1<br>=%{x}<br>ratio=%{y}<extra></extra>",
         "legendgroup": "p__Arthropoda",
         "marker": {
          "color": "#00cc96",
          "pattern": {
           "shape": ""
          }
         },
         "name": "p__Arthropoda",
         "offsetgroup": "p__Arthropoda",
         "orientation": "v",
         "showlegend": true,
         "textposition": "auto",
         "type": "bar",
         "x": [
          "L",
          "S"
         ],
         "xaxis": "x",
         "y": [
          0.038181818181818185,
          0.08823529411764706
         ],
         "yaxis": "y"
        },
        {
         "alignmentgroup": "True",
         "hovertemplate": "Phylum=p__Arthropoda<br>w=3<br>=%{x}<br>ratio=%{y}<extra></extra>",
         "legendgroup": "p__Arthropoda",
         "marker": {
          "color": "#00cc96",
          "pattern": {
           "shape": ""
          }
         },
         "name": "p__Arthropoda",
         "offsetgroup": "p__Arthropoda",
         "orientation": "v",
         "showlegend": false,
         "textposition": "auto",
         "type": "bar",
         "x": [
          "W"
         ],
         "xaxis": "x3",
         "y": [
          0.18483412322274884
         ],
         "yaxis": "y3"
        },
        {
         "alignmentgroup": "True",
         "hovertemplate": "Phylum=p__Arthropoda<br>w=5<br>=%{x}<br>ratio=%{y}<extra></extra>",
         "legendgroup": "p__Arthropoda",
         "marker": {
          "color": "#00cc96",
          "pattern": {
           "shape": ""
          }
         },
         "name": "p__Arthropoda",
         "offsetgroup": "p__Arthropoda",
         "orientation": "v",
         "showlegend": false,
         "textposition": "auto",
         "type": "bar",
         "x": [
          "S"
         ],
         "xaxis": "x5",
         "y": [
          0.06976744186046512
         ],
         "yaxis": "y5"
        },
        {
         "alignmentgroup": "True",
         "hovertemplate": "Phylum=p__Arthropoda<br>w=6<br>=%{x}<br>ratio=%{y}<extra></extra>",
         "legendgroup": "p__Arthropoda",
         "marker": {
          "color": "#00cc96",
          "pattern": {
           "shape": ""
          }
         },
         "name": "p__Arthropoda",
         "offsetgroup": "p__Arthropoda",
         "orientation": "v",
         "showlegend": false,
         "textposition": "auto",
         "type": "bar",
         "x": [
          "L"
         ],
         "xaxis": "x6",
         "y": [
          0.010079193664506839
         ],
         "yaxis": "y6"
        },
        {
         "alignmentgroup": "True",
         "hovertemplate": "Phylum=p__Arthropoda<br>w=7<br>=%{x}<br>ratio=%{y}<extra></extra>",
         "legendgroup": "p__Arthropoda",
         "marker": {
          "color": "#00cc96",
          "pattern": {
           "shape": ""
          }
         },
         "name": "p__Arthropoda",
         "offsetgroup": "p__Arthropoda",
         "orientation": "v",
         "showlegend": false,
         "textposition": "auto",
         "type": "bar",
         "x": [
          "L"
         ],
         "xaxis": "x7",
         "y": [
          0.09523809523809523
         ],
         "yaxis": "y7"
        },
        {
         "alignmentgroup": "True",
         "hovertemplate": "Phylum=p__Arthropoda<br>w=8<br>=%{x}<br>ratio=%{y}<extra></extra>",
         "legendgroup": "p__Arthropoda",
         "marker": {
          "color": "#00cc96",
          "pattern": {
           "shape": ""
          }
         },
         "name": "p__Arthropoda",
         "offsetgroup": "p__Arthropoda",
         "orientation": "v",
         "showlegend": false,
         "textposition": "auto",
         "type": "bar",
         "x": [
          "L"
         ],
         "xaxis": "x8",
         "y": [
          0.26865671641791045
         ],
         "yaxis": "y8"
        },
        {
         "alignmentgroup": "True",
         "hovertemplate": "Phylum=p__Arthropoda<br>w=10<br>=%{x}<br>ratio=%{y}<extra></extra>",
         "legendgroup": "p__Arthropoda",
         "marker": {
          "color": "#00cc96",
          "pattern": {
           "shape": ""
          }
         },
         "name": "p__Arthropoda",
         "offsetgroup": "p__Arthropoda",
         "orientation": "v",
         "showlegend": false,
         "textposition": "auto",
         "type": "bar",
         "x": [
          "L"
         ],
         "xaxis": "x9",
         "y": [
          0.14473684210526316
         ],
         "yaxis": "y9"
        },
        {
         "alignmentgroup": "True",
         "hovertemplate": "Phylum=p__Arthropoda<br>w=12<br>=%{x}<br>ratio=%{y}<extra></extra>",
         "legendgroup": "p__Arthropoda",
         "marker": {
          "color": "#00cc96",
          "pattern": {
           "shape": ""
          }
         },
         "name": "p__Arthropoda",
         "offsetgroup": "p__Arthropoda",
         "orientation": "v",
         "showlegend": false,
         "textposition": "auto",
         "type": "bar",
         "x": [
          "L",
          "S"
         ],
         "xaxis": "x11",
         "y": [
          0.5909090909090908,
          0.021897810218978103
         ],
         "yaxis": "y11"
        },
        {
         "alignmentgroup": "True",
         "hovertemplate": "Phylum=p__Arthropoda<br>w=14<br>=%{x}<br>ratio=%{y}<extra></extra>",
         "legendgroup": "p__Arthropoda",
         "marker": {
          "color": "#00cc96",
          "pattern": {
           "shape": ""
          }
         },
         "name": "p__Arthropoda",
         "offsetgroup": "p__Arthropoda",
         "orientation": "v",
         "showlegend": false,
         "textposition": "auto",
         "type": "bar",
         "x": [
          "S"
         ],
         "xaxis": "x13",
         "y": [
          0.11538461538461539
         ],
         "yaxis": "y13"
        },
        {
         "alignmentgroup": "True",
         "hovertemplate": "Phylum=p__Arthropoda<br>w=15<br>=%{x}<br>ratio=%{y}<extra></extra>",
         "legendgroup": "p__Arthropoda",
         "marker": {
          "color": "#00cc96",
          "pattern": {
           "shape": ""
          }
         },
         "name": "p__Arthropoda",
         "offsetgroup": "p__Arthropoda",
         "orientation": "v",
         "showlegend": false,
         "textposition": "auto",
         "type": "bar",
         "x": [
          "W"
         ],
         "xaxis": "x14",
         "y": [
          0.10714285714285715
         ],
         "yaxis": "y14"
        },
        {
         "alignmentgroup": "True",
         "hovertemplate": "Phylum=p__Arthropoda<br>w=9<br>=%{x}<br>ratio=%{y}<extra></extra>",
         "legendgroup": "p__Arthropoda",
         "marker": {
          "color": "#00cc96",
          "pattern": {
           "shape": ""
          }
         },
         "name": "p__Arthropoda",
         "offsetgroup": "p__Arthropoda",
         "orientation": "v",
         "showlegend": false,
         "textposition": "auto",
         "type": "bar",
         "x": [
          "W"
         ],
         "xaxis": "x16",
         "y": [
          0.022435897435897436
         ],
         "yaxis": "y16"
        },
        {
         "alignmentgroup": "True",
         "hovertemplate": "Phylum=p__Ascomycota<br>w=1<br>=%{x}<br>ratio=%{y}<extra></extra>",
         "legendgroup": "p__Ascomycota",
         "marker": {
          "color": "#ab63fa",
          "pattern": {
           "shape": ""
          }
         },
         "name": "p__Ascomycota",
         "offsetgroup": "p__Ascomycota",
         "orientation": "v",
         "showlegend": true,
         "textposition": "auto",
         "type": "bar",
         "x": [
          "L",
          "S"
         ],
         "xaxis": "x",
         "y": [
          0.02,
          0.11764705882352941
         ],
         "yaxis": "y"
        },
        {
         "alignmentgroup": "True",
         "hovertemplate": "Phylum=p__Ascomycota<br>w=2<br>=%{x}<br>ratio=%{y}<extra></extra>",
         "legendgroup": "p__Ascomycota",
         "marker": {
          "color": "#ab63fa",
          "pattern": {
           "shape": ""
          }
         },
         "name": "p__Ascomycota",
         "offsetgroup": "p__Ascomycota",
         "orientation": "v",
         "showlegend": false,
         "textposition": "auto",
         "type": "bar",
         "x": [
          "W"
         ],
         "xaxis": "x2",
         "y": [
          0.013986013986013986
         ],
         "yaxis": "y2"
        },
        {
         "alignmentgroup": "True",
         "hovertemplate": "Phylum=p__Ascomycota<br>w=3<br>=%{x}<br>ratio=%{y}<extra></extra>",
         "legendgroup": "p__Ascomycota",
         "marker": {
          "color": "#ab63fa",
          "pattern": {
           "shape": ""
          }
         },
         "name": "p__Ascomycota",
         "offsetgroup": "p__Ascomycota",
         "orientation": "v",
         "showlegend": false,
         "textposition": "auto",
         "type": "bar",
         "x": [
          "L",
          "S",
          "W"
         ],
         "xaxis": "x3",
         "y": [
          0.029508196721311476,
          0.1,
          0.023696682464454975
         ],
         "yaxis": "y3"
        },
        {
         "alignmentgroup": "True",
         "hovertemplate": "Phylum=p__Ascomycota<br>w=4<br>=%{x}<br>ratio=%{y}<extra></extra>",
         "legendgroup": "p__Ascomycota",
         "marker": {
          "color": "#ab63fa",
          "pattern": {
           "shape": ""
          }
         },
         "name": "p__Ascomycota",
         "offsetgroup": "p__Ascomycota",
         "orientation": "v",
         "showlegend": false,
         "textposition": "auto",
         "type": "bar",
         "x": [
          "W"
         ],
         "xaxis": "x4",
         "y": [
          0.022222222222222223
         ],
         "yaxis": "y4"
        },
        {
         "alignmentgroup": "True",
         "hovertemplate": "Phylum=p__Ascomycota<br>w=5<br>=%{x}<br>ratio=%{y}<extra></extra>",
         "legendgroup": "p__Ascomycota",
         "marker": {
          "color": "#ab63fa",
          "pattern": {
           "shape": ""
          }
         },
         "name": "p__Ascomycota",
         "offsetgroup": "p__Ascomycota",
         "orientation": "v",
         "showlegend": false,
         "textposition": "auto",
         "type": "bar",
         "x": [
          "S"
         ],
         "xaxis": "x5",
         "y": [
          0.03488372093023256
         ],
         "yaxis": "y5"
        },
        {
         "alignmentgroup": "True",
         "hovertemplate": "Phylum=p__Ascomycota<br>w=6<br>=%{x}<br>ratio=%{y}<extra></extra>",
         "legendgroup": "p__Ascomycota",
         "marker": {
          "color": "#ab63fa",
          "pattern": {
           "shape": ""
          }
         },
         "name": "p__Ascomycota",
         "offsetgroup": "p__Ascomycota",
         "orientation": "v",
         "showlegend": false,
         "textposition": "auto",
         "type": "bar",
         "x": [
          "L",
          "S",
          "W"
         ],
         "xaxis": "x6",
         "y": [
          0.02087832973362131,
          0.2960526315789474,
          0.032679738562091505
         ],
         "yaxis": "y6"
        },
        {
         "alignmentgroup": "True",
         "hovertemplate": "Phylum=p__Ascomycota<br>w=11<br>=%{x}<br>ratio=%{y}<extra></extra>",
         "legendgroup": "p__Ascomycota",
         "marker": {
          "color": "#ab63fa",
          "pattern": {
           "shape": ""
          }
         },
         "name": "p__Ascomycota",
         "offsetgroup": "p__Ascomycota",
         "orientation": "v",
         "showlegend": false,
         "textposition": "auto",
         "type": "bar",
         "x": [
          "S"
         ],
         "xaxis": "x10",
         "y": [
          0.049586776859504134
         ],
         "yaxis": "y10"
        },
        {
         "alignmentgroup": "True",
         "hovertemplate": "Phylum=p__Ascomycota<br>w=9<br>=%{x}<br>ratio=%{y}<extra></extra>",
         "legendgroup": "p__Ascomycota",
         "marker": {
          "color": "#ab63fa",
          "pattern": {
           "shape": ""
          }
         },
         "name": "p__Ascomycota",
         "offsetgroup": "p__Ascomycota",
         "orientation": "v",
         "showlegend": false,
         "textposition": "auto",
         "type": "bar",
         "x": [
          "S",
          "W"
         ],
         "xaxis": "x16",
         "y": [
          0.05172413793103448,
          0.01282051282051282
         ],
         "yaxis": "y16"
        },
        {
         "alignmentgroup": "True",
         "hovertemplate": "Phylum=p__Ciliophora<br>w=1<br>=%{x}<br>ratio=%{y}<extra></extra>",
         "legendgroup": "p__Ciliophora",
         "marker": {
          "color": "#FFA15A",
          "pattern": {
           "shape": ""
          }
         },
         "name": "p__Ciliophora",
         "offsetgroup": "p__Ciliophora",
         "orientation": "v",
         "showlegend": true,
         "textposition": "auto",
         "type": "bar",
         "x": [
          "L",
          "S",
          "W"
         ],
         "xaxis": "x",
         "y": [
          0.10727272727272727,
          0.4117647058823529,
          0.2833333333333333
         ],
         "yaxis": "y"
        },
        {
         "alignmentgroup": "True",
         "hovertemplate": "Phylum=p__Ciliophora<br>w=2<br>=%{x}<br>ratio=%{y}<extra></extra>",
         "legendgroup": "p__Ciliophora",
         "marker": {
          "color": "#FFA15A",
          "pattern": {
           "shape": ""
          }
         },
         "name": "p__Ciliophora",
         "offsetgroup": "p__Ciliophora",
         "orientation": "v",
         "showlegend": false,
         "textposition": "auto",
         "type": "bar",
         "x": [
          "L",
          "S",
          "W"
         ],
         "xaxis": "x2",
         "y": [
          0.03005008347245409,
          0.11363636363636363,
          0.06293706293706294
         ],
         "yaxis": "y2"
        },
        {
         "alignmentgroup": "True",
         "hovertemplate": "Phylum=p__Ciliophora<br>w=3<br>=%{x}<br>ratio=%{y}<extra></extra>",
         "legendgroup": "p__Ciliophora",
         "marker": {
          "color": "#FFA15A",
          "pattern": {
           "shape": ""
          }
         },
         "name": "p__Ciliophora",
         "offsetgroup": "p__Ciliophora",
         "orientation": "v",
         "showlegend": false,
         "textposition": "auto",
         "type": "bar",
         "x": [
          "L",
          "W"
         ],
         "xaxis": "x3",
         "y": [
          0.00819672131147541,
          0.018957345971563982
         ],
         "yaxis": "y3"
        },
        {
         "alignmentgroup": "True",
         "hovertemplate": "Phylum=p__Ciliophora<br>w=4<br>=%{x}<br>ratio=%{y}<extra></extra>",
         "legendgroup": "p__Ciliophora",
         "marker": {
          "color": "#FFA15A",
          "pattern": {
           "shape": ""
          }
         },
         "name": "p__Ciliophora",
         "offsetgroup": "p__Ciliophora",
         "orientation": "v",
         "showlegend": false,
         "textposition": "auto",
         "type": "bar",
         "x": [
          "S",
          "W"
         ],
         "xaxis": "x4",
         "y": [
          0.12244897959183673,
          0.08148148148148149
         ],
         "yaxis": "y4"
        },
        {
         "alignmentgroup": "True",
         "hovertemplate": "Phylum=p__Ciliophora<br>w=5<br>=%{x}<br>ratio=%{y}<extra></extra>",
         "legendgroup": "p__Ciliophora",
         "marker": {
          "color": "#FFA15A",
          "pattern": {
           "shape": ""
          }
         },
         "name": "p__Ciliophora",
         "offsetgroup": "p__Ciliophora",
         "orientation": "v",
         "showlegend": false,
         "textposition": "auto",
         "type": "bar",
         "x": [
          "L",
          "S",
          "W"
         ],
         "xaxis": "x5",
         "y": [
          0.05673758865248227,
          0.20930232558139536,
          0.058823529411764705
         ],
         "yaxis": "y5"
        },
        {
         "alignmentgroup": "True",
         "hovertemplate": "Phylum=p__Ciliophora<br>w=6<br>=%{x}<br>ratio=%{y}<extra></extra>",
         "legendgroup": "p__Ciliophora",
         "marker": {
          "color": "#FFA15A",
          "pattern": {
           "shape": ""
          }
         },
         "name": "p__Ciliophora",
         "offsetgroup": "p__Ciliophora",
         "orientation": "v",
         "showlegend": false,
         "textposition": "auto",
         "type": "bar",
         "x": [
          "L",
          "S",
          "W"
         ],
         "xaxis": "x6",
         "y": [
          0.19582433405327573,
          0.2039473684210526,
          0.2222222222222222
         ],
         "yaxis": "y6"
        },
        {
         "alignmentgroup": "True",
         "hovertemplate": "Phylum=p__Ciliophora<br>w=7<br>=%{x}<br>ratio=%{y}<extra></extra>",
         "legendgroup": "p__Ciliophora",
         "marker": {
          "color": "#FFA15A",
          "pattern": {
           "shape": ""
          }
         },
         "name": "p__Ciliophora",
         "offsetgroup": "p__Ciliophora",
         "orientation": "v",
         "showlegend": false,
         "textposition": "auto",
         "type": "bar",
         "x": [
          "L"
         ],
         "xaxis": "x7",
         "y": [
          0.031746031746031744
         ],
         "yaxis": "y7"
        },
        {
         "alignmentgroup": "True",
         "hovertemplate": "Phylum=p__Ciliophora<br>w=8<br>=%{x}<br>ratio=%{y}<extra></extra>",
         "legendgroup": "p__Ciliophora",
         "marker": {
          "color": "#FFA15A",
          "pattern": {
           "shape": ""
          }
         },
         "name": "p__Ciliophora",
         "offsetgroup": "p__Ciliophora",
         "orientation": "v",
         "showlegend": false,
         "textposition": "auto",
         "type": "bar",
         "x": [
          "L",
          "S"
         ],
         "xaxis": "x8",
         "y": [
          0.23880597014925373,
          0.6233766233766234
         ],
         "yaxis": "y8"
        },
        {
         "alignmentgroup": "True",
         "hovertemplate": "Phylum=p__Ciliophora<br>w=10<br>=%{x}<br>ratio=%{y}<extra></extra>",
         "legendgroup": "p__Ciliophora",
         "marker": {
          "color": "#FFA15A",
          "pattern": {
           "shape": ""
          }
         },
         "name": "p__Ciliophora",
         "offsetgroup": "p__Ciliophora",
         "orientation": "v",
         "showlegend": false,
         "textposition": "auto",
         "type": "bar",
         "x": [
          "L",
          "S",
          "W"
         ],
         "xaxis": "x9",
         "y": [
          0.3026315789473684,
          0.8620689655172413,
          0.7313432835820894
         ],
         "yaxis": "y9"
        },
        {
         "alignmentgroup": "True",
         "hovertemplate": "Phylum=p__Ciliophora<br>w=11<br>=%{x}<br>ratio=%{y}<extra></extra>",
         "legendgroup": "p__Ciliophora",
         "marker": {
          "color": "#FFA15A",
          "pattern": {
           "shape": ""
          }
         },
         "name": "p__Ciliophora",
         "offsetgroup": "p__Ciliophora",
         "orientation": "v",
         "showlegend": false,
         "textposition": "auto",
         "type": "bar",
         "x": [
          "S"
         ],
         "xaxis": "x10",
         "y": [
          0.49586776859504134
         ],
         "yaxis": "y10"
        },
        {
         "alignmentgroup": "True",
         "hovertemplate": "Phylum=p__Ciliophora<br>w=12<br>=%{x}<br>ratio=%{y}<extra></extra>",
         "legendgroup": "p__Ciliophora",
         "marker": {
          "color": "#FFA15A",
          "pattern": {
           "shape": ""
          }
         },
         "name": "p__Ciliophora",
         "offsetgroup": "p__Ciliophora",
         "orientation": "v",
         "showlegend": false,
         "textposition": "auto",
         "type": "bar",
         "x": [
          "S"
         ],
         "xaxis": "x11",
         "y": [
          0.32116788321167883
         ],
         "yaxis": "y11"
        },
        {
         "alignmentgroup": "True",
         "hovertemplate": "Phylum=p__Ciliophora<br>w=13<br>=%{x}<br>ratio=%{y}<extra></extra>",
         "legendgroup": "p__Ciliophora",
         "marker": {
          "color": "#FFA15A",
          "pattern": {
           "shape": ""
          }
         },
         "name": "p__Ciliophora",
         "offsetgroup": "p__Ciliophora",
         "orientation": "v",
         "showlegend": false,
         "textposition": "auto",
         "type": "bar",
         "x": [
          "S"
         ],
         "xaxis": "x12",
         "y": [
          0.3111111111111111
         ],
         "yaxis": "y12"
        },
        {
         "alignmentgroup": "True",
         "hovertemplate": "Phylum=p__Ciliophora<br>w=14<br>=%{x}<br>ratio=%{y}<extra></extra>",
         "legendgroup": "p__Ciliophora",
         "marker": {
          "color": "#FFA15A",
          "pattern": {
           "shape": ""
          }
         },
         "name": "p__Ciliophora",
         "offsetgroup": "p__Ciliophora",
         "orientation": "v",
         "showlegend": false,
         "textposition": "auto",
         "type": "bar",
         "x": [
          "L",
          "S",
          "W"
         ],
         "xaxis": "x13",
         "y": [
          0.03773584905660377,
          0.15384615384615385,
          0.5
         ],
         "yaxis": "y13"
        },
        {
         "alignmentgroup": "True",
         "hovertemplate": "Phylum=p__Ciliophora<br>w=15<br>=%{x}<br>ratio=%{y}<extra></extra>",
         "legendgroup": "p__Ciliophora",
         "marker": {
          "color": "#FFA15A",
          "pattern": {
           "shape": ""
          }
         },
         "name": "p__Ciliophora",
         "offsetgroup": "p__Ciliophora",
         "orientation": "v",
         "showlegend": false,
         "textposition": "auto",
         "type": "bar",
         "x": [
          "W"
         ],
         "xaxis": "x14",
         "y": [
          0.10714285714285714
         ],
         "yaxis": "y14"
        },
        {
         "alignmentgroup": "True",
         "hovertemplate": "Phylum=p__Ciliophora<br>w=16<br>=%{x}<br>ratio=%{y}<extra></extra>",
         "legendgroup": "p__Ciliophora",
         "marker": {
          "color": "#FFA15A",
          "pattern": {
           "shape": ""
          }
         },
         "name": "p__Ciliophora",
         "offsetgroup": "p__Ciliophora",
         "orientation": "v",
         "showlegend": false,
         "textposition": "auto",
         "type": "bar",
         "x": [
          "L",
          "S",
          "W"
         ],
         "xaxis": "x15",
         "y": [
          0.16736401673640167,
          0.06481481481481481,
          0.4482758620689655
         ],
         "yaxis": "y15"
        },
        {
         "alignmentgroup": "True",
         "hovertemplate": "Phylum=p__Ciliophora<br>w=9<br>=%{x}<br>ratio=%{y}<extra></extra>",
         "legendgroup": "p__Ciliophora",
         "marker": {
          "color": "#FFA15A",
          "pattern": {
           "shape": ""
          }
         },
         "name": "p__Ciliophora",
         "offsetgroup": "p__Ciliophora",
         "orientation": "v",
         "showlegend": false,
         "textposition": "auto",
         "type": "bar",
         "x": [
          "S",
          "W"
         ],
         "xaxis": "x16",
         "y": [
          0.5114942528735632,
          0.4519230769230769
         ],
         "yaxis": "y16"
        },
        {
         "alignmentgroup": "True",
         "hovertemplate": "Phylum=p__Dinoflagellata<br>w=1<br>=%{x}<br>ratio=%{y}<extra></extra>",
         "legendgroup": "p__Dinoflagellata",
         "marker": {
          "color": "#19d3f3",
          "pattern": {
           "shape": ""
          }
         },
         "name": "p__Dinoflagellata",
         "offsetgroup": "p__Dinoflagellata",
         "orientation": "v",
         "showlegend": true,
         "textposition": "auto",
         "type": "bar",
         "x": [
          "L",
          "S",
          "W"
         ],
         "xaxis": "x",
         "y": [
          0.7927272727272727,
          0.38235294117647056,
          0.611111111111111
         ],
         "yaxis": "y"
        },
        {
         "alignmentgroup": "True",
         "hovertemplate": "Phylum=p__Dinoflagellata<br>w=2<br>=%{x}<br>ratio=%{y}<extra></extra>",
         "legendgroup": "p__Dinoflagellata",
         "marker": {
          "color": "#19d3f3",
          "pattern": {
           "shape": ""
          }
         },
         "name": "p__Dinoflagellata",
         "offsetgroup": "p__Dinoflagellata",
         "orientation": "v",
         "showlegend": false,
         "textposition": "auto",
         "type": "bar",
         "x": [
          "L",
          "S",
          "W"
         ],
         "xaxis": "x2",
         "y": [
          0.664440734557596,
          0.29545454545454547,
          0.6363636363636364
         ],
         "yaxis": "y2"
        },
        {
         "alignmentgroup": "True",
         "hovertemplate": "Phylum=p__Dinoflagellata<br>w=3<br>=%{x}<br>ratio=%{y}<extra></extra>",
         "legendgroup": "p__Dinoflagellata",
         "marker": {
          "color": "#19d3f3",
          "pattern": {
           "shape": ""
          }
         },
         "name": "p__Dinoflagellata",
         "offsetgroup": "p__Dinoflagellata",
         "orientation": "v",
         "showlegend": false,
         "textposition": "auto",
         "type": "bar",
         "x": [
          "L",
          "S",
          "W"
         ],
         "xaxis": "x3",
         "y": [
          0.8049180327868852,
          0.325,
          0.6255924170616114
         ],
         "yaxis": "y3"
        },
        {
         "alignmentgroup": "True",
         "hovertemplate": "Phylum=p__Dinoflagellata<br>w=4<br>=%{x}<br>ratio=%{y}<extra></extra>",
         "legendgroup": "p__Dinoflagellata",
         "marker": {
          "color": "#19d3f3",
          "pattern": {
           "shape": ""
          }
         },
         "name": "p__Dinoflagellata",
         "offsetgroup": "p__Dinoflagellata",
         "orientation": "v",
         "showlegend": false,
         "textposition": "auto",
         "type": "bar",
         "x": [
          "L",
          "S",
          "W"
         ],
         "xaxis": "x4",
         "y": [
          0.7891891891891892,
          0.21428571428571427,
          0.4148148148148148
         ],
         "yaxis": "y4"
        },
        {
         "alignmentgroup": "True",
         "hovertemplate": "Phylum=p__Dinoflagellata<br>w=5<br>=%{x}<br>ratio=%{y}<extra></extra>",
         "legendgroup": "p__Dinoflagellata",
         "marker": {
          "color": "#19d3f3",
          "pattern": {
           "shape": ""
          }
         },
         "name": "p__Dinoflagellata",
         "offsetgroup": "p__Dinoflagellata",
         "orientation": "v",
         "showlegend": false,
         "textposition": "auto",
         "type": "bar",
         "x": [
          "L",
          "S",
          "W"
         ],
         "xaxis": "x5",
         "y": [
          0.8297872340425532,
          0.19767441860465115,
          0.4836601307189543
         ],
         "yaxis": "y5"
        },
        {
         "alignmentgroup": "True",
         "hovertemplate": "Phylum=p__Dinoflagellata<br>w=6<br>=%{x}<br>ratio=%{y}<extra></extra>",
         "legendgroup": "p__Dinoflagellata",
         "marker": {
          "color": "#19d3f3",
          "pattern": {
           "shape": ""
          }
         },
         "name": "p__Dinoflagellata",
         "offsetgroup": "p__Dinoflagellata",
         "orientation": "v",
         "showlegend": false,
         "textposition": "auto",
         "type": "bar",
         "x": [
          "L",
          "S",
          "W"
         ],
         "xaxis": "x6",
         "y": [
          0.5687544996400288,
          0.13157894736842105,
          0.37254901960784315
         ],
         "yaxis": "y6"
        },
        {
         "alignmentgroup": "True",
         "hovertemplate": "Phylum=p__Dinoflagellata<br>w=7<br>=%{x}<br>ratio=%{y}<extra></extra>",
         "legendgroup": "p__Dinoflagellata",
         "marker": {
          "color": "#19d3f3",
          "pattern": {
           "shape": ""
          }
         },
         "name": "p__Dinoflagellata",
         "offsetgroup": "p__Dinoflagellata",
         "orientation": "v",
         "showlegend": false,
         "textposition": "auto",
         "type": "bar",
         "x": [
          "L",
          "W"
         ],
         "xaxis": "x7",
         "y": [
          0.6507936507936507,
          1
         ],
         "yaxis": "y7"
        },
        {
         "alignmentgroup": "True",
         "hovertemplate": "Phylum=p__Dinoflagellata<br>w=8<br>=%{x}<br>ratio=%{y}<extra></extra>",
         "legendgroup": "p__Dinoflagellata",
         "marker": {
          "color": "#19d3f3",
          "pattern": {
           "shape": ""
          }
         },
         "name": "p__Dinoflagellata",
         "offsetgroup": "p__Dinoflagellata",
         "orientation": "v",
         "showlegend": false,
         "textposition": "auto",
         "type": "bar",
         "x": [
          "L"
         ],
         "xaxis": "x8",
         "y": [
          0.3208955223880597
         ],
         "yaxis": "y8"
        },
        {
         "alignmentgroup": "True",
         "hovertemplate": "Phylum=p__Dinoflagellata<br>w=10<br>=%{x}<br>ratio=%{y}<extra></extra>",
         "legendgroup": "p__Dinoflagellata",
         "marker": {
          "color": "#19d3f3",
          "pattern": {
           "shape": ""
          }
         },
         "name": "p__Dinoflagellata",
         "offsetgroup": "p__Dinoflagellata",
         "orientation": "v",
         "showlegend": false,
         "textposition": "auto",
         "type": "bar",
         "x": [
          "L"
         ],
         "xaxis": "x9",
         "y": [
          0.35526315789473684
         ],
         "yaxis": "y9"
        },
        {
         "alignmentgroup": "True",
         "hovertemplate": "Phylum=p__Dinoflagellata<br>w=13<br>=%{x}<br>ratio=%{y}<extra></extra>",
         "legendgroup": "p__Dinoflagellata",
         "marker": {
          "color": "#19d3f3",
          "pattern": {
           "shape": ""
          }
         },
         "name": "p__Dinoflagellata",
         "offsetgroup": "p__Dinoflagellata",
         "orientation": "v",
         "showlegend": false,
         "textposition": "auto",
         "type": "bar",
         "x": [
          "L"
         ],
         "xaxis": "x12",
         "y": [
          0.7272727272727273
         ],
         "yaxis": "y12"
        },
        {
         "alignmentgroup": "True",
         "hovertemplate": "Phylum=p__Dinoflagellata<br>w=14<br>=%{x}<br>ratio=%{y}<extra></extra>",
         "legendgroup": "p__Dinoflagellata",
         "marker": {
          "color": "#19d3f3",
          "pattern": {
           "shape": ""
          }
         },
         "name": "p__Dinoflagellata",
         "offsetgroup": "p__Dinoflagellata",
         "orientation": "v",
         "showlegend": false,
         "textposition": "auto",
         "type": "bar",
         "x": [
          "L"
         ],
         "xaxis": "x13",
         "y": [
          0.7924528301886793
         ],
         "yaxis": "y13"
        },
        {
         "alignmentgroup": "True",
         "hovertemplate": "Phylum=p__Dinoflagellata<br>w=15<br>=%{x}<br>ratio=%{y}<extra></extra>",
         "legendgroup": "p__Dinoflagellata",
         "marker": {
          "color": "#19d3f3",
          "pattern": {
           "shape": ""
          }
         },
         "name": "p__Dinoflagellata",
         "offsetgroup": "p__Dinoflagellata",
         "orientation": "v",
         "showlegend": false,
         "textposition": "auto",
         "type": "bar",
         "x": [
          "W"
         ],
         "xaxis": "x14",
         "y": [
          0.375
         ],
         "yaxis": "y14"
        },
        {
         "alignmentgroup": "True",
         "hovertemplate": "Phylum=p__Dinoflagellata<br>w=16<br>=%{x}<br>ratio=%{y}<extra></extra>",
         "legendgroup": "p__Dinoflagellata",
         "marker": {
          "color": "#19d3f3",
          "pattern": {
           "shape": ""
          }
         },
         "name": "p__Dinoflagellata",
         "offsetgroup": "p__Dinoflagellata",
         "orientation": "v",
         "showlegend": false,
         "textposition": "auto",
         "type": "bar",
         "x": [
          "L"
         ],
         "xaxis": "x15",
         "y": [
          0.6569037656903766
         ],
         "yaxis": "y15"
        },
        {
         "alignmentgroup": "True",
         "hovertemplate": "Phylum=p__Dinoflagellata<br>w=9<br>=%{x}<br>ratio=%{y}<extra></extra>",
         "legendgroup": "p__Dinoflagellata",
         "marker": {
          "color": "#19d3f3",
          "pattern": {
           "shape": ""
          }
         },
         "name": "p__Dinoflagellata",
         "offsetgroup": "p__Dinoflagellata",
         "orientation": "v",
         "showlegend": false,
         "textposition": "auto",
         "type": "bar",
         "x": [
          "W"
         ],
         "xaxis": "x16",
         "y": [
          0.04487179487179487
         ],
         "yaxis": "y16"
        },
        {
         "alignmentgroup": "True",
         "hovertemplate": "Phylum=p__MAST-1<br>w=1<br>=%{x}<br>ratio=%{y}<extra></extra>",
         "legendgroup": "p__MAST-1",
         "marker": {
          "color": "#FF6692",
          "pattern": {
           "shape": ""
          }
         },
         "name": "p__MAST-1",
         "offsetgroup": "p__MAST-1",
         "orientation": "v",
         "showlegend": true,
         "textposition": "auto",
         "type": "bar",
         "x": [
          "L"
         ],
         "xaxis": "x",
         "y": [
          0.00909090909090909
         ],
         "yaxis": "y"
        },
        {
         "alignmentgroup": "True",
         "hovertemplate": "Phylum=p__MAST-1<br>w=2<br>=%{x}<br>ratio=%{y}<extra></extra>",
         "legendgroup": "p__MAST-1",
         "marker": {
          "color": "#FF6692",
          "pattern": {
           "shape": ""
          }
         },
         "name": "p__MAST-1",
         "offsetgroup": "p__MAST-1",
         "orientation": "v",
         "showlegend": false,
         "textposition": "auto",
         "type": "bar",
         "x": [
          "L",
          "W"
         ],
         "xaxis": "x2",
         "y": [
          0.021702838063439065,
          0.04195804195804196
         ],
         "yaxis": "y2"
        },
        {
         "alignmentgroup": "True",
         "hovertemplate": "Phylum=p__MAST-1<br>w=3<br>=%{x}<br>ratio=%{y}<extra></extra>",
         "legendgroup": "p__MAST-1",
         "marker": {
          "color": "#FF6692",
          "pattern": {
           "shape": ""
          }
         },
         "name": "p__MAST-1",
         "offsetgroup": "p__MAST-1",
         "orientation": "v",
         "showlegend": false,
         "textposition": "auto",
         "type": "bar",
         "x": [
          "S"
         ],
         "xaxis": "x3",
         "y": [
          0.1
         ],
         "yaxis": "y3"
        },
        {
         "alignmentgroup": "True",
         "hovertemplate": "Phylum=p__MAST-1<br>w=4<br>=%{x}<br>ratio=%{y}<extra></extra>",
         "legendgroup": "p__MAST-1",
         "marker": {
          "color": "#FF6692",
          "pattern": {
           "shape": ""
          }
         },
         "name": "p__MAST-1",
         "offsetgroup": "p__MAST-1",
         "orientation": "v",
         "showlegend": false,
         "textposition": "auto",
         "type": "bar",
         "x": [
          "S",
          "W"
         ],
         "xaxis": "x4",
         "y": [
          0.1326530612244898,
          0.06666666666666667
         ],
         "yaxis": "y4"
        },
        {
         "alignmentgroup": "True",
         "hovertemplate": "Phylum=p__MAST-1<br>w=5<br>=%{x}<br>ratio=%{y}<extra></extra>",
         "legendgroup": "p__MAST-1",
         "marker": {
          "color": "#FF6692",
          "pattern": {
           "shape": ""
          }
         },
         "name": "p__MAST-1",
         "offsetgroup": "p__MAST-1",
         "orientation": "v",
         "showlegend": false,
         "textposition": "auto",
         "type": "bar",
         "x": [
          "W"
         ],
         "xaxis": "x5",
         "y": [
          0.0784313725490196
         ],
         "yaxis": "y5"
        },
        {
         "alignmentgroup": "True",
         "hovertemplate": "Phylum=p__MAST-1<br>w=6<br>=%{x}<br>ratio=%{y}<extra></extra>",
         "legendgroup": "p__MAST-1",
         "marker": {
          "color": "#FF6692",
          "pattern": {
           "shape": ""
          }
         },
         "name": "p__MAST-1",
         "offsetgroup": "p__MAST-1",
         "orientation": "v",
         "showlegend": false,
         "textposition": "auto",
         "type": "bar",
         "x": [
          "L",
          "S"
         ],
         "xaxis": "x6",
         "y": [
          0.017998560115190784,
          0.05921052631578947
         ],
         "yaxis": "y6"
        },
        {
         "alignmentgroup": "True",
         "hovertemplate": "Phylum=p__MAST-1<br>w=7<br>=%{x}<br>ratio=%{y}<extra></extra>",
         "legendgroup": "p__MAST-1",
         "marker": {
          "color": "#FF6692",
          "pattern": {
           "shape": ""
          }
         },
         "name": "p__MAST-1",
         "offsetgroup": "p__MAST-1",
         "orientation": "v",
         "showlegend": false,
         "textposition": "auto",
         "type": "bar",
         "x": [
          "L"
         ],
         "xaxis": "x7",
         "y": [
          0.031746031746031744
         ],
         "yaxis": "y7"
        },
        {
         "alignmentgroup": "True",
         "hovertemplate": "Phylum=p__MAST-1<br>w=8<br>=%{x}<br>ratio=%{y}<extra></extra>",
         "legendgroup": "p__MAST-1",
         "marker": {
          "color": "#FF6692",
          "pattern": {
           "shape": ""
          }
         },
         "name": "p__MAST-1",
         "offsetgroup": "p__MAST-1",
         "orientation": "v",
         "showlegend": false,
         "textposition": "auto",
         "type": "bar",
         "x": [
          "W"
         ],
         "xaxis": "x8",
         "y": [
          0.4
         ],
         "yaxis": "y8"
        },
        {
         "alignmentgroup": "True",
         "hovertemplate": "Phylum=p__MAST-1<br>w=11<br>=%{x}<br>ratio=%{y}<extra></extra>",
         "legendgroup": "p__MAST-1",
         "marker": {
          "color": "#FF6692",
          "pattern": {
           "shape": ""
          }
         },
         "name": "p__MAST-1",
         "offsetgroup": "p__MAST-1",
         "orientation": "v",
         "showlegend": false,
         "textposition": "auto",
         "type": "bar",
         "x": [
          "S"
         ],
         "xaxis": "x10",
         "y": [
          0.024793388429752067
         ],
         "yaxis": "y10"
        },
        {
         "alignmentgroup": "True",
         "hovertemplate": "Phylum=p__MAST-1<br>w=12<br>=%{x}<br>ratio=%{y}<extra></extra>",
         "legendgroup": "p__MAST-1",
         "marker": {
          "color": "#FF6692",
          "pattern": {
           "shape": ""
          }
         },
         "name": "p__MAST-1",
         "offsetgroup": "p__MAST-1",
         "orientation": "v",
         "showlegend": false,
         "textposition": "auto",
         "type": "bar",
         "x": [
          "S"
         ],
         "xaxis": "x11",
         "y": [
          0.029197080291970802
         ],
         "yaxis": "y11"
        },
        {
         "alignmentgroup": "True",
         "hovertemplate": "Phylum=p__MAST-1<br>w=14<br>=%{x}<br>ratio=%{y}<extra></extra>",
         "legendgroup": "p__MAST-1",
         "marker": {
          "color": "#FF6692",
          "pattern": {
           "shape": ""
          }
         },
         "name": "p__MAST-1",
         "offsetgroup": "p__MAST-1",
         "orientation": "v",
         "showlegend": false,
         "textposition": "auto",
         "type": "bar",
         "x": [
          "S"
         ],
         "xaxis": "x13",
         "y": [
          0.057692307692307696
         ],
         "yaxis": "y13"
        },
        {
         "alignmentgroup": "True",
         "hovertemplate": "Phylum=p__MAST-1<br>w=9<br>=%{x}<br>ratio=%{y}<extra></extra>",
         "legendgroup": "p__MAST-1",
         "marker": {
          "color": "#FF6692",
          "pattern": {
           "shape": ""
          }
         },
         "name": "p__MAST-1",
         "offsetgroup": "p__MAST-1",
         "orientation": "v",
         "showlegend": false,
         "textposition": "auto",
         "type": "bar",
         "x": [
          "S",
          "W"
         ],
         "xaxis": "x16",
         "y": [
          0.07471264367816091,
          0.0641025641025641
         ],
         "yaxis": "y16"
        },
        {
         "alignmentgroup": "True",
         "hovertemplate": "Phylum=p__Protalveolata<br>w=1<br>=%{x}<br>ratio=%{y}<extra></extra>",
         "legendgroup": "p__Protalveolata",
         "marker": {
          "color": "#B6E880",
          "pattern": {
           "shape": ""
          }
         },
         "name": "p__Protalveolata",
         "offsetgroup": "p__Protalveolata",
         "orientation": "v",
         "showlegend": true,
         "textposition": "auto",
         "type": "bar",
         "x": [
          "L",
          "W"
         ],
         "xaxis": "x",
         "y": [
          0.016363636363636365,
          0.07222222222222222
         ],
         "yaxis": "y"
        },
        {
         "alignmentgroup": "True",
         "hovertemplate": "Phylum=p__Protalveolata<br>w=2<br>=%{x}<br>ratio=%{y}<extra></extra>",
         "legendgroup": "p__Protalveolata",
         "marker": {
          "color": "#B6E880",
          "pattern": {
           "shape": ""
          }
         },
         "name": "p__Protalveolata",
         "offsetgroup": "p__Protalveolata",
         "orientation": "v",
         "showlegend": false,
         "textposition": "auto",
         "type": "bar",
         "x": [
          "L",
          "S",
          "W"
         ],
         "xaxis": "x2",
         "y": [
          0.07011686143572621,
          0.25,
          0.2097902097902098
         ],
         "yaxis": "y2"
        },
        {
         "alignmentgroup": "True",
         "hovertemplate": "Phylum=p__Protalveolata<br>w=3<br>=%{x}<br>ratio=%{y}<extra></extra>",
         "legendgroup": "p__Protalveolata",
         "marker": {
          "color": "#B6E880",
          "pattern": {
           "shape": ""
          }
         },
         "name": "p__Protalveolata",
         "offsetgroup": "p__Protalveolata",
         "orientation": "v",
         "showlegend": false,
         "textposition": "auto",
         "type": "bar",
         "x": [
          "L",
          "S",
          "W"
         ],
         "xaxis": "x3",
         "y": [
          0.027868852459016394,
          0.3125,
          0.07109004739336493
         ],
         "yaxis": "y3"
        },
        {
         "alignmentgroup": "True",
         "hovertemplate": "Phylum=p__Protalveolata<br>w=4<br>=%{x}<br>ratio=%{y}<extra></extra>",
         "legendgroup": "p__Protalveolata",
         "marker": {
          "color": "#B6E880",
          "pattern": {
           "shape": ""
          }
         },
         "name": "p__Protalveolata",
         "offsetgroup": "p__Protalveolata",
         "orientation": "v",
         "showlegend": false,
         "textposition": "auto",
         "type": "bar",
         "x": [
          "L",
          "S",
          "W"
         ],
         "xaxis": "x4",
         "y": [
          0.0972972972972973,
          0.30612244897959184,
          0.2518518518518519
         ],
         "yaxis": "y4"
        },
        {
         "alignmentgroup": "True",
         "hovertemplate": "Phylum=p__Protalveolata<br>w=5<br>=%{x}<br>ratio=%{y}<extra></extra>",
         "legendgroup": "p__Protalveolata",
         "marker": {
          "color": "#B6E880",
          "pattern": {
           "shape": ""
          }
         },
         "name": "p__Protalveolata",
         "offsetgroup": "p__Protalveolata",
         "orientation": "v",
         "showlegend": false,
         "textposition": "auto",
         "type": "bar",
         "x": [
          "S",
          "W"
         ],
         "xaxis": "x5",
         "y": [
          0.32558139534883723,
          0.28104575163398693
         ],
         "yaxis": "y5"
        },
        {
         "alignmentgroup": "True",
         "hovertemplate": "Phylum=p__Protalveolata<br>w=6<br>=%{x}<br>ratio=%{y}<extra></extra>",
         "legendgroup": "p__Protalveolata",
         "marker": {
          "color": "#B6E880",
          "pattern": {
           "shape": ""
          }
         },
         "name": "p__Protalveolata",
         "offsetgroup": "p__Protalveolata",
         "orientation": "v",
         "showlegend": false,
         "textposition": "auto",
         "type": "bar",
         "x": [
          "L",
          "S",
          "W"
         ],
         "xaxis": "x6",
         "y": [
          0.04679625629949604,
          0.15789473684210525,
          0.16993464052287582
         ],
         "yaxis": "y6"
        },
        {
         "alignmentgroup": "True",
         "hovertemplate": "Phylum=p__Protalveolata<br>w=7<br>=%{x}<br>ratio=%{y}<extra></extra>",
         "legendgroup": "p__Protalveolata",
         "marker": {
          "color": "#B6E880",
          "pattern": {
           "shape": ""
          }
         },
         "name": "p__Protalveolata",
         "offsetgroup": "p__Protalveolata",
         "orientation": "v",
         "showlegend": false,
         "textposition": "auto",
         "type": "bar",
         "x": [
          "L"
         ],
         "xaxis": "x7",
         "y": [
          0.031746031746031744
         ],
         "yaxis": "y7"
        },
        {
         "alignmentgroup": "True",
         "hovertemplate": "Phylum=p__Protalveolata<br>w=8<br>=%{x}<br>ratio=%{y}<extra></extra>",
         "legendgroup": "p__Protalveolata",
         "marker": {
          "color": "#B6E880",
          "pattern": {
           "shape": ""
          }
         },
         "name": "p__Protalveolata",
         "offsetgroup": "p__Protalveolata",
         "orientation": "v",
         "showlegend": false,
         "textposition": "auto",
         "type": "bar",
         "x": [
          "S"
         ],
         "xaxis": "x8",
         "y": [
          0.18181818181818182
         ],
         "yaxis": "y8"
        },
        {
         "alignmentgroup": "True",
         "hovertemplate": "Phylum=p__Protalveolata<br>w=10<br>=%{x}<br>ratio=%{y}<extra></extra>",
         "legendgroup": "p__Protalveolata",
         "marker": {
          "color": "#B6E880",
          "pattern": {
           "shape": ""
          }
         },
         "name": "p__Protalveolata",
         "offsetgroup": "p__Protalveolata",
         "orientation": "v",
         "showlegend": false,
         "textposition": "auto",
         "type": "bar",
         "x": [
          "L",
          "S",
          "W"
         ],
         "xaxis": "x9",
         "y": [
          0.039473684210526314,
          0.13793103448275862,
          0.11940298507462686
         ],
         "yaxis": "y9"
        },
        {
         "alignmentgroup": "True",
         "hovertemplate": "Phylum=p__Protalveolata<br>w=11<br>=%{x}<br>ratio=%{y}<extra></extra>",
         "legendgroup": "p__Protalveolata",
         "marker": {
          "color": "#B6E880",
          "pattern": {
           "shape": ""
          }
         },
         "name": "p__Protalveolata",
         "offsetgroup": "p__Protalveolata",
         "orientation": "v",
         "showlegend": false,
         "textposition": "auto",
         "type": "bar",
         "x": [
          "S"
         ],
         "xaxis": "x10",
         "y": [
          0.371900826446281
         ],
         "yaxis": "y10"
        },
        {
         "alignmentgroup": "True",
         "hovertemplate": "Phylum=p__Protalveolata<br>w=12<br>=%{x}<br>ratio=%{y}<extra></extra>",
         "legendgroup": "p__Protalveolata",
         "marker": {
          "color": "#B6E880",
          "pattern": {
           "shape": ""
          }
         },
         "name": "p__Protalveolata",
         "offsetgroup": "p__Protalveolata",
         "orientation": "v",
         "showlegend": false,
         "textposition": "auto",
         "type": "bar",
         "x": [
          "S"
         ],
         "xaxis": "x11",
         "y": [
          0.5401459854014599
         ],
         "yaxis": "y11"
        },
        {
         "alignmentgroup": "True",
         "hovertemplate": "Phylum=p__Protalveolata<br>w=13<br>=%{x}<br>ratio=%{y}<extra></extra>",
         "legendgroup": "p__Protalveolata",
         "marker": {
          "color": "#B6E880",
          "pattern": {
           "shape": ""
          }
         },
         "name": "p__Protalveolata",
         "offsetgroup": "p__Protalveolata",
         "orientation": "v",
         "showlegend": false,
         "textposition": "auto",
         "type": "bar",
         "x": [
          "S"
         ],
         "xaxis": "x12",
         "y": [
          0.6888888888888889
         ],
         "yaxis": "y12"
        },
        {
         "alignmentgroup": "True",
         "hovertemplate": "Phylum=p__Protalveolata<br>w=14<br>=%{x}<br>ratio=%{y}<extra></extra>",
         "legendgroup": "p__Protalveolata",
         "marker": {
          "color": "#B6E880",
          "pattern": {
           "shape": ""
          }
         },
         "name": "p__Protalveolata",
         "offsetgroup": "p__Protalveolata",
         "orientation": "v",
         "showlegend": false,
         "textposition": "auto",
         "type": "bar",
         "x": [
          "S",
          "W"
         ],
         "xaxis": "x13",
         "y": [
          0.5961538461538461,
          0.5
         ],
         "yaxis": "y13"
        },
        {
         "alignmentgroup": "True",
         "hovertemplate": "Phylum=p__Protalveolata<br>w=15<br>=%{x}<br>ratio=%{y}<extra></extra>",
         "legendgroup": "p__Protalveolata",
         "marker": {
          "color": "#B6E880",
          "pattern": {
           "shape": ""
          }
         },
         "name": "p__Protalveolata",
         "offsetgroup": "p__Protalveolata",
         "orientation": "v",
         "showlegend": false,
         "textposition": "auto",
         "type": "bar",
         "x": [
          "S",
          "W"
         ],
         "xaxis": "x14",
         "y": [
          1,
          0.21428571428571427
         ],
         "yaxis": "y14"
        },
        {
         "alignmentgroup": "True",
         "hovertemplate": "Phylum=p__Protalveolata<br>w=16<br>=%{x}<br>ratio=%{y}<extra></extra>",
         "legendgroup": "p__Protalveolata",
         "marker": {
          "color": "#B6E880",
          "pattern": {
           "shape": ""
          }
         },
         "name": "p__Protalveolata",
         "offsetgroup": "p__Protalveolata",
         "orientation": "v",
         "showlegend": false,
         "textposition": "auto",
         "type": "bar",
         "x": [
          "L",
          "S",
          "W"
         ],
         "xaxis": "x15",
         "y": [
          0.02092050209205021,
          0.1111111111111111,
          0.3103448275862069
         ],
         "yaxis": "y15"
        },
        {
         "alignmentgroup": "True",
         "hovertemplate": "Phylum=p__Protalveolata<br>w=9<br>=%{x}<br>ratio=%{y}<extra></extra>",
         "legendgroup": "p__Protalveolata",
         "marker": {
          "color": "#B6E880",
          "pattern": {
           "shape": ""
          }
         },
         "name": "p__Protalveolata",
         "offsetgroup": "p__Protalveolata",
         "orientation": "v",
         "showlegend": false,
         "textposition": "auto",
         "type": "bar",
         "x": [
          "S",
          "W"
         ],
         "xaxis": "x16",
         "y": [
          0.26436781609195403,
          0.27564102564102566
         ],
         "yaxis": "y16"
        },
        {
         "alignmentgroup": "True",
         "hovertemplate": "Phylum=p__Annelida<br>w=2<br>=%{x}<br>ratio=%{y}<extra></extra>",
         "legendgroup": "p__Annelida",
         "marker": {
          "color": "#FF97FF",
          "pattern": {
           "shape": ""
          }
         },
         "name": "p__Annelida",
         "offsetgroup": "p__Annelida",
         "orientation": "v",
         "showlegend": true,
         "textposition": "auto",
         "type": "bar",
         "x": [
          "L",
          "S"
         ],
         "xaxis": "x2",
         "y": [
          0.14023372287145242,
          0.3409090909090909
         ],
         "yaxis": "y2"
        },
        {
         "alignmentgroup": "True",
         "hovertemplate": "Phylum=p__Annelida<br>w=3<br>=%{x}<br>ratio=%{y}<extra></extra>",
         "legendgroup": "p__Annelida",
         "marker": {
          "color": "#FF97FF",
          "pattern": {
           "shape": ""
          }
         },
         "name": "p__Annelida",
         "offsetgroup": "p__Annelida",
         "orientation": "v",
         "showlegend": false,
         "textposition": "auto",
         "type": "bar",
         "x": [
          "L"
         ],
         "xaxis": "x3",
         "y": [
          0.10491803278688525
         ],
         "yaxis": "y3"
        },
        {
         "alignmentgroup": "True",
         "hovertemplate": "Phylum=p__Annelida<br>w=6<br>=%{x}<br>ratio=%{y}<extra></extra>",
         "legendgroup": "p__Annelida",
         "marker": {
          "color": "#FF97FF",
          "pattern": {
           "shape": ""
          }
         },
         "name": "p__Annelida",
         "offsetgroup": "p__Annelida",
         "orientation": "v",
         "showlegend": false,
         "textposition": "auto",
         "type": "bar",
         "x": [
          "L"
         ],
         "xaxis": "x6",
         "y": [
          0.0021598272138228943
         ],
         "yaxis": "y6"
        },
        {
         "alignmentgroup": "True",
         "hovertemplate": "Phylum=p__Annelida<br>w=8<br>=%{x}<br>ratio=%{y}<extra></extra>",
         "legendgroup": "p__Annelida",
         "marker": {
          "color": "#FF97FF",
          "pattern": {
           "shape": ""
          }
         },
         "name": "p__Annelida",
         "offsetgroup": "p__Annelida",
         "orientation": "v",
         "showlegend": false,
         "textposition": "auto",
         "type": "bar",
         "x": [
          "L"
         ],
         "xaxis": "x8",
         "y": [
          0.022388059701492536
         ],
         "yaxis": "y8"
        },
        {
         "alignmentgroup": "True",
         "hovertemplate": "Phylum=p__Annelida<br>w=10<br>=%{x}<br>ratio=%{y}<extra></extra>",
         "legendgroup": "p__Annelida",
         "marker": {
          "color": "#FF97FF",
          "pattern": {
           "shape": ""
          }
         },
         "name": "p__Annelida",
         "offsetgroup": "p__Annelida",
         "orientation": "v",
         "showlegend": false,
         "textposition": "auto",
         "type": "bar",
         "x": [
          "W"
         ],
         "xaxis": "x9",
         "y": [
          0.07462686567164178
         ],
         "yaxis": "y9"
        },
        {
         "alignmentgroup": "True",
         "hovertemplate": "Phylum=p__Annelida<br>w=15<br>=%{x}<br>ratio=%{y}<extra></extra>",
         "legendgroup": "p__Annelida",
         "marker": {
          "color": "#FF97FF",
          "pattern": {
           "shape": ""
          }
         },
         "name": "p__Annelida",
         "offsetgroup": "p__Annelida",
         "orientation": "v",
         "showlegend": false,
         "textposition": "auto",
         "type": "bar",
         "x": [
          "W"
         ],
         "xaxis": "x14",
         "y": [
          0.07142857142857142
         ],
         "yaxis": "y14"
        },
        {
         "alignmentgroup": "True",
         "hovertemplate": "Phylum=p__Annelida<br>w=16<br>=%{x}<br>ratio=%{y}<extra></extra>",
         "legendgroup": "p__Annelida",
         "marker": {
          "color": "#FF97FF",
          "pattern": {
           "shape": ""
          }
         },
         "name": "p__Annelida",
         "offsetgroup": "p__Annelida",
         "orientation": "v",
         "showlegend": false,
         "textposition": "auto",
         "type": "bar",
         "x": [
          "W"
         ],
         "xaxis": "x15",
         "y": [
          0.10344827586206896
         ],
         "yaxis": "y15"
        },
        {
         "alignmentgroup": "True",
         "hovertemplate": "Phylum=p__Cercozoa<br>w=2<br>=%{x}<br>ratio=%{y}<extra></extra>",
         "legendgroup": "p__Cercozoa",
         "marker": {
          "color": "#FECB52",
          "pattern": {
           "shape": ""
          }
         },
         "name": "p__Cercozoa",
         "offsetgroup": "p__Cercozoa",
         "orientation": "v",
         "showlegend": true,
         "textposition": "auto",
         "type": "bar",
         "x": [
          "L",
          "W"
         ],
         "xaxis": "x2",
         "y": [
          0.011686143572621035,
          0.02097902097902098
         ],
         "yaxis": "y2"
        },
        {
         "alignmentgroup": "True",
         "hovertemplate": "Phylum=p__Cercozoa<br>w=3<br>=%{x}<br>ratio=%{y}<extra></extra>",
         "legendgroup": "p__Cercozoa",
         "marker": {
          "color": "#FECB52",
          "pattern": {
           "shape": ""
          }
         },
         "name": "p__Cercozoa",
         "offsetgroup": "p__Cercozoa",
         "orientation": "v",
         "showlegend": false,
         "textposition": "auto",
         "type": "bar",
         "x": [
          "L"
         ],
         "xaxis": "x3",
         "y": [
          0.00819672131147541
         ],
         "yaxis": "y3"
        },
        {
         "alignmentgroup": "True",
         "hovertemplate": "Phylum=p__Cercozoa<br>w=4<br>=%{x}<br>ratio=%{y}<extra></extra>",
         "legendgroup": "p__Cercozoa",
         "marker": {
          "color": "#FECB52",
          "pattern": {
           "shape": ""
          }
         },
         "name": "p__Cercozoa",
         "offsetgroup": "p__Cercozoa",
         "orientation": "v",
         "showlegend": false,
         "textposition": "auto",
         "type": "bar",
         "x": [
          "L",
          "W"
         ],
         "xaxis": "x4",
         "y": [
          0.021621621621621623,
          0.022222222222222223
         ],
         "yaxis": "y4"
        },
        {
         "alignmentgroup": "True",
         "hovertemplate": "Phylum=p__Cercozoa<br>w=6<br>=%{x}<br>ratio=%{y}<extra></extra>",
         "legendgroup": "p__Cercozoa",
         "marker": {
          "color": "#FECB52",
          "pattern": {
           "shape": ""
          }
         },
         "name": "p__Cercozoa",
         "offsetgroup": "p__Cercozoa",
         "orientation": "v",
         "showlegend": false,
         "textposition": "auto",
         "type": "bar",
         "x": [
          "L",
          "W"
         ],
         "xaxis": "x6",
         "y": [
          0.029517638588912886,
          0.08496732026143791
         ],
         "yaxis": "y6"
        },
        {
         "alignmentgroup": "True",
         "hovertemplate": "Phylum=p__Cercozoa<br>w=8<br>=%{x}<br>ratio=%{y}<extra></extra>",
         "legendgroup": "p__Cercozoa",
         "marker": {
          "color": "#FECB52",
          "pattern": {
           "shape": ""
          }
         },
         "name": "p__Cercozoa",
         "offsetgroup": "p__Cercozoa",
         "orientation": "v",
         "showlegend": false,
         "textposition": "auto",
         "type": "bar",
         "x": [
          "L"
         ],
         "xaxis": "x8",
         "y": [
          0.022388059701492536
         ],
         "yaxis": "y8"
        },
        {
         "alignmentgroup": "True",
         "hovertemplate": "Phylum=p__Cercozoa<br>w=12<br>=%{x}<br>ratio=%{y}<extra></extra>",
         "legendgroup": "p__Cercozoa",
         "marker": {
          "color": "#FECB52",
          "pattern": {
           "shape": ""
          }
         },
         "name": "p__Cercozoa",
         "offsetgroup": "p__Cercozoa",
         "orientation": "v",
         "showlegend": false,
         "textposition": "auto",
         "type": "bar",
         "x": [
          "S"
         ],
         "xaxis": "x11",
         "y": [
          0.01824817518248175
         ],
         "yaxis": "y11"
        },
        {
         "alignmentgroup": "True",
         "hovertemplate": "Phylum=p__Cercozoa<br>w=16<br>=%{x}<br>ratio=%{y}<extra></extra>",
         "legendgroup": "p__Cercozoa",
         "marker": {
          "color": "#FECB52",
          "pattern": {
           "shape": ""
          }
         },
         "name": "p__Cercozoa",
         "offsetgroup": "p__Cercozoa",
         "orientation": "v",
         "showlegend": false,
         "textposition": "auto",
         "type": "bar",
         "x": [
          "L",
          "W"
         ],
         "xaxis": "x15",
         "y": [
          0.07531380753138076,
          0.13793103448275862
         ],
         "yaxis": "y15"
        },
        {
         "alignmentgroup": "True",
         "hovertemplate": "Phylum=p__Diatomea<br>w=3<br>=%{x}<br>ratio=%{y}<extra></extra>",
         "legendgroup": "p__Diatomea",
         "marker": {
          "color": "#636efa",
          "pattern": {
           "shape": ""
          }
         },
         "name": "p__Diatomea",
         "offsetgroup": "p__Diatomea",
         "orientation": "v",
         "showlegend": true,
         "textposition": "auto",
         "type": "bar",
         "x": [
          "L"
         ],
         "xaxis": "x3",
         "y": [
          0.003278688524590164
         ],
         "yaxis": "y3"
        },
        {
         "alignmentgroup": "True",
         "hovertemplate": "Phylum=p__Diatomea<br>w=6<br>=%{x}<br>ratio=%{y}<extra></extra>",
         "legendgroup": "p__Diatomea",
         "marker": {
          "color": "#636efa",
          "pattern": {
           "shape": ""
          }
         },
         "name": "p__Diatomea",
         "offsetgroup": "p__Diatomea",
         "orientation": "v",
         "showlegend": false,
         "textposition": "auto",
         "type": "bar",
         "x": [
          "L"
         ],
         "xaxis": "x6",
         "y": [
          0.005759539236861051
         ],
         "yaxis": "y6"
        },
        {
         "alignmentgroup": "True",
         "hovertemplate": "Phylum=p__Diatomea<br>w=8<br>=%{x}<br>ratio=%{y}<extra></extra>",
         "legendgroup": "p__Diatomea",
         "marker": {
          "color": "#636efa",
          "pattern": {
           "shape": ""
          }
         },
         "name": "p__Diatomea",
         "offsetgroup": "p__Diatomea",
         "orientation": "v",
         "showlegend": false,
         "textposition": "auto",
         "type": "bar",
         "x": [
          "L"
         ],
         "xaxis": "x8",
         "y": [
          0.05223880597014925
         ],
         "yaxis": "y8"
        },
        {
         "alignmentgroup": "True",
         "hovertemplate": "Phylum=p__Diatomea<br>w=10<br>=%{x}<br>ratio=%{y}<extra></extra>",
         "legendgroup": "p__Diatomea",
         "marker": {
          "color": "#636efa",
          "pattern": {
           "shape": ""
          }
         },
         "name": "p__Diatomea",
         "offsetgroup": "p__Diatomea",
         "orientation": "v",
         "showlegend": false,
         "textposition": "auto",
         "type": "bar",
         "x": [
          "L"
         ],
         "xaxis": "x9",
         "y": [
          0.039473684210526314
         ],
         "yaxis": "y9"
        },
        {
         "alignmentgroup": "True",
         "hovertemplate": "Phylum=p__Diatomea<br>w=12<br>=%{x}<br>ratio=%{y}<extra></extra>",
         "legendgroup": "p__Diatomea",
         "marker": {
          "color": "#636efa",
          "pattern": {
           "shape": ""
          }
         },
         "name": "p__Diatomea",
         "offsetgroup": "p__Diatomea",
         "orientation": "v",
         "showlegend": false,
         "textposition": "auto",
         "type": "bar",
         "x": [
          "L"
         ],
         "xaxis": "x11",
         "y": [
          0.4090909090909091
         ],
         "yaxis": "y11"
        },
        {
         "alignmentgroup": "True",
         "hovertemplate": "Phylum=p__Diatomea<br>w=13<br>=%{x}<br>ratio=%{y}<extra></extra>",
         "legendgroup": "p__Diatomea",
         "marker": {
          "color": "#636efa",
          "pattern": {
           "shape": ""
          }
         },
         "name": "p__Diatomea",
         "offsetgroup": "p__Diatomea",
         "orientation": "v",
         "showlegend": false,
         "textposition": "auto",
         "type": "bar",
         "x": [
          "L"
         ],
         "xaxis": "x12",
         "y": [
          0.2727272727272727
         ],
         "yaxis": "y12"
        },
        {
         "alignmentgroup": "True",
         "hovertemplate": "Phylum=p__Diatomea<br>w=14<br>=%{x}<br>ratio=%{y}<extra></extra>",
         "legendgroup": "p__Diatomea",
         "marker": {
          "color": "#636efa",
          "pattern": {
           "shape": ""
          }
         },
         "name": "p__Diatomea",
         "offsetgroup": "p__Diatomea",
         "orientation": "v",
         "showlegend": false,
         "textposition": "auto",
         "type": "bar",
         "x": [
          "L",
          "S"
         ],
         "xaxis": "x13",
         "y": [
          0.05660377358490566,
          0.038461538461538464
         ],
         "yaxis": "y13"
        },
        {
         "alignmentgroup": "True",
         "hovertemplate": "Phylum=p__Diatomea<br>w=15<br>=%{x}<br>ratio=%{y}<extra></extra>",
         "legendgroup": "p__Diatomea",
         "marker": {
          "color": "#636efa",
          "pattern": {
           "shape": ""
          }
         },
         "name": "p__Diatomea",
         "offsetgroup": "p__Diatomea",
         "orientation": "v",
         "showlegend": false,
         "textposition": "auto",
         "type": "bar",
         "x": [
          "W"
         ],
         "xaxis": "x14",
         "y": [
          0.044642857142857144
         ],
         "yaxis": "y14"
        },
        {
         "alignmentgroup": "True",
         "hovertemplate": "Phylum=p__Diatomea<br>w=9<br>=%{x}<br>ratio=%{y}<extra></extra>",
         "legendgroup": "p__Diatomea",
         "marker": {
          "color": "#636efa",
          "pattern": {
           "shape": ""
          }
         },
         "name": "p__Diatomea",
         "offsetgroup": "p__Diatomea",
         "orientation": "v",
         "showlegend": false,
         "textposition": "auto",
         "type": "bar",
         "x": [
          "S"
         ],
         "xaxis": "x16",
         "y": [
          0.011494252873563218
         ],
         "yaxis": "y16"
        },
        {
         "alignmentgroup": "True",
         "hovertemplate": "Phylum=p__MAST-4<br>w=3<br>=%{x}<br>ratio=%{y}<extra></extra>",
         "legendgroup": "p__MAST-4",
         "marker": {
          "color": "#EF553B",
          "pattern": {
           "shape": ""
          }
         },
         "name": "p__MAST-4",
         "offsetgroup": "p__MAST-4",
         "orientation": "v",
         "showlegend": true,
         "textposition": "auto",
         "type": "bar",
         "x": [
          "L",
          "S",
          "W"
         ],
         "xaxis": "x3",
         "y": [
          0.004918032786885246,
          0.075,
          0.02843601895734597
         ],
         "yaxis": "y3"
        },
        {
         "alignmentgroup": "True",
         "hovertemplate": "Phylum=p__MAST-4<br>w=4<br>=%{x}<br>ratio=%{y}<extra></extra>",
         "legendgroup": "p__MAST-4",
         "marker": {
          "color": "#EF553B",
          "pattern": {
           "shape": ""
          }
         },
         "name": "p__MAST-4",
         "offsetgroup": "p__MAST-4",
         "orientation": "v",
         "showlegend": false,
         "textposition": "auto",
         "type": "bar",
         "x": [
          "S",
          "W"
         ],
         "xaxis": "x4",
         "y": [
          0.20408163265306123,
          0.07407407407407407
         ],
         "yaxis": "y4"
        },
        {
         "alignmentgroup": "True",
         "hovertemplate": "Phylum=p__MAST-4<br>w=9<br>=%{x}<br>ratio=%{y}<extra></extra>",
         "legendgroup": "p__MAST-4",
         "marker": {
          "color": "#EF553B",
          "pattern": {
           "shape": ""
          }
         },
         "name": "p__MAST-4",
         "offsetgroup": "p__MAST-4",
         "orientation": "v",
         "showlegend": false,
         "textposition": "auto",
         "type": "bar",
         "x": [
          "W"
         ],
         "xaxis": "x16",
         "y": [
          0.01282051282051282
         ],
         "yaxis": "y16"
        },
        {
         "alignmentgroup": "True",
         "hovertemplate": "Phylum=p__Ochrophyta<br>w=3<br>=%{x}<br>ratio=%{y}<extra></extra>",
         "legendgroup": "p__Ochrophyta",
         "marker": {
          "color": "#00cc96",
          "pattern": {
           "shape": ""
          }
         },
         "name": "p__Ochrophyta",
         "offsetgroup": "p__Ochrophyta",
         "orientation": "v",
         "showlegend": true,
         "textposition": "auto",
         "type": "bar",
         "x": [
          "L",
          "W"
         ],
         "xaxis": "x3",
         "y": [
          0.003278688524590164,
          0.009478672985781991
         ],
         "yaxis": "y3"
        },
        {
         "alignmentgroup": "True",
         "hovertemplate": "Phylum=p__Ochrophyta<br>w=4<br>=%{x}<br>ratio=%{y}<extra></extra>",
         "legendgroup": "p__Ochrophyta",
         "marker": {
          "color": "#00cc96",
          "pattern": {
           "shape": ""
          }
         },
         "name": "p__Ochrophyta",
         "offsetgroup": "p__Ochrophyta",
         "orientation": "v",
         "showlegend": false,
         "textposition": "auto",
         "type": "bar",
         "x": [
          "W"
         ],
         "xaxis": "x4",
         "y": [
          0.014814814814814815
         ],
         "yaxis": "y4"
        },
        {
         "alignmentgroup": "True",
         "hovertemplate": "Phylum=p__Ochrophyta<br>w=5<br>=%{x}<br>ratio=%{y}<extra></extra>",
         "legendgroup": "p__Ochrophyta",
         "marker": {
          "color": "#00cc96",
          "pattern": {
           "shape": ""
          }
         },
         "name": "p__Ochrophyta",
         "offsetgroup": "p__Ochrophyta",
         "orientation": "v",
         "showlegend": false,
         "textposition": "auto",
         "type": "bar",
         "x": [
          "S"
         ],
         "xaxis": "x5",
         "y": [
          0.023255813953488372
         ],
         "yaxis": "y5"
        },
        {
         "alignmentgroup": "True",
         "hovertemplate": "Phylum=p__Ochrophyta<br>w=6<br>=%{x}<br>ratio=%{y}<extra></extra>",
         "legendgroup": "p__Ochrophyta",
         "marker": {
          "color": "#00cc96",
          "pattern": {
           "shape": ""
          }
         },
         "name": "p__Ochrophyta",
         "offsetgroup": "p__Ochrophyta",
         "orientation": "v",
         "showlegend": false,
         "textposition": "auto",
         "type": "bar",
         "x": [
          "L",
          "S"
         ],
         "xaxis": "x6",
         "y": [
          0.0028797696184305254,
          0.06578947368421052
         ],
         "yaxis": "y6"
        },
        {
         "alignmentgroup": "True",
         "hovertemplate": "Phylum=p__Ochrophyta<br>w=10<br>=%{x}<br>ratio=%{y}<extra></extra>",
         "legendgroup": "p__Ochrophyta",
         "marker": {
          "color": "#00cc96",
          "pattern": {
           "shape": ""
          }
         },
         "name": "p__Ochrophyta",
         "offsetgroup": "p__Ochrophyta",
         "orientation": "v",
         "showlegend": false,
         "textposition": "auto",
         "type": "bar",
         "x": [
          "W"
         ],
         "xaxis": "x9",
         "y": [
          0.029850746268656716
         ],
         "yaxis": "y9"
        },
        {
         "alignmentgroup": "True",
         "hovertemplate": "Phylum=p__Ochrophyta<br>w=11<br>=%{x}<br>ratio=%{y}<extra></extra>",
         "legendgroup": "p__Ochrophyta",
         "marker": {
          "color": "#00cc96",
          "pattern": {
           "shape": ""
          }
         },
         "name": "p__Ochrophyta",
         "offsetgroup": "p__Ochrophyta",
         "orientation": "v",
         "showlegend": false,
         "textposition": "auto",
         "type": "bar",
         "x": [
          "S"
         ],
         "xaxis": "x10",
         "y": [
          0.03305785123966942
         ],
         "yaxis": "y10"
        },
        {
         "alignmentgroup": "True",
         "hovertemplate": "Phylum=p__Ochrophyta<br>w=12<br>=%{x}<br>ratio=%{y}<extra></extra>",
         "legendgroup": "p__Ochrophyta",
         "marker": {
          "color": "#00cc96",
          "pattern": {
           "shape": ""
          }
         },
         "name": "p__Ochrophyta",
         "offsetgroup": "p__Ochrophyta",
         "orientation": "v",
         "showlegend": false,
         "textposition": "auto",
         "type": "bar",
         "x": [
          "S"
         ],
         "xaxis": "x11",
         "y": [
          0.0072992700729927005
         ],
         "yaxis": "y11"
        },
        {
         "alignmentgroup": "True",
         "hovertemplate": "Phylum=p__Ochrophyta<br>w=9<br>=%{x}<br>ratio=%{y}<extra></extra>",
         "legendgroup": "p__Ochrophyta",
         "marker": {
          "color": "#00cc96",
          "pattern": {
           "shape": ""
          }
         },
         "name": "p__Ochrophyta",
         "offsetgroup": "p__Ochrophyta",
         "orientation": "v",
         "showlegend": false,
         "textposition": "auto",
         "type": "bar",
         "x": [
          "S",
          "W"
         ],
         "xaxis": "x16",
         "y": [
          0.011494252873563218,
          0.019230769230769232
         ],
         "yaxis": "y16"
        },
        {
         "alignmentgroup": "True",
         "hovertemplate": "Phylum=p__Protosporangiida<br>w=3<br>=%{x}<br>ratio=%{y}<extra></extra>",
         "legendgroup": "p__Protosporangiida",
         "marker": {
          "color": "#ab63fa",
          "pattern": {
           "shape": ""
          }
         },
         "name": "p__Protosporangiida",
         "offsetgroup": "p__Protosporangiida",
         "orientation": "v",
         "showlegend": true,
         "textposition": "auto",
         "type": "bar",
         "x": [
          "W"
         ],
         "xaxis": "x3",
         "y": [
          0.023696682464454975
         ],
         "yaxis": "y3"
        },
        {
         "alignmentgroup": "True",
         "hovertemplate": "Phylum=p__Protosporangiida<br>w=4<br>=%{x}<br>ratio=%{y}<extra></extra>",
         "legendgroup": "p__Protosporangiida",
         "marker": {
          "color": "#ab63fa",
          "pattern": {
           "shape": ""
          }
         },
         "name": "p__Protosporangiida",
         "offsetgroup": "p__Protosporangiida",
         "orientation": "v",
         "showlegend": false,
         "textposition": "auto",
         "type": "bar",
         "x": [
          "L",
          "W"
         ],
         "xaxis": "x4",
         "y": [
          0.032432432432432434,
          0.05185185185185185
         ],
         "yaxis": "y4"
        },
        {
         "alignmentgroup": "True",
         "hovertemplate": "Phylum=p__Protosporangiida<br>w=5<br>=%{x}<br>ratio=%{y}<extra></extra>",
         "legendgroup": "p__Protosporangiida",
         "marker": {
          "color": "#ab63fa",
          "pattern": {
           "shape": ""
          }
         },
         "name": "p__Protosporangiida",
         "offsetgroup": "p__Protosporangiida",
         "orientation": "v",
         "showlegend": false,
         "textposition": "auto",
         "type": "bar",
         "x": [
          "L",
          "S",
          "W"
         ],
         "xaxis": "x5",
         "y": [
          0.02127659574468085,
          0.03488372093023256,
          0.05228758169934641
         ],
         "yaxis": "y5"
        },
        {
         "alignmentgroup": "True",
         "hovertemplate": "Phylum=p__Protosporangiida<br>w=6<br>=%{x}<br>ratio=%{y}<extra></extra>",
         "legendgroup": "p__Protosporangiida",
         "marker": {
          "color": "#ab63fa",
          "pattern": {
           "shape": ""
          }
         },
         "name": "p__Protosporangiida",
         "offsetgroup": "p__Protosporangiida",
         "orientation": "v",
         "showlegend": false,
         "textposition": "auto",
         "type": "bar",
         "x": [
          "L",
          "W"
         ],
         "xaxis": "x6",
         "y": [
          0.0064794816414686825,
          0.0196078431372549
         ],
         "yaxis": "y6"
        },
        {
         "alignmentgroup": "True",
         "hovertemplate": "Phylum=p__MAST-7<br>w=6<br>=%{x}<br>ratio=%{y}<extra></extra>",
         "legendgroup": "p__MAST-7",
         "marker": {
          "color": "#FFA15A",
          "pattern": {
           "shape": ""
          }
         },
         "name": "p__MAST-7",
         "offsetgroup": "p__MAST-7",
         "orientation": "v",
         "showlegend": true,
         "textposition": "auto",
         "type": "bar",
         "x": [
          "S"
         ],
         "xaxis": "x6",
         "y": [
          0.013157894736842105
         ],
         "yaxis": "y6"
        },
        {
         "alignmentgroup": "True",
         "hovertemplate": "Phylum=p__MAST-7<br>w=8<br>=%{x}<br>ratio=%{y}<extra></extra>",
         "legendgroup": "p__MAST-7",
         "marker": {
          "color": "#FFA15A",
          "pattern": {
           "shape": ""
          }
         },
         "name": "p__MAST-7",
         "offsetgroup": "p__MAST-7",
         "orientation": "v",
         "showlegend": false,
         "textposition": "auto",
         "type": "bar",
         "x": [
          "W"
         ],
         "xaxis": "x8",
         "y": [
          0.6
         ],
         "yaxis": "y8"
        },
        {
         "alignmentgroup": "True",
         "hovertemplate": "Phylum=p__MAST-7<br>w=12<br>=%{x}<br>ratio=%{y}<extra></extra>",
         "legendgroup": "p__MAST-7",
         "marker": {
          "color": "#FFA15A",
          "pattern": {
           "shape": ""
          }
         },
         "name": "p__MAST-7",
         "offsetgroup": "p__MAST-7",
         "orientation": "v",
         "showlegend": false,
         "textposition": "auto",
         "type": "bar",
         "x": [
          "S"
         ],
         "xaxis": "x11",
         "y": [
          0.043795620437956206
         ],
         "yaxis": "y11"
        },
        {
         "alignmentgroup": "True",
         "hovertemplate": "Phylum=p__MAST-7<br>w=9<br>=%{x}<br>ratio=%{y}<extra></extra>",
         "legendgroup": "p__MAST-7",
         "marker": {
          "color": "#FFA15A",
          "pattern": {
           "shape": ""
          }
         },
         "name": "p__MAST-7",
         "offsetgroup": "p__MAST-7",
         "orientation": "v",
         "showlegend": false,
         "textposition": "auto",
         "type": "bar",
         "x": [
          "S"
         ],
         "xaxis": "x16",
         "y": [
          0.028735632183908046
         ],
         "yaxis": "y16"
        },
        {
         "alignmentgroup": "True",
         "hovertemplate": "Phylum=p__Basidiomycota<br>w=16<br>=%{x}<br>ratio=%{y}<extra></extra>",
         "legendgroup": "p__Basidiomycota",
         "marker": {
          "color": "#19d3f3",
          "pattern": {
           "shape": ""
          }
         },
         "name": "p__Basidiomycota",
         "offsetgroup": "p__Basidiomycota",
         "orientation": "v",
         "showlegend": true,
         "textposition": "auto",
         "type": "bar",
         "x": [
          "S"
         ],
         "xaxis": "x15",
         "y": [
          0.8240740740740741
         ],
         "yaxis": "y15"
        },
        {
         "alignmentgroup": "True",
         "hovertemplate": "Phylum=p__Phragmoplastophyta<br>w=11<br>=%{x}<br>ratio=%{y}<extra></extra>",
         "legendgroup": "p__Phragmoplastophyta",
         "marker": {
          "color": "#FF6692",
          "pattern": {
           "shape": ""
          }
         },
         "name": "p__Phragmoplastophyta",
         "offsetgroup": "p__Phragmoplastophyta",
         "orientation": "v",
         "showlegend": true,
         "textposition": "auto",
         "type": "bar",
         "x": [
          "W"
         ],
         "xaxis": "x10",
         "y": [
          1
         ],
         "yaxis": "y10"
        },
        {
         "alignmentgroup": "True",
         "hovertemplate": "Phylum=p__Phragmoplastophyta<br>w=13<br>=%{x}<br>ratio=%{y}<extra></extra>",
         "legendgroup": "p__Phragmoplastophyta",
         "marker": {
          "color": "#FF6692",
          "pattern": {
           "shape": ""
          }
         },
         "name": "p__Phragmoplastophyta",
         "offsetgroup": "p__Phragmoplastophyta",
         "orientation": "v",
         "showlegend": false,
         "textposition": "auto",
         "type": "bar",
         "x": [
          "W"
         ],
         "xaxis": "x12",
         "y": [
          1
         ],
         "yaxis": "y12"
        }
       ],
       "layout": {
        "annotations": [
         {
          "font": {},
          "showarrow": false,
          "text": "w=1",
          "x": 0.021875,
          "xanchor": "center",
          "xref": "paper",
          "y": 1,
          "yanchor": "bottom",
          "yref": "paper"
         },
         {
          "font": {},
          "showarrow": false,
          "text": "w=2",
          "x": 0.085625,
          "xanchor": "center",
          "xref": "paper",
          "y": 1,
          "yanchor": "bottom",
          "yref": "paper"
         },
         {
          "font": {},
          "showarrow": false,
          "text": "w=3",
          "x": 0.149375,
          "xanchor": "center",
          "xref": "paper",
          "y": 1,
          "yanchor": "bottom",
          "yref": "paper"
         },
         {
          "font": {},
          "showarrow": false,
          "text": "w=4",
          "x": 0.21312499999999998,
          "xanchor": "center",
          "xref": "paper",
          "y": 1,
          "yanchor": "bottom",
          "yref": "paper"
         },
         {
          "font": {},
          "showarrow": false,
          "text": "w=5",
          "x": 0.276875,
          "xanchor": "center",
          "xref": "paper",
          "y": 1,
          "yanchor": "bottom",
          "yref": "paper"
         },
         {
          "font": {},
          "showarrow": false,
          "text": "w=6",
          "x": 0.34062499999999996,
          "xanchor": "center",
          "xref": "paper",
          "y": 1,
          "yanchor": "bottom",
          "yref": "paper"
         },
         {
          "font": {},
          "showarrow": false,
          "text": "w=7",
          "x": 0.40437500000000004,
          "xanchor": "center",
          "xref": "paper",
          "y": 1,
          "yanchor": "bottom",
          "yref": "paper"
         },
         {
          "font": {},
          "showarrow": false,
          "text": "w=8",
          "x": 0.468125,
          "xanchor": "center",
          "xref": "paper",
          "y": 1,
          "yanchor": "bottom",
          "yref": "paper"
         },
         {
          "font": {},
          "showarrow": false,
          "text": "w=10",
          "x": 0.531875,
          "xanchor": "center",
          "xref": "paper",
          "y": 1,
          "yanchor": "bottom",
          "yref": "paper"
         },
         {
          "font": {},
          "showarrow": false,
          "text": "w=11",
          "x": 0.595625,
          "xanchor": "center",
          "xref": "paper",
          "y": 1,
          "yanchor": "bottom",
          "yref": "paper"
         },
         {
          "font": {},
          "showarrow": false,
          "text": "w=12",
          "x": 0.659375,
          "xanchor": "center",
          "xref": "paper",
          "y": 1,
          "yanchor": "bottom",
          "yref": "paper"
         },
         {
          "font": {},
          "showarrow": false,
          "text": "w=13",
          "x": 0.723125,
          "xanchor": "center",
          "xref": "paper",
          "y": 1,
          "yanchor": "bottom",
          "yref": "paper"
         },
         {
          "font": {},
          "showarrow": false,
          "text": "w=14",
          "x": 0.786875,
          "xanchor": "center",
          "xref": "paper",
          "y": 1,
          "yanchor": "bottom",
          "yref": "paper"
         },
         {
          "font": {},
          "showarrow": false,
          "text": "w=15",
          "x": 0.850625,
          "xanchor": "center",
          "xref": "paper",
          "y": 1,
          "yanchor": "bottom",
          "yref": "paper"
         },
         {
          "font": {},
          "showarrow": false,
          "text": "w=16",
          "x": 0.9143749999999999,
          "xanchor": "center",
          "xref": "paper",
          "y": 1,
          "yanchor": "bottom",
          "yref": "paper"
         },
         {
          "font": {},
          "showarrow": false,
          "text": "w=9",
          "x": 0.9781249999999998,
          "xanchor": "center",
          "xref": "paper",
          "y": 1,
          "yanchor": "bottom",
          "yref": "paper"
         }
        ],
        "barmode": "relative",
        "font": {
         "size": 8
        },
        "legend": {
         "title": {
          "text": "Phylum"
         },
         "tracegroupgap": 0
        },
        "margin": {
         "t": 60
        },
        "template": {
         "data": {
          "bar": [
           {
            "error_x": {
             "color": "#2a3f5f"
            },
            "error_y": {
             "color": "#2a3f5f"
            },
            "marker": {
             "line": {
              "color": "#E5ECF6",
              "width": 0.5
             },
             "pattern": {
              "fillmode": "overlay",
              "size": 10,
              "solidity": 0.2
             }
            },
            "type": "bar"
           }
          ],
          "barpolar": [
           {
            "marker": {
             "line": {
              "color": "#E5ECF6",
              "width": 0.5
             },
             "pattern": {
              "fillmode": "overlay",
              "size": 10,
              "solidity": 0.2
             }
            },
            "type": "barpolar"
           }
          ],
          "carpet": [
           {
            "aaxis": {
             "endlinecolor": "#2a3f5f",
             "gridcolor": "white",
             "linecolor": "white",
             "minorgridcolor": "white",
             "startlinecolor": "#2a3f5f"
            },
            "baxis": {
             "endlinecolor": "#2a3f5f",
             "gridcolor": "white",
             "linecolor": "white",
             "minorgridcolor": "white",
             "startlinecolor": "#2a3f5f"
            },
            "type": "carpet"
           }
          ],
          "choropleth": [
           {
            "colorbar": {
             "outlinewidth": 0,
             "ticks": ""
            },
            "type": "choropleth"
           }
          ],
          "contour": [
           {
            "colorbar": {
             "outlinewidth": 0,
             "ticks": ""
            },
            "colorscale": [
             [
              0,
              "#0d0887"
             ],
             [
              0.1111111111111111,
              "#46039f"
             ],
             [
              0.2222222222222222,
              "#7201a8"
             ],
             [
              0.3333333333333333,
              "#9c179e"
             ],
             [
              0.4444444444444444,
              "#bd3786"
             ],
             [
              0.5555555555555556,
              "#d8576b"
             ],
             [
              0.6666666666666666,
              "#ed7953"
             ],
             [
              0.7777777777777778,
              "#fb9f3a"
             ],
             [
              0.8888888888888888,
              "#fdca26"
             ],
             [
              1,
              "#f0f921"
             ]
            ],
            "type": "contour"
           }
          ],
          "contourcarpet": [
           {
            "colorbar": {
             "outlinewidth": 0,
             "ticks": ""
            },
            "type": "contourcarpet"
           }
          ],
          "heatmap": [
           {
            "colorbar": {
             "outlinewidth": 0,
             "ticks": ""
            },
            "colorscale": [
             [
              0,
              "#0d0887"
             ],
             [
              0.1111111111111111,
              "#46039f"
             ],
             [
              0.2222222222222222,
              "#7201a8"
             ],
             [
              0.3333333333333333,
              "#9c179e"
             ],
             [
              0.4444444444444444,
              "#bd3786"
             ],
             [
              0.5555555555555556,
              "#d8576b"
             ],
             [
              0.6666666666666666,
              "#ed7953"
             ],
             [
              0.7777777777777778,
              "#fb9f3a"
             ],
             [
              0.8888888888888888,
              "#fdca26"
             ],
             [
              1,
              "#f0f921"
             ]
            ],
            "type": "heatmap"
           }
          ],
          "heatmapgl": [
           {
            "colorbar": {
             "outlinewidth": 0,
             "ticks": ""
            },
            "colorscale": [
             [
              0,
              "#0d0887"
             ],
             [
              0.1111111111111111,
              "#46039f"
             ],
             [
              0.2222222222222222,
              "#7201a8"
             ],
             [
              0.3333333333333333,
              "#9c179e"
             ],
             [
              0.4444444444444444,
              "#bd3786"
             ],
             [
              0.5555555555555556,
              "#d8576b"
             ],
             [
              0.6666666666666666,
              "#ed7953"
             ],
             [
              0.7777777777777778,
              "#fb9f3a"
             ],
             [
              0.8888888888888888,
              "#fdca26"
             ],
             [
              1,
              "#f0f921"
             ]
            ],
            "type": "heatmapgl"
           }
          ],
          "histogram": [
           {
            "marker": {
             "pattern": {
              "fillmode": "overlay",
              "size": 10,
              "solidity": 0.2
             }
            },
            "type": "histogram"
           }
          ],
          "histogram2d": [
           {
            "colorbar": {
             "outlinewidth": 0,
             "ticks": ""
            },
            "colorscale": [
             [
              0,
              "#0d0887"
             ],
             [
              0.1111111111111111,
              "#46039f"
             ],
             [
              0.2222222222222222,
              "#7201a8"
             ],
             [
              0.3333333333333333,
              "#9c179e"
             ],
             [
              0.4444444444444444,
              "#bd3786"
             ],
             [
              0.5555555555555556,
              "#d8576b"
             ],
             [
              0.6666666666666666,
              "#ed7953"
             ],
             [
              0.7777777777777778,
              "#fb9f3a"
             ],
             [
              0.8888888888888888,
              "#fdca26"
             ],
             [
              1,
              "#f0f921"
             ]
            ],
            "type": "histogram2d"
           }
          ],
          "histogram2dcontour": [
           {
            "colorbar": {
             "outlinewidth": 0,
             "ticks": ""
            },
            "colorscale": [
             [
              0,
              "#0d0887"
             ],
             [
              0.1111111111111111,
              "#46039f"
             ],
             [
              0.2222222222222222,
              "#7201a8"
             ],
             [
              0.3333333333333333,
              "#9c179e"
             ],
             [
              0.4444444444444444,
              "#bd3786"
             ],
             [
              0.5555555555555556,
              "#d8576b"
             ],
             [
              0.6666666666666666,
              "#ed7953"
             ],
             [
              0.7777777777777778,
              "#fb9f3a"
             ],
             [
              0.8888888888888888,
              "#fdca26"
             ],
             [
              1,
              "#f0f921"
             ]
            ],
            "type": "histogram2dcontour"
           }
          ],
          "mesh3d": [
           {
            "colorbar": {
             "outlinewidth": 0,
             "ticks": ""
            },
            "type": "mesh3d"
           }
          ],
          "parcoords": [
           {
            "line": {
             "colorbar": {
              "outlinewidth": 0,
              "ticks": ""
             }
            },
            "type": "parcoords"
           }
          ],
          "pie": [
           {
            "automargin": true,
            "type": "pie"
           }
          ],
          "scatter": [
           {
            "fillpattern": {
             "fillmode": "overlay",
             "size": 10,
             "solidity": 0.2
            },
            "type": "scatter"
           }
          ],
          "scatter3d": [
           {
            "line": {
             "colorbar": {
              "outlinewidth": 0,
              "ticks": ""
             }
            },
            "marker": {
             "colorbar": {
              "outlinewidth": 0,
              "ticks": ""
             }
            },
            "type": "scatter3d"
           }
          ],
          "scattercarpet": [
           {
            "marker": {
             "colorbar": {
              "outlinewidth": 0,
              "ticks": ""
             }
            },
            "type": "scattercarpet"
           }
          ],
          "scattergeo": [
           {
            "marker": {
             "colorbar": {
              "outlinewidth": 0,
              "ticks": ""
             }
            },
            "type": "scattergeo"
           }
          ],
          "scattergl": [
           {
            "marker": {
             "colorbar": {
              "outlinewidth": 0,
              "ticks": ""
             }
            },
            "type": "scattergl"
           }
          ],
          "scattermapbox": [
           {
            "marker": {
             "colorbar": {
              "outlinewidth": 0,
              "ticks": ""
             }
            },
            "type": "scattermapbox"
           }
          ],
          "scatterpolar": [
           {
            "marker": {
             "colorbar": {
              "outlinewidth": 0,
              "ticks": ""
             }
            },
            "type": "scatterpolar"
           }
          ],
          "scatterpolargl": [
           {
            "marker": {
             "colorbar": {
              "outlinewidth": 0,
              "ticks": ""
             }
            },
            "type": "scatterpolargl"
           }
          ],
          "scatterternary": [
           {
            "marker": {
             "colorbar": {
              "outlinewidth": 0,
              "ticks": ""
             }
            },
            "type": "scatterternary"
           }
          ],
          "surface": [
           {
            "colorbar": {
             "outlinewidth": 0,
             "ticks": ""
            },
            "colorscale": [
             [
              0,
              "#0d0887"
             ],
             [
              0.1111111111111111,
              "#46039f"
             ],
             [
              0.2222222222222222,
              "#7201a8"
             ],
             [
              0.3333333333333333,
              "#9c179e"
             ],
             [
              0.4444444444444444,
              "#bd3786"
             ],
             [
              0.5555555555555556,
              "#d8576b"
             ],
             [
              0.6666666666666666,
              "#ed7953"
             ],
             [
              0.7777777777777778,
              "#fb9f3a"
             ],
             [
              0.8888888888888888,
              "#fdca26"
             ],
             [
              1,
              "#f0f921"
             ]
            ],
            "type": "surface"
           }
          ],
          "table": [
           {
            "cells": {
             "fill": {
              "color": "#EBF0F8"
             },
             "line": {
              "color": "white"
             }
            },
            "header": {
             "fill": {
              "color": "#C8D4E3"
             },
             "line": {
              "color": "white"
             }
            },
            "type": "table"
           }
          ]
         },
         "layout": {
          "annotationdefaults": {
           "arrowcolor": "#2a3f5f",
           "arrowhead": 0,
           "arrowwidth": 1
          },
          "autotypenumbers": "strict",
          "coloraxis": {
           "colorbar": {
            "outlinewidth": 0,
            "ticks": ""
           }
          },
          "colorscale": {
           "diverging": [
            [
             0,
             "#8e0152"
            ],
            [
             0.1,
             "#c51b7d"
            ],
            [
             0.2,
             "#de77ae"
            ],
            [
             0.3,
             "#f1b6da"
            ],
            [
             0.4,
             "#fde0ef"
            ],
            [
             0.5,
             "#f7f7f7"
            ],
            [
             0.6,
             "#e6f5d0"
            ],
            [
             0.7,
             "#b8e186"
            ],
            [
             0.8,
             "#7fbc41"
            ],
            [
             0.9,
             "#4d9221"
            ],
            [
             1,
             "#276419"
            ]
           ],
           "sequential": [
            [
             0,
             "#0d0887"
            ],
            [
             0.1111111111111111,
             "#46039f"
            ],
            [
             0.2222222222222222,
             "#7201a8"
            ],
            [
             0.3333333333333333,
             "#9c179e"
            ],
            [
             0.4444444444444444,
             "#bd3786"
            ],
            [
             0.5555555555555556,
             "#d8576b"
            ],
            [
             0.6666666666666666,
             "#ed7953"
            ],
            [
             0.7777777777777778,
             "#fb9f3a"
            ],
            [
             0.8888888888888888,
             "#fdca26"
            ],
            [
             1,
             "#f0f921"
            ]
           ],
           "sequentialminus": [
            [
             0,
             "#0d0887"
            ],
            [
             0.1111111111111111,
             "#46039f"
            ],
            [
             0.2222222222222222,
             "#7201a8"
            ],
            [
             0.3333333333333333,
             "#9c179e"
            ],
            [
             0.4444444444444444,
             "#bd3786"
            ],
            [
             0.5555555555555556,
             "#d8576b"
            ],
            [
             0.6666666666666666,
             "#ed7953"
            ],
            [
             0.7777777777777778,
             "#fb9f3a"
            ],
            [
             0.8888888888888888,
             "#fdca26"
            ],
            [
             1,
             "#f0f921"
            ]
           ]
          },
          "colorway": [
           "#636efa",
           "#EF553B",
           "#00cc96",
           "#ab63fa",
           "#FFA15A",
           "#19d3f3",
           "#FF6692",
           "#B6E880",
           "#FF97FF",
           "#FECB52"
          ],
          "font": {
           "color": "#2a3f5f"
          },
          "geo": {
           "bgcolor": "white",
           "lakecolor": "white",
           "landcolor": "#E5ECF6",
           "showlakes": true,
           "showland": true,
           "subunitcolor": "white"
          },
          "hoverlabel": {
           "align": "left"
          },
          "hovermode": "closest",
          "mapbox": {
           "style": "light"
          },
          "paper_bgcolor": "white",
          "plot_bgcolor": "#E5ECF6",
          "polar": {
           "angularaxis": {
            "gridcolor": "white",
            "linecolor": "white",
            "ticks": ""
           },
           "bgcolor": "#E5ECF6",
           "radialaxis": {
            "gridcolor": "white",
            "linecolor": "white",
            "ticks": ""
           }
          },
          "scene": {
           "xaxis": {
            "backgroundcolor": "#E5ECF6",
            "gridcolor": "white",
            "gridwidth": 2,
            "linecolor": "white",
            "showbackground": true,
            "ticks": "",
            "zerolinecolor": "white"
           },
           "yaxis": {
            "backgroundcolor": "#E5ECF6",
            "gridcolor": "white",
            "gridwidth": 2,
            "linecolor": "white",
            "showbackground": true,
            "ticks": "",
            "zerolinecolor": "white"
           },
           "zaxis": {
            "backgroundcolor": "#E5ECF6",
            "gridcolor": "white",
            "gridwidth": 2,
            "linecolor": "white",
            "showbackground": true,
            "ticks": "",
            "zerolinecolor": "white"
           }
          },
          "shapedefaults": {
           "line": {
            "color": "#2a3f5f"
           }
          },
          "ternary": {
           "aaxis": {
            "gridcolor": "white",
            "linecolor": "white",
            "ticks": ""
           },
           "baxis": {
            "gridcolor": "white",
            "linecolor": "white",
            "ticks": ""
           },
           "bgcolor": "#E5ECF6",
           "caxis": {
            "gridcolor": "white",
            "linecolor": "white",
            "ticks": ""
           }
          },
          "title": {
           "x": 0.05
          },
          "xaxis": {
           "automargin": true,
           "gridcolor": "white",
           "linecolor": "white",
           "ticks": "",
           "title": {
            "standoff": 15
           },
           "zerolinecolor": "white",
           "zerolinewidth": 2
          },
          "yaxis": {
           "automargin": true,
           "gridcolor": "white",
           "linecolor": "white",
           "ticks": "",
           "title": {
            "standoff": 15
           },
           "zerolinecolor": "white",
           "zerolinewidth": 2
          }
         }
        },
        "title": {
         "text": "Relative abundance of top 10Phylumobserved at Depth60"
        },
        "xaxis": {
         "anchor": "y",
         "domain": [
          0,
          0.04375
         ],
         "dtick": 1,
         "title": {
          "text": "Size fraction"
         },
         "type": "category"
        },
        "xaxis10": {
         "anchor": "y10",
         "domain": [
          0.57375,
          0.6174999999999999
         ],
         "dtick": 1,
         "matches": "x",
         "title": {
          "text": ""
         },
         "type": "category"
        },
        "xaxis11": {
         "anchor": "y11",
         "domain": [
          0.6375000000000001,
          0.68125
         ],
         "dtick": 1,
         "matches": "x",
         "title": {
          "text": ""
         },
         "type": "category"
        },
        "xaxis12": {
         "anchor": "y12",
         "domain": [
          0.70125,
          0.745
         ],
         "dtick": 1,
         "matches": "x",
         "title": {
          "text": ""
         },
         "type": "category"
        },
        "xaxis13": {
         "anchor": "y13",
         "domain": [
          0.765,
          0.80875
         ],
         "dtick": 1,
         "matches": "x",
         "title": {
          "text": ""
         },
         "type": "category"
        },
        "xaxis14": {
         "anchor": "y14",
         "domain": [
          0.82875,
          0.8724999999999999
         ],
         "dtick": 1,
         "matches": "x",
         "title": {
          "text": ""
         },
         "type": "category"
        },
        "xaxis15": {
         "anchor": "y15",
         "domain": [
          0.8925,
          0.9362499999999999
         ],
         "dtick": 1,
         "matches": "x",
         "title": {
          "text": ""
         },
         "type": "category"
        },
        "xaxis16": {
         "anchor": "y16",
         "domain": [
          0.9562499999999998,
          0.9999999999999998
         ],
         "dtick": 1,
         "matches": "x",
         "title": {
          "text": ""
         },
         "type": "category"
        },
        "xaxis2": {
         "anchor": "y2",
         "domain": [
          0.06375,
          0.1075
         ],
         "dtick": 1,
         "matches": "x",
         "title": {
          "text": ""
         },
         "type": "category"
        },
        "xaxis3": {
         "anchor": "y3",
         "domain": [
          0.1275,
          0.17125
         ],
         "dtick": 1,
         "matches": "x",
         "title": {
          "text": ""
         },
         "type": "category"
        },
        "xaxis4": {
         "anchor": "y4",
         "domain": [
          0.19124999999999998,
          0.235
         ],
         "dtick": 1,
         "matches": "x",
         "title": {
          "text": ""
         },
         "type": "category"
        },
        "xaxis5": {
         "anchor": "y5",
         "domain": [
          0.255,
          0.29875
         ],
         "dtick": 1,
         "matches": "x",
         "title": {
          "text": ""
         },
         "type": "category"
        },
        "xaxis6": {
         "anchor": "y6",
         "domain": [
          0.31875,
          0.3625
         ],
         "dtick": 1,
         "matches": "x",
         "title": {
          "text": ""
         },
         "type": "category"
        },
        "xaxis7": {
         "anchor": "y7",
         "domain": [
          0.3825,
          0.42625
         ],
         "dtick": 1,
         "matches": "x",
         "title": {
          "text": ""
         },
         "type": "category"
        },
        "xaxis8": {
         "anchor": "y8",
         "domain": [
          0.44625000000000004,
          0.49000000000000005
         ],
         "dtick": 1,
         "matches": "x",
         "title": {
          "text": ""
         },
         "type": "category"
        },
        "xaxis9": {
         "anchor": "y9",
         "domain": [
          0.51,
          0.55375
         ],
         "dtick": 1,
         "matches": "x",
         "title": {
          "text": ""
         },
         "type": "category"
        },
        "yaxis": {
         "anchor": "x",
         "domain": [
          0,
          1
         ],
         "title": {
          "text": "Relative abundance"
         }
        },
        "yaxis10": {
         "anchor": "x10",
         "domain": [
          0,
          1
         ],
         "matches": "y",
         "showticklabels": false
        },
        "yaxis11": {
         "anchor": "x11",
         "domain": [
          0,
          1
         ],
         "matches": "y",
         "showticklabels": false
        },
        "yaxis12": {
         "anchor": "x12",
         "domain": [
          0,
          1
         ],
         "matches": "y",
         "showticklabels": false
        },
        "yaxis13": {
         "anchor": "x13",
         "domain": [
          0,
          1
         ],
         "matches": "y",
         "showticklabels": false
        },
        "yaxis14": {
         "anchor": "x14",
         "domain": [
          0,
          1
         ],
         "matches": "y",
         "showticklabels": false
        },
        "yaxis15": {
         "anchor": "x15",
         "domain": [
          0,
          1
         ],
         "matches": "y",
         "showticklabels": false
        },
        "yaxis16": {
         "anchor": "x16",
         "domain": [
          0,
          1
         ],
         "matches": "y",
         "showticklabels": false
        },
        "yaxis2": {
         "anchor": "x2",
         "domain": [
          0,
          1
         ],
         "matches": "y",
         "showticklabels": false
        },
        "yaxis3": {
         "anchor": "x3",
         "domain": [
          0,
          1
         ],
         "matches": "y",
         "showticklabels": false
        },
        "yaxis4": {
         "anchor": "x4",
         "domain": [
          0,
          1
         ],
         "matches": "y",
         "showticklabels": false
        },
        "yaxis5": {
         "anchor": "x5",
         "domain": [
          0,
          1
         ],
         "matches": "y",
         "showticklabels": false
        },
        "yaxis6": {
         "anchor": "x6",
         "domain": [
          0,
          1
         ],
         "matches": "y",
         "showticklabels": false
        },
        "yaxis7": {
         "anchor": "x7",
         "domain": [
          0,
          1
         ],
         "matches": "y",
         "showticklabels": false
        },
        "yaxis8": {
         "anchor": "x8",
         "domain": [
          0,
          1
         ],
         "matches": "y",
         "showticklabels": false
        },
        "yaxis9": {
         "anchor": "x9",
         "domain": [
          0,
          1
         ],
         "matches": "y",
         "showticklabels": false
        }
       }
      },
      "text/html": [
       "<div>                            <div id=\"432e8844-9968-4dfd-9bcf-e9bade535c4f\" class=\"plotly-graph-div\" style=\"height:525px; width:100%;\"></div>            <script type=\"text/javascript\">                require([\"plotly\"], function(Plotly) {                    window.PLOTLYENV=window.PLOTLYENV || {};                                    if (document.getElementById(\"432e8844-9968-4dfd-9bcf-e9bade535c4f\")) {                    Plotly.newPlot(                        \"432e8844-9968-4dfd-9bcf-e9bade535c4f\",                        [{\"alignmentgroup\":\"True\",\"hovertemplate\":\"Phylum=Other\\u003cbr\\u003ew=1\\u003cbr\\u003e=%{x}\\u003cbr\\u003eratio=%{y}\\u003cextra\\u003e\\u003c\\u002fextra\\u003e\",\"legendgroup\":\"Other\",\"marker\":{\"color\":\"#636efa\",\"pattern\":{\"shape\":\"\"}},\"name\":\"Other\",\"offsetgroup\":\"Other\",\"orientation\":\"v\",\"showlegend\":true,\"textposition\":\"auto\",\"x\":[\"L\",\"W\"],\"xaxis\":\"x\",\"y\":[0.012727272727272726,0.03333333333333333],\"yaxis\":\"y\",\"type\":\"bar\"},{\"alignmentgroup\":\"True\",\"hovertemplate\":\"Phylum=Other\\u003cbr\\u003ew=2\\u003cbr\\u003e=%{x}\\u003cbr\\u003eratio=%{y}\\u003cextra\\u003e\\u003c\\u002fextra\\u003e\",\"legendgroup\":\"Other\",\"marker\":{\"color\":\"#636efa\",\"pattern\":{\"shape\":\"\"}},\"name\":\"Other\",\"offsetgroup\":\"Other\",\"orientation\":\"v\",\"showlegend\":false,\"textposition\":\"auto\",\"x\":[\"L\",\"W\"],\"xaxis\":\"x2\",\"y\":[0.05342237061769616,0.013986013986013986],\"yaxis\":\"y2\",\"type\":\"bar\"},{\"alignmentgroup\":\"True\",\"hovertemplate\":\"Phylum=Other\\u003cbr\\u003ew=3\\u003cbr\\u003e=%{x}\\u003cbr\\u003eratio=%{y}\\u003cextra\\u003e\\u003c\\u002fextra\\u003e\",\"legendgroup\":\"Other\",\"marker\":{\"color\":\"#636efa\",\"pattern\":{\"shape\":\"\"}},\"name\":\"Other\",\"offsetgroup\":\"Other\",\"orientation\":\"v\",\"showlegend\":false,\"textposition\":\"auto\",\"x\":[\"S\",\"W\"],\"xaxis\":\"x3\",\"y\":[0.0875,0.014218009478672985],\"yaxis\":\"y3\",\"type\":\"bar\"},{\"alignmentgroup\":\"True\",\"hovertemplate\":\"Phylum=Other\\u003cbr\\u003ew=4\\u003cbr\\u003e=%{x}\\u003cbr\\u003eratio=%{y}\\u003cextra\\u003e\\u003c\\u002fextra\\u003e\",\"legendgroup\":\"Other\",\"marker\":{\"color\":\"#636efa\",\"pattern\":{\"shape\":\"\"}},\"name\":\"Other\",\"offsetgroup\":\"Other\",\"orientation\":\"v\",\"showlegend\":false,\"textposition\":\"auto\",\"x\":[\"L\",\"S\"],\"xaxis\":\"x4\",\"y\":[0.03783783783783784,0.02040816326530612],\"yaxis\":\"y4\",\"type\":\"bar\"},{\"alignmentgroup\":\"True\",\"hovertemplate\":\"Phylum=Other\\u003cbr\\u003ew=5\\u003cbr\\u003e=%{x}\\u003cbr\\u003eratio=%{y}\\u003cextra\\u003e\\u003c\\u002fextra\\u003e\",\"legendgroup\":\"Other\",\"marker\":{\"color\":\"#636efa\",\"pattern\":{\"shape\":\"\"}},\"name\":\"Other\",\"offsetgroup\":\"Other\",\"orientation\":\"v\",\"showlegend\":false,\"textposition\":\"auto\",\"x\":[\"L\",\"S\",\"W\"],\"xaxis\":\"x5\",\"y\":[0.04964539007092199,0.10465116279069767,0.013071895424836602],\"yaxis\":\"y5\",\"type\":\"bar\"},{\"alignmentgroup\":\"True\",\"hovertemplate\":\"Phylum=Other\\u003cbr\\u003ew=6\\u003cbr\\u003e=%{x}\\u003cbr\\u003eratio=%{y}\\u003cextra\\u003e\\u003c\\u002fextra\\u003e\",\"legendgroup\":\"Other\",\"marker\":{\"color\":\"#636efa\",\"pattern\":{\"shape\":\"\"}},\"name\":\"Other\",\"offsetgroup\":\"Other\",\"orientation\":\"v\",\"showlegend\":false,\"textposition\":\"auto\",\"x\":[\"L\",\"S\",\"W\"],\"xaxis\":\"x6\",\"y\":[0.06695464362850972,0.07236842105263158,0.09803921568627451],\"yaxis\":\"y6\",\"type\":\"bar\"},{\"alignmentgroup\":\"True\",\"hovertemplate\":\"Phylum=Other\\u003cbr\\u003ew=7\\u003cbr\\u003e=%{x}\\u003cbr\\u003eratio=%{y}\\u003cextra\\u003e\\u003c\\u002fextra\\u003e\",\"legendgroup\":\"Other\",\"marker\":{\"color\":\"#636efa\",\"pattern\":{\"shape\":\"\"}},\"name\":\"Other\",\"offsetgroup\":\"Other\",\"orientation\":\"v\",\"showlegend\":false,\"textposition\":\"auto\",\"x\":[\"L\"],\"xaxis\":\"x7\",\"y\":[0.047619047619047616],\"yaxis\":\"y7\",\"type\":\"bar\"},{\"alignmentgroup\":\"True\",\"hovertemplate\":\"Phylum=Other\\u003cbr\\u003ew=8\\u003cbr\\u003e=%{x}\\u003cbr\\u003eratio=%{y}\\u003cextra\\u003e\\u003c\\u002fextra\\u003e\",\"legendgroup\":\"Other\",\"marker\":{\"color\":\"#636efa\",\"pattern\":{\"shape\":\"\"}},\"name\":\"Other\",\"offsetgroup\":\"Other\",\"orientation\":\"v\",\"showlegend\":false,\"textposition\":\"auto\",\"x\":[\"L\",\"S\"],\"xaxis\":\"x8\",\"y\":[0.014925373134328358,0.19480519480519481],\"yaxis\":\"y8\",\"type\":\"bar\"},{\"alignmentgroup\":\"True\",\"hovertemplate\":\"Phylum=Other\\u003cbr\\u003ew=10\\u003cbr\\u003e=%{x}\\u003cbr\\u003eratio=%{y}\\u003cextra\\u003e\\u003c\\u002fextra\\u003e\",\"legendgroup\":\"Other\",\"marker\":{\"color\":\"#636efa\",\"pattern\":{\"shape\":\"\"}},\"name\":\"Other\",\"offsetgroup\":\"Other\",\"orientation\":\"v\",\"showlegend\":false,\"textposition\":\"auto\",\"x\":[\"L\",\"W\"],\"xaxis\":\"x9\",\"y\":[0.02631578947368421,0.04477611940298507],\"yaxis\":\"y9\",\"type\":\"bar\"},{\"alignmentgroup\":\"True\",\"hovertemplate\":\"Phylum=Other\\u003cbr\\u003ew=11\\u003cbr\\u003e=%{x}\\u003cbr\\u003eratio=%{y}\\u003cextra\\u003e\\u003c\\u002fextra\\u003e\",\"legendgroup\":\"Other\",\"marker\":{\"color\":\"#636efa\",\"pattern\":{\"shape\":\"\"}},\"name\":\"Other\",\"offsetgroup\":\"Other\",\"orientation\":\"v\",\"showlegend\":false,\"textposition\":\"auto\",\"x\":[\"S\"],\"xaxis\":\"x10\",\"y\":[0.024793388429752067],\"yaxis\":\"y10\",\"type\":\"bar\"},{\"alignmentgroup\":\"True\",\"hovertemplate\":\"Phylum=Other\\u003cbr\\u003ew=12\\u003cbr\\u003e=%{x}\\u003cbr\\u003eratio=%{y}\\u003cextra\\u003e\\u003c\\u002fextra\\u003e\",\"legendgroup\":\"Other\",\"marker\":{\"color\":\"#636efa\",\"pattern\":{\"shape\":\"\"}},\"name\":\"Other\",\"offsetgroup\":\"Other\",\"orientation\":\"v\",\"showlegend\":false,\"textposition\":\"auto\",\"x\":[\"S\"],\"xaxis\":\"x11\",\"y\":[0.01824817518248175],\"yaxis\":\"y11\",\"type\":\"bar\"},{\"alignmentgroup\":\"True\",\"hovertemplate\":\"Phylum=Other\\u003cbr\\u003ew=14\\u003cbr\\u003e=%{x}\\u003cbr\\u003eratio=%{y}\\u003cextra\\u003e\\u003c\\u002fextra\\u003e\",\"legendgroup\":\"Other\",\"marker\":{\"color\":\"#636efa\",\"pattern\":{\"shape\":\"\"}},\"name\":\"Other\",\"offsetgroup\":\"Other\",\"orientation\":\"v\",\"showlegend\":false,\"textposition\":\"auto\",\"x\":[\"S\"],\"xaxis\":\"x13\",\"y\":[0.038461538461538464],\"yaxis\":\"y13\",\"type\":\"bar\"},{\"alignmentgroup\":\"True\",\"hovertemplate\":\"Phylum=Other\\u003cbr\\u003ew=15\\u003cbr\\u003e=%{x}\\u003cbr\\u003eratio=%{y}\\u003cextra\\u003e\\u003c\\u002fextra\\u003e\",\"legendgroup\":\"Other\",\"marker\":{\"color\":\"#636efa\",\"pattern\":{\"shape\":\"\"}},\"name\":\"Other\",\"offsetgroup\":\"Other\",\"orientation\":\"v\",\"showlegend\":false,\"textposition\":\"auto\",\"x\":[\"L\",\"W\"],\"xaxis\":\"x14\",\"y\":[1.0,0.08035714285714286],\"yaxis\":\"y14\",\"type\":\"bar\"},{\"alignmentgroup\":\"True\",\"hovertemplate\":\"Phylum=Other\\u003cbr\\u003ew=16\\u003cbr\\u003e=%{x}\\u003cbr\\u003eratio=%{y}\\u003cextra\\u003e\\u003c\\u002fextra\\u003e\",\"legendgroup\":\"Other\",\"marker\":{\"color\":\"#636efa\",\"pattern\":{\"shape\":\"\"}},\"name\":\"Other\",\"offsetgroup\":\"Other\",\"orientation\":\"v\",\"showlegend\":false,\"textposition\":\"auto\",\"x\":[\"L\"],\"xaxis\":\"x15\",\"y\":[0.05439330543933055],\"yaxis\":\"y15\",\"type\":\"bar\"},{\"alignmentgroup\":\"True\",\"hovertemplate\":\"Phylum=Other\\u003cbr\\u003ew=9\\u003cbr\\u003e=%{x}\\u003cbr\\u003eratio=%{y}\\u003cextra\\u003e\\u003c\\u002fextra\\u003e\",\"legendgroup\":\"Other\",\"marker\":{\"color\":\"#636efa\",\"pattern\":{\"shape\":\"\"}},\"name\":\"Other\",\"offsetgroup\":\"Other\",\"orientation\":\"v\",\"showlegend\":false,\"textposition\":\"auto\",\"x\":[\"S\",\"W\"],\"xaxis\":\"x16\",\"y\":[0.04597701149425287,0.08333333333333333],\"yaxis\":\"y16\",\"type\":\"bar\"},{\"alignmentgroup\":\"True\",\"hovertemplate\":\"Phylum=Unassigned\\u003cbr\\u003ew=1\\u003cbr\\u003e=%{x}\\u003cbr\\u003eratio=%{y}\\u003cextra\\u003e\\u003c\\u002fextra\\u003e\",\"legendgroup\":\"Unassigned\",\"marker\":{\"color\":\"#EF553B\",\"pattern\":{\"shape\":\"\"}},\"name\":\"Unassigned\",\"offsetgroup\":\"Unassigned\",\"orientation\":\"v\",\"showlegend\":true,\"textposition\":\"auto\",\"x\":[\"L\"],\"xaxis\":\"x\",\"y\":[0.0036363636363636364],\"yaxis\":\"y\",\"type\":\"bar\"},{\"alignmentgroup\":\"True\",\"hovertemplate\":\"Phylum=Unassigned\\u003cbr\\u003ew=2\\u003cbr\\u003e=%{x}\\u003cbr\\u003eratio=%{y}\\u003cextra\\u003e\\u003c\\u002fextra\\u003e\",\"legendgroup\":\"Unassigned\",\"marker\":{\"color\":\"#EF553B\",\"pattern\":{\"shape\":\"\"}},\"name\":\"Unassigned\",\"offsetgroup\":\"Unassigned\",\"orientation\":\"v\",\"showlegend\":false,\"textposition\":\"auto\",\"x\":[\"L\"],\"xaxis\":\"x2\",\"y\":[0.008347245409015025],\"yaxis\":\"y2\",\"type\":\"bar\"},{\"alignmentgroup\":\"True\",\"hovertemplate\":\"Phylum=Unassigned\\u003cbr\\u003ew=3\\u003cbr\\u003e=%{x}\\u003cbr\\u003eratio=%{y}\\u003cextra\\u003e\\u003c\\u002fextra\\u003e\",\"legendgroup\":\"Unassigned\",\"marker\":{\"color\":\"#EF553B\",\"pattern\":{\"shape\":\"\"}},\"name\":\"Unassigned\",\"offsetgroup\":\"Unassigned\",\"orientation\":\"v\",\"showlegend\":false,\"textposition\":\"auto\",\"x\":[\"L\"],\"xaxis\":\"x3\",\"y\":[0.004918032786885246],\"yaxis\":\"y3\",\"type\":\"bar\"},{\"alignmentgroup\":\"True\",\"hovertemplate\":\"Phylum=Unassigned\\u003cbr\\u003ew=4\\u003cbr\\u003e=%{x}\\u003cbr\\u003eratio=%{y}\\u003cextra\\u003e\\u003c\\u002fextra\\u003e\",\"legendgroup\":\"Unassigned\",\"marker\":{\"color\":\"#EF553B\",\"pattern\":{\"shape\":\"\"}},\"name\":\"Unassigned\",\"offsetgroup\":\"Unassigned\",\"orientation\":\"v\",\"showlegend\":false,\"textposition\":\"auto\",\"x\":[\"L\"],\"xaxis\":\"x4\",\"y\":[0.021621621621621623],\"yaxis\":\"y4\",\"type\":\"bar\"},{\"alignmentgroup\":\"True\",\"hovertemplate\":\"Phylum=Unassigned\\u003cbr\\u003ew=5\\u003cbr\\u003e=%{x}\\u003cbr\\u003eratio=%{y}\\u003cextra\\u003e\\u003c\\u002fextra\\u003e\",\"legendgroup\":\"Unassigned\",\"marker\":{\"color\":\"#EF553B\",\"pattern\":{\"shape\":\"\"}},\"name\":\"Unassigned\",\"offsetgroup\":\"Unassigned\",\"orientation\":\"v\",\"showlegend\":false,\"textposition\":\"auto\",\"x\":[\"L\",\"W\"],\"xaxis\":\"x5\",\"y\":[0.0425531914893617,0.032679738562091505],\"yaxis\":\"y5\",\"type\":\"bar\"},{\"alignmentgroup\":\"True\",\"hovertemplate\":\"Phylum=Unassigned\\u003cbr\\u003ew=6\\u003cbr\\u003e=%{x}\\u003cbr\\u003eratio=%{y}\\u003cextra\\u003e\\u003c\\u002fextra\\u003e\",\"legendgroup\":\"Unassigned\",\"marker\":{\"color\":\"#EF553B\",\"pattern\":{\"shape\":\"\"}},\"name\":\"Unassigned\",\"offsetgroup\":\"Unassigned\",\"orientation\":\"v\",\"showlegend\":false,\"textposition\":\"auto\",\"x\":[\"L\"],\"xaxis\":\"x6\",\"y\":[0.02591792656587473],\"yaxis\":\"y6\",\"type\":\"bar\"},{\"alignmentgroup\":\"True\",\"hovertemplate\":\"Phylum=Unassigned\\u003cbr\\u003ew=7\\u003cbr\\u003e=%{x}\\u003cbr\\u003eratio=%{y}\\u003cextra\\u003e\\u003c\\u002fextra\\u003e\",\"legendgroup\":\"Unassigned\",\"marker\":{\"color\":\"#EF553B\",\"pattern\":{\"shape\":\"\"}},\"name\":\"Unassigned\",\"offsetgroup\":\"Unassigned\",\"orientation\":\"v\",\"showlegend\":false,\"textposition\":\"auto\",\"x\":[\"L\"],\"xaxis\":\"x7\",\"y\":[0.1111111111111111],\"yaxis\":\"y7\",\"type\":\"bar\"},{\"alignmentgroup\":\"True\",\"hovertemplate\":\"Phylum=Unassigned\\u003cbr\\u003ew=8\\u003cbr\\u003e=%{x}\\u003cbr\\u003eratio=%{y}\\u003cextra\\u003e\\u003c\\u002fextra\\u003e\",\"legendgroup\":\"Unassigned\",\"marker\":{\"color\":\"#EF553B\",\"pattern\":{\"shape\":\"\"}},\"name\":\"Unassigned\",\"offsetgroup\":\"Unassigned\",\"orientation\":\"v\",\"showlegend\":false,\"textposition\":\"auto\",\"x\":[\"L\"],\"xaxis\":\"x8\",\"y\":[0.05970149253731343],\"yaxis\":\"y8\",\"type\":\"bar\"},{\"alignmentgroup\":\"True\",\"hovertemplate\":\"Phylum=Unassigned\\u003cbr\\u003ew=10\\u003cbr\\u003e=%{x}\\u003cbr\\u003eratio=%{y}\\u003cextra\\u003e\\u003c\\u002fextra\\u003e\",\"legendgroup\":\"Unassigned\",\"marker\":{\"color\":\"#EF553B\",\"pattern\":{\"shape\":\"\"}},\"name\":\"Unassigned\",\"offsetgroup\":\"Unassigned\",\"orientation\":\"v\",\"showlegend\":false,\"textposition\":\"auto\",\"x\":[\"L\"],\"xaxis\":\"x9\",\"y\":[0.09210526315789473],\"yaxis\":\"y9\",\"type\":\"bar\"},{\"alignmentgroup\":\"True\",\"hovertemplate\":\"Phylum=Unassigned\\u003cbr\\u003ew=11\\u003cbr\\u003e=%{x}\\u003cbr\\u003eratio=%{y}\\u003cextra\\u003e\\u003c\\u002fextra\\u003e\",\"legendgroup\":\"Unassigned\",\"marker\":{\"color\":\"#EF553B\",\"pattern\":{\"shape\":\"\"}},\"name\":\"Unassigned\",\"offsetgroup\":\"Unassigned\",\"orientation\":\"v\",\"showlegend\":false,\"textposition\":\"auto\",\"x\":[\"L\"],\"xaxis\":\"x10\",\"y\":[1.0],\"yaxis\":\"y10\",\"type\":\"bar\"},{\"alignmentgroup\":\"True\",\"hovertemplate\":\"Phylum=Unassigned\\u003cbr\\u003ew=14\\u003cbr\\u003e=%{x}\\u003cbr\\u003eratio=%{y}\\u003cextra\\u003e\\u003c\\u002fextra\\u003e\",\"legendgroup\":\"Unassigned\",\"marker\":{\"color\":\"#EF553B\",\"pattern\":{\"shape\":\"\"}},\"name\":\"Unassigned\",\"offsetgroup\":\"Unassigned\",\"orientation\":\"v\",\"showlegend\":false,\"textposition\":\"auto\",\"x\":[\"L\"],\"xaxis\":\"x13\",\"y\":[0.11320754716981132],\"yaxis\":\"y13\",\"type\":\"bar\"},{\"alignmentgroup\":\"True\",\"hovertemplate\":\"Phylum=Unassigned\\u003cbr\\u003ew=16\\u003cbr\\u003e=%{x}\\u003cbr\\u003eratio=%{y}\\u003cextra\\u003e\\u003c\\u002fextra\\u003e\",\"legendgroup\":\"Unassigned\",\"marker\":{\"color\":\"#EF553B\",\"pattern\":{\"shape\":\"\"}},\"name\":\"Unassigned\",\"offsetgroup\":\"Unassigned\",\"orientation\":\"v\",\"showlegend\":false,\"textposition\":\"auto\",\"x\":[\"L\"],\"xaxis\":\"x15\",\"y\":[0.02510460251046025],\"yaxis\":\"y15\",\"type\":\"bar\"},{\"alignmentgroup\":\"True\",\"hovertemplate\":\"Phylum=Unassigned\\u003cbr\\u003ew=9\\u003cbr\\u003e=%{x}\\u003cbr\\u003eratio=%{y}\\u003cextra\\u003e\\u003c\\u002fextra\\u003e\",\"legendgroup\":\"Unassigned\",\"marker\":{\"color\":\"#EF553B\",\"pattern\":{\"shape\":\"\"}},\"name\":\"Unassigned\",\"offsetgroup\":\"Unassigned\",\"orientation\":\"v\",\"showlegend\":false,\"textposition\":\"auto\",\"x\":[\"W\"],\"xaxis\":\"x16\",\"y\":[0.01282051282051282],\"yaxis\":\"y16\",\"type\":\"bar\"},{\"alignmentgroup\":\"True\",\"hovertemplate\":\"Phylum=p__Arthropoda\\u003cbr\\u003ew=1\\u003cbr\\u003e=%{x}\\u003cbr\\u003eratio=%{y}\\u003cextra\\u003e\\u003c\\u002fextra\\u003e\",\"legendgroup\":\"p__Arthropoda\",\"marker\":{\"color\":\"#00cc96\",\"pattern\":{\"shape\":\"\"}},\"name\":\"p__Arthropoda\",\"offsetgroup\":\"p__Arthropoda\",\"orientation\":\"v\",\"showlegend\":true,\"textposition\":\"auto\",\"x\":[\"L\",\"S\"],\"xaxis\":\"x\",\"y\":[0.038181818181818185,0.08823529411764706],\"yaxis\":\"y\",\"type\":\"bar\"},{\"alignmentgroup\":\"True\",\"hovertemplate\":\"Phylum=p__Arthropoda\\u003cbr\\u003ew=3\\u003cbr\\u003e=%{x}\\u003cbr\\u003eratio=%{y}\\u003cextra\\u003e\\u003c\\u002fextra\\u003e\",\"legendgroup\":\"p__Arthropoda\",\"marker\":{\"color\":\"#00cc96\",\"pattern\":{\"shape\":\"\"}},\"name\":\"p__Arthropoda\",\"offsetgroup\":\"p__Arthropoda\",\"orientation\":\"v\",\"showlegend\":false,\"textposition\":\"auto\",\"x\":[\"W\"],\"xaxis\":\"x3\",\"y\":[0.18483412322274884],\"yaxis\":\"y3\",\"type\":\"bar\"},{\"alignmentgroup\":\"True\",\"hovertemplate\":\"Phylum=p__Arthropoda\\u003cbr\\u003ew=5\\u003cbr\\u003e=%{x}\\u003cbr\\u003eratio=%{y}\\u003cextra\\u003e\\u003c\\u002fextra\\u003e\",\"legendgroup\":\"p__Arthropoda\",\"marker\":{\"color\":\"#00cc96\",\"pattern\":{\"shape\":\"\"}},\"name\":\"p__Arthropoda\",\"offsetgroup\":\"p__Arthropoda\",\"orientation\":\"v\",\"showlegend\":false,\"textposition\":\"auto\",\"x\":[\"S\"],\"xaxis\":\"x5\",\"y\":[0.06976744186046512],\"yaxis\":\"y5\",\"type\":\"bar\"},{\"alignmentgroup\":\"True\",\"hovertemplate\":\"Phylum=p__Arthropoda\\u003cbr\\u003ew=6\\u003cbr\\u003e=%{x}\\u003cbr\\u003eratio=%{y}\\u003cextra\\u003e\\u003c\\u002fextra\\u003e\",\"legendgroup\":\"p__Arthropoda\",\"marker\":{\"color\":\"#00cc96\",\"pattern\":{\"shape\":\"\"}},\"name\":\"p__Arthropoda\",\"offsetgroup\":\"p__Arthropoda\",\"orientation\":\"v\",\"showlegend\":false,\"textposition\":\"auto\",\"x\":[\"L\"],\"xaxis\":\"x6\",\"y\":[0.010079193664506839],\"yaxis\":\"y6\",\"type\":\"bar\"},{\"alignmentgroup\":\"True\",\"hovertemplate\":\"Phylum=p__Arthropoda\\u003cbr\\u003ew=7\\u003cbr\\u003e=%{x}\\u003cbr\\u003eratio=%{y}\\u003cextra\\u003e\\u003c\\u002fextra\\u003e\",\"legendgroup\":\"p__Arthropoda\",\"marker\":{\"color\":\"#00cc96\",\"pattern\":{\"shape\":\"\"}},\"name\":\"p__Arthropoda\",\"offsetgroup\":\"p__Arthropoda\",\"orientation\":\"v\",\"showlegend\":false,\"textposition\":\"auto\",\"x\":[\"L\"],\"xaxis\":\"x7\",\"y\":[0.09523809523809523],\"yaxis\":\"y7\",\"type\":\"bar\"},{\"alignmentgroup\":\"True\",\"hovertemplate\":\"Phylum=p__Arthropoda\\u003cbr\\u003ew=8\\u003cbr\\u003e=%{x}\\u003cbr\\u003eratio=%{y}\\u003cextra\\u003e\\u003c\\u002fextra\\u003e\",\"legendgroup\":\"p__Arthropoda\",\"marker\":{\"color\":\"#00cc96\",\"pattern\":{\"shape\":\"\"}},\"name\":\"p__Arthropoda\",\"offsetgroup\":\"p__Arthropoda\",\"orientation\":\"v\",\"showlegend\":false,\"textposition\":\"auto\",\"x\":[\"L\"],\"xaxis\":\"x8\",\"y\":[0.26865671641791045],\"yaxis\":\"y8\",\"type\":\"bar\"},{\"alignmentgroup\":\"True\",\"hovertemplate\":\"Phylum=p__Arthropoda\\u003cbr\\u003ew=10\\u003cbr\\u003e=%{x}\\u003cbr\\u003eratio=%{y}\\u003cextra\\u003e\\u003c\\u002fextra\\u003e\",\"legendgroup\":\"p__Arthropoda\",\"marker\":{\"color\":\"#00cc96\",\"pattern\":{\"shape\":\"\"}},\"name\":\"p__Arthropoda\",\"offsetgroup\":\"p__Arthropoda\",\"orientation\":\"v\",\"showlegend\":false,\"textposition\":\"auto\",\"x\":[\"L\"],\"xaxis\":\"x9\",\"y\":[0.14473684210526316],\"yaxis\":\"y9\",\"type\":\"bar\"},{\"alignmentgroup\":\"True\",\"hovertemplate\":\"Phylum=p__Arthropoda\\u003cbr\\u003ew=12\\u003cbr\\u003e=%{x}\\u003cbr\\u003eratio=%{y}\\u003cextra\\u003e\\u003c\\u002fextra\\u003e\",\"legendgroup\":\"p__Arthropoda\",\"marker\":{\"color\":\"#00cc96\",\"pattern\":{\"shape\":\"\"}},\"name\":\"p__Arthropoda\",\"offsetgroup\":\"p__Arthropoda\",\"orientation\":\"v\",\"showlegend\":false,\"textposition\":\"auto\",\"x\":[\"L\",\"S\"],\"xaxis\":\"x11\",\"y\":[0.5909090909090908,0.021897810218978103],\"yaxis\":\"y11\",\"type\":\"bar\"},{\"alignmentgroup\":\"True\",\"hovertemplate\":\"Phylum=p__Arthropoda\\u003cbr\\u003ew=14\\u003cbr\\u003e=%{x}\\u003cbr\\u003eratio=%{y}\\u003cextra\\u003e\\u003c\\u002fextra\\u003e\",\"legendgroup\":\"p__Arthropoda\",\"marker\":{\"color\":\"#00cc96\",\"pattern\":{\"shape\":\"\"}},\"name\":\"p__Arthropoda\",\"offsetgroup\":\"p__Arthropoda\",\"orientation\":\"v\",\"showlegend\":false,\"textposition\":\"auto\",\"x\":[\"S\"],\"xaxis\":\"x13\",\"y\":[0.11538461538461539],\"yaxis\":\"y13\",\"type\":\"bar\"},{\"alignmentgroup\":\"True\",\"hovertemplate\":\"Phylum=p__Arthropoda\\u003cbr\\u003ew=15\\u003cbr\\u003e=%{x}\\u003cbr\\u003eratio=%{y}\\u003cextra\\u003e\\u003c\\u002fextra\\u003e\",\"legendgroup\":\"p__Arthropoda\",\"marker\":{\"color\":\"#00cc96\",\"pattern\":{\"shape\":\"\"}},\"name\":\"p__Arthropoda\",\"offsetgroup\":\"p__Arthropoda\",\"orientation\":\"v\",\"showlegend\":false,\"textposition\":\"auto\",\"x\":[\"W\"],\"xaxis\":\"x14\",\"y\":[0.10714285714285715],\"yaxis\":\"y14\",\"type\":\"bar\"},{\"alignmentgroup\":\"True\",\"hovertemplate\":\"Phylum=p__Arthropoda\\u003cbr\\u003ew=9\\u003cbr\\u003e=%{x}\\u003cbr\\u003eratio=%{y}\\u003cextra\\u003e\\u003c\\u002fextra\\u003e\",\"legendgroup\":\"p__Arthropoda\",\"marker\":{\"color\":\"#00cc96\",\"pattern\":{\"shape\":\"\"}},\"name\":\"p__Arthropoda\",\"offsetgroup\":\"p__Arthropoda\",\"orientation\":\"v\",\"showlegend\":false,\"textposition\":\"auto\",\"x\":[\"W\"],\"xaxis\":\"x16\",\"y\":[0.022435897435897436],\"yaxis\":\"y16\",\"type\":\"bar\"},{\"alignmentgroup\":\"True\",\"hovertemplate\":\"Phylum=p__Ascomycota\\u003cbr\\u003ew=1\\u003cbr\\u003e=%{x}\\u003cbr\\u003eratio=%{y}\\u003cextra\\u003e\\u003c\\u002fextra\\u003e\",\"legendgroup\":\"p__Ascomycota\",\"marker\":{\"color\":\"#ab63fa\",\"pattern\":{\"shape\":\"\"}},\"name\":\"p__Ascomycota\",\"offsetgroup\":\"p__Ascomycota\",\"orientation\":\"v\",\"showlegend\":true,\"textposition\":\"auto\",\"x\":[\"L\",\"S\"],\"xaxis\":\"x\",\"y\":[0.02,0.11764705882352941],\"yaxis\":\"y\",\"type\":\"bar\"},{\"alignmentgroup\":\"True\",\"hovertemplate\":\"Phylum=p__Ascomycota\\u003cbr\\u003ew=2\\u003cbr\\u003e=%{x}\\u003cbr\\u003eratio=%{y}\\u003cextra\\u003e\\u003c\\u002fextra\\u003e\",\"legendgroup\":\"p__Ascomycota\",\"marker\":{\"color\":\"#ab63fa\",\"pattern\":{\"shape\":\"\"}},\"name\":\"p__Ascomycota\",\"offsetgroup\":\"p__Ascomycota\",\"orientation\":\"v\",\"showlegend\":false,\"textposition\":\"auto\",\"x\":[\"W\"],\"xaxis\":\"x2\",\"y\":[0.013986013986013986],\"yaxis\":\"y2\",\"type\":\"bar\"},{\"alignmentgroup\":\"True\",\"hovertemplate\":\"Phylum=p__Ascomycota\\u003cbr\\u003ew=3\\u003cbr\\u003e=%{x}\\u003cbr\\u003eratio=%{y}\\u003cextra\\u003e\\u003c\\u002fextra\\u003e\",\"legendgroup\":\"p__Ascomycota\",\"marker\":{\"color\":\"#ab63fa\",\"pattern\":{\"shape\":\"\"}},\"name\":\"p__Ascomycota\",\"offsetgroup\":\"p__Ascomycota\",\"orientation\":\"v\",\"showlegend\":false,\"textposition\":\"auto\",\"x\":[\"L\",\"S\",\"W\"],\"xaxis\":\"x3\",\"y\":[0.029508196721311476,0.1,0.023696682464454975],\"yaxis\":\"y3\",\"type\":\"bar\"},{\"alignmentgroup\":\"True\",\"hovertemplate\":\"Phylum=p__Ascomycota\\u003cbr\\u003ew=4\\u003cbr\\u003e=%{x}\\u003cbr\\u003eratio=%{y}\\u003cextra\\u003e\\u003c\\u002fextra\\u003e\",\"legendgroup\":\"p__Ascomycota\",\"marker\":{\"color\":\"#ab63fa\",\"pattern\":{\"shape\":\"\"}},\"name\":\"p__Ascomycota\",\"offsetgroup\":\"p__Ascomycota\",\"orientation\":\"v\",\"showlegend\":false,\"textposition\":\"auto\",\"x\":[\"W\"],\"xaxis\":\"x4\",\"y\":[0.022222222222222223],\"yaxis\":\"y4\",\"type\":\"bar\"},{\"alignmentgroup\":\"True\",\"hovertemplate\":\"Phylum=p__Ascomycota\\u003cbr\\u003ew=5\\u003cbr\\u003e=%{x}\\u003cbr\\u003eratio=%{y}\\u003cextra\\u003e\\u003c\\u002fextra\\u003e\",\"legendgroup\":\"p__Ascomycota\",\"marker\":{\"color\":\"#ab63fa\",\"pattern\":{\"shape\":\"\"}},\"name\":\"p__Ascomycota\",\"offsetgroup\":\"p__Ascomycota\",\"orientation\":\"v\",\"showlegend\":false,\"textposition\":\"auto\",\"x\":[\"S\"],\"xaxis\":\"x5\",\"y\":[0.03488372093023256],\"yaxis\":\"y5\",\"type\":\"bar\"},{\"alignmentgroup\":\"True\",\"hovertemplate\":\"Phylum=p__Ascomycota\\u003cbr\\u003ew=6\\u003cbr\\u003e=%{x}\\u003cbr\\u003eratio=%{y}\\u003cextra\\u003e\\u003c\\u002fextra\\u003e\",\"legendgroup\":\"p__Ascomycota\",\"marker\":{\"color\":\"#ab63fa\",\"pattern\":{\"shape\":\"\"}},\"name\":\"p__Ascomycota\",\"offsetgroup\":\"p__Ascomycota\",\"orientation\":\"v\",\"showlegend\":false,\"textposition\":\"auto\",\"x\":[\"L\",\"S\",\"W\"],\"xaxis\":\"x6\",\"y\":[0.02087832973362131,0.2960526315789474,0.032679738562091505],\"yaxis\":\"y6\",\"type\":\"bar\"},{\"alignmentgroup\":\"True\",\"hovertemplate\":\"Phylum=p__Ascomycota\\u003cbr\\u003ew=11\\u003cbr\\u003e=%{x}\\u003cbr\\u003eratio=%{y}\\u003cextra\\u003e\\u003c\\u002fextra\\u003e\",\"legendgroup\":\"p__Ascomycota\",\"marker\":{\"color\":\"#ab63fa\",\"pattern\":{\"shape\":\"\"}},\"name\":\"p__Ascomycota\",\"offsetgroup\":\"p__Ascomycota\",\"orientation\":\"v\",\"showlegend\":false,\"textposition\":\"auto\",\"x\":[\"S\"],\"xaxis\":\"x10\",\"y\":[0.049586776859504134],\"yaxis\":\"y10\",\"type\":\"bar\"},{\"alignmentgroup\":\"True\",\"hovertemplate\":\"Phylum=p__Ascomycota\\u003cbr\\u003ew=9\\u003cbr\\u003e=%{x}\\u003cbr\\u003eratio=%{y}\\u003cextra\\u003e\\u003c\\u002fextra\\u003e\",\"legendgroup\":\"p__Ascomycota\",\"marker\":{\"color\":\"#ab63fa\",\"pattern\":{\"shape\":\"\"}},\"name\":\"p__Ascomycota\",\"offsetgroup\":\"p__Ascomycota\",\"orientation\":\"v\",\"showlegend\":false,\"textposition\":\"auto\",\"x\":[\"S\",\"W\"],\"xaxis\":\"x16\",\"y\":[0.05172413793103448,0.01282051282051282],\"yaxis\":\"y16\",\"type\":\"bar\"},{\"alignmentgroup\":\"True\",\"hovertemplate\":\"Phylum=p__Ciliophora\\u003cbr\\u003ew=1\\u003cbr\\u003e=%{x}\\u003cbr\\u003eratio=%{y}\\u003cextra\\u003e\\u003c\\u002fextra\\u003e\",\"legendgroup\":\"p__Ciliophora\",\"marker\":{\"color\":\"#FFA15A\",\"pattern\":{\"shape\":\"\"}},\"name\":\"p__Ciliophora\",\"offsetgroup\":\"p__Ciliophora\",\"orientation\":\"v\",\"showlegend\":true,\"textposition\":\"auto\",\"x\":[\"L\",\"S\",\"W\"],\"xaxis\":\"x\",\"y\":[0.10727272727272727,0.4117647058823529,0.2833333333333333],\"yaxis\":\"y\",\"type\":\"bar\"},{\"alignmentgroup\":\"True\",\"hovertemplate\":\"Phylum=p__Ciliophora\\u003cbr\\u003ew=2\\u003cbr\\u003e=%{x}\\u003cbr\\u003eratio=%{y}\\u003cextra\\u003e\\u003c\\u002fextra\\u003e\",\"legendgroup\":\"p__Ciliophora\",\"marker\":{\"color\":\"#FFA15A\",\"pattern\":{\"shape\":\"\"}},\"name\":\"p__Ciliophora\",\"offsetgroup\":\"p__Ciliophora\",\"orientation\":\"v\",\"showlegend\":false,\"textposition\":\"auto\",\"x\":[\"L\",\"S\",\"W\"],\"xaxis\":\"x2\",\"y\":[0.03005008347245409,0.11363636363636363,0.06293706293706294],\"yaxis\":\"y2\",\"type\":\"bar\"},{\"alignmentgroup\":\"True\",\"hovertemplate\":\"Phylum=p__Ciliophora\\u003cbr\\u003ew=3\\u003cbr\\u003e=%{x}\\u003cbr\\u003eratio=%{y}\\u003cextra\\u003e\\u003c\\u002fextra\\u003e\",\"legendgroup\":\"p__Ciliophora\",\"marker\":{\"color\":\"#FFA15A\",\"pattern\":{\"shape\":\"\"}},\"name\":\"p__Ciliophora\",\"offsetgroup\":\"p__Ciliophora\",\"orientation\":\"v\",\"showlegend\":false,\"textposition\":\"auto\",\"x\":[\"L\",\"W\"],\"xaxis\":\"x3\",\"y\":[0.00819672131147541,0.018957345971563982],\"yaxis\":\"y3\",\"type\":\"bar\"},{\"alignmentgroup\":\"True\",\"hovertemplate\":\"Phylum=p__Ciliophora\\u003cbr\\u003ew=4\\u003cbr\\u003e=%{x}\\u003cbr\\u003eratio=%{y}\\u003cextra\\u003e\\u003c\\u002fextra\\u003e\",\"legendgroup\":\"p__Ciliophora\",\"marker\":{\"color\":\"#FFA15A\",\"pattern\":{\"shape\":\"\"}},\"name\":\"p__Ciliophora\",\"offsetgroup\":\"p__Ciliophora\",\"orientation\":\"v\",\"showlegend\":false,\"textposition\":\"auto\",\"x\":[\"S\",\"W\"],\"xaxis\":\"x4\",\"y\":[0.12244897959183673,0.08148148148148149],\"yaxis\":\"y4\",\"type\":\"bar\"},{\"alignmentgroup\":\"True\",\"hovertemplate\":\"Phylum=p__Ciliophora\\u003cbr\\u003ew=5\\u003cbr\\u003e=%{x}\\u003cbr\\u003eratio=%{y}\\u003cextra\\u003e\\u003c\\u002fextra\\u003e\",\"legendgroup\":\"p__Ciliophora\",\"marker\":{\"color\":\"#FFA15A\",\"pattern\":{\"shape\":\"\"}},\"name\":\"p__Ciliophora\",\"offsetgroup\":\"p__Ciliophora\",\"orientation\":\"v\",\"showlegend\":false,\"textposition\":\"auto\",\"x\":[\"L\",\"S\",\"W\"],\"xaxis\":\"x5\",\"y\":[0.05673758865248227,0.20930232558139536,0.058823529411764705],\"yaxis\":\"y5\",\"type\":\"bar\"},{\"alignmentgroup\":\"True\",\"hovertemplate\":\"Phylum=p__Ciliophora\\u003cbr\\u003ew=6\\u003cbr\\u003e=%{x}\\u003cbr\\u003eratio=%{y}\\u003cextra\\u003e\\u003c\\u002fextra\\u003e\",\"legendgroup\":\"p__Ciliophora\",\"marker\":{\"color\":\"#FFA15A\",\"pattern\":{\"shape\":\"\"}},\"name\":\"p__Ciliophora\",\"offsetgroup\":\"p__Ciliophora\",\"orientation\":\"v\",\"showlegend\":false,\"textposition\":\"auto\",\"x\":[\"L\",\"S\",\"W\"],\"xaxis\":\"x6\",\"y\":[0.19582433405327573,0.2039473684210526,0.2222222222222222],\"yaxis\":\"y6\",\"type\":\"bar\"},{\"alignmentgroup\":\"True\",\"hovertemplate\":\"Phylum=p__Ciliophora\\u003cbr\\u003ew=7\\u003cbr\\u003e=%{x}\\u003cbr\\u003eratio=%{y}\\u003cextra\\u003e\\u003c\\u002fextra\\u003e\",\"legendgroup\":\"p__Ciliophora\",\"marker\":{\"color\":\"#FFA15A\",\"pattern\":{\"shape\":\"\"}},\"name\":\"p__Ciliophora\",\"offsetgroup\":\"p__Ciliophora\",\"orientation\":\"v\",\"showlegend\":false,\"textposition\":\"auto\",\"x\":[\"L\"],\"xaxis\":\"x7\",\"y\":[0.031746031746031744],\"yaxis\":\"y7\",\"type\":\"bar\"},{\"alignmentgroup\":\"True\",\"hovertemplate\":\"Phylum=p__Ciliophora\\u003cbr\\u003ew=8\\u003cbr\\u003e=%{x}\\u003cbr\\u003eratio=%{y}\\u003cextra\\u003e\\u003c\\u002fextra\\u003e\",\"legendgroup\":\"p__Ciliophora\",\"marker\":{\"color\":\"#FFA15A\",\"pattern\":{\"shape\":\"\"}},\"name\":\"p__Ciliophora\",\"offsetgroup\":\"p__Ciliophora\",\"orientation\":\"v\",\"showlegend\":false,\"textposition\":\"auto\",\"x\":[\"L\",\"S\"],\"xaxis\":\"x8\",\"y\":[0.23880597014925373,0.6233766233766234],\"yaxis\":\"y8\",\"type\":\"bar\"},{\"alignmentgroup\":\"True\",\"hovertemplate\":\"Phylum=p__Ciliophora\\u003cbr\\u003ew=10\\u003cbr\\u003e=%{x}\\u003cbr\\u003eratio=%{y}\\u003cextra\\u003e\\u003c\\u002fextra\\u003e\",\"legendgroup\":\"p__Ciliophora\",\"marker\":{\"color\":\"#FFA15A\",\"pattern\":{\"shape\":\"\"}},\"name\":\"p__Ciliophora\",\"offsetgroup\":\"p__Ciliophora\",\"orientation\":\"v\",\"showlegend\":false,\"textposition\":\"auto\",\"x\":[\"L\",\"S\",\"W\"],\"xaxis\":\"x9\",\"y\":[0.3026315789473684,0.8620689655172413,0.7313432835820894],\"yaxis\":\"y9\",\"type\":\"bar\"},{\"alignmentgroup\":\"True\",\"hovertemplate\":\"Phylum=p__Ciliophora\\u003cbr\\u003ew=11\\u003cbr\\u003e=%{x}\\u003cbr\\u003eratio=%{y}\\u003cextra\\u003e\\u003c\\u002fextra\\u003e\",\"legendgroup\":\"p__Ciliophora\",\"marker\":{\"color\":\"#FFA15A\",\"pattern\":{\"shape\":\"\"}},\"name\":\"p__Ciliophora\",\"offsetgroup\":\"p__Ciliophora\",\"orientation\":\"v\",\"showlegend\":false,\"textposition\":\"auto\",\"x\":[\"S\"],\"xaxis\":\"x10\",\"y\":[0.49586776859504134],\"yaxis\":\"y10\",\"type\":\"bar\"},{\"alignmentgroup\":\"True\",\"hovertemplate\":\"Phylum=p__Ciliophora\\u003cbr\\u003ew=12\\u003cbr\\u003e=%{x}\\u003cbr\\u003eratio=%{y}\\u003cextra\\u003e\\u003c\\u002fextra\\u003e\",\"legendgroup\":\"p__Ciliophora\",\"marker\":{\"color\":\"#FFA15A\",\"pattern\":{\"shape\":\"\"}},\"name\":\"p__Ciliophora\",\"offsetgroup\":\"p__Ciliophora\",\"orientation\":\"v\",\"showlegend\":false,\"textposition\":\"auto\",\"x\":[\"S\"],\"xaxis\":\"x11\",\"y\":[0.32116788321167883],\"yaxis\":\"y11\",\"type\":\"bar\"},{\"alignmentgroup\":\"True\",\"hovertemplate\":\"Phylum=p__Ciliophora\\u003cbr\\u003ew=13\\u003cbr\\u003e=%{x}\\u003cbr\\u003eratio=%{y}\\u003cextra\\u003e\\u003c\\u002fextra\\u003e\",\"legendgroup\":\"p__Ciliophora\",\"marker\":{\"color\":\"#FFA15A\",\"pattern\":{\"shape\":\"\"}},\"name\":\"p__Ciliophora\",\"offsetgroup\":\"p__Ciliophora\",\"orientation\":\"v\",\"showlegend\":false,\"textposition\":\"auto\",\"x\":[\"S\"],\"xaxis\":\"x12\",\"y\":[0.3111111111111111],\"yaxis\":\"y12\",\"type\":\"bar\"},{\"alignmentgroup\":\"True\",\"hovertemplate\":\"Phylum=p__Ciliophora\\u003cbr\\u003ew=14\\u003cbr\\u003e=%{x}\\u003cbr\\u003eratio=%{y}\\u003cextra\\u003e\\u003c\\u002fextra\\u003e\",\"legendgroup\":\"p__Ciliophora\",\"marker\":{\"color\":\"#FFA15A\",\"pattern\":{\"shape\":\"\"}},\"name\":\"p__Ciliophora\",\"offsetgroup\":\"p__Ciliophora\",\"orientation\":\"v\",\"showlegend\":false,\"textposition\":\"auto\",\"x\":[\"L\",\"S\",\"W\"],\"xaxis\":\"x13\",\"y\":[0.03773584905660377,0.15384615384615385,0.5],\"yaxis\":\"y13\",\"type\":\"bar\"},{\"alignmentgroup\":\"True\",\"hovertemplate\":\"Phylum=p__Ciliophora\\u003cbr\\u003ew=15\\u003cbr\\u003e=%{x}\\u003cbr\\u003eratio=%{y}\\u003cextra\\u003e\\u003c\\u002fextra\\u003e\",\"legendgroup\":\"p__Ciliophora\",\"marker\":{\"color\":\"#FFA15A\",\"pattern\":{\"shape\":\"\"}},\"name\":\"p__Ciliophora\",\"offsetgroup\":\"p__Ciliophora\",\"orientation\":\"v\",\"showlegend\":false,\"textposition\":\"auto\",\"x\":[\"W\"],\"xaxis\":\"x14\",\"y\":[0.10714285714285714],\"yaxis\":\"y14\",\"type\":\"bar\"},{\"alignmentgroup\":\"True\",\"hovertemplate\":\"Phylum=p__Ciliophora\\u003cbr\\u003ew=16\\u003cbr\\u003e=%{x}\\u003cbr\\u003eratio=%{y}\\u003cextra\\u003e\\u003c\\u002fextra\\u003e\",\"legendgroup\":\"p__Ciliophora\",\"marker\":{\"color\":\"#FFA15A\",\"pattern\":{\"shape\":\"\"}},\"name\":\"p__Ciliophora\",\"offsetgroup\":\"p__Ciliophora\",\"orientation\":\"v\",\"showlegend\":false,\"textposition\":\"auto\",\"x\":[\"L\",\"S\",\"W\"],\"xaxis\":\"x15\",\"y\":[0.16736401673640167,0.06481481481481481,0.4482758620689655],\"yaxis\":\"y15\",\"type\":\"bar\"},{\"alignmentgroup\":\"True\",\"hovertemplate\":\"Phylum=p__Ciliophora\\u003cbr\\u003ew=9\\u003cbr\\u003e=%{x}\\u003cbr\\u003eratio=%{y}\\u003cextra\\u003e\\u003c\\u002fextra\\u003e\",\"legendgroup\":\"p__Ciliophora\",\"marker\":{\"color\":\"#FFA15A\",\"pattern\":{\"shape\":\"\"}},\"name\":\"p__Ciliophora\",\"offsetgroup\":\"p__Ciliophora\",\"orientation\":\"v\",\"showlegend\":false,\"textposition\":\"auto\",\"x\":[\"S\",\"W\"],\"xaxis\":\"x16\",\"y\":[0.5114942528735632,0.4519230769230769],\"yaxis\":\"y16\",\"type\":\"bar\"},{\"alignmentgroup\":\"True\",\"hovertemplate\":\"Phylum=p__Dinoflagellata\\u003cbr\\u003ew=1\\u003cbr\\u003e=%{x}\\u003cbr\\u003eratio=%{y}\\u003cextra\\u003e\\u003c\\u002fextra\\u003e\",\"legendgroup\":\"p__Dinoflagellata\",\"marker\":{\"color\":\"#19d3f3\",\"pattern\":{\"shape\":\"\"}},\"name\":\"p__Dinoflagellata\",\"offsetgroup\":\"p__Dinoflagellata\",\"orientation\":\"v\",\"showlegend\":true,\"textposition\":\"auto\",\"x\":[\"L\",\"S\",\"W\"],\"xaxis\":\"x\",\"y\":[0.7927272727272727,0.38235294117647056,0.611111111111111],\"yaxis\":\"y\",\"type\":\"bar\"},{\"alignmentgroup\":\"True\",\"hovertemplate\":\"Phylum=p__Dinoflagellata\\u003cbr\\u003ew=2\\u003cbr\\u003e=%{x}\\u003cbr\\u003eratio=%{y}\\u003cextra\\u003e\\u003c\\u002fextra\\u003e\",\"legendgroup\":\"p__Dinoflagellata\",\"marker\":{\"color\":\"#19d3f3\",\"pattern\":{\"shape\":\"\"}},\"name\":\"p__Dinoflagellata\",\"offsetgroup\":\"p__Dinoflagellata\",\"orientation\":\"v\",\"showlegend\":false,\"textposition\":\"auto\",\"x\":[\"L\",\"S\",\"W\"],\"xaxis\":\"x2\",\"y\":[0.664440734557596,0.29545454545454547,0.6363636363636364],\"yaxis\":\"y2\",\"type\":\"bar\"},{\"alignmentgroup\":\"True\",\"hovertemplate\":\"Phylum=p__Dinoflagellata\\u003cbr\\u003ew=3\\u003cbr\\u003e=%{x}\\u003cbr\\u003eratio=%{y}\\u003cextra\\u003e\\u003c\\u002fextra\\u003e\",\"legendgroup\":\"p__Dinoflagellata\",\"marker\":{\"color\":\"#19d3f3\",\"pattern\":{\"shape\":\"\"}},\"name\":\"p__Dinoflagellata\",\"offsetgroup\":\"p__Dinoflagellata\",\"orientation\":\"v\",\"showlegend\":false,\"textposition\":\"auto\",\"x\":[\"L\",\"S\",\"W\"],\"xaxis\":\"x3\",\"y\":[0.8049180327868852,0.325,0.6255924170616114],\"yaxis\":\"y3\",\"type\":\"bar\"},{\"alignmentgroup\":\"True\",\"hovertemplate\":\"Phylum=p__Dinoflagellata\\u003cbr\\u003ew=4\\u003cbr\\u003e=%{x}\\u003cbr\\u003eratio=%{y}\\u003cextra\\u003e\\u003c\\u002fextra\\u003e\",\"legendgroup\":\"p__Dinoflagellata\",\"marker\":{\"color\":\"#19d3f3\",\"pattern\":{\"shape\":\"\"}},\"name\":\"p__Dinoflagellata\",\"offsetgroup\":\"p__Dinoflagellata\",\"orientation\":\"v\",\"showlegend\":false,\"textposition\":\"auto\",\"x\":[\"L\",\"S\",\"W\"],\"xaxis\":\"x4\",\"y\":[0.7891891891891892,0.21428571428571427,0.4148148148148148],\"yaxis\":\"y4\",\"type\":\"bar\"},{\"alignmentgroup\":\"True\",\"hovertemplate\":\"Phylum=p__Dinoflagellata\\u003cbr\\u003ew=5\\u003cbr\\u003e=%{x}\\u003cbr\\u003eratio=%{y}\\u003cextra\\u003e\\u003c\\u002fextra\\u003e\",\"legendgroup\":\"p__Dinoflagellata\",\"marker\":{\"color\":\"#19d3f3\",\"pattern\":{\"shape\":\"\"}},\"name\":\"p__Dinoflagellata\",\"offsetgroup\":\"p__Dinoflagellata\",\"orientation\":\"v\",\"showlegend\":false,\"textposition\":\"auto\",\"x\":[\"L\",\"S\",\"W\"],\"xaxis\":\"x5\",\"y\":[0.8297872340425532,0.19767441860465115,0.4836601307189543],\"yaxis\":\"y5\",\"type\":\"bar\"},{\"alignmentgroup\":\"True\",\"hovertemplate\":\"Phylum=p__Dinoflagellata\\u003cbr\\u003ew=6\\u003cbr\\u003e=%{x}\\u003cbr\\u003eratio=%{y}\\u003cextra\\u003e\\u003c\\u002fextra\\u003e\",\"legendgroup\":\"p__Dinoflagellata\",\"marker\":{\"color\":\"#19d3f3\",\"pattern\":{\"shape\":\"\"}},\"name\":\"p__Dinoflagellata\",\"offsetgroup\":\"p__Dinoflagellata\",\"orientation\":\"v\",\"showlegend\":false,\"textposition\":\"auto\",\"x\":[\"L\",\"S\",\"W\"],\"xaxis\":\"x6\",\"y\":[0.5687544996400288,0.13157894736842105,0.37254901960784315],\"yaxis\":\"y6\",\"type\":\"bar\"},{\"alignmentgroup\":\"True\",\"hovertemplate\":\"Phylum=p__Dinoflagellata\\u003cbr\\u003ew=7\\u003cbr\\u003e=%{x}\\u003cbr\\u003eratio=%{y}\\u003cextra\\u003e\\u003c\\u002fextra\\u003e\",\"legendgroup\":\"p__Dinoflagellata\",\"marker\":{\"color\":\"#19d3f3\",\"pattern\":{\"shape\":\"\"}},\"name\":\"p__Dinoflagellata\",\"offsetgroup\":\"p__Dinoflagellata\",\"orientation\":\"v\",\"showlegend\":false,\"textposition\":\"auto\",\"x\":[\"L\",\"W\"],\"xaxis\":\"x7\",\"y\":[0.6507936507936507,1.0],\"yaxis\":\"y7\",\"type\":\"bar\"},{\"alignmentgroup\":\"True\",\"hovertemplate\":\"Phylum=p__Dinoflagellata\\u003cbr\\u003ew=8\\u003cbr\\u003e=%{x}\\u003cbr\\u003eratio=%{y}\\u003cextra\\u003e\\u003c\\u002fextra\\u003e\",\"legendgroup\":\"p__Dinoflagellata\",\"marker\":{\"color\":\"#19d3f3\",\"pattern\":{\"shape\":\"\"}},\"name\":\"p__Dinoflagellata\",\"offsetgroup\":\"p__Dinoflagellata\",\"orientation\":\"v\",\"showlegend\":false,\"textposition\":\"auto\",\"x\":[\"L\"],\"xaxis\":\"x8\",\"y\":[0.3208955223880597],\"yaxis\":\"y8\",\"type\":\"bar\"},{\"alignmentgroup\":\"True\",\"hovertemplate\":\"Phylum=p__Dinoflagellata\\u003cbr\\u003ew=10\\u003cbr\\u003e=%{x}\\u003cbr\\u003eratio=%{y}\\u003cextra\\u003e\\u003c\\u002fextra\\u003e\",\"legendgroup\":\"p__Dinoflagellata\",\"marker\":{\"color\":\"#19d3f3\",\"pattern\":{\"shape\":\"\"}},\"name\":\"p__Dinoflagellata\",\"offsetgroup\":\"p__Dinoflagellata\",\"orientation\":\"v\",\"showlegend\":false,\"textposition\":\"auto\",\"x\":[\"L\"],\"xaxis\":\"x9\",\"y\":[0.35526315789473684],\"yaxis\":\"y9\",\"type\":\"bar\"},{\"alignmentgroup\":\"True\",\"hovertemplate\":\"Phylum=p__Dinoflagellata\\u003cbr\\u003ew=13\\u003cbr\\u003e=%{x}\\u003cbr\\u003eratio=%{y}\\u003cextra\\u003e\\u003c\\u002fextra\\u003e\",\"legendgroup\":\"p__Dinoflagellata\",\"marker\":{\"color\":\"#19d3f3\",\"pattern\":{\"shape\":\"\"}},\"name\":\"p__Dinoflagellata\",\"offsetgroup\":\"p__Dinoflagellata\",\"orientation\":\"v\",\"showlegend\":false,\"textposition\":\"auto\",\"x\":[\"L\"],\"xaxis\":\"x12\",\"y\":[0.7272727272727273],\"yaxis\":\"y12\",\"type\":\"bar\"},{\"alignmentgroup\":\"True\",\"hovertemplate\":\"Phylum=p__Dinoflagellata\\u003cbr\\u003ew=14\\u003cbr\\u003e=%{x}\\u003cbr\\u003eratio=%{y}\\u003cextra\\u003e\\u003c\\u002fextra\\u003e\",\"legendgroup\":\"p__Dinoflagellata\",\"marker\":{\"color\":\"#19d3f3\",\"pattern\":{\"shape\":\"\"}},\"name\":\"p__Dinoflagellata\",\"offsetgroup\":\"p__Dinoflagellata\",\"orientation\":\"v\",\"showlegend\":false,\"textposition\":\"auto\",\"x\":[\"L\"],\"xaxis\":\"x13\",\"y\":[0.7924528301886793],\"yaxis\":\"y13\",\"type\":\"bar\"},{\"alignmentgroup\":\"True\",\"hovertemplate\":\"Phylum=p__Dinoflagellata\\u003cbr\\u003ew=15\\u003cbr\\u003e=%{x}\\u003cbr\\u003eratio=%{y}\\u003cextra\\u003e\\u003c\\u002fextra\\u003e\",\"legendgroup\":\"p__Dinoflagellata\",\"marker\":{\"color\":\"#19d3f3\",\"pattern\":{\"shape\":\"\"}},\"name\":\"p__Dinoflagellata\",\"offsetgroup\":\"p__Dinoflagellata\",\"orientation\":\"v\",\"showlegend\":false,\"textposition\":\"auto\",\"x\":[\"W\"],\"xaxis\":\"x14\",\"y\":[0.375],\"yaxis\":\"y14\",\"type\":\"bar\"},{\"alignmentgroup\":\"True\",\"hovertemplate\":\"Phylum=p__Dinoflagellata\\u003cbr\\u003ew=16\\u003cbr\\u003e=%{x}\\u003cbr\\u003eratio=%{y}\\u003cextra\\u003e\\u003c\\u002fextra\\u003e\",\"legendgroup\":\"p__Dinoflagellata\",\"marker\":{\"color\":\"#19d3f3\",\"pattern\":{\"shape\":\"\"}},\"name\":\"p__Dinoflagellata\",\"offsetgroup\":\"p__Dinoflagellata\",\"orientation\":\"v\",\"showlegend\":false,\"textposition\":\"auto\",\"x\":[\"L\"],\"xaxis\":\"x15\",\"y\":[0.6569037656903766],\"yaxis\":\"y15\",\"type\":\"bar\"},{\"alignmentgroup\":\"True\",\"hovertemplate\":\"Phylum=p__Dinoflagellata\\u003cbr\\u003ew=9\\u003cbr\\u003e=%{x}\\u003cbr\\u003eratio=%{y}\\u003cextra\\u003e\\u003c\\u002fextra\\u003e\",\"legendgroup\":\"p__Dinoflagellata\",\"marker\":{\"color\":\"#19d3f3\",\"pattern\":{\"shape\":\"\"}},\"name\":\"p__Dinoflagellata\",\"offsetgroup\":\"p__Dinoflagellata\",\"orientation\":\"v\",\"showlegend\":false,\"textposition\":\"auto\",\"x\":[\"W\"],\"xaxis\":\"x16\",\"y\":[0.04487179487179487],\"yaxis\":\"y16\",\"type\":\"bar\"},{\"alignmentgroup\":\"True\",\"hovertemplate\":\"Phylum=p__MAST-1\\u003cbr\\u003ew=1\\u003cbr\\u003e=%{x}\\u003cbr\\u003eratio=%{y}\\u003cextra\\u003e\\u003c\\u002fextra\\u003e\",\"legendgroup\":\"p__MAST-1\",\"marker\":{\"color\":\"#FF6692\",\"pattern\":{\"shape\":\"\"}},\"name\":\"p__MAST-1\",\"offsetgroup\":\"p__MAST-1\",\"orientation\":\"v\",\"showlegend\":true,\"textposition\":\"auto\",\"x\":[\"L\"],\"xaxis\":\"x\",\"y\":[0.00909090909090909],\"yaxis\":\"y\",\"type\":\"bar\"},{\"alignmentgroup\":\"True\",\"hovertemplate\":\"Phylum=p__MAST-1\\u003cbr\\u003ew=2\\u003cbr\\u003e=%{x}\\u003cbr\\u003eratio=%{y}\\u003cextra\\u003e\\u003c\\u002fextra\\u003e\",\"legendgroup\":\"p__MAST-1\",\"marker\":{\"color\":\"#FF6692\",\"pattern\":{\"shape\":\"\"}},\"name\":\"p__MAST-1\",\"offsetgroup\":\"p__MAST-1\",\"orientation\":\"v\",\"showlegend\":false,\"textposition\":\"auto\",\"x\":[\"L\",\"W\"],\"xaxis\":\"x2\",\"y\":[0.021702838063439065,0.04195804195804196],\"yaxis\":\"y2\",\"type\":\"bar\"},{\"alignmentgroup\":\"True\",\"hovertemplate\":\"Phylum=p__MAST-1\\u003cbr\\u003ew=3\\u003cbr\\u003e=%{x}\\u003cbr\\u003eratio=%{y}\\u003cextra\\u003e\\u003c\\u002fextra\\u003e\",\"legendgroup\":\"p__MAST-1\",\"marker\":{\"color\":\"#FF6692\",\"pattern\":{\"shape\":\"\"}},\"name\":\"p__MAST-1\",\"offsetgroup\":\"p__MAST-1\",\"orientation\":\"v\",\"showlegend\":false,\"textposition\":\"auto\",\"x\":[\"S\"],\"xaxis\":\"x3\",\"y\":[0.1],\"yaxis\":\"y3\",\"type\":\"bar\"},{\"alignmentgroup\":\"True\",\"hovertemplate\":\"Phylum=p__MAST-1\\u003cbr\\u003ew=4\\u003cbr\\u003e=%{x}\\u003cbr\\u003eratio=%{y}\\u003cextra\\u003e\\u003c\\u002fextra\\u003e\",\"legendgroup\":\"p__MAST-1\",\"marker\":{\"color\":\"#FF6692\",\"pattern\":{\"shape\":\"\"}},\"name\":\"p__MAST-1\",\"offsetgroup\":\"p__MAST-1\",\"orientation\":\"v\",\"showlegend\":false,\"textposition\":\"auto\",\"x\":[\"S\",\"W\"],\"xaxis\":\"x4\",\"y\":[0.1326530612244898,0.06666666666666667],\"yaxis\":\"y4\",\"type\":\"bar\"},{\"alignmentgroup\":\"True\",\"hovertemplate\":\"Phylum=p__MAST-1\\u003cbr\\u003ew=5\\u003cbr\\u003e=%{x}\\u003cbr\\u003eratio=%{y}\\u003cextra\\u003e\\u003c\\u002fextra\\u003e\",\"legendgroup\":\"p__MAST-1\",\"marker\":{\"color\":\"#FF6692\",\"pattern\":{\"shape\":\"\"}},\"name\":\"p__MAST-1\",\"offsetgroup\":\"p__MAST-1\",\"orientation\":\"v\",\"showlegend\":false,\"textposition\":\"auto\",\"x\":[\"W\"],\"xaxis\":\"x5\",\"y\":[0.0784313725490196],\"yaxis\":\"y5\",\"type\":\"bar\"},{\"alignmentgroup\":\"True\",\"hovertemplate\":\"Phylum=p__MAST-1\\u003cbr\\u003ew=6\\u003cbr\\u003e=%{x}\\u003cbr\\u003eratio=%{y}\\u003cextra\\u003e\\u003c\\u002fextra\\u003e\",\"legendgroup\":\"p__MAST-1\",\"marker\":{\"color\":\"#FF6692\",\"pattern\":{\"shape\":\"\"}},\"name\":\"p__MAST-1\",\"offsetgroup\":\"p__MAST-1\",\"orientation\":\"v\",\"showlegend\":false,\"textposition\":\"auto\",\"x\":[\"L\",\"S\"],\"xaxis\":\"x6\",\"y\":[0.017998560115190784,0.05921052631578947],\"yaxis\":\"y6\",\"type\":\"bar\"},{\"alignmentgroup\":\"True\",\"hovertemplate\":\"Phylum=p__MAST-1\\u003cbr\\u003ew=7\\u003cbr\\u003e=%{x}\\u003cbr\\u003eratio=%{y}\\u003cextra\\u003e\\u003c\\u002fextra\\u003e\",\"legendgroup\":\"p__MAST-1\",\"marker\":{\"color\":\"#FF6692\",\"pattern\":{\"shape\":\"\"}},\"name\":\"p__MAST-1\",\"offsetgroup\":\"p__MAST-1\",\"orientation\":\"v\",\"showlegend\":false,\"textposition\":\"auto\",\"x\":[\"L\"],\"xaxis\":\"x7\",\"y\":[0.031746031746031744],\"yaxis\":\"y7\",\"type\":\"bar\"},{\"alignmentgroup\":\"True\",\"hovertemplate\":\"Phylum=p__MAST-1\\u003cbr\\u003ew=8\\u003cbr\\u003e=%{x}\\u003cbr\\u003eratio=%{y}\\u003cextra\\u003e\\u003c\\u002fextra\\u003e\",\"legendgroup\":\"p__MAST-1\",\"marker\":{\"color\":\"#FF6692\",\"pattern\":{\"shape\":\"\"}},\"name\":\"p__MAST-1\",\"offsetgroup\":\"p__MAST-1\",\"orientation\":\"v\",\"showlegend\":false,\"textposition\":\"auto\",\"x\":[\"W\"],\"xaxis\":\"x8\",\"y\":[0.4],\"yaxis\":\"y8\",\"type\":\"bar\"},{\"alignmentgroup\":\"True\",\"hovertemplate\":\"Phylum=p__MAST-1\\u003cbr\\u003ew=11\\u003cbr\\u003e=%{x}\\u003cbr\\u003eratio=%{y}\\u003cextra\\u003e\\u003c\\u002fextra\\u003e\",\"legendgroup\":\"p__MAST-1\",\"marker\":{\"color\":\"#FF6692\",\"pattern\":{\"shape\":\"\"}},\"name\":\"p__MAST-1\",\"offsetgroup\":\"p__MAST-1\",\"orientation\":\"v\",\"showlegend\":false,\"textposition\":\"auto\",\"x\":[\"S\"],\"xaxis\":\"x10\",\"y\":[0.024793388429752067],\"yaxis\":\"y10\",\"type\":\"bar\"},{\"alignmentgroup\":\"True\",\"hovertemplate\":\"Phylum=p__MAST-1\\u003cbr\\u003ew=12\\u003cbr\\u003e=%{x}\\u003cbr\\u003eratio=%{y}\\u003cextra\\u003e\\u003c\\u002fextra\\u003e\",\"legendgroup\":\"p__MAST-1\",\"marker\":{\"color\":\"#FF6692\",\"pattern\":{\"shape\":\"\"}},\"name\":\"p__MAST-1\",\"offsetgroup\":\"p__MAST-1\",\"orientation\":\"v\",\"showlegend\":false,\"textposition\":\"auto\",\"x\":[\"S\"],\"xaxis\":\"x11\",\"y\":[0.029197080291970802],\"yaxis\":\"y11\",\"type\":\"bar\"},{\"alignmentgroup\":\"True\",\"hovertemplate\":\"Phylum=p__MAST-1\\u003cbr\\u003ew=14\\u003cbr\\u003e=%{x}\\u003cbr\\u003eratio=%{y}\\u003cextra\\u003e\\u003c\\u002fextra\\u003e\",\"legendgroup\":\"p__MAST-1\",\"marker\":{\"color\":\"#FF6692\",\"pattern\":{\"shape\":\"\"}},\"name\":\"p__MAST-1\",\"offsetgroup\":\"p__MAST-1\",\"orientation\":\"v\",\"showlegend\":false,\"textposition\":\"auto\",\"x\":[\"S\"],\"xaxis\":\"x13\",\"y\":[0.057692307692307696],\"yaxis\":\"y13\",\"type\":\"bar\"},{\"alignmentgroup\":\"True\",\"hovertemplate\":\"Phylum=p__MAST-1\\u003cbr\\u003ew=9\\u003cbr\\u003e=%{x}\\u003cbr\\u003eratio=%{y}\\u003cextra\\u003e\\u003c\\u002fextra\\u003e\",\"legendgroup\":\"p__MAST-1\",\"marker\":{\"color\":\"#FF6692\",\"pattern\":{\"shape\":\"\"}},\"name\":\"p__MAST-1\",\"offsetgroup\":\"p__MAST-1\",\"orientation\":\"v\",\"showlegend\":false,\"textposition\":\"auto\",\"x\":[\"S\",\"W\"],\"xaxis\":\"x16\",\"y\":[0.07471264367816091,0.0641025641025641],\"yaxis\":\"y16\",\"type\":\"bar\"},{\"alignmentgroup\":\"True\",\"hovertemplate\":\"Phylum=p__Protalveolata\\u003cbr\\u003ew=1\\u003cbr\\u003e=%{x}\\u003cbr\\u003eratio=%{y}\\u003cextra\\u003e\\u003c\\u002fextra\\u003e\",\"legendgroup\":\"p__Protalveolata\",\"marker\":{\"color\":\"#B6E880\",\"pattern\":{\"shape\":\"\"}},\"name\":\"p__Protalveolata\",\"offsetgroup\":\"p__Protalveolata\",\"orientation\":\"v\",\"showlegend\":true,\"textposition\":\"auto\",\"x\":[\"L\",\"W\"],\"xaxis\":\"x\",\"y\":[0.016363636363636365,0.07222222222222222],\"yaxis\":\"y\",\"type\":\"bar\"},{\"alignmentgroup\":\"True\",\"hovertemplate\":\"Phylum=p__Protalveolata\\u003cbr\\u003ew=2\\u003cbr\\u003e=%{x}\\u003cbr\\u003eratio=%{y}\\u003cextra\\u003e\\u003c\\u002fextra\\u003e\",\"legendgroup\":\"p__Protalveolata\",\"marker\":{\"color\":\"#B6E880\",\"pattern\":{\"shape\":\"\"}},\"name\":\"p__Protalveolata\",\"offsetgroup\":\"p__Protalveolata\",\"orientation\":\"v\",\"showlegend\":false,\"textposition\":\"auto\",\"x\":[\"L\",\"S\",\"W\"],\"xaxis\":\"x2\",\"y\":[0.07011686143572621,0.25,0.2097902097902098],\"yaxis\":\"y2\",\"type\":\"bar\"},{\"alignmentgroup\":\"True\",\"hovertemplate\":\"Phylum=p__Protalveolata\\u003cbr\\u003ew=3\\u003cbr\\u003e=%{x}\\u003cbr\\u003eratio=%{y}\\u003cextra\\u003e\\u003c\\u002fextra\\u003e\",\"legendgroup\":\"p__Protalveolata\",\"marker\":{\"color\":\"#B6E880\",\"pattern\":{\"shape\":\"\"}},\"name\":\"p__Protalveolata\",\"offsetgroup\":\"p__Protalveolata\",\"orientation\":\"v\",\"showlegend\":false,\"textposition\":\"auto\",\"x\":[\"L\",\"S\",\"W\"],\"xaxis\":\"x3\",\"y\":[0.027868852459016394,0.3125,0.07109004739336493],\"yaxis\":\"y3\",\"type\":\"bar\"},{\"alignmentgroup\":\"True\",\"hovertemplate\":\"Phylum=p__Protalveolata\\u003cbr\\u003ew=4\\u003cbr\\u003e=%{x}\\u003cbr\\u003eratio=%{y}\\u003cextra\\u003e\\u003c\\u002fextra\\u003e\",\"legendgroup\":\"p__Protalveolata\",\"marker\":{\"color\":\"#B6E880\",\"pattern\":{\"shape\":\"\"}},\"name\":\"p__Protalveolata\",\"offsetgroup\":\"p__Protalveolata\",\"orientation\":\"v\",\"showlegend\":false,\"textposition\":\"auto\",\"x\":[\"L\",\"S\",\"W\"],\"xaxis\":\"x4\",\"y\":[0.0972972972972973,0.30612244897959184,0.2518518518518519],\"yaxis\":\"y4\",\"type\":\"bar\"},{\"alignmentgroup\":\"True\",\"hovertemplate\":\"Phylum=p__Protalveolata\\u003cbr\\u003ew=5\\u003cbr\\u003e=%{x}\\u003cbr\\u003eratio=%{y}\\u003cextra\\u003e\\u003c\\u002fextra\\u003e\",\"legendgroup\":\"p__Protalveolata\",\"marker\":{\"color\":\"#B6E880\",\"pattern\":{\"shape\":\"\"}},\"name\":\"p__Protalveolata\",\"offsetgroup\":\"p__Protalveolata\",\"orientation\":\"v\",\"showlegend\":false,\"textposition\":\"auto\",\"x\":[\"S\",\"W\"],\"xaxis\":\"x5\",\"y\":[0.32558139534883723,0.28104575163398693],\"yaxis\":\"y5\",\"type\":\"bar\"},{\"alignmentgroup\":\"True\",\"hovertemplate\":\"Phylum=p__Protalveolata\\u003cbr\\u003ew=6\\u003cbr\\u003e=%{x}\\u003cbr\\u003eratio=%{y}\\u003cextra\\u003e\\u003c\\u002fextra\\u003e\",\"legendgroup\":\"p__Protalveolata\",\"marker\":{\"color\":\"#B6E880\",\"pattern\":{\"shape\":\"\"}},\"name\":\"p__Protalveolata\",\"offsetgroup\":\"p__Protalveolata\",\"orientation\":\"v\",\"showlegend\":false,\"textposition\":\"auto\",\"x\":[\"L\",\"S\",\"W\"],\"xaxis\":\"x6\",\"y\":[0.04679625629949604,0.15789473684210525,0.16993464052287582],\"yaxis\":\"y6\",\"type\":\"bar\"},{\"alignmentgroup\":\"True\",\"hovertemplate\":\"Phylum=p__Protalveolata\\u003cbr\\u003ew=7\\u003cbr\\u003e=%{x}\\u003cbr\\u003eratio=%{y}\\u003cextra\\u003e\\u003c\\u002fextra\\u003e\",\"legendgroup\":\"p__Protalveolata\",\"marker\":{\"color\":\"#B6E880\",\"pattern\":{\"shape\":\"\"}},\"name\":\"p__Protalveolata\",\"offsetgroup\":\"p__Protalveolata\",\"orientation\":\"v\",\"showlegend\":false,\"textposition\":\"auto\",\"x\":[\"L\"],\"xaxis\":\"x7\",\"y\":[0.031746031746031744],\"yaxis\":\"y7\",\"type\":\"bar\"},{\"alignmentgroup\":\"True\",\"hovertemplate\":\"Phylum=p__Protalveolata\\u003cbr\\u003ew=8\\u003cbr\\u003e=%{x}\\u003cbr\\u003eratio=%{y}\\u003cextra\\u003e\\u003c\\u002fextra\\u003e\",\"legendgroup\":\"p__Protalveolata\",\"marker\":{\"color\":\"#B6E880\",\"pattern\":{\"shape\":\"\"}},\"name\":\"p__Protalveolata\",\"offsetgroup\":\"p__Protalveolata\",\"orientation\":\"v\",\"showlegend\":false,\"textposition\":\"auto\",\"x\":[\"S\"],\"xaxis\":\"x8\",\"y\":[0.18181818181818182],\"yaxis\":\"y8\",\"type\":\"bar\"},{\"alignmentgroup\":\"True\",\"hovertemplate\":\"Phylum=p__Protalveolata\\u003cbr\\u003ew=10\\u003cbr\\u003e=%{x}\\u003cbr\\u003eratio=%{y}\\u003cextra\\u003e\\u003c\\u002fextra\\u003e\",\"legendgroup\":\"p__Protalveolata\",\"marker\":{\"color\":\"#B6E880\",\"pattern\":{\"shape\":\"\"}},\"name\":\"p__Protalveolata\",\"offsetgroup\":\"p__Protalveolata\",\"orientation\":\"v\",\"showlegend\":false,\"textposition\":\"auto\",\"x\":[\"L\",\"S\",\"W\"],\"xaxis\":\"x9\",\"y\":[0.039473684210526314,0.13793103448275862,0.11940298507462686],\"yaxis\":\"y9\",\"type\":\"bar\"},{\"alignmentgroup\":\"True\",\"hovertemplate\":\"Phylum=p__Protalveolata\\u003cbr\\u003ew=11\\u003cbr\\u003e=%{x}\\u003cbr\\u003eratio=%{y}\\u003cextra\\u003e\\u003c\\u002fextra\\u003e\",\"legendgroup\":\"p__Protalveolata\",\"marker\":{\"color\":\"#B6E880\",\"pattern\":{\"shape\":\"\"}},\"name\":\"p__Protalveolata\",\"offsetgroup\":\"p__Protalveolata\",\"orientation\":\"v\",\"showlegend\":false,\"textposition\":\"auto\",\"x\":[\"S\"],\"xaxis\":\"x10\",\"y\":[0.371900826446281],\"yaxis\":\"y10\",\"type\":\"bar\"},{\"alignmentgroup\":\"True\",\"hovertemplate\":\"Phylum=p__Protalveolata\\u003cbr\\u003ew=12\\u003cbr\\u003e=%{x}\\u003cbr\\u003eratio=%{y}\\u003cextra\\u003e\\u003c\\u002fextra\\u003e\",\"legendgroup\":\"p__Protalveolata\",\"marker\":{\"color\":\"#B6E880\",\"pattern\":{\"shape\":\"\"}},\"name\":\"p__Protalveolata\",\"offsetgroup\":\"p__Protalveolata\",\"orientation\":\"v\",\"showlegend\":false,\"textposition\":\"auto\",\"x\":[\"S\"],\"xaxis\":\"x11\",\"y\":[0.5401459854014599],\"yaxis\":\"y11\",\"type\":\"bar\"},{\"alignmentgroup\":\"True\",\"hovertemplate\":\"Phylum=p__Protalveolata\\u003cbr\\u003ew=13\\u003cbr\\u003e=%{x}\\u003cbr\\u003eratio=%{y}\\u003cextra\\u003e\\u003c\\u002fextra\\u003e\",\"legendgroup\":\"p__Protalveolata\",\"marker\":{\"color\":\"#B6E880\",\"pattern\":{\"shape\":\"\"}},\"name\":\"p__Protalveolata\",\"offsetgroup\":\"p__Protalveolata\",\"orientation\":\"v\",\"showlegend\":false,\"textposition\":\"auto\",\"x\":[\"S\"],\"xaxis\":\"x12\",\"y\":[0.6888888888888889],\"yaxis\":\"y12\",\"type\":\"bar\"},{\"alignmentgroup\":\"True\",\"hovertemplate\":\"Phylum=p__Protalveolata\\u003cbr\\u003ew=14\\u003cbr\\u003e=%{x}\\u003cbr\\u003eratio=%{y}\\u003cextra\\u003e\\u003c\\u002fextra\\u003e\",\"legendgroup\":\"p__Protalveolata\",\"marker\":{\"color\":\"#B6E880\",\"pattern\":{\"shape\":\"\"}},\"name\":\"p__Protalveolata\",\"offsetgroup\":\"p__Protalveolata\",\"orientation\":\"v\",\"showlegend\":false,\"textposition\":\"auto\",\"x\":[\"S\",\"W\"],\"xaxis\":\"x13\",\"y\":[0.5961538461538461,0.5],\"yaxis\":\"y13\",\"type\":\"bar\"},{\"alignmentgroup\":\"True\",\"hovertemplate\":\"Phylum=p__Protalveolata\\u003cbr\\u003ew=15\\u003cbr\\u003e=%{x}\\u003cbr\\u003eratio=%{y}\\u003cextra\\u003e\\u003c\\u002fextra\\u003e\",\"legendgroup\":\"p__Protalveolata\",\"marker\":{\"color\":\"#B6E880\",\"pattern\":{\"shape\":\"\"}},\"name\":\"p__Protalveolata\",\"offsetgroup\":\"p__Protalveolata\",\"orientation\":\"v\",\"showlegend\":false,\"textposition\":\"auto\",\"x\":[\"S\",\"W\"],\"xaxis\":\"x14\",\"y\":[1.0,0.21428571428571427],\"yaxis\":\"y14\",\"type\":\"bar\"},{\"alignmentgroup\":\"True\",\"hovertemplate\":\"Phylum=p__Protalveolata\\u003cbr\\u003ew=16\\u003cbr\\u003e=%{x}\\u003cbr\\u003eratio=%{y}\\u003cextra\\u003e\\u003c\\u002fextra\\u003e\",\"legendgroup\":\"p__Protalveolata\",\"marker\":{\"color\":\"#B6E880\",\"pattern\":{\"shape\":\"\"}},\"name\":\"p__Protalveolata\",\"offsetgroup\":\"p__Protalveolata\",\"orientation\":\"v\",\"showlegend\":false,\"textposition\":\"auto\",\"x\":[\"L\",\"S\",\"W\"],\"xaxis\":\"x15\",\"y\":[0.02092050209205021,0.1111111111111111,0.3103448275862069],\"yaxis\":\"y15\",\"type\":\"bar\"},{\"alignmentgroup\":\"True\",\"hovertemplate\":\"Phylum=p__Protalveolata\\u003cbr\\u003ew=9\\u003cbr\\u003e=%{x}\\u003cbr\\u003eratio=%{y}\\u003cextra\\u003e\\u003c\\u002fextra\\u003e\",\"legendgroup\":\"p__Protalveolata\",\"marker\":{\"color\":\"#B6E880\",\"pattern\":{\"shape\":\"\"}},\"name\":\"p__Protalveolata\",\"offsetgroup\":\"p__Protalveolata\",\"orientation\":\"v\",\"showlegend\":false,\"textposition\":\"auto\",\"x\":[\"S\",\"W\"],\"xaxis\":\"x16\",\"y\":[0.26436781609195403,0.27564102564102566],\"yaxis\":\"y16\",\"type\":\"bar\"},{\"alignmentgroup\":\"True\",\"hovertemplate\":\"Phylum=p__Annelida\\u003cbr\\u003ew=2\\u003cbr\\u003e=%{x}\\u003cbr\\u003eratio=%{y}\\u003cextra\\u003e\\u003c\\u002fextra\\u003e\",\"legendgroup\":\"p__Annelida\",\"marker\":{\"color\":\"#FF97FF\",\"pattern\":{\"shape\":\"\"}},\"name\":\"p__Annelida\",\"offsetgroup\":\"p__Annelida\",\"orientation\":\"v\",\"showlegend\":true,\"textposition\":\"auto\",\"x\":[\"L\",\"S\"],\"xaxis\":\"x2\",\"y\":[0.14023372287145242,0.3409090909090909],\"yaxis\":\"y2\",\"type\":\"bar\"},{\"alignmentgroup\":\"True\",\"hovertemplate\":\"Phylum=p__Annelida\\u003cbr\\u003ew=3\\u003cbr\\u003e=%{x}\\u003cbr\\u003eratio=%{y}\\u003cextra\\u003e\\u003c\\u002fextra\\u003e\",\"legendgroup\":\"p__Annelida\",\"marker\":{\"color\":\"#FF97FF\",\"pattern\":{\"shape\":\"\"}},\"name\":\"p__Annelida\",\"offsetgroup\":\"p__Annelida\",\"orientation\":\"v\",\"showlegend\":false,\"textposition\":\"auto\",\"x\":[\"L\"],\"xaxis\":\"x3\",\"y\":[0.10491803278688525],\"yaxis\":\"y3\",\"type\":\"bar\"},{\"alignmentgroup\":\"True\",\"hovertemplate\":\"Phylum=p__Annelida\\u003cbr\\u003ew=6\\u003cbr\\u003e=%{x}\\u003cbr\\u003eratio=%{y}\\u003cextra\\u003e\\u003c\\u002fextra\\u003e\",\"legendgroup\":\"p__Annelida\",\"marker\":{\"color\":\"#FF97FF\",\"pattern\":{\"shape\":\"\"}},\"name\":\"p__Annelida\",\"offsetgroup\":\"p__Annelida\",\"orientation\":\"v\",\"showlegend\":false,\"textposition\":\"auto\",\"x\":[\"L\"],\"xaxis\":\"x6\",\"y\":[0.0021598272138228943],\"yaxis\":\"y6\",\"type\":\"bar\"},{\"alignmentgroup\":\"True\",\"hovertemplate\":\"Phylum=p__Annelida\\u003cbr\\u003ew=8\\u003cbr\\u003e=%{x}\\u003cbr\\u003eratio=%{y}\\u003cextra\\u003e\\u003c\\u002fextra\\u003e\",\"legendgroup\":\"p__Annelida\",\"marker\":{\"color\":\"#FF97FF\",\"pattern\":{\"shape\":\"\"}},\"name\":\"p__Annelida\",\"offsetgroup\":\"p__Annelida\",\"orientation\":\"v\",\"showlegend\":false,\"textposition\":\"auto\",\"x\":[\"L\"],\"xaxis\":\"x8\",\"y\":[0.022388059701492536],\"yaxis\":\"y8\",\"type\":\"bar\"},{\"alignmentgroup\":\"True\",\"hovertemplate\":\"Phylum=p__Annelida\\u003cbr\\u003ew=10\\u003cbr\\u003e=%{x}\\u003cbr\\u003eratio=%{y}\\u003cextra\\u003e\\u003c\\u002fextra\\u003e\",\"legendgroup\":\"p__Annelida\",\"marker\":{\"color\":\"#FF97FF\",\"pattern\":{\"shape\":\"\"}},\"name\":\"p__Annelida\",\"offsetgroup\":\"p__Annelida\",\"orientation\":\"v\",\"showlegend\":false,\"textposition\":\"auto\",\"x\":[\"W\"],\"xaxis\":\"x9\",\"y\":[0.07462686567164178],\"yaxis\":\"y9\",\"type\":\"bar\"},{\"alignmentgroup\":\"True\",\"hovertemplate\":\"Phylum=p__Annelida\\u003cbr\\u003ew=15\\u003cbr\\u003e=%{x}\\u003cbr\\u003eratio=%{y}\\u003cextra\\u003e\\u003c\\u002fextra\\u003e\",\"legendgroup\":\"p__Annelida\",\"marker\":{\"color\":\"#FF97FF\",\"pattern\":{\"shape\":\"\"}},\"name\":\"p__Annelida\",\"offsetgroup\":\"p__Annelida\",\"orientation\":\"v\",\"showlegend\":false,\"textposition\":\"auto\",\"x\":[\"W\"],\"xaxis\":\"x14\",\"y\":[0.07142857142857142],\"yaxis\":\"y14\",\"type\":\"bar\"},{\"alignmentgroup\":\"True\",\"hovertemplate\":\"Phylum=p__Annelida\\u003cbr\\u003ew=16\\u003cbr\\u003e=%{x}\\u003cbr\\u003eratio=%{y}\\u003cextra\\u003e\\u003c\\u002fextra\\u003e\",\"legendgroup\":\"p__Annelida\",\"marker\":{\"color\":\"#FF97FF\",\"pattern\":{\"shape\":\"\"}},\"name\":\"p__Annelida\",\"offsetgroup\":\"p__Annelida\",\"orientation\":\"v\",\"showlegend\":false,\"textposition\":\"auto\",\"x\":[\"W\"],\"xaxis\":\"x15\",\"y\":[0.10344827586206896],\"yaxis\":\"y15\",\"type\":\"bar\"},{\"alignmentgroup\":\"True\",\"hovertemplate\":\"Phylum=p__Cercozoa\\u003cbr\\u003ew=2\\u003cbr\\u003e=%{x}\\u003cbr\\u003eratio=%{y}\\u003cextra\\u003e\\u003c\\u002fextra\\u003e\",\"legendgroup\":\"p__Cercozoa\",\"marker\":{\"color\":\"#FECB52\",\"pattern\":{\"shape\":\"\"}},\"name\":\"p__Cercozoa\",\"offsetgroup\":\"p__Cercozoa\",\"orientation\":\"v\",\"showlegend\":true,\"textposition\":\"auto\",\"x\":[\"L\",\"W\"],\"xaxis\":\"x2\",\"y\":[0.011686143572621035,0.02097902097902098],\"yaxis\":\"y2\",\"type\":\"bar\"},{\"alignmentgroup\":\"True\",\"hovertemplate\":\"Phylum=p__Cercozoa\\u003cbr\\u003ew=3\\u003cbr\\u003e=%{x}\\u003cbr\\u003eratio=%{y}\\u003cextra\\u003e\\u003c\\u002fextra\\u003e\",\"legendgroup\":\"p__Cercozoa\",\"marker\":{\"color\":\"#FECB52\",\"pattern\":{\"shape\":\"\"}},\"name\":\"p__Cercozoa\",\"offsetgroup\":\"p__Cercozoa\",\"orientation\":\"v\",\"showlegend\":false,\"textposition\":\"auto\",\"x\":[\"L\"],\"xaxis\":\"x3\",\"y\":[0.00819672131147541],\"yaxis\":\"y3\",\"type\":\"bar\"},{\"alignmentgroup\":\"True\",\"hovertemplate\":\"Phylum=p__Cercozoa\\u003cbr\\u003ew=4\\u003cbr\\u003e=%{x}\\u003cbr\\u003eratio=%{y}\\u003cextra\\u003e\\u003c\\u002fextra\\u003e\",\"legendgroup\":\"p__Cercozoa\",\"marker\":{\"color\":\"#FECB52\",\"pattern\":{\"shape\":\"\"}},\"name\":\"p__Cercozoa\",\"offsetgroup\":\"p__Cercozoa\",\"orientation\":\"v\",\"showlegend\":false,\"textposition\":\"auto\",\"x\":[\"L\",\"W\"],\"xaxis\":\"x4\",\"y\":[0.021621621621621623,0.022222222222222223],\"yaxis\":\"y4\",\"type\":\"bar\"},{\"alignmentgroup\":\"True\",\"hovertemplate\":\"Phylum=p__Cercozoa\\u003cbr\\u003ew=6\\u003cbr\\u003e=%{x}\\u003cbr\\u003eratio=%{y}\\u003cextra\\u003e\\u003c\\u002fextra\\u003e\",\"legendgroup\":\"p__Cercozoa\",\"marker\":{\"color\":\"#FECB52\",\"pattern\":{\"shape\":\"\"}},\"name\":\"p__Cercozoa\",\"offsetgroup\":\"p__Cercozoa\",\"orientation\":\"v\",\"showlegend\":false,\"textposition\":\"auto\",\"x\":[\"L\",\"W\"],\"xaxis\":\"x6\",\"y\":[0.029517638588912886,0.08496732026143791],\"yaxis\":\"y6\",\"type\":\"bar\"},{\"alignmentgroup\":\"True\",\"hovertemplate\":\"Phylum=p__Cercozoa\\u003cbr\\u003ew=8\\u003cbr\\u003e=%{x}\\u003cbr\\u003eratio=%{y}\\u003cextra\\u003e\\u003c\\u002fextra\\u003e\",\"legendgroup\":\"p__Cercozoa\",\"marker\":{\"color\":\"#FECB52\",\"pattern\":{\"shape\":\"\"}},\"name\":\"p__Cercozoa\",\"offsetgroup\":\"p__Cercozoa\",\"orientation\":\"v\",\"showlegend\":false,\"textposition\":\"auto\",\"x\":[\"L\"],\"xaxis\":\"x8\",\"y\":[0.022388059701492536],\"yaxis\":\"y8\",\"type\":\"bar\"},{\"alignmentgroup\":\"True\",\"hovertemplate\":\"Phylum=p__Cercozoa\\u003cbr\\u003ew=12\\u003cbr\\u003e=%{x}\\u003cbr\\u003eratio=%{y}\\u003cextra\\u003e\\u003c\\u002fextra\\u003e\",\"legendgroup\":\"p__Cercozoa\",\"marker\":{\"color\":\"#FECB52\",\"pattern\":{\"shape\":\"\"}},\"name\":\"p__Cercozoa\",\"offsetgroup\":\"p__Cercozoa\",\"orientation\":\"v\",\"showlegend\":false,\"textposition\":\"auto\",\"x\":[\"S\"],\"xaxis\":\"x11\",\"y\":[0.01824817518248175],\"yaxis\":\"y11\",\"type\":\"bar\"},{\"alignmentgroup\":\"True\",\"hovertemplate\":\"Phylum=p__Cercozoa\\u003cbr\\u003ew=16\\u003cbr\\u003e=%{x}\\u003cbr\\u003eratio=%{y}\\u003cextra\\u003e\\u003c\\u002fextra\\u003e\",\"legendgroup\":\"p__Cercozoa\",\"marker\":{\"color\":\"#FECB52\",\"pattern\":{\"shape\":\"\"}},\"name\":\"p__Cercozoa\",\"offsetgroup\":\"p__Cercozoa\",\"orientation\":\"v\",\"showlegend\":false,\"textposition\":\"auto\",\"x\":[\"L\",\"W\"],\"xaxis\":\"x15\",\"y\":[0.07531380753138076,0.13793103448275862],\"yaxis\":\"y15\",\"type\":\"bar\"},{\"alignmentgroup\":\"True\",\"hovertemplate\":\"Phylum=p__Diatomea\\u003cbr\\u003ew=3\\u003cbr\\u003e=%{x}\\u003cbr\\u003eratio=%{y}\\u003cextra\\u003e\\u003c\\u002fextra\\u003e\",\"legendgroup\":\"p__Diatomea\",\"marker\":{\"color\":\"#636efa\",\"pattern\":{\"shape\":\"\"}},\"name\":\"p__Diatomea\",\"offsetgroup\":\"p__Diatomea\",\"orientation\":\"v\",\"showlegend\":true,\"textposition\":\"auto\",\"x\":[\"L\"],\"xaxis\":\"x3\",\"y\":[0.003278688524590164],\"yaxis\":\"y3\",\"type\":\"bar\"},{\"alignmentgroup\":\"True\",\"hovertemplate\":\"Phylum=p__Diatomea\\u003cbr\\u003ew=6\\u003cbr\\u003e=%{x}\\u003cbr\\u003eratio=%{y}\\u003cextra\\u003e\\u003c\\u002fextra\\u003e\",\"legendgroup\":\"p__Diatomea\",\"marker\":{\"color\":\"#636efa\",\"pattern\":{\"shape\":\"\"}},\"name\":\"p__Diatomea\",\"offsetgroup\":\"p__Diatomea\",\"orientation\":\"v\",\"showlegend\":false,\"textposition\":\"auto\",\"x\":[\"L\"],\"xaxis\":\"x6\",\"y\":[0.005759539236861051],\"yaxis\":\"y6\",\"type\":\"bar\"},{\"alignmentgroup\":\"True\",\"hovertemplate\":\"Phylum=p__Diatomea\\u003cbr\\u003ew=8\\u003cbr\\u003e=%{x}\\u003cbr\\u003eratio=%{y}\\u003cextra\\u003e\\u003c\\u002fextra\\u003e\",\"legendgroup\":\"p__Diatomea\",\"marker\":{\"color\":\"#636efa\",\"pattern\":{\"shape\":\"\"}},\"name\":\"p__Diatomea\",\"offsetgroup\":\"p__Diatomea\",\"orientation\":\"v\",\"showlegend\":false,\"textposition\":\"auto\",\"x\":[\"L\"],\"xaxis\":\"x8\",\"y\":[0.05223880597014925],\"yaxis\":\"y8\",\"type\":\"bar\"},{\"alignmentgroup\":\"True\",\"hovertemplate\":\"Phylum=p__Diatomea\\u003cbr\\u003ew=10\\u003cbr\\u003e=%{x}\\u003cbr\\u003eratio=%{y}\\u003cextra\\u003e\\u003c\\u002fextra\\u003e\",\"legendgroup\":\"p__Diatomea\",\"marker\":{\"color\":\"#636efa\",\"pattern\":{\"shape\":\"\"}},\"name\":\"p__Diatomea\",\"offsetgroup\":\"p__Diatomea\",\"orientation\":\"v\",\"showlegend\":false,\"textposition\":\"auto\",\"x\":[\"L\"],\"xaxis\":\"x9\",\"y\":[0.039473684210526314],\"yaxis\":\"y9\",\"type\":\"bar\"},{\"alignmentgroup\":\"True\",\"hovertemplate\":\"Phylum=p__Diatomea\\u003cbr\\u003ew=12\\u003cbr\\u003e=%{x}\\u003cbr\\u003eratio=%{y}\\u003cextra\\u003e\\u003c\\u002fextra\\u003e\",\"legendgroup\":\"p__Diatomea\",\"marker\":{\"color\":\"#636efa\",\"pattern\":{\"shape\":\"\"}},\"name\":\"p__Diatomea\",\"offsetgroup\":\"p__Diatomea\",\"orientation\":\"v\",\"showlegend\":false,\"textposition\":\"auto\",\"x\":[\"L\"],\"xaxis\":\"x11\",\"y\":[0.4090909090909091],\"yaxis\":\"y11\",\"type\":\"bar\"},{\"alignmentgroup\":\"True\",\"hovertemplate\":\"Phylum=p__Diatomea\\u003cbr\\u003ew=13\\u003cbr\\u003e=%{x}\\u003cbr\\u003eratio=%{y}\\u003cextra\\u003e\\u003c\\u002fextra\\u003e\",\"legendgroup\":\"p__Diatomea\",\"marker\":{\"color\":\"#636efa\",\"pattern\":{\"shape\":\"\"}},\"name\":\"p__Diatomea\",\"offsetgroup\":\"p__Diatomea\",\"orientation\":\"v\",\"showlegend\":false,\"textposition\":\"auto\",\"x\":[\"L\"],\"xaxis\":\"x12\",\"y\":[0.2727272727272727],\"yaxis\":\"y12\",\"type\":\"bar\"},{\"alignmentgroup\":\"True\",\"hovertemplate\":\"Phylum=p__Diatomea\\u003cbr\\u003ew=14\\u003cbr\\u003e=%{x}\\u003cbr\\u003eratio=%{y}\\u003cextra\\u003e\\u003c\\u002fextra\\u003e\",\"legendgroup\":\"p__Diatomea\",\"marker\":{\"color\":\"#636efa\",\"pattern\":{\"shape\":\"\"}},\"name\":\"p__Diatomea\",\"offsetgroup\":\"p__Diatomea\",\"orientation\":\"v\",\"showlegend\":false,\"textposition\":\"auto\",\"x\":[\"L\",\"S\"],\"xaxis\":\"x13\",\"y\":[0.05660377358490566,0.038461538461538464],\"yaxis\":\"y13\",\"type\":\"bar\"},{\"alignmentgroup\":\"True\",\"hovertemplate\":\"Phylum=p__Diatomea\\u003cbr\\u003ew=15\\u003cbr\\u003e=%{x}\\u003cbr\\u003eratio=%{y}\\u003cextra\\u003e\\u003c\\u002fextra\\u003e\",\"legendgroup\":\"p__Diatomea\",\"marker\":{\"color\":\"#636efa\",\"pattern\":{\"shape\":\"\"}},\"name\":\"p__Diatomea\",\"offsetgroup\":\"p__Diatomea\",\"orientation\":\"v\",\"showlegend\":false,\"textposition\":\"auto\",\"x\":[\"W\"],\"xaxis\":\"x14\",\"y\":[0.044642857142857144],\"yaxis\":\"y14\",\"type\":\"bar\"},{\"alignmentgroup\":\"True\",\"hovertemplate\":\"Phylum=p__Diatomea\\u003cbr\\u003ew=9\\u003cbr\\u003e=%{x}\\u003cbr\\u003eratio=%{y}\\u003cextra\\u003e\\u003c\\u002fextra\\u003e\",\"legendgroup\":\"p__Diatomea\",\"marker\":{\"color\":\"#636efa\",\"pattern\":{\"shape\":\"\"}},\"name\":\"p__Diatomea\",\"offsetgroup\":\"p__Diatomea\",\"orientation\":\"v\",\"showlegend\":false,\"textposition\":\"auto\",\"x\":[\"S\"],\"xaxis\":\"x16\",\"y\":[0.011494252873563218],\"yaxis\":\"y16\",\"type\":\"bar\"},{\"alignmentgroup\":\"True\",\"hovertemplate\":\"Phylum=p__MAST-4\\u003cbr\\u003ew=3\\u003cbr\\u003e=%{x}\\u003cbr\\u003eratio=%{y}\\u003cextra\\u003e\\u003c\\u002fextra\\u003e\",\"legendgroup\":\"p__MAST-4\",\"marker\":{\"color\":\"#EF553B\",\"pattern\":{\"shape\":\"\"}},\"name\":\"p__MAST-4\",\"offsetgroup\":\"p__MAST-4\",\"orientation\":\"v\",\"showlegend\":true,\"textposition\":\"auto\",\"x\":[\"L\",\"S\",\"W\"],\"xaxis\":\"x3\",\"y\":[0.004918032786885246,0.075,0.02843601895734597],\"yaxis\":\"y3\",\"type\":\"bar\"},{\"alignmentgroup\":\"True\",\"hovertemplate\":\"Phylum=p__MAST-4\\u003cbr\\u003ew=4\\u003cbr\\u003e=%{x}\\u003cbr\\u003eratio=%{y}\\u003cextra\\u003e\\u003c\\u002fextra\\u003e\",\"legendgroup\":\"p__MAST-4\",\"marker\":{\"color\":\"#EF553B\",\"pattern\":{\"shape\":\"\"}},\"name\":\"p__MAST-4\",\"offsetgroup\":\"p__MAST-4\",\"orientation\":\"v\",\"showlegend\":false,\"textposition\":\"auto\",\"x\":[\"S\",\"W\"],\"xaxis\":\"x4\",\"y\":[0.20408163265306123,0.07407407407407407],\"yaxis\":\"y4\",\"type\":\"bar\"},{\"alignmentgroup\":\"True\",\"hovertemplate\":\"Phylum=p__MAST-4\\u003cbr\\u003ew=9\\u003cbr\\u003e=%{x}\\u003cbr\\u003eratio=%{y}\\u003cextra\\u003e\\u003c\\u002fextra\\u003e\",\"legendgroup\":\"p__MAST-4\",\"marker\":{\"color\":\"#EF553B\",\"pattern\":{\"shape\":\"\"}},\"name\":\"p__MAST-4\",\"offsetgroup\":\"p__MAST-4\",\"orientation\":\"v\",\"showlegend\":false,\"textposition\":\"auto\",\"x\":[\"W\"],\"xaxis\":\"x16\",\"y\":[0.01282051282051282],\"yaxis\":\"y16\",\"type\":\"bar\"},{\"alignmentgroup\":\"True\",\"hovertemplate\":\"Phylum=p__Ochrophyta\\u003cbr\\u003ew=3\\u003cbr\\u003e=%{x}\\u003cbr\\u003eratio=%{y}\\u003cextra\\u003e\\u003c\\u002fextra\\u003e\",\"legendgroup\":\"p__Ochrophyta\",\"marker\":{\"color\":\"#00cc96\",\"pattern\":{\"shape\":\"\"}},\"name\":\"p__Ochrophyta\",\"offsetgroup\":\"p__Ochrophyta\",\"orientation\":\"v\",\"showlegend\":true,\"textposition\":\"auto\",\"x\":[\"L\",\"W\"],\"xaxis\":\"x3\",\"y\":[0.003278688524590164,0.009478672985781991],\"yaxis\":\"y3\",\"type\":\"bar\"},{\"alignmentgroup\":\"True\",\"hovertemplate\":\"Phylum=p__Ochrophyta\\u003cbr\\u003ew=4\\u003cbr\\u003e=%{x}\\u003cbr\\u003eratio=%{y}\\u003cextra\\u003e\\u003c\\u002fextra\\u003e\",\"legendgroup\":\"p__Ochrophyta\",\"marker\":{\"color\":\"#00cc96\",\"pattern\":{\"shape\":\"\"}},\"name\":\"p__Ochrophyta\",\"offsetgroup\":\"p__Ochrophyta\",\"orientation\":\"v\",\"showlegend\":false,\"textposition\":\"auto\",\"x\":[\"W\"],\"xaxis\":\"x4\",\"y\":[0.014814814814814815],\"yaxis\":\"y4\",\"type\":\"bar\"},{\"alignmentgroup\":\"True\",\"hovertemplate\":\"Phylum=p__Ochrophyta\\u003cbr\\u003ew=5\\u003cbr\\u003e=%{x}\\u003cbr\\u003eratio=%{y}\\u003cextra\\u003e\\u003c\\u002fextra\\u003e\",\"legendgroup\":\"p__Ochrophyta\",\"marker\":{\"color\":\"#00cc96\",\"pattern\":{\"shape\":\"\"}},\"name\":\"p__Ochrophyta\",\"offsetgroup\":\"p__Ochrophyta\",\"orientation\":\"v\",\"showlegend\":false,\"textposition\":\"auto\",\"x\":[\"S\"],\"xaxis\":\"x5\",\"y\":[0.023255813953488372],\"yaxis\":\"y5\",\"type\":\"bar\"},{\"alignmentgroup\":\"True\",\"hovertemplate\":\"Phylum=p__Ochrophyta\\u003cbr\\u003ew=6\\u003cbr\\u003e=%{x}\\u003cbr\\u003eratio=%{y}\\u003cextra\\u003e\\u003c\\u002fextra\\u003e\",\"legendgroup\":\"p__Ochrophyta\",\"marker\":{\"color\":\"#00cc96\",\"pattern\":{\"shape\":\"\"}},\"name\":\"p__Ochrophyta\",\"offsetgroup\":\"p__Ochrophyta\",\"orientation\":\"v\",\"showlegend\":false,\"textposition\":\"auto\",\"x\":[\"L\",\"S\"],\"xaxis\":\"x6\",\"y\":[0.0028797696184305254,0.06578947368421052],\"yaxis\":\"y6\",\"type\":\"bar\"},{\"alignmentgroup\":\"True\",\"hovertemplate\":\"Phylum=p__Ochrophyta\\u003cbr\\u003ew=10\\u003cbr\\u003e=%{x}\\u003cbr\\u003eratio=%{y}\\u003cextra\\u003e\\u003c\\u002fextra\\u003e\",\"legendgroup\":\"p__Ochrophyta\",\"marker\":{\"color\":\"#00cc96\",\"pattern\":{\"shape\":\"\"}},\"name\":\"p__Ochrophyta\",\"offsetgroup\":\"p__Ochrophyta\",\"orientation\":\"v\",\"showlegend\":false,\"textposition\":\"auto\",\"x\":[\"W\"],\"xaxis\":\"x9\",\"y\":[0.029850746268656716],\"yaxis\":\"y9\",\"type\":\"bar\"},{\"alignmentgroup\":\"True\",\"hovertemplate\":\"Phylum=p__Ochrophyta\\u003cbr\\u003ew=11\\u003cbr\\u003e=%{x}\\u003cbr\\u003eratio=%{y}\\u003cextra\\u003e\\u003c\\u002fextra\\u003e\",\"legendgroup\":\"p__Ochrophyta\",\"marker\":{\"color\":\"#00cc96\",\"pattern\":{\"shape\":\"\"}},\"name\":\"p__Ochrophyta\",\"offsetgroup\":\"p__Ochrophyta\",\"orientation\":\"v\",\"showlegend\":false,\"textposition\":\"auto\",\"x\":[\"S\"],\"xaxis\":\"x10\",\"y\":[0.03305785123966942],\"yaxis\":\"y10\",\"type\":\"bar\"},{\"alignmentgroup\":\"True\",\"hovertemplate\":\"Phylum=p__Ochrophyta\\u003cbr\\u003ew=12\\u003cbr\\u003e=%{x}\\u003cbr\\u003eratio=%{y}\\u003cextra\\u003e\\u003c\\u002fextra\\u003e\",\"legendgroup\":\"p__Ochrophyta\",\"marker\":{\"color\":\"#00cc96\",\"pattern\":{\"shape\":\"\"}},\"name\":\"p__Ochrophyta\",\"offsetgroup\":\"p__Ochrophyta\",\"orientation\":\"v\",\"showlegend\":false,\"textposition\":\"auto\",\"x\":[\"S\"],\"xaxis\":\"x11\",\"y\":[0.0072992700729927005],\"yaxis\":\"y11\",\"type\":\"bar\"},{\"alignmentgroup\":\"True\",\"hovertemplate\":\"Phylum=p__Ochrophyta\\u003cbr\\u003ew=9\\u003cbr\\u003e=%{x}\\u003cbr\\u003eratio=%{y}\\u003cextra\\u003e\\u003c\\u002fextra\\u003e\",\"legendgroup\":\"p__Ochrophyta\",\"marker\":{\"color\":\"#00cc96\",\"pattern\":{\"shape\":\"\"}},\"name\":\"p__Ochrophyta\",\"offsetgroup\":\"p__Ochrophyta\",\"orientation\":\"v\",\"showlegend\":false,\"textposition\":\"auto\",\"x\":[\"S\",\"W\"],\"xaxis\":\"x16\",\"y\":[0.011494252873563218,0.019230769230769232],\"yaxis\":\"y16\",\"type\":\"bar\"},{\"alignmentgroup\":\"True\",\"hovertemplate\":\"Phylum=p__Protosporangiida\\u003cbr\\u003ew=3\\u003cbr\\u003e=%{x}\\u003cbr\\u003eratio=%{y}\\u003cextra\\u003e\\u003c\\u002fextra\\u003e\",\"legendgroup\":\"p__Protosporangiida\",\"marker\":{\"color\":\"#ab63fa\",\"pattern\":{\"shape\":\"\"}},\"name\":\"p__Protosporangiida\",\"offsetgroup\":\"p__Protosporangiida\",\"orientation\":\"v\",\"showlegend\":true,\"textposition\":\"auto\",\"x\":[\"W\"],\"xaxis\":\"x3\",\"y\":[0.023696682464454975],\"yaxis\":\"y3\",\"type\":\"bar\"},{\"alignmentgroup\":\"True\",\"hovertemplate\":\"Phylum=p__Protosporangiida\\u003cbr\\u003ew=4\\u003cbr\\u003e=%{x}\\u003cbr\\u003eratio=%{y}\\u003cextra\\u003e\\u003c\\u002fextra\\u003e\",\"legendgroup\":\"p__Protosporangiida\",\"marker\":{\"color\":\"#ab63fa\",\"pattern\":{\"shape\":\"\"}},\"name\":\"p__Protosporangiida\",\"offsetgroup\":\"p__Protosporangiida\",\"orientation\":\"v\",\"showlegend\":false,\"textposition\":\"auto\",\"x\":[\"L\",\"W\"],\"xaxis\":\"x4\",\"y\":[0.032432432432432434,0.05185185185185185],\"yaxis\":\"y4\",\"type\":\"bar\"},{\"alignmentgroup\":\"True\",\"hovertemplate\":\"Phylum=p__Protosporangiida\\u003cbr\\u003ew=5\\u003cbr\\u003e=%{x}\\u003cbr\\u003eratio=%{y}\\u003cextra\\u003e\\u003c\\u002fextra\\u003e\",\"legendgroup\":\"p__Protosporangiida\",\"marker\":{\"color\":\"#ab63fa\",\"pattern\":{\"shape\":\"\"}},\"name\":\"p__Protosporangiida\",\"offsetgroup\":\"p__Protosporangiida\",\"orientation\":\"v\",\"showlegend\":false,\"textposition\":\"auto\",\"x\":[\"L\",\"S\",\"W\"],\"xaxis\":\"x5\",\"y\":[0.02127659574468085,0.03488372093023256,0.05228758169934641],\"yaxis\":\"y5\",\"type\":\"bar\"},{\"alignmentgroup\":\"True\",\"hovertemplate\":\"Phylum=p__Protosporangiida\\u003cbr\\u003ew=6\\u003cbr\\u003e=%{x}\\u003cbr\\u003eratio=%{y}\\u003cextra\\u003e\\u003c\\u002fextra\\u003e\",\"legendgroup\":\"p__Protosporangiida\",\"marker\":{\"color\":\"#ab63fa\",\"pattern\":{\"shape\":\"\"}},\"name\":\"p__Protosporangiida\",\"offsetgroup\":\"p__Protosporangiida\",\"orientation\":\"v\",\"showlegend\":false,\"textposition\":\"auto\",\"x\":[\"L\",\"W\"],\"xaxis\":\"x6\",\"y\":[0.0064794816414686825,0.0196078431372549],\"yaxis\":\"y6\",\"type\":\"bar\"},{\"alignmentgroup\":\"True\",\"hovertemplate\":\"Phylum=p__MAST-7\\u003cbr\\u003ew=6\\u003cbr\\u003e=%{x}\\u003cbr\\u003eratio=%{y}\\u003cextra\\u003e\\u003c\\u002fextra\\u003e\",\"legendgroup\":\"p__MAST-7\",\"marker\":{\"color\":\"#FFA15A\",\"pattern\":{\"shape\":\"\"}},\"name\":\"p__MAST-7\",\"offsetgroup\":\"p__MAST-7\",\"orientation\":\"v\",\"showlegend\":true,\"textposition\":\"auto\",\"x\":[\"S\"],\"xaxis\":\"x6\",\"y\":[0.013157894736842105],\"yaxis\":\"y6\",\"type\":\"bar\"},{\"alignmentgroup\":\"True\",\"hovertemplate\":\"Phylum=p__MAST-7\\u003cbr\\u003ew=8\\u003cbr\\u003e=%{x}\\u003cbr\\u003eratio=%{y}\\u003cextra\\u003e\\u003c\\u002fextra\\u003e\",\"legendgroup\":\"p__MAST-7\",\"marker\":{\"color\":\"#FFA15A\",\"pattern\":{\"shape\":\"\"}},\"name\":\"p__MAST-7\",\"offsetgroup\":\"p__MAST-7\",\"orientation\":\"v\",\"showlegend\":false,\"textposition\":\"auto\",\"x\":[\"W\"],\"xaxis\":\"x8\",\"y\":[0.6],\"yaxis\":\"y8\",\"type\":\"bar\"},{\"alignmentgroup\":\"True\",\"hovertemplate\":\"Phylum=p__MAST-7\\u003cbr\\u003ew=12\\u003cbr\\u003e=%{x}\\u003cbr\\u003eratio=%{y}\\u003cextra\\u003e\\u003c\\u002fextra\\u003e\",\"legendgroup\":\"p__MAST-7\",\"marker\":{\"color\":\"#FFA15A\",\"pattern\":{\"shape\":\"\"}},\"name\":\"p__MAST-7\",\"offsetgroup\":\"p__MAST-7\",\"orientation\":\"v\",\"showlegend\":false,\"textposition\":\"auto\",\"x\":[\"S\"],\"xaxis\":\"x11\",\"y\":[0.043795620437956206],\"yaxis\":\"y11\",\"type\":\"bar\"},{\"alignmentgroup\":\"True\",\"hovertemplate\":\"Phylum=p__MAST-7\\u003cbr\\u003ew=9\\u003cbr\\u003e=%{x}\\u003cbr\\u003eratio=%{y}\\u003cextra\\u003e\\u003c\\u002fextra\\u003e\",\"legendgroup\":\"p__MAST-7\",\"marker\":{\"color\":\"#FFA15A\",\"pattern\":{\"shape\":\"\"}},\"name\":\"p__MAST-7\",\"offsetgroup\":\"p__MAST-7\",\"orientation\":\"v\",\"showlegend\":false,\"textposition\":\"auto\",\"x\":[\"S\"],\"xaxis\":\"x16\",\"y\":[0.028735632183908046],\"yaxis\":\"y16\",\"type\":\"bar\"},{\"alignmentgroup\":\"True\",\"hovertemplate\":\"Phylum=p__Basidiomycota\\u003cbr\\u003ew=16\\u003cbr\\u003e=%{x}\\u003cbr\\u003eratio=%{y}\\u003cextra\\u003e\\u003c\\u002fextra\\u003e\",\"legendgroup\":\"p__Basidiomycota\",\"marker\":{\"color\":\"#19d3f3\",\"pattern\":{\"shape\":\"\"}},\"name\":\"p__Basidiomycota\",\"offsetgroup\":\"p__Basidiomycota\",\"orientation\":\"v\",\"showlegend\":true,\"textposition\":\"auto\",\"x\":[\"S\"],\"xaxis\":\"x15\",\"y\":[0.8240740740740741],\"yaxis\":\"y15\",\"type\":\"bar\"},{\"alignmentgroup\":\"True\",\"hovertemplate\":\"Phylum=p__Phragmoplastophyta\\u003cbr\\u003ew=11\\u003cbr\\u003e=%{x}\\u003cbr\\u003eratio=%{y}\\u003cextra\\u003e\\u003c\\u002fextra\\u003e\",\"legendgroup\":\"p__Phragmoplastophyta\",\"marker\":{\"color\":\"#FF6692\",\"pattern\":{\"shape\":\"\"}},\"name\":\"p__Phragmoplastophyta\",\"offsetgroup\":\"p__Phragmoplastophyta\",\"orientation\":\"v\",\"showlegend\":true,\"textposition\":\"auto\",\"x\":[\"W\"],\"xaxis\":\"x10\",\"y\":[1.0],\"yaxis\":\"y10\",\"type\":\"bar\"},{\"alignmentgroup\":\"True\",\"hovertemplate\":\"Phylum=p__Phragmoplastophyta\\u003cbr\\u003ew=13\\u003cbr\\u003e=%{x}\\u003cbr\\u003eratio=%{y}\\u003cextra\\u003e\\u003c\\u002fextra\\u003e\",\"legendgroup\":\"p__Phragmoplastophyta\",\"marker\":{\"color\":\"#FF6692\",\"pattern\":{\"shape\":\"\"}},\"name\":\"p__Phragmoplastophyta\",\"offsetgroup\":\"p__Phragmoplastophyta\",\"orientation\":\"v\",\"showlegend\":false,\"textposition\":\"auto\",\"x\":[\"W\"],\"xaxis\":\"x12\",\"y\":[1.0],\"yaxis\":\"y12\",\"type\":\"bar\"}],                        {\"template\":{\"data\":{\"histogram2dcontour\":[{\"type\":\"histogram2dcontour\",\"colorbar\":{\"outlinewidth\":0,\"ticks\":\"\"},\"colorscale\":[[0.0,\"#0d0887\"],[0.1111111111111111,\"#46039f\"],[0.2222222222222222,\"#7201a8\"],[0.3333333333333333,\"#9c179e\"],[0.4444444444444444,\"#bd3786\"],[0.5555555555555556,\"#d8576b\"],[0.6666666666666666,\"#ed7953\"],[0.7777777777777778,\"#fb9f3a\"],[0.8888888888888888,\"#fdca26\"],[1.0,\"#f0f921\"]]}],\"choropleth\":[{\"type\":\"choropleth\",\"colorbar\":{\"outlinewidth\":0,\"ticks\":\"\"}}],\"histogram2d\":[{\"type\":\"histogram2d\",\"colorbar\":{\"outlinewidth\":0,\"ticks\":\"\"},\"colorscale\":[[0.0,\"#0d0887\"],[0.1111111111111111,\"#46039f\"],[0.2222222222222222,\"#7201a8\"],[0.3333333333333333,\"#9c179e\"],[0.4444444444444444,\"#bd3786\"],[0.5555555555555556,\"#d8576b\"],[0.6666666666666666,\"#ed7953\"],[0.7777777777777778,\"#fb9f3a\"],[0.8888888888888888,\"#fdca26\"],[1.0,\"#f0f921\"]]}],\"heatmap\":[{\"type\":\"heatmap\",\"colorbar\":{\"outlinewidth\":0,\"ticks\":\"\"},\"colorscale\":[[0.0,\"#0d0887\"],[0.1111111111111111,\"#46039f\"],[0.2222222222222222,\"#7201a8\"],[0.3333333333333333,\"#9c179e\"],[0.4444444444444444,\"#bd3786\"],[0.5555555555555556,\"#d8576b\"],[0.6666666666666666,\"#ed7953\"],[0.7777777777777778,\"#fb9f3a\"],[0.8888888888888888,\"#fdca26\"],[1.0,\"#f0f921\"]]}],\"heatmapgl\":[{\"type\":\"heatmapgl\",\"colorbar\":{\"outlinewidth\":0,\"ticks\":\"\"},\"colorscale\":[[0.0,\"#0d0887\"],[0.1111111111111111,\"#46039f\"],[0.2222222222222222,\"#7201a8\"],[0.3333333333333333,\"#9c179e\"],[0.4444444444444444,\"#bd3786\"],[0.5555555555555556,\"#d8576b\"],[0.6666666666666666,\"#ed7953\"],[0.7777777777777778,\"#fb9f3a\"],[0.8888888888888888,\"#fdca26\"],[1.0,\"#f0f921\"]]}],\"contourcarpet\":[{\"type\":\"contourcarpet\",\"colorbar\":{\"outlinewidth\":0,\"ticks\":\"\"}}],\"contour\":[{\"type\":\"contour\",\"colorbar\":{\"outlinewidth\":0,\"ticks\":\"\"},\"colorscale\":[[0.0,\"#0d0887\"],[0.1111111111111111,\"#46039f\"],[0.2222222222222222,\"#7201a8\"],[0.3333333333333333,\"#9c179e\"],[0.4444444444444444,\"#bd3786\"],[0.5555555555555556,\"#d8576b\"],[0.6666666666666666,\"#ed7953\"],[0.7777777777777778,\"#fb9f3a\"],[0.8888888888888888,\"#fdca26\"],[1.0,\"#f0f921\"]]}],\"surface\":[{\"type\":\"surface\",\"colorbar\":{\"outlinewidth\":0,\"ticks\":\"\"},\"colorscale\":[[0.0,\"#0d0887\"],[0.1111111111111111,\"#46039f\"],[0.2222222222222222,\"#7201a8\"],[0.3333333333333333,\"#9c179e\"],[0.4444444444444444,\"#bd3786\"],[0.5555555555555556,\"#d8576b\"],[0.6666666666666666,\"#ed7953\"],[0.7777777777777778,\"#fb9f3a\"],[0.8888888888888888,\"#fdca26\"],[1.0,\"#f0f921\"]]}],\"mesh3d\":[{\"type\":\"mesh3d\",\"colorbar\":{\"outlinewidth\":0,\"ticks\":\"\"}}],\"scatter\":[{\"fillpattern\":{\"fillmode\":\"overlay\",\"size\":10,\"solidity\":0.2},\"type\":\"scatter\"}],\"parcoords\":[{\"type\":\"parcoords\",\"line\":{\"colorbar\":{\"outlinewidth\":0,\"ticks\":\"\"}}}],\"scatterpolargl\":[{\"type\":\"scatterpolargl\",\"marker\":{\"colorbar\":{\"outlinewidth\":0,\"ticks\":\"\"}}}],\"bar\":[{\"error_x\":{\"color\":\"#2a3f5f\"},\"error_y\":{\"color\":\"#2a3f5f\"},\"marker\":{\"line\":{\"color\":\"#E5ECF6\",\"width\":0.5},\"pattern\":{\"fillmode\":\"overlay\",\"size\":10,\"solidity\":0.2}},\"type\":\"bar\"}],\"scattergeo\":[{\"type\":\"scattergeo\",\"marker\":{\"colorbar\":{\"outlinewidth\":0,\"ticks\":\"\"}}}],\"scatterpolar\":[{\"type\":\"scatterpolar\",\"marker\":{\"colorbar\":{\"outlinewidth\":0,\"ticks\":\"\"}}}],\"histogram\":[{\"marker\":{\"pattern\":{\"fillmode\":\"overlay\",\"size\":10,\"solidity\":0.2}},\"type\":\"histogram\"}],\"scattergl\":[{\"type\":\"scattergl\",\"marker\":{\"colorbar\":{\"outlinewidth\":0,\"ticks\":\"\"}}}],\"scatter3d\":[{\"type\":\"scatter3d\",\"line\":{\"colorbar\":{\"outlinewidth\":0,\"ticks\":\"\"}},\"marker\":{\"colorbar\":{\"outlinewidth\":0,\"ticks\":\"\"}}}],\"scattermapbox\":[{\"type\":\"scattermapbox\",\"marker\":{\"colorbar\":{\"outlinewidth\":0,\"ticks\":\"\"}}}],\"scatterternary\":[{\"type\":\"scatterternary\",\"marker\":{\"colorbar\":{\"outlinewidth\":0,\"ticks\":\"\"}}}],\"scattercarpet\":[{\"type\":\"scattercarpet\",\"marker\":{\"colorbar\":{\"outlinewidth\":0,\"ticks\":\"\"}}}],\"carpet\":[{\"aaxis\":{\"endlinecolor\":\"#2a3f5f\",\"gridcolor\":\"white\",\"linecolor\":\"white\",\"minorgridcolor\":\"white\",\"startlinecolor\":\"#2a3f5f\"},\"baxis\":{\"endlinecolor\":\"#2a3f5f\",\"gridcolor\":\"white\",\"linecolor\":\"white\",\"minorgridcolor\":\"white\",\"startlinecolor\":\"#2a3f5f\"},\"type\":\"carpet\"}],\"table\":[{\"cells\":{\"fill\":{\"color\":\"#EBF0F8\"},\"line\":{\"color\":\"white\"}},\"header\":{\"fill\":{\"color\":\"#C8D4E3\"},\"line\":{\"color\":\"white\"}},\"type\":\"table\"}],\"barpolar\":[{\"marker\":{\"line\":{\"color\":\"#E5ECF6\",\"width\":0.5},\"pattern\":{\"fillmode\":\"overlay\",\"size\":10,\"solidity\":0.2}},\"type\":\"barpolar\"}],\"pie\":[{\"automargin\":true,\"type\":\"pie\"}]},\"layout\":{\"autotypenumbers\":\"strict\",\"colorway\":[\"#636efa\",\"#EF553B\",\"#00cc96\",\"#ab63fa\",\"#FFA15A\",\"#19d3f3\",\"#FF6692\",\"#B6E880\",\"#FF97FF\",\"#FECB52\"],\"font\":{\"color\":\"#2a3f5f\"},\"hovermode\":\"closest\",\"hoverlabel\":{\"align\":\"left\"},\"paper_bgcolor\":\"white\",\"plot_bgcolor\":\"#E5ECF6\",\"polar\":{\"bgcolor\":\"#E5ECF6\",\"angularaxis\":{\"gridcolor\":\"white\",\"linecolor\":\"white\",\"ticks\":\"\"},\"radialaxis\":{\"gridcolor\":\"white\",\"linecolor\":\"white\",\"ticks\":\"\"}},\"ternary\":{\"bgcolor\":\"#E5ECF6\",\"aaxis\":{\"gridcolor\":\"white\",\"linecolor\":\"white\",\"ticks\":\"\"},\"baxis\":{\"gridcolor\":\"white\",\"linecolor\":\"white\",\"ticks\":\"\"},\"caxis\":{\"gridcolor\":\"white\",\"linecolor\":\"white\",\"ticks\":\"\"}},\"coloraxis\":{\"colorbar\":{\"outlinewidth\":0,\"ticks\":\"\"}},\"colorscale\":{\"sequential\":[[0.0,\"#0d0887\"],[0.1111111111111111,\"#46039f\"],[0.2222222222222222,\"#7201a8\"],[0.3333333333333333,\"#9c179e\"],[0.4444444444444444,\"#bd3786\"],[0.5555555555555556,\"#d8576b\"],[0.6666666666666666,\"#ed7953\"],[0.7777777777777778,\"#fb9f3a\"],[0.8888888888888888,\"#fdca26\"],[1.0,\"#f0f921\"]],\"sequentialminus\":[[0.0,\"#0d0887\"],[0.1111111111111111,\"#46039f\"],[0.2222222222222222,\"#7201a8\"],[0.3333333333333333,\"#9c179e\"],[0.4444444444444444,\"#bd3786\"],[0.5555555555555556,\"#d8576b\"],[0.6666666666666666,\"#ed7953\"],[0.7777777777777778,\"#fb9f3a\"],[0.8888888888888888,\"#fdca26\"],[1.0,\"#f0f921\"]],\"diverging\":[[0,\"#8e0152\"],[0.1,\"#c51b7d\"],[0.2,\"#de77ae\"],[0.3,\"#f1b6da\"],[0.4,\"#fde0ef\"],[0.5,\"#f7f7f7\"],[0.6,\"#e6f5d0\"],[0.7,\"#b8e186\"],[0.8,\"#7fbc41\"],[0.9,\"#4d9221\"],[1,\"#276419\"]]},\"xaxis\":{\"gridcolor\":\"white\",\"linecolor\":\"white\",\"ticks\":\"\",\"title\":{\"standoff\":15},\"zerolinecolor\":\"white\",\"automargin\":true,\"zerolinewidth\":2},\"yaxis\":{\"gridcolor\":\"white\",\"linecolor\":\"white\",\"ticks\":\"\",\"title\":{\"standoff\":15},\"zerolinecolor\":\"white\",\"automargin\":true,\"zerolinewidth\":2},\"scene\":{\"xaxis\":{\"backgroundcolor\":\"#E5ECF6\",\"gridcolor\":\"white\",\"linecolor\":\"white\",\"showbackground\":true,\"ticks\":\"\",\"zerolinecolor\":\"white\",\"gridwidth\":2},\"yaxis\":{\"backgroundcolor\":\"#E5ECF6\",\"gridcolor\":\"white\",\"linecolor\":\"white\",\"showbackground\":true,\"ticks\":\"\",\"zerolinecolor\":\"white\",\"gridwidth\":2},\"zaxis\":{\"backgroundcolor\":\"#E5ECF6\",\"gridcolor\":\"white\",\"linecolor\":\"white\",\"showbackground\":true,\"ticks\":\"\",\"zerolinecolor\":\"white\",\"gridwidth\":2}},\"shapedefaults\":{\"line\":{\"color\":\"#2a3f5f\"}},\"annotationdefaults\":{\"arrowcolor\":\"#2a3f5f\",\"arrowhead\":0,\"arrowwidth\":1},\"geo\":{\"bgcolor\":\"white\",\"landcolor\":\"#E5ECF6\",\"subunitcolor\":\"white\",\"showland\":true,\"showlakes\":true,\"lakecolor\":\"white\"},\"title\":{\"x\":0.05},\"mapbox\":{\"style\":\"light\"}}},\"xaxis\":{\"anchor\":\"y\",\"domain\":[0.0,0.04375],\"title\":{\"text\":\"Size fraction\"},\"type\":\"category\",\"dtick\":1},\"yaxis\":{\"anchor\":\"x\",\"domain\":[0.0,1.0],\"title\":{\"text\":\"Relative abundance\"}},\"xaxis2\":{\"anchor\":\"y2\",\"domain\":[0.06375,0.1075],\"matches\":\"x\",\"title\":{\"text\":\"\"},\"type\":\"category\",\"dtick\":1},\"yaxis2\":{\"anchor\":\"x2\",\"domain\":[0.0,1.0],\"matches\":\"y\",\"showticklabels\":false},\"xaxis3\":{\"anchor\":\"y3\",\"domain\":[0.1275,0.17125],\"matches\":\"x\",\"title\":{\"text\":\"\"},\"type\":\"category\",\"dtick\":1},\"yaxis3\":{\"anchor\":\"x3\",\"domain\":[0.0,1.0],\"matches\":\"y\",\"showticklabels\":false},\"xaxis4\":{\"anchor\":\"y4\",\"domain\":[0.19124999999999998,0.235],\"matches\":\"x\",\"title\":{\"text\":\"\"},\"type\":\"category\",\"dtick\":1},\"yaxis4\":{\"anchor\":\"x4\",\"domain\":[0.0,1.0],\"matches\":\"y\",\"showticklabels\":false},\"xaxis5\":{\"anchor\":\"y5\",\"domain\":[0.255,0.29875],\"matches\":\"x\",\"title\":{\"text\":\"\"},\"type\":\"category\",\"dtick\":1},\"yaxis5\":{\"anchor\":\"x5\",\"domain\":[0.0,1.0],\"matches\":\"y\",\"showticklabels\":false},\"xaxis6\":{\"anchor\":\"y6\",\"domain\":[0.31875,0.3625],\"matches\":\"x\",\"title\":{\"text\":\"\"},\"type\":\"category\",\"dtick\":1},\"yaxis6\":{\"anchor\":\"x6\",\"domain\":[0.0,1.0],\"matches\":\"y\",\"showticklabels\":false},\"xaxis7\":{\"anchor\":\"y7\",\"domain\":[0.3825,0.42625],\"matches\":\"x\",\"title\":{\"text\":\"\"},\"type\":\"category\",\"dtick\":1},\"yaxis7\":{\"anchor\":\"x7\",\"domain\":[0.0,1.0],\"matches\":\"y\",\"showticklabels\":false},\"xaxis8\":{\"anchor\":\"y8\",\"domain\":[0.44625000000000004,0.49000000000000005],\"matches\":\"x\",\"title\":{\"text\":\"\"},\"type\":\"category\",\"dtick\":1},\"yaxis8\":{\"anchor\":\"x8\",\"domain\":[0.0,1.0],\"matches\":\"y\",\"showticklabels\":false},\"xaxis9\":{\"anchor\":\"y9\",\"domain\":[0.51,0.55375],\"matches\":\"x\",\"title\":{\"text\":\"\"},\"type\":\"category\",\"dtick\":1},\"yaxis9\":{\"anchor\":\"x9\",\"domain\":[0.0,1.0],\"matches\":\"y\",\"showticklabels\":false},\"xaxis10\":{\"anchor\":\"y10\",\"domain\":[0.57375,0.6174999999999999],\"matches\":\"x\",\"title\":{\"text\":\"\"},\"type\":\"category\",\"dtick\":1},\"yaxis10\":{\"anchor\":\"x10\",\"domain\":[0.0,1.0],\"matches\":\"y\",\"showticklabels\":false},\"xaxis11\":{\"anchor\":\"y11\",\"domain\":[0.6375000000000001,0.68125],\"matches\":\"x\",\"title\":{\"text\":\"\"},\"type\":\"category\",\"dtick\":1},\"yaxis11\":{\"anchor\":\"x11\",\"domain\":[0.0,1.0],\"matches\":\"y\",\"showticklabels\":false},\"xaxis12\":{\"anchor\":\"y12\",\"domain\":[0.70125,0.745],\"matches\":\"x\",\"title\":{\"text\":\"\"},\"type\":\"category\",\"dtick\":1},\"yaxis12\":{\"anchor\":\"x12\",\"domain\":[0.0,1.0],\"matches\":\"y\",\"showticklabels\":false},\"xaxis13\":{\"anchor\":\"y13\",\"domain\":[0.765,0.80875],\"matches\":\"x\",\"title\":{\"text\":\"\"},\"type\":\"category\",\"dtick\":1},\"yaxis13\":{\"anchor\":\"x13\",\"domain\":[0.0,1.0],\"matches\":\"y\",\"showticklabels\":false},\"xaxis14\":{\"anchor\":\"y14\",\"domain\":[0.82875,0.8724999999999999],\"matches\":\"x\",\"title\":{\"text\":\"\"},\"type\":\"category\",\"dtick\":1},\"yaxis14\":{\"anchor\":\"x14\",\"domain\":[0.0,1.0],\"matches\":\"y\",\"showticklabels\":false},\"xaxis15\":{\"anchor\":\"y15\",\"domain\":[0.8925,0.9362499999999999],\"matches\":\"x\",\"title\":{\"text\":\"\"},\"type\":\"category\",\"dtick\":1},\"yaxis15\":{\"anchor\":\"x15\",\"domain\":[0.0,1.0],\"matches\":\"y\",\"showticklabels\":false},\"xaxis16\":{\"anchor\":\"y16\",\"domain\":[0.9562499999999998,0.9999999999999998],\"matches\":\"x\",\"title\":{\"text\":\"\"},\"type\":\"category\",\"dtick\":1},\"yaxis16\":{\"anchor\":\"x16\",\"domain\":[0.0,1.0],\"matches\":\"y\",\"showticklabels\":false},\"annotations\":[{\"font\":{},\"showarrow\":false,\"text\":\"w=1\",\"x\":0.021875,\"xanchor\":\"center\",\"xref\":\"paper\",\"y\":1.0,\"yanchor\":\"bottom\",\"yref\":\"paper\"},{\"font\":{},\"showarrow\":false,\"text\":\"w=2\",\"x\":0.085625,\"xanchor\":\"center\",\"xref\":\"paper\",\"y\":1.0,\"yanchor\":\"bottom\",\"yref\":\"paper\"},{\"font\":{},\"showarrow\":false,\"text\":\"w=3\",\"x\":0.149375,\"xanchor\":\"center\",\"xref\":\"paper\",\"y\":1.0,\"yanchor\":\"bottom\",\"yref\":\"paper\"},{\"font\":{},\"showarrow\":false,\"text\":\"w=4\",\"x\":0.21312499999999998,\"xanchor\":\"center\",\"xref\":\"paper\",\"y\":1.0,\"yanchor\":\"bottom\",\"yref\":\"paper\"},{\"font\":{},\"showarrow\":false,\"text\":\"w=5\",\"x\":0.276875,\"xanchor\":\"center\",\"xref\":\"paper\",\"y\":1.0,\"yanchor\":\"bottom\",\"yref\":\"paper\"},{\"font\":{},\"showarrow\":false,\"text\":\"w=6\",\"x\":0.34062499999999996,\"xanchor\":\"center\",\"xref\":\"paper\",\"y\":1.0,\"yanchor\":\"bottom\",\"yref\":\"paper\"},{\"font\":{},\"showarrow\":false,\"text\":\"w=7\",\"x\":0.40437500000000004,\"xanchor\":\"center\",\"xref\":\"paper\",\"y\":1.0,\"yanchor\":\"bottom\",\"yref\":\"paper\"},{\"font\":{},\"showarrow\":false,\"text\":\"w=8\",\"x\":0.468125,\"xanchor\":\"center\",\"xref\":\"paper\",\"y\":1.0,\"yanchor\":\"bottom\",\"yref\":\"paper\"},{\"font\":{},\"showarrow\":false,\"text\":\"w=10\",\"x\":0.531875,\"xanchor\":\"center\",\"xref\":\"paper\",\"y\":1.0,\"yanchor\":\"bottom\",\"yref\":\"paper\"},{\"font\":{},\"showarrow\":false,\"text\":\"w=11\",\"x\":0.595625,\"xanchor\":\"center\",\"xref\":\"paper\",\"y\":1.0,\"yanchor\":\"bottom\",\"yref\":\"paper\"},{\"font\":{},\"showarrow\":false,\"text\":\"w=12\",\"x\":0.659375,\"xanchor\":\"center\",\"xref\":\"paper\",\"y\":1.0,\"yanchor\":\"bottom\",\"yref\":\"paper\"},{\"font\":{},\"showarrow\":false,\"text\":\"w=13\",\"x\":0.723125,\"xanchor\":\"center\",\"xref\":\"paper\",\"y\":1.0,\"yanchor\":\"bottom\",\"yref\":\"paper\"},{\"font\":{},\"showarrow\":false,\"text\":\"w=14\",\"x\":0.786875,\"xanchor\":\"center\",\"xref\":\"paper\",\"y\":1.0,\"yanchor\":\"bottom\",\"yref\":\"paper\"},{\"font\":{},\"showarrow\":false,\"text\":\"w=15\",\"x\":0.850625,\"xanchor\":\"center\",\"xref\":\"paper\",\"y\":1.0,\"yanchor\":\"bottom\",\"yref\":\"paper\"},{\"font\":{},\"showarrow\":false,\"text\":\"w=16\",\"x\":0.9143749999999999,\"xanchor\":\"center\",\"xref\":\"paper\",\"y\":1.0,\"yanchor\":\"bottom\",\"yref\":\"paper\"},{\"font\":{},\"showarrow\":false,\"text\":\"w=9\",\"x\":0.9781249999999998,\"xanchor\":\"center\",\"xref\":\"paper\",\"y\":1.0,\"yanchor\":\"bottom\",\"yref\":\"paper\"}],\"legend\":{\"title\":{\"text\":\"Phylum\"},\"tracegroupgap\":0},\"margin\":{\"t\":60},\"barmode\":\"relative\",\"font\":{\"size\":8},\"title\":{\"text\":\"Relative abundance of top 10Phylumobserved at Depth60\"}},                        {\"responsive\": true}                    ).then(function(){\n",
       "                            \n",
       "var gd = document.getElementById('432e8844-9968-4dfd-9bcf-e9bade535c4f');\n",
       "var x = new MutationObserver(function (mutations, observer) {{\n",
       "        var display = window.getComputedStyle(gd).display;\n",
       "        if (!display || display === 'none') {{\n",
       "            console.log([gd, 'removed!']);\n",
       "            Plotly.purge(gd);\n",
       "            observer.disconnect();\n",
       "        }}\n",
       "}});\n",
       "\n",
       "// Listen for the removal of the full notebook cells\n",
       "var notebookContainer = gd.closest('#notebook-container');\n",
       "if (notebookContainer) {{\n",
       "    x.observe(notebookContainer, {childList: true});\n",
       "}}\n",
       "\n",
       "// Listen for the clearing of the current output cell\n",
       "var outputEl = gd.closest('.output');\n",
       "if (outputEl) {{\n",
       "    x.observe(outputEl, {childList: true});\n",
       "}}\n",
       "\n",
       "                        })                };                });            </script>        </div>"
      ]
     },
     "metadata": {},
     "output_type": "display_data"
    }
   ],
   "source": [
    "taxbarplot(separated, 'Phylum', 60, 10)"
   ]
  },
  {
   "cell_type": "markdown",
   "metadata": {},
   "source": [
    "### Upset plot data prep"
   ]
  },
  {
   "cell_type": "code",
   "execution_count": 106,
   "metadata": {},
   "outputs": [],
   "source": [
    "upsetprep('18S', 'Class')"
   ]
  },
  {
   "cell_type": "code",
   "execution_count": null,
   "metadata": {},
   "outputs": [],
   "source": [
    "#if we want to make an upset plot of all depths?\n",
    "\n",
    "frames = sfd1, sfd5, sfd10, sfd30, sfd60\n",
    "result = pd.concat(frames)\n",
    "resultpivot = result.pivot_table(index='Genus', columns='set_name', values='feature_frequency')\n",
    "resultpivot = resultpivot.fillna(0)\n",
    "resultpivot[resultpivot != 0] = 1\n",
    "tosave = pd.merge(resultpivot, cumulab1, left_index=True, right_index=True)\n",
    "tosave.to_csv('genus_all16S_relab.csv')"
   ]
  },
  {
   "cell_type": "markdown",
   "metadata": {},
   "source": [
    "### Venn diagrams"
   ]
  },
  {
   "cell_type": "code",
   "execution_count": 37,
   "metadata": {},
   "outputs": [
    {
     "data": {
      "image/png": "[encoded data removed]",
      "text/plain": [
       "<Figure size 640x480 with 1 Axes>"
      ]
     },
     "metadata": {},
     "output_type": "display_data"
    }
   ],
   "source": [
    "#Depth 1 all 16S at genus level\n",
    "#N=84\n",
    "venn3(subsets = (27, 11, 4, 7, 6, 7, 22), set_labels = ('Large >3μm', 'Small 3-02μm', 'Whole water <0.22μm'), alpha = 0.5);\n",
    "\n",
    "plt.title(\"1m depth\") \n",
    "plt.savefig(\"outputs/02-EUKs/D1_genus_venn.png\")\n",
    "plt.show()"
   ]
  },
  {
   "cell_type": "code",
   "execution_count": 71,
   "metadata": {},
   "outputs": [
    {
     "data": {
      "image/png": "[encoded data removed]",
      "text/plain": [
       "<Figure size 500x500 with 1 Axes>"
      ]
     },
     "metadata": {},
     "output_type": "display_data"
    }
   ],
   "source": [
    "import matplotlib.pyplot as plt \n",
    "import numpy as np\n",
    "import seaborn as sns\n",
    "from sklearn import datasets\n",
    "from sklearn.preprocessing import StandardScaler\n",
    "from sklearn.decomposition import PCA\n",
    "import pandas as pd\n",
    "sns.set()\n",
    " \n",
    "# load features and targets separately\n",
    "iris = datasets.load_iris()\n",
    "X = iris.data\n",
    "y = iris.target\n",
    " \n",
    "# Scale Data \n",
    "x_scaled = StandardScaler().fit_transform(X)\n",
    " \n",
    "# Perform PCA on Scaled Data\n",
    "pca = PCA(n_components=2)\n",
    " \n",
    " \n",
    "pca_features = pca.fit_transform(x_scaled)\n",
    " \n",
    "# Principal components correlation coefficients\n",
    "loadings = pca.components_\n",
    " \n",
    "# Number of features before PCA\n",
    "n_features = pca.n_features_in_\n",
    " \n",
    "# Feature names before PCA\n",
    "feature_names = iris.feature_names\n",
    " \n",
    "# PC names\n",
    "pc_list = [f'PC{i}' for i in list(range(1, n_features + 1))]\n",
    " \n",
    "# Match PC names to loadings\n",
    "pc_loadings = dict(zip(pc_list, loadings))\n",
    " \n",
    "# Matrix of corr coefs between feature names and PCs\n",
    "loadings_df = pd.DataFrame.from_dict(pc_loadings)\n",
    "loadings_df['feature_names'] = feature_names\n",
    "loadings_df = loadings_df.set_index('feature_names')\n",
    " \n",
    " \n",
    "# Get the loadings of x and y axes\n",
    "xs = loadings[0]\n",
    "ys = loadings[1]\n",
    " \n",
    " \n",
    "# Create DataFrame from PCA\n",
    "pca_df = pd.DataFrame(\n",
    "    data=pca_features, \n",
    "    columns=['PC1', 'PC2'])\n",
    " \n",
    "# Map Targets to names\n",
    "target_names = {\n",
    "    0:'setosa',\n",
    "    1:'versicolor', \n",
    "    2:'virginica'\n",
    "}\n",
    " \n",
    "pca_df['target'] = y\n",
    "pca_df['target'] = pca_df['target'].map(target_names)\n",
    " \n",
    "# Scale PCS into a DataFrame\n",
    "pca_df_scaled = pca_df.copy()\n",
    " \n",
    "scaler_df = pca_df[['PC1', 'PC2']]\n",
    "scaler = 1 / (scaler_df.max() - scaler_df.min())\n",
    " \n",
    "for index in scaler.index:\n",
    "    pca_df_scaled[index] *= scaler[index]\n",
    " \n",
    " \n",
    "# Plot the loadings on a Scatter plot\n",
    "xs = loadings[0]\n",
    "ys = loadings[1]\n",
    " \n",
    "sns.lmplot(\n",
    "    x='PC1', \n",
    "    y='PC2', \n",
    "    data=pca_df_scaled, \n",
    "    fit_reg=False, \n",
    "    )\n",
    " \n",
    "for i, varnames in enumerate(feature_names):\n",
    "    plt.scatter(xs[i], ys[i], s=200)\n",
    "    plt.arrow(\n",
    "        0, 0, # coordinates of arrow base\n",
    "        xs[i], # length of the arrow along x\n",
    "        ys[i], # length of the arrow along y\n",
    "        color='r', \n",
    "        head_width=0.01\n",
    "        )\n",
    "    plt.text(xs[i], ys[i], varnames)\n",
    " \n",
    "xticks = np.linspace(-0.8, 0.8, num=5)\n",
    "yticks = np.linspace(-0.8, 0.8, num=5)\n",
    "plt.xticks(xticks)\n",
    "plt.yticks(yticks)\n",
    "plt.xlabel('PC1')\n",
    "plt.ylabel('PC2')\n",
    " \n",
    "plt.title('2D Biplot')\n",
    "plt.show()"
   ]
  },
  {
   "cell_type": "code",
   "execution_count": null,
   "metadata": {},
   "outputs": [],
   "source": []
  },
  {
   "cell_type": "code",
   "execution_count": null,
   "metadata": {},
   "outputs": [],
   "source": []
  },
  {
   "cell_type": "code",
   "execution_count": null,
   "metadata": {},
   "outputs": [],
   "source": []
  },
  {
   "cell_type": "code",
   "execution_count": null,
   "metadata": {},
   "outputs": [],
   "source": []
  },
  {
   "cell_type": "code",
   "execution_count": null,
   "metadata": {},
   "outputs": [],
   "source": []
  },
  {
   "cell_type": "code",
   "execution_count": null,
   "metadata": {},
   "outputs": [],
   "source": []
  },
  {
   "cell_type": "code",
   "execution_count": null,
   "metadata": {},
   "outputs": [],
   "source": []
  },
  {
   "cell_type": "code",
   "execution_count": null,
   "metadata": {},
   "outputs": [],
   "source": []
  },
  {
   "cell_type": "code",
   "execution_count": null,
   "metadata": {},
   "outputs": [],
   "source": []
  },
  {
   "cell_type": "code",
   "execution_count": null,
   "metadata": {},
   "outputs": [],
   "source": []
  },
  {
   "cell_type": "code",
   "execution_count": null,
   "metadata": {},
   "outputs": [],
   "source": []
  },
  {
   "cell_type": "code",
   "execution_count": null,
   "metadata": {},
   "outputs": [],
   "source": []
  },
  {
   "cell_type": "code",
   "execution_count": null,
   "metadata": {},
   "outputs": [],
   "source": []
  }
 ],
 "metadata": {
  "kernelspec": {
   "display_name": "qiime2-2023.5",
   "language": "python",
   "name": "qiime2-2023.5"
  },
  "language_info": {
   "codemirror_mode": {
    "name": "ipython",
    "version": 3
   },
   "file_extension": ".py",
   "mimetype": "text/x-python",
   "name": "python",
   "nbconvert_exporter": "python",
   "pygments_lexer": "ipython3",
   "version": "3.8.16"
  }
 },
 "nbformat": 4,
 "nbformat_minor": 4
}
