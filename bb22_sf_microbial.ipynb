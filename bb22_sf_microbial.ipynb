{
 "cells": [
  {
   "cell_type": "markdown",
   "id": "cd872fb8",
   "metadata": {},
   "source": [
    "Upload functions and necessary modules"
   ]
  },
  {
   "cell_type": "code",
   "execution_count": 1,
   "id": "f12e05f1",
   "metadata": {},
   "outputs": [],
   "source": [
    "from bb2022_functions import *\n",
    "%matplotlib inline\n",
    "from Bio.SeqIO.FastaIO import SimpleFastaParser\n",
    "from Bio import SeqIO\n",
    "pd.options.mode.chained_assignment = None  # default='warn'"
   ]
  },
  {
   "cell_type": "markdown",
   "id": "ef8c5429",
   "metadata": {},
   "source": [
    "Import and format metadata"
   ]
  },
  {
   "cell_type": "code",
   "execution_count": 2,
   "id": "fb6bbc2a",
   "metadata": {},
   "outputs": [],
   "source": [
    "md = pd.read_csv(\"metadata_merged.csv\")\n",
    "merged = pd.read_csv(\"metadata_niskin.csv\")\n",
    "all_md = pd.read_csv(\"allmetadata.csv\")"
   ]
  },
  {
   "cell_type": "markdown",
   "id": "11899cd1",
   "metadata": {},
   "source": [
    "Add microbial communities"
   ]
  },
  {
   "cell_type": "code",
   "execution_count": 6,
   "id": "3381a509",
   "metadata": {},
   "outputs": [
    {
     "name": "stdout",
     "output_type": "stream",
     "text": [
      "Found all 16S tables.\n",
      "Successfully saved all tables.\n",
      "Set up metadata ...\n",
      "Saved merged_asvs_metadata.tsv\n",
      "Appended all taxonomies to taxos\n",
      "Saved separated by metadata dataframe.\n"
     ]
    }
   ],
   "source": [
    "#generate a dataframe from all specified amplicon\n",
    "df, comm = consolidate_tables('16S')\n",
    "merged = merge_metadata(df, all_md)\n",
    "separated = pick_metadata(merged)"
   ]
  },
  {
   "cell_type": "code",
   "execution_count": 7,
   "id": "441afa99",
   "metadata": {},
   "outputs": [],
   "source": [
    "searchfor = [\"Cyanobacteria\", \"Chloroplast\"]\n",
    "contaminants = separated[separated.Taxon.str.contains('|'.join(searchfor))]\n",
    "separated = separated[~separated.Taxon.str.contains('|'.join(searchfor))]\n",
    "separated = separated.reset_index(drop=True)"
   ]
  },
  {
   "cell_type": "code",
   "execution_count": 8,
   "id": "1854faa2",
   "metadata": {},
   "outputs": [],
   "source": [
    "#run these lines to switch to chloroplast comm\n",
    "separated = contaminants.copy()\n",
    "separated = separated.reset_index(drop=True)\n",
    "comm = 'chloroplast'\n",
    "\n",
    "#add phytorep taxonomy\n",
    "cp_tax = pd.read_csv('chloroplast/taxonomy.tsv', sep='\\t')\n",
    "cp_tax = cp_tax.rename(columns={\"Feature ID\": \"feature_id\", \"Taxon\": \"PRTaxon\", \"Confidence\":\"PRConfidence\"})\n",
    "separated = pd.merge(separated, cp_tax, on=\"feature_id\", how=\"left\")\n",
    "separated['PRSpecies'] = separated['PRTaxon'].str.split('|').str[-1]"
   ]
  },
  {
   "cell_type": "code",
   "execution_count": 9,
   "id": "fa46ddfe",
   "metadata": {},
   "outputs": [],
   "source": [
    "#re-calculate ratios when removing chloroplast for 16S\n",
    "separated['Total'] = separated['feature_frequency'].groupby(separated['sampleid']).transform('sum')\n",
    "separated['ratio'] = separated['feature_frequency']/separated['Total']\n",
    "separated['nASVs'] = separated['feature_id'].groupby(separated['sampleid']).transform('count')\n",
    "separated['weekdepth'] = separated[\"weekn\"].astype(str) + separated[\"depth\"].astype(str)\n",
    "separated['avg'] = separated['nASVs'].groupby(separated['weekdepth']).transform('mean')\n",
    "separated['diff'] = separated['nASVs'] - separated['avg']"
   ]
  },
  {
   "cell_type": "code",
   "execution_count": 10,
   "id": "23a8e66e",
   "metadata": {},
   "outputs": [],
   "source": [
    "newseparated = make_defract(all_md, separated)\n",
    "newseparated[\"rank\"] = newseparated.groupby(\"sampleid\")[\"ratio\"].rank(method=\"average\", ascending=False)\n",
    "newseparated[\"ranktot\"] = newseparated['rank'] / newseparated['nASVs']"
   ]
  },
  {
   "cell_type": "code",
   "execution_count": null,
   "id": "8d36b9a3",
   "metadata": {},
   "outputs": [],
   "source": []
  }
 ],
 "metadata": {
  "kernelspec": {
   "display_name": "qiime2-2023.5",
   "language": "python",
   "name": "qiime2-2023.5"
  },
  "language_info": {
   "codemirror_mode": {
    "name": "ipython",
    "version": 3
   },
   "file_extension": ".py",
   "mimetype": "text/x-python",
   "name": "python",
   "nbconvert_exporter": "python",
   "pygments_lexer": "ipython3",
   "version": "3.8.16"
  }
 },
 "nbformat": 4,
 "nbformat_minor": 5
}
