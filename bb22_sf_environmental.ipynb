{
 "cells": [
  {
   "cell_type": "code",
   "execution_count": 1,
   "id": "fcd8ac44",
   "metadata": {},
   "outputs": [],
   "source": [
    "from bb2022_functions import *\n",
    "%matplotlib inline\n",
    "from Bio.SeqIO.FastaIO import SimpleFastaParser\n",
    "from Bio import SeqIO\n",
    "pd.options.mode.chained_assignment = None  # default='warn'"
   ]
  },
  {
   "cell_type": "code",
   "execution_count": 2,
   "id": "3881d9c7",
   "metadata": {},
   "outputs": [],
   "source": [
    "md = pd.read_csv(\"metadata_merged.csv\")\n",
    "merged = pd.read_csv(\"metadata_niskin.csv\")\n",
    "all_md = pd.read_csv(\"allmetadata.csv\")"
   ]
  },
  {
   "cell_type": "code",
   "execution_count": null,
   "id": "cce6eb6b",
   "metadata": {},
   "outputs": [],
   "source": [
    "detect_anomalies('Temperature_y', all_md, 1, yr={2022}, month={1,2,3,4,5})"
   ]
  },
  {
   "cell_type": "code",
   "execution_count": 6,
   "id": "82c7e9e0",
   "metadata": {},
   "outputs": [],
   "source": [
    "d1 = all_md.loc[all_md['depth'] == 1]\n",
    "d1 = d1[['weekn', 'depth', 'Phosphate', 'Silicate', 'Nitrate',\n",
    "       'Ammonia', 'Chlorophyll A']]\n",
    "d1.rename(columns={'Temperature_x': 'Temperature'},\n",
    "          inplace= True)"
   ]
  },
  {
   "cell_type": "code",
   "execution_count": 7,
   "id": "893e8fde",
   "metadata": {},
   "outputs": [],
   "source": [
    "d1 = d1.melt(id_vars=['weekn', 'depth'])"
   ]
  },
  {
   "cell_type": "code",
   "execution_count": null,
   "id": "dd3e4f6f",
   "metadata": {},
   "outputs": [],
   "source": [
    "def get_stage(weekNb):\n",
    "    if weekNb <8:\n",
    "        return 'Pre-bloom'\n",
    "    elif weekNb >= 8:\n",
    "        return 'Bloom'\n",
    "\n",
    "d1['Time'] = d1['weekn'].apply(get_stage)"
   ]
  },
  {
   "cell_type": "code",
   "execution_count": null,
   "id": "5c15fbe4",
   "metadata": {},
   "outputs": [],
   "source": [
    "df1 = d1[d1['Time'] == 'Bloom']\n",
    "df2 = d1[d1['Time'] == 'Pre-bloom']"
   ]
  },
  {
   "cell_type": "code",
   "execution_count": null,
   "id": "7dc93cc4",
   "metadata": {},
   "outputs": [],
   "source": [
    "sns.lmplot(\n",
    "    data = d1,\n",
    "    x=\"weekn\", y=\"value\",\n",
    "    hue = 'variable', palette = 'viridis', scatter=True\n",
    ")"
   ]
  },
  {
   "cell_type": "code",
   "execution_count": null,
   "id": "773285a5",
   "metadata": {},
   "outputs": [],
   "source": [
    "sns.lmplot(x='weekn', y='value', data=df1, hue='variable') \n",
    "sns.lmplot(x='weekn', y='value', data=df2, hue='variable')"
   ]
  },
  {
   "cell_type": "code",
   "execution_count": null,
   "id": "0a1eaed9",
   "metadata": {},
   "outputs": [],
   "source": [
    "d1.drop_duplicates(inplace=True)\n",
    "d1.set_index('weekn', inplace=True)"
   ]
  },
  {
   "cell_type": "code",
   "execution_count": null,
   "id": "4b55ee52",
   "metadata": {},
   "outputs": [],
   "source": [
    "rolling_mean = d1.rolling(5).mean()\n",
    "rolling_std = d1.rolling(5).std()"
   ]
  },
  {
   "cell_type": "code",
   "execution_count": null,
   "id": "dabd0131",
   "metadata": {},
   "outputs": [],
   "source": [
    "plt.plot(d1, color=\"blue\",label=\"Temperature\")\n",
    "plt.plot(rolling_mean, color=\"red\", label=\"Rolling Mean Temperature\")\n",
    "plt.plot(rolling_std, color=\"black\", label = \"Rolling Standard Deviation Temperate\")\n",
    "plt.title(\"Passenger Time Series, Rolling Mean, Standard Deviation\")\n",
    "#plt.legend(loc=\"upper right\")"
   ]
  },
  {
   "cell_type": "code",
   "execution_count": null,
   "id": "239deaa2",
   "metadata": {},
   "outputs": [],
   "source": [
    "autocorrelation_lag1 = d1['Temperature'].autocorr(lag=1)\n",
    "print(\"One Month Lag: \", autocorrelation_lag1)\n",
    "\n",
    "autocorrelation_lag3 = d1['Temperature'].autocorr(lag=3)\n",
    "print(\"Three Month Lag: \", autocorrelation_lag3)\n",
    "\n",
    "autocorrelation_lag6 = d1['Temperature'].autocorr(lag=6)\n",
    "print(\"Six Month Lag: \", autocorrelation_lag6)\n",
    "\n",
    "autocorrelation_lag9 = d1['Temperature'].autocorr(lag=9)\n",
    "print(\"Nine Month Lag: \", autocorrelation_lag9)"
   ]
  },
  {
   "cell_type": "code",
   "execution_count": null,
   "id": "1e67f99c",
   "metadata": {},
   "outputs": [],
   "source": [
    "from statsmodels.tsa.seasonal import seasonal_decompose"
   ]
  },
  {
   "cell_type": "code",
   "execution_count": null,
   "id": "add0ee3d",
   "metadata": {},
   "outputs": [],
   "source": [
    "decompose = seasonal_decompose(d1['Temperature'],model='multiplicative', period=3)\n",
    "trend = decompose.trend\n",
    "residual = decompose.resid\n",
    "\n",
    "decompose.plot();\n",
    "plt.show()"
   ]
  },
  {
   "cell_type": "code",
   "execution_count": null,
   "id": "33382969",
   "metadata": {},
   "outputs": [],
   "source": [
    "sns.relplot(\n",
    "    data=d1, x=\"weekn\", y=\"value\",\n",
    "    row=\"depth\", hue=\"variable\",\n",
    "    kind=\"line\"\n",
    ")"
   ]
  },
  {
   "cell_type": "code",
   "execution_count": null,
   "id": "8d458109",
   "metadata": {},
   "outputs": [],
   "source": []
  }
 ],
 "metadata": {
  "kernelspec": {
   "display_name": "qiime2-2023.5",
   "language": "python",
   "name": "qiime2-2023.5"
  },
  "language_info": {
   "codemirror_mode": {
    "name": "ipython",
    "version": 3
   },
   "file_extension": ".py",
   "mimetype": "text/x-python",
   "name": "python",
   "nbconvert_exporter": "python",
   "pygments_lexer": "ipython3",
   "version": "3.8.16"
  }
 },
 "nbformat": 4,
 "nbformat_minor": 5
}
