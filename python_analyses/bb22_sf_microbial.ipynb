{
 "cells": [
  {
   "cell_type": "markdown",
   "id": "cd872fb8",
   "metadata": {},
   "source": [
    "## Upload functions and necessary modules"
   ]
  },
  {
   "cell_type": "code",
   "execution_count": 1,
   "id": "f12e05f1",
   "metadata": {},
   "outputs": [],
   "source": [
    "from bb2022_functions import *\n",
    "%matplotlib inline\n",
    "from Bio.SeqIO.FastaIO import SimpleFastaParser\n",
    "from Bio import SeqIO\n",
    "pd.options.mode.chained_assignment = None  # default='warn'"
   ]
  },
  {
   "cell_type": "markdown",
   "id": "ef8c5429",
   "metadata": {},
   "source": [
    "## Import and format metadata"
   ]
  },
  {
   "cell_type": "code",
   "execution_count": 2,
   "id": "fb6bbc2a",
   "metadata": {},
   "outputs": [],
   "source": [
    "md = pd.read_csv(\"metadata_merged.csv\")\n",
    "merged = pd.read_csv(\"metadata_niskin.csv\")\n",
    "all_md = pd.read_csv(\"allmetadata.csv\")"
   ]
  },
  {
   "cell_type": "markdown",
   "id": "402ff79a",
   "metadata": {},
   "source": [
    "### Visualize metadata"
   ]
  },
  {
   "cell_type": "code",
   "execution_count": null,
   "id": "da41acb5",
   "metadata": {},
   "outputs": [],
   "source": [
    "maxvals = plot_nutrients(all_md, 60)"
   ]
  },
  {
   "cell_type": "markdown",
   "id": "dbc70d5e",
   "metadata": {},
   "source": [
    "## Add microbial communities"
   ]
  },
  {
   "cell_type": "code",
   "execution_count": 3,
   "id": "479815e8",
   "metadata": {},
   "outputs": [
    {
     "name": "stdout",
     "output_type": "stream",
     "text": [
      "Community is 02-PROKs\n",
      "Found all 16S tables.\n",
      "Successfully saved all tables.\n",
      "Set up metadata ...\n",
      "Saved merged_asvs_metadata.tsv\n",
      "Appended all taxonomies to taxos\n",
      "Saved separated by metadata dataframe.\n",
      "Community is 02-PROKs\n",
      "Removed cyanobacteria and chloroplast from 02-PROKs\n",
      "Values were updated\n"
     ]
    }
   ],
   "source": [
    "#generate a dataframe from all specified amplicon\n",
    "df, comm = consolidate_tables('16S')#, frac='pooled') #16S, chloroplast, or 18S\n",
    "merged = merge_metadata(df, all_md)\n",
    "separated, contaminants = pick_metadata(comm, merged)\n",
    "newseparated = make_defract(all_md, separated)\n",
    "#apply changes to taxonomy according to NCBI identified ASVs\n",
    "newdf = apply_replacement(newseparated, \"feature_id\", \"Genus\") \n",
    "#newdf = apply_replacement(newdf, \"feature_id\", \"PRSpecies\") \n",
    "# or replace Genus with PRSpecies if dealing with phytoref"
   ]
  },
  {
   "cell_type": "markdown",
   "id": "d5fd8773",
   "metadata": {},
   "source": [
    "### Use these lines for analysis of P"
   ]
  },
  {
   "cell_type": "code",
   "execution_count": null,
   "id": "a546059c",
   "metadata": {},
   "outputs": [],
   "source": [
    "#this is all the weeks and depths which we selected for comparison with P\n",
    "weeks_depths_with_P = newdf[newdf['size_code'] == 'P'][['weekn', 'depth']].drop_duplicates()\n",
    "filtered_df = newdf.merge(weeks_depths_with_P, on=['weekn', 'depth']) #filter the original df to only keep those samples\n",
    "newdf = filtered_df"
   ]
  },
  {
   "cell_type": "markdown",
   "id": "83ddee89",
   "metadata": {
    "collapsed": true
   },
   "source": [
    "#### Inspect the dna concentrations, and read depth of samples"
   ]
  },
  {
   "cell_type": "code",
   "execution_count": null,
   "id": "82cec6f5",
   "metadata": {},
   "outputs": [],
   "source": [
    "#plot of dna concentrations per sample\n",
    "dnacon(newdf, depth='all', includeSL=True)"
   ]
  },
  {
   "cell_type": "code",
   "execution_count": null,
   "id": "3738433b",
   "metadata": {},
   "outputs": [],
   "source": [
    "#rarefaction curves per community\n",
    "rarefy_curve(comm, newdf)"
   ]
  },
  {
   "cell_type": "code",
   "execution_count": null,
   "id": "16d2979f",
   "metadata": {},
   "outputs": [],
   "source": [
    "copy = newdf[['weekn', 'depth', 'size_code', '[DNA]ng/ul']].drop_duplicates()"
   ]
  },
  {
   "cell_type": "code",
   "execution_count": null,
   "id": "749c55bf",
   "metadata": {},
   "outputs": [],
   "source": [
    "copy"
   ]
  },
  {
   "cell_type": "code",
   "execution_count": null,
   "id": "3db3def9",
   "metadata": {},
   "outputs": [],
   "source": []
  },
  {
   "cell_type": "code",
   "execution_count": null,
   "id": "22605b1e",
   "metadata": {},
   "outputs": [],
   "source": []
  },
  {
   "cell_type": "markdown",
   "id": "3d5a8df5",
   "metadata": {},
   "source": [
    "We can also sort the samples by their library size:"
   ]
  },
  {
   "cell_type": "code",
   "execution_count": null,
   "id": "75273c16",
   "metadata": {},
   "outputs": [],
   "source": [
    "newseparated[['Total','sampleid']].sort_values('Total').drop_duplicates()"
   ]
  },
  {
   "cell_type": "markdown",
   "id": "ebab5e55",
   "metadata": {},
   "source": [
    "#### Explore the taxonomy in the samples and compare"
   ]
  },
  {
   "cell_type": "code",
   "execution_count": null,
   "id": "87cb5a16",
   "metadata": {},
   "outputs": [],
   "source": [
    "newdf2 = newdf[newdf['size_code'] != 'L']"
   ]
  },
  {
   "cell_type": "code",
   "execution_count": null,
   "id": "945f9da7",
   "metadata": {},
   "outputs": [],
   "source": [
    "#Produce interactive taxonomic barplots with plotly\n",
    "phyld, top10d = taxbarplot(comm, newdf, 'Genus', depth=60, topn=10, colrow='size_code')"
   ]
  },
  {
   "cell_type": "code",
   "execution_count": null,
   "id": "46004da8",
   "metadata": {},
   "outputs": [],
   "source": []
  },
  {
   "cell_type": "code",
   "execution_count": null,
   "id": "5be826b3",
   "metadata": {},
   "outputs": [],
   "source": [
    "#Visualize the static barplots with seaborn, and each size fraction separately\n",
    "taxonomic_barplots(comm, newdf, [5,60], 'Genus', 21, False)"
   ]
  },
  {
   "cell_type": "code",
   "execution_count": null,
   "id": "8d3b4e56",
   "metadata": {},
   "outputs": [],
   "source": [
    "taxonomic_barplots_p(comm, newdf, [5,60], 'Genus', 21, True)"
   ]
  },
  {
   "cell_type": "code",
   "execution_count": null,
   "id": "aa1b3e1e",
   "metadata": {},
   "outputs": [],
   "source": []
  },
  {
   "cell_type": "code",
   "execution_count": null,
   "id": "c534508d",
   "metadata": {},
   "outputs": [],
   "source": [
    "#Generate the heatmap for the top genus from each sample\n",
    "heatmap_top1(comm, newdf, 'Genus')"
   ]
  },
  {
   "cell_type": "code",
   "execution_count": null,
   "id": "a79860e0",
   "metadata": {},
   "outputs": [],
   "source": [
    "f_id = '25679bd7ae54946d9d7348b7fde04db4'\n",
    "newdf.loc[newdf['feature_id'] == f_id, 'Taxon'].tolist()[0]"
   ]
  },
  {
   "cell_type": "code",
   "execution_count": null,
   "id": "5f5173bb",
   "metadata": {},
   "outputs": [],
   "source": []
  },
  {
   "cell_type": "code",
   "execution_count": null,
   "id": "19ac18a4",
   "metadata": {},
   "outputs": [],
   "source": []
  },
  {
   "cell_type": "code",
   "execution_count": null,
   "id": "9d7b6053",
   "metadata": {},
   "outputs": [],
   "source": []
  },
  {
   "cell_type": "code",
   "execution_count": null,
   "id": "2f699854",
   "metadata": {},
   "outputs": [],
   "source": [
    "def heatmap_top2(comm, sfd, level):\n",
    "    if comm == 'chloroplast':\n",
    "        level = 'PRSpecies'\n",
    "    else:\n",
    "        level = level\n",
    "\n",
    "    # Extract relevant columns and clean data\n",
    "    toptaxa = sfd[['feature_id', 'feature_frequency', 'Taxon', 'size_code', 'depth', 'weekn', level]].copy()\n",
    "    toptaxa.loc[toptaxa[level].isin(['Unassigned', 'uncultured+bacterium', 'g__uncultured']), level] = toptaxa['feature_id']\n",
    "    toptaxa = toptaxa.drop_duplicates()\n",
    "\n",
    "    # Aggregate and rank taxa by frequency\n",
    "    df_agg = toptaxa.groupby(['size_code', level, 'depth', 'weekn']).agg({'feature_frequency': sum}).reset_index()\n",
    "    df_agg['rank'] = df_agg.groupby(['size_code', 'depth', 'weekn'])['feature_frequency'].rank(method='first', ascending=False)\n",
    "\n",
    "    # Keep only the top 2 taxa for each group\n",
    "    topd = df_agg[df_agg['rank'] <= 2].copy()\n",
    "\n",
    "    # Combine top 2 genera into a single string for each group\n",
    "    topd[level] = topd[level].str.replace('g__', '', regex=False)\n",
    "    topd['top2_combination'] = topd.groupby(['size_code', 'depth', 'weekn'])[level].transform(\n",
    "        lambda x: '+'.join(sorted(x.unique()))\n",
    "    )\n",
    "\n",
    "    # Remove duplicates by aggregating the most frequent combination\n",
    "    topd = topd.groupby(['size_code', 'depth', 'weekn', 'top2_combination']).agg(\n",
    "        {'feature_frequency': 'sum'}\n",
    "    ).reset_index()\n",
    "\n",
    "    # Sort unique top 2 combinations in reverse alphabetical order\n",
    "    unique_combinations = sorted(topd['top2_combination'].unique(), reverse=True)\n",
    "    type_dic = {comb: i for i, comb in enumerate(unique_combinations, start=1)}\n",
    "\n",
    "    topd['comm_type'] = topd['top2_combination'].map(type_dic)\n",
    "\n",
    "    # Custom row order: 1W, 1SL, 1S, 1L, ..., 60W, 60SL, 60S, 60L\n",
    "    size_order = ['W', 'SL', 'S', 'L']\n",
    "    depth_order = [f\"{d}{s}\" for d in ['1', '5', '10', '30', '60'] for s in size_order]\n",
    "    topd[\"sc_weekn\"] = topd[\"depth\"].astype(str) + topd[\"size_code\"]\n",
    "    topd['sc_weekn'] = pd.Categorical(topd['sc_weekn'], categories=depth_order, ordered=True)\n",
    "\n",
    "    topd = topd.sort_values(['sc_weekn'])\n",
    "\n",
    "    # Ensure each combination of sc_weekn and weekn is unique before pivoting\n",
    "    pivot_data = topd.groupby(['sc_weekn', 'weekn'])['comm_type'].first().reset_index()\n",
    "\n",
    "    # Pivot data for the heatmap\n",
    "    glue = pivot_data.pivot(index=\"sc_weekn\", columns=\"weekn\", values=\"comm_type\")\n",
    "    glue = glue[glue.columns].astype(float)\n",
    "\n",
    "    cmap = plt.get_cmap('tab20', len(type_dic))\n",
    "\n",
    "    sns.set_style('ticks')\n",
    "    plt.figure(figsize=(5, 5))\n",
    "\n",
    "    ax = sns.heatmap(glue, fmt='f', yticklabels=True, linewidths=.5, cmap=cmap)\n",
    "\n",
    "    # Adjust colorbar to display top 2 combinations\n",
    "    colorbar = ax.collections[0].colorbar\n",
    "    colorbar.set_ticks([val + 0.5 for val in range(len(type_dic))])\n",
    "    colorbar.set_ticklabels(unique_combinations)\n",
    "\n",
    "    # Add dotted lines for separation\n",
    "    ax.axhline(4, ls='--')\n",
    "    ax.axhline(8, ls='--')\n",
    "    ax.axhline(12, ls='--')\n",
    "    ax.axhline(16, ls='--')\n",
    "\n",
    "    # Set x-ticks (e.g., every 5 weeks)\n",
    "    ax.set_xticks(range(0, 16, 5))\n",
    "    ax.set_ylabel(\"Depth and Size Code\")\n",
    "    ax.set_xlabel(\"Week Number\")\n",
    "\n",
    "    # Save and display the heatmap\n",
    "    plt.savefig(f'outputs/{comm}/heatmap_top2_fixed_{level}.png', bbox_inches='tight', dpi=300)\n",
    "    plt.show()\n"
   ]
  },
  {
   "cell_type": "code",
   "execution_count": null,
   "id": "297b5c8e",
   "metadata": {},
   "outputs": [],
   "source": [
    "heatmap_top2(comm, newdf, 'Genus')"
   ]
  },
  {
   "cell_type": "code",
   "execution_count": null,
   "id": "fe10e48b",
   "metadata": {},
   "outputs": [],
   "source": [
    "import pandas as pd\n",
    "\n",
    "def prepare_chord_data(G):\n",
    "    \"\"\"\n",
    "    Prepare co-occurrence data for a chord diagram.\n",
    "    \n",
    "    Parameters:\n",
    "    - G: NetworkX graph object.\n",
    "    \n",
    "    Returns:\n",
    "    - DataFrame: Edge list with source, target, and weight.\n",
    "    \"\"\"\n",
    "    # Extract edges and their weights\n",
    "    edges = [(u, v, d['count']) for u, v, d in G.edges(data=True)]\n",
    "    chord_data = pd.DataFrame(edges, columns=['Source', 'Target', 'Weight'])\n",
    "    return chord_data\n"
   ]
  },
  {
   "cell_type": "code",
   "execution_count": null,
   "id": "c1e2d3ee",
   "metadata": {},
   "outputs": [],
   "source": [
    "import holoviews as hv\n",
    "from holoviews import opts\n",
    "hv.extension('bokeh')\n",
    "\n",
    "def visualize_chord(chord_data):\n",
    "    \"\"\"\n",
    "    Visualize a chord diagram from co-occurrence data.\n",
    "    \n",
    "    Parameters:\n",
    "    - chord_data: DataFrame containing Source, Target, and Weight columns.\n",
    "    \"\"\"\n",
    "    # Create Chord Diagram\n",
    "    nodes = list(set(chord_data['Source']).union(set(chord_data['Target'])))\n",
    "    chords = hv.Chord((chord_data, hv.Dataset(nodes, 'Index')))\n",
    "    \n",
    "    # Configure the diagram\n",
    "    chords = chords.opts(\n",
    "        opts.Chord(\n",
    "            labels='Index',\n",
    "            edge_color='Source',\n",
    "            edge_cmap='Category20',\n",
    "            node_color='Index',\n",
    "            node_cmap='Category20',\n",
    "            width=800,\n",
    "            height=800,\n",
    "            title=\"Co-occurrence Chord Diagram\"\n",
    "        )\n",
    "    )\n",
    "    return chords\n"
   ]
  },
  {
   "cell_type": "code",
   "execution_count": null,
   "id": "18587b7e",
   "metadata": {},
   "outputs": [],
   "source": []
  },
  {
   "cell_type": "code",
   "execution_count": null,
   "id": "c935be4c",
   "metadata": {},
   "outputs": [],
   "source": []
  },
  {
   "cell_type": "code",
   "execution_count": null,
   "id": "69c917a5",
   "metadata": {},
   "outputs": [],
   "source": []
  },
  {
   "cell_type": "code",
   "execution_count": null,
   "id": "b91f5951",
   "metadata": {},
   "outputs": [],
   "source": []
  },
  {
   "cell_type": "code",
   "execution_count": null,
   "id": "2b6ca407",
   "metadata": {},
   "outputs": [],
   "source": []
  },
  {
   "cell_type": "markdown",
   "id": "baae7dca",
   "metadata": {},
   "source": [
    "The above plot uses taxonomy, but we can generate the same plot but by comparing whether 80% of the features in each samples are also found in the whole (unfractionated samples). This was quantified by dividing the number of shared features by the toal number of features. If a square has a red color (closer to 1), it's very similar to the unfractionated sample, and the bluer the square, the more different it is from the unfractionated."
   ]
  },
  {
   "cell_type": "code",
   "execution_count": null,
   "id": "8afbafc9",
   "metadata": {},
   "outputs": [],
   "source": [
    "grab_80perc(comm, newseparated, 0.8, 'feature_id')"
   ]
  },
  {
   "cell_type": "code",
   "execution_count": 5,
   "id": "d35fd6c5",
   "metadata": {},
   "outputs": [
    {
     "data": {
      "text/html": [
       "<div>\n",
       "<style scoped>\n",
       "    .dataframe tbody tr th:only-of-type {\n",
       "        vertical-align: middle;\n",
       "    }\n",
       "\n",
       "    .dataframe tbody tr th {\n",
       "        vertical-align: top;\n",
       "    }\n",
       "\n",
       "    .dataframe thead th {\n",
       "        text-align: right;\n",
       "    }\n",
       "</style>\n",
       "<table border=\"1\" class=\"dataframe\">\n",
       "  <thead>\n",
       "    <tr style=\"text-align: right;\">\n",
       "      <th></th>\n",
       "      <th>size_code</th>\n",
       "    </tr>\n",
       "  </thead>\n",
       "  <tbody>\n",
       "    <tr>\n",
       "      <th>0</th>\n",
       "      <td>SL</td>\n",
       "    </tr>\n",
       "    <tr>\n",
       "      <th>1</th>\n",
       "      <td>SL</td>\n",
       "    </tr>\n",
       "    <tr>\n",
       "      <th>2</th>\n",
       "      <td>SL</td>\n",
       "    </tr>\n",
       "    <tr>\n",
       "      <th>3</th>\n",
       "      <td>SL</td>\n",
       "    </tr>\n",
       "    <tr>\n",
       "      <th>4</th>\n",
       "      <td>SL</td>\n",
       "    </tr>\n",
       "    <tr>\n",
       "      <th>...</th>\n",
       "      <td>...</td>\n",
       "    </tr>\n",
       "    <tr>\n",
       "      <th>113624</th>\n",
       "      <td>S</td>\n",
       "    </tr>\n",
       "    <tr>\n",
       "      <th>113625</th>\n",
       "      <td>S</td>\n",
       "    </tr>\n",
       "    <tr>\n",
       "      <th>113626</th>\n",
       "      <td>S</td>\n",
       "    </tr>\n",
       "    <tr>\n",
       "      <th>113627</th>\n",
       "      <td>S</td>\n",
       "    </tr>\n",
       "    <tr>\n",
       "      <th>113628</th>\n",
       "      <td>S</td>\n",
       "    </tr>\n",
       "  </tbody>\n",
       "</table>\n",
       "<p>113629 rows × 1 columns</p>\n",
       "</div>"
      ],
      "text/plain": [
       "       size_code\n",
       "0             SL\n",
       "1             SL\n",
       "2             SL\n",
       "3             SL\n",
       "4             SL\n",
       "...          ...\n",
       "113624         S\n",
       "113625         S\n",
       "113626         S\n",
       "113627         S\n",
       "113628         S\n",
       "\n",
       "[113629 rows x 1 columns]"
      ]
     },
     "execution_count": 5,
     "metadata": {},
     "output_type": "execute_result"
    }
   ],
   "source": [
    "newdf[['size_code']]"
   ]
  },
  {
   "cell_type": "markdown",
   "id": "5f2a2e05",
   "metadata": {},
   "source": [
    "We can plot alpha diversity measurements, whether as 'shannon_diversity' or 'nASVs' which is the richness quantified by the total number of ASVs"
   ]
  },
  {
   "cell_type": "code",
   "execution_count": 33,
   "id": "155a887c",
   "metadata": {},
   "outputs": [
    {
     "name": "stdout",
     "output_type": "stream",
     "text": [
      "['SL' 'W' 'L' 'S']\n"
     ]
    },
    {
     "data": {
      "image/png": "[encoded data removed]",
      "text/plain": [
       "<Figure size 700x300 with 1 Axes>"
      ]
     },
     "metadata": {},
     "output_type": "display_data"
    }
   ],
   "source": [
    "#run the visualisations for alpha diversity and run pairwise t-tests between size fractions for richness values\n",
    "anova, results = boxplot_depth(newdf, comm, 60, 'nASVs', 'Shannon Diversity Index')\n",
    "#results gives the corrected p-values for pairwise comparisons"
   ]
  },
  {
   "cell_type": "code",
   "execution_count": 34,
   "id": "5c2f3943",
   "metadata": {},
   "outputs": [
    {
     "data": {
      "text/html": [
       "<div>\n",
       "<style scoped>\n",
       "    .dataframe tbody tr th:only-of-type {\n",
       "        vertical-align: middle;\n",
       "    }\n",
       "\n",
       "    .dataframe tbody tr th {\n",
       "        vertical-align: top;\n",
       "    }\n",
       "\n",
       "    .dataframe thead th {\n",
       "        text-align: right;\n",
       "    }\n",
       "</style>\n",
       "<table border=\"1\" class=\"dataframe\">\n",
       "  <thead>\n",
       "    <tr style=\"text-align: right;\">\n",
       "      <th></th>\n",
       "      <th>SL</th>\n",
       "      <th>W</th>\n",
       "      <th>L</th>\n",
       "      <th>S</th>\n",
       "    </tr>\n",
       "  </thead>\n",
       "  <tbody>\n",
       "    <tr>\n",
       "      <th>SL</th>\n",
       "      <td>1.000000e+00</td>\n",
       "      <td>0.000018</td>\n",
       "      <td>4.539310e-07</td>\n",
       "      <td>0.010765</td>\n",
       "    </tr>\n",
       "    <tr>\n",
       "      <th>W</th>\n",
       "      <td>1.842885e-05</td>\n",
       "      <td>1.000000</td>\n",
       "      <td>3.308731e-02</td>\n",
       "      <td>0.038276</td>\n",
       "    </tr>\n",
       "    <tr>\n",
       "      <th>L</th>\n",
       "      <td>4.539310e-07</td>\n",
       "      <td>0.033087</td>\n",
       "      <td>1.000000e+00</td>\n",
       "      <td>0.000844</td>\n",
       "    </tr>\n",
       "    <tr>\n",
       "      <th>S</th>\n",
       "      <td>1.076514e-02</td>\n",
       "      <td>0.038276</td>\n",
       "      <td>8.441715e-04</td>\n",
       "      <td>1.000000</td>\n",
       "    </tr>\n",
       "  </tbody>\n",
       "</table>\n",
       "</div>"
      ],
      "text/plain": [
       "              SL         W             L         S\n",
       "SL  1.000000e+00  0.000018  4.539310e-07  0.010765\n",
       "W   1.842885e-05  1.000000  3.308731e-02  0.038276\n",
       "L   4.539310e-07  0.033087  1.000000e+00  0.000844\n",
       "S   1.076514e-02  0.038276  8.441715e-04  1.000000"
      ]
     },
     "execution_count": 34,
     "metadata": {},
     "output_type": "execute_result"
    }
   ],
   "source": [
    "results"
   ]
  },
  {
   "cell_type": "markdown",
   "id": "14ac93b5",
   "metadata": {},
   "source": [
    "Compare the slopes of linear regressions of the richness change over time. Each value represents how much a size fraction (column) differs in comparison to the average slope (averaged between all size fractions) for each depth (rows)."
   ]
  },
  {
   "cell_type": "code",
   "execution_count": null,
   "id": "d4d80b53",
   "metadata": {},
   "outputs": [],
   "source": [
    "tohm, z_sc_df = get_slopes(comm, separated)\n",
    "#a zscore of 1= 1 std away from the mean,\n",
    "#positive values=higher than mean, neg= smaller than mean"
   ]
  },
  {
   "cell_type": "markdown",
   "id": "917d1bc5",
   "metadata": {},
   "source": [
    "### Venn diagrams for features unique to size fractions"
   ]
  },
  {
   "cell_type": "code",
   "execution_count": null,
   "id": "9a13db0a",
   "metadata": {},
   "outputs": [],
   "source": [
    "df_noSL = newdf[newdf['size_code'].isin(['S', 'L', 'W'])]"
   ]
  },
  {
   "cell_type": "code",
   "execution_count": null,
   "id": "67415ef9",
   "metadata": {},
   "outputs": [],
   "source": [
    "df_filtered = newdf[newdf['size_code'].isin(['SL','W']) ]"
   ]
  },
  {
   "cell_type": "code",
   "execution_count": null,
   "id": "5633f1be",
   "metadata": {},
   "outputs": [],
   "source": [
    "df_wide = df_filtered.pivot_table(\n",
    "    index='feature_id',      # feature_id as the row index\n",
    "    columns='size_code',     # size_code as column headers\n",
    "    values='ratio',          # fill column cells with ratio\n",
    "    fill_value=0             # use 0 where no data is present\n",
    ") #the reported val"
   ]
  },
  {
   "cell_type": "code",
   "execution_count": null,
   "id": "96fcea08",
   "metadata": {},
   "outputs": [],
   "source": [
    "df_unique_SL = df_wide[(df_wide['SL'] != 0) & (df_wide['W'] == 0)]\n",
    "df_unique_W  = df_wide[(df_wide['W']  != 0) & (df_wide['SL'] == 0)]"
   ]
  },
  {
   "cell_type": "code",
   "execution_count": null,
   "id": "5bd9f954",
   "metadata": {},
   "outputs": [],
   "source": [
    "df_unique_SL.sort_values('SL')"
   ]
  },
  {
   "cell_type": "code",
   "execution_count": null,
   "id": "f50cd473",
   "metadata": {},
   "outputs": [],
   "source": [
    "unique_w_ids = df_unique_W.index\n",
    "\n",
    "df_w_only_long = newdf[newdf['feature_id'].isin(unique_w_ids)].copy()\n",
    "\n",
    "df_w_counts = df_w_only_long.groupby(['weekn','depth'])['feature_id'].nunique().reset_index()\n",
    "df_w_counts.rename(columns={'feature_id':'num_unique_W_features'}, inplace=True)\n"
   ]
  },
  {
   "cell_type": "code",
   "execution_count": null,
   "id": "6ed05c9f",
   "metadata": {},
   "outputs": [],
   "source": []
  },
  {
   "cell_type": "code",
   "execution_count": null,
   "id": "ad6256e5",
   "metadata": {},
   "outputs": [],
   "source": [
    "df_w_counts.sort_values('num_unique_W_features')"
   ]
  },
  {
   "cell_type": "code",
   "execution_count": null,
   "id": "7ec74d34",
   "metadata": {},
   "outputs": [],
   "source": []
  },
  {
   "cell_type": "code",
   "execution_count": null,
   "id": "57cc3b96",
   "metadata": {},
   "outputs": [],
   "source": [
    "unique_sl_ids = df_unique_SL.index\n",
    "\n",
    "df_sl_only_long = newdf[newdf['feature_id'].isin(unique_sl_ids)].copy()\n",
    "\n",
    "df_sl_counts = df_sl_only_long.groupby(['weekn','depth'])['feature_id'].nunique().reset_index()\n",
    "df_sl_counts.rename(columns={'feature_id':'num_unique_W_features'}, inplace=True)\n"
   ]
  },
  {
   "cell_type": "code",
   "execution_count": null,
   "id": "00296433",
   "metadata": {},
   "outputs": [],
   "source": []
  },
  {
   "cell_type": "code",
   "execution_count": null,
   "id": "67c042be",
   "metadata": {},
   "outputs": [],
   "source": [
    "df_w_counts = df_w_only_long.groupby(['weekn','depth'])['feature_id'].nunique().reset_index(name='unique_W')\n",
    "df_sl_counts = df_sl_only_long.groupby(['weekn','depth'])['feature_id'].nunique().reset_index(name='unique_SL')\n",
    "\n",
    "df_compare = pd.merge(df_w_counts, df_sl_counts, on=['weekn','depth'], how='outer').fillna(0)"
   ]
  },
  {
   "cell_type": "code",
   "execution_count": null,
   "id": "422aefbb",
   "metadata": {},
   "outputs": [],
   "source": [
    "df_compare.sort_values('unique_SL')"
   ]
  },
  {
   "cell_type": "code",
   "execution_count": null,
   "id": "807b29f0",
   "metadata": {},
   "outputs": [],
   "source": [
    "df_heat_SL = df_compare.pivot(index=\"depth\", columns=\"weekn\", values=\"unique_SL\")\n",
    "\n",
    "plt.figure(figsize=(6,4))\n",
    "sns.heatmap(df_heat_SL,\n",
    "            cmap=\"viridis\")\n",
    "plt.title(\"Heatmap of W-Unique Features by depth x weekn\")\n",
    "plt.show()"
   ]
  },
  {
   "cell_type": "code",
   "execution_count": null,
   "id": "4472356a",
   "metadata": {},
   "outputs": [],
   "source": [
    "df_heat_W = df_compare.pivot(index=\"depth\", columns=\"weekn\", values=\"unique_W\")\n",
    "\n",
    "plt.figure(figsize=(6,4))\n",
    "sns.heatmap(df_heat_W,\n",
    "            cmap=\"viridis\")\n",
    "plt.title(\"Heatmap of W-Unique Features by depth x weekn\")\n",
    "plt.show()"
   ]
  },
  {
   "cell_type": "code",
   "execution_count": null,
   "id": "810c8592",
   "metadata": {},
   "outputs": [],
   "source": [
    "df_totAll = (\n",
    "    newdf\n",
    "    .groupby(['weekn','depth'])['feature_id']\n",
    "    .nunique()\n",
    "    .reset_index(name='tot_All')\n",
    ")"
   ]
  },
  {
   "cell_type": "code",
   "execution_count": null,
   "id": "85129d5d",
   "metadata": {},
   "outputs": [],
   "source": [
    "df_totFraction = (\n",
    "    newdf\n",
    "    .groupby(['weekn', 'depth', 'size_code'])['feature_id']\n",
    "    .nunique()               # Count how many distinct ASVs per group\n",
    "    .reset_index()\n",
    "    .pivot(index=['weekn','depth'], columns='size_code', values='feature_id')\n",
    "    .fillna(0)\n",
    "    .astype(int)\n",
    "    .rename(columns={'S':'tot_S','L':'tot_L','W':'tot_W','SL':'tot_SL'})\n",
    "    .reset_index()\n",
    ")"
   ]
  },
  {
   "cell_type": "code",
   "execution_count": null,
   "id": "d0df2686",
   "metadata": {},
   "outputs": [],
   "source": [
    "df_merged = pd.merge(df_compare, df_totFraction, on=['weekn','depth'], how='left')\n",
    "df_merged = pd.merge(df_merged, df_totAll,      on=['weekn','depth'], how='left')"
   ]
  },
  {
   "cell_type": "code",
   "execution_count": null,
   "id": "999b1511",
   "metadata": {},
   "outputs": [],
   "source": [
    "df_merged"
   ]
  },
  {
   "cell_type": "code",
   "execution_count": null,
   "id": "5f97ba6c",
   "metadata": {},
   "outputs": [],
   "source": []
  },
  {
   "cell_type": "code",
   "execution_count": null,
   "id": "9ea08c71",
   "metadata": {},
   "outputs": [],
   "source": [
    "df_merged['propW_inSample']  = df_merged['unique_W']  / df_merged['tot_All']\n",
    "df_merged['propSL_inSample'] = df_merged['unique_SL'] / df_merged['tot_All']"
   ]
  },
  {
   "cell_type": "code",
   "execution_count": null,
   "id": "7704bb8f",
   "metadata": {},
   "outputs": [],
   "source": [
    "df_merged"
   ]
  },
  {
   "cell_type": "code",
   "execution_count": null,
   "id": "5b7f986b",
   "metadata": {},
   "outputs": [],
   "source": [
    "df_heatmap = df_merged.pivot(\n",
    "    index=\"depth\",\n",
    "    columns=\"weekn\",\n",
    "    values=\"propSL_inSample\"\n",
    ")\n",
    "plt.figure(figsize=(6,4))\n",
    "sns.heatmap(df_heatmap, cmap=\"viridis\", annot=True)\n",
    "plt.title(\"Proportion of Unique-to-W ASVs by Weekn x Depth\")\n",
    "plt.show()"
   ]
  },
  {
   "cell_type": "code",
   "execution_count": null,
   "id": "3bcb0ed8",
   "metadata": {},
   "outputs": [],
   "source": []
  },
  {
   "cell_type": "code",
   "execution_count": null,
   "id": "da00c495",
   "metadata": {},
   "outputs": [],
   "source": [
    "df_noSL = newdf[newdf['size_code'].isin(['S','L','W'])].copy()"
   ]
  },
  {
   "cell_type": "code",
   "execution_count": null,
   "id": "445a4c73",
   "metadata": {},
   "outputs": [],
   "source": [
    "df_noSL['presence'] = 1\n",
    "\n",
    "df_pivot = df_noSL.pivot_table(\n",
    "    index=['weekn', 'depth', 'feature_id'],  # group by these\n",
    "    columns='size_code',                     # S, L, W become columns\n",
    "    values='presence',\n",
    "    fill_value=0,\n",
    "    aggfunc='sum'  # if duplicates exist, sum them\n",
    ").reset_index()"
   ]
  },
  {
   "cell_type": "code",
   "execution_count": null,
   "id": "e7cbbe52",
   "metadata": {},
   "outputs": [],
   "source": [
    "df_pivot['unique_S'] = ((df_pivot['S'] == 1) & (df_pivot['L'] == 0) & (df_pivot['W'] == 0)).astype(int)\n",
    "df_pivot['unique_L'] = ((df_pivot['L'] == 1) & (df_pivot['S'] == 0) & (df_pivot['W'] == 0)).astype(int)\n",
    "df_pivot['unique_W'] = ((df_pivot['W'] == 1) & (df_pivot['S'] == 0) & (df_pivot['L'] == 0)).astype(int)"
   ]
  },
  {
   "cell_type": "code",
   "execution_count": null,
   "id": "b0b1b6f9",
   "metadata": {},
   "outputs": [],
   "source": [
    "df_unique_counts = (\n",
    "    df_pivot\n",
    "    .groupby(['weekn','depth'])[['unique_S','unique_L','unique_W']]\n",
    "    .sum()                    # sums the 1/0 across features\n",
    "    .reset_index()\n",
    ")\n"
   ]
  },
  {
   "cell_type": "code",
   "execution_count": null,
   "id": "56ec750f",
   "metadata": {},
   "outputs": [],
   "source": [
    "df_totFraction = (\n",
    "    df_pivot\n",
    "    .groupby(['weekn','depth'])[['S','L','W']]\n",
    "    .sum()  # Because each feature that was present contributes 1\n",
    "    .reset_index()\n",
    "    .rename(columns={'S': 'tot_S', 'L': 'tot_L', 'W': 'tot_W'})\n",
    ")"
   ]
  },
  {
   "cell_type": "code",
   "execution_count": null,
   "id": "c288cf52",
   "metadata": {},
   "outputs": [],
   "source": [
    "df_merged = pd.merge(df_unique_counts, df_totFraction, on=['weekn','depth'], how='left')\n",
    "df_merged['prop_unique_S'] = df_merged['unique_S'] / df_merged['tot_S']"
   ]
  },
  {
   "cell_type": "code",
   "execution_count": null,
   "id": "845e9275",
   "metadata": {},
   "outputs": [],
   "source": [
    "df_long = df_unique_counts.melt(\n",
    "    id_vars=['weekn','depth'],\n",
    "    value_vars=['unique_S','unique_L','unique_W'],\n",
    "    var_name='fraction',\n",
    "    value_name='count_unique'\n",
    ")\n",
    "\n",
    "# e.g., fraction might be 'unique_S'. Let's remove \"unique_\" for clarity:\n",
    "df_long['fraction'] = df_long['fraction'].str.replace('unique_','')"
   ]
  },
  {
   "cell_type": "code",
   "execution_count": null,
   "id": "c9289ecf",
   "metadata": {},
   "outputs": [],
   "source": [
    "g = sns.catplot(\n",
    "    data=df_long,\n",
    "    x='weekn', y='count_unique',\n",
    "    hue='fraction',\n",
    "    col='depth',      # one subplot per depth\n",
    "    kind='bar',\n",
    "    height=4, aspect=1.2\n",
    ")\n",
    "\n",
    "g.set_titles(\"Depth = {col_name}\")\n",
    "g.set_axis_labels(\"weekn\", \"Count of Unique Features\")\n",
    "g.add_legend()\n",
    "plt.suptitle(\"Number of Fraction-Unique Features by Weekn, Depth\", y=1.05)\n",
    "plt.show()"
   ]
  },
  {
   "cell_type": "code",
   "execution_count": null,
   "id": "963ffa9b",
   "metadata": {},
   "outputs": [],
   "source": [
    "df_heat_S = df_unique_counts.pivot(index='depth', columns='weekn', values='unique_S')\n",
    "df_heat_L = df_unique_counts.pivot(index='depth', columns='weekn', values='unique_L')\n",
    "df_heat_W = df_unique_counts.pivot(index='depth', columns='weekn', values='unique_W')\n",
    "\n",
    "sns.heatmap(df_heat_W, annot=True, cmap='Blues')\n",
    "plt.title(\"Unique-S Features by (weekn x depth)\")\n",
    "plt.show()\n"
   ]
  },
  {
   "cell_type": "code",
   "execution_count": null,
   "id": "bc56aad8",
   "metadata": {},
   "outputs": [],
   "source": []
  },
  {
   "cell_type": "code",
   "execution_count": null,
   "id": "16c701b9",
   "metadata": {},
   "outputs": [],
   "source": []
  },
  {
   "cell_type": "code",
   "execution_count": null,
   "id": "41903a5f",
   "metadata": {},
   "outputs": [],
   "source": []
  },
  {
   "cell_type": "code",
   "execution_count": null,
   "id": "01fc9dd6",
   "metadata": {},
   "outputs": [],
   "source": []
  },
  {
   "cell_type": "code",
   "execution_count": null,
   "id": "f6012af5",
   "metadata": {},
   "outputs": [],
   "source": []
  },
  {
   "cell_type": "code",
   "execution_count": null,
   "id": "59bd9d08",
   "metadata": {},
   "outputs": [],
   "source": []
  },
  {
   "cell_type": "code",
   "execution_count": null,
   "id": "7f14eda3",
   "metadata": {},
   "outputs": [],
   "source": []
  },
  {
   "cell_type": "code",
   "execution_count": null,
   "id": "b9c67a13",
   "metadata": {},
   "outputs": [],
   "source": []
  },
  {
   "cell_type": "code",
   "execution_count": null,
   "id": "67d9b212",
   "metadata": {},
   "outputs": [],
   "source": []
  },
  {
   "cell_type": "code",
   "execution_count": null,
   "id": "c023f47e",
   "metadata": {},
   "outputs": [],
   "source": []
  },
  {
   "cell_type": "code",
   "execution_count": null,
   "id": "c26ffade",
   "metadata": {},
   "outputs": [],
   "source": []
  },
  {
   "cell_type": "code",
   "execution_count": null,
   "id": "63f908ec",
   "metadata": {},
   "outputs": [],
   "source": []
  },
  {
   "cell_type": "code",
   "execution_count": null,
   "id": "e4b44a96",
   "metadata": {},
   "outputs": [],
   "source": []
  },
  {
   "cell_type": "code",
   "execution_count": null,
   "id": "3d45bca1",
   "metadata": {},
   "outputs": [],
   "source": []
  },
  {
   "cell_type": "code",
   "execution_count": null,
   "id": "82b8a718",
   "metadata": {},
   "outputs": [],
   "source": []
  },
  {
   "cell_type": "code",
   "execution_count": null,
   "id": "b6bfd371",
   "metadata": {},
   "outputs": [],
   "source": [
    "df_wide_noSL = df_wide[(df_wide['S'] == 0) & (df_wide['L'] == 0)]"
   ]
  },
  {
   "cell_type": "code",
   "execution_count": null,
   "id": "ef01652a",
   "metadata": {},
   "outputs": [],
   "source": [
    "df_SL = df_wide[\n",
    "    (df_wide['SL'] != 0) & (df_wide['W'] == 0)\n",
    "]\n",
    "df_W = df_wide[\n",
    "    (df_wide['W'] != 0) & (df_wide['SL'] == 0)\n",
    "]"
   ]
  },
  {
   "cell_type": "code",
   "execution_count": null,
   "id": "55865253",
   "metadata": {},
   "outputs": [],
   "source": [
    "len(df_W.index)"
   ]
  },
  {
   "cell_type": "code",
   "execution_count": null,
   "id": "85649b79",
   "metadata": {},
   "outputs": [],
   "source": [
    "df_SL.sort_values('SL')"
   ]
  },
  {
   "cell_type": "code",
   "execution_count": null,
   "id": "4a3c1861",
   "metadata": {},
   "outputs": [],
   "source": [
    "df_SL.to_csv('uniquegenus_to_SL.csv')"
   ]
  },
  {
   "cell_type": "code",
   "execution_count": null,
   "id": "de22e78a",
   "metadata": {},
   "outputs": [],
   "source": []
  },
  {
   "cell_type": "code",
   "execution_count": null,
   "id": "8dd430f2",
   "metadata": {},
   "outputs": [],
   "source": [
    "df_W.sort_values('W')"
   ]
  },
  {
   "cell_type": "code",
   "execution_count": null,
   "id": "8158fddc",
   "metadata": {},
   "outputs": [],
   "source": [
    "df_S.sort_values('S').len()"
   ]
  },
  {
   "cell_type": "code",
   "execution_count": null,
   "id": "5cc9c3f7",
   "metadata": {},
   "outputs": [],
   "source": [
    "df_L.sort_values('L')"
   ]
  },
  {
   "cell_type": "code",
   "execution_count": null,
   "id": "a3d26b36",
   "metadata": {},
   "outputs": [],
   "source": [
    "f_id = '000527117f05c819fdf7268c540a4a3b'\n",
    "newdf.loc[newdf['feature_id'] == f_id, 'Taxon'].tolist()[0]"
   ]
  },
  {
   "cell_type": "code",
   "execution_count": null,
   "id": "13b16fd1",
   "metadata": {},
   "outputs": [],
   "source": [
    "timeseries_fid(comm, newseparated, f_id, 's__uncultured_Alphaproteobacteria', 30)"
   ]
  },
  {
   "cell_type": "code",
   "execution_count": null,
   "id": "e8d0064e",
   "metadata": {},
   "outputs": [],
   "source": [
    "newdf.loc[newdf['feature_id'] == f_id]"
   ]
  },
  {
   "cell_type": "code",
   "execution_count": null,
   "id": "0dfdcab7",
   "metadata": {},
   "outputs": [],
   "source": []
  },
  {
   "cell_type": "code",
   "execution_count": null,
   "id": "5d8f7007",
   "metadata": {},
   "outputs": [],
   "source": [
    "newdf"
   ]
  },
  {
   "cell_type": "code",
   "execution_count": null,
   "id": "72a2be13",
   "metadata": {},
   "outputs": [],
   "source": []
  },
  {
   "cell_type": "code",
   "execution_count": null,
   "id": "48c2359d",
   "metadata": {},
   "outputs": [],
   "source": []
  },
  {
   "cell_type": "code",
   "execution_count": null,
   "id": "df4664fa",
   "metadata": {},
   "outputs": [],
   "source": []
  },
  {
   "cell_type": "code",
   "execution_count": null,
   "id": "6ada7097",
   "metadata": {},
   "outputs": [],
   "source": []
  },
  {
   "cell_type": "code",
   "execution_count": null,
   "id": "2c0ba5c9",
   "metadata": {},
   "outputs": [],
   "source": []
  },
  {
   "cell_type": "code",
   "execution_count": null,
   "id": "78bfdcf2",
   "metadata": {},
   "outputs": [],
   "source": []
  },
  {
   "cell_type": "code",
   "execution_count": null,
   "id": "a708ca22",
   "metadata": {},
   "outputs": [],
   "source": []
  },
  {
   "cell_type": "code",
   "execution_count": null,
   "id": "810c4549",
   "metadata": {},
   "outputs": [],
   "source": []
  },
  {
   "cell_type": "code",
   "execution_count": null,
   "id": "f0465ce4",
   "metadata": {},
   "outputs": [],
   "source": []
  },
  {
   "cell_type": "code",
   "execution_count": null,
   "id": "7831d9fd",
   "metadata": {},
   "outputs": [],
   "source": []
  },
  {
   "cell_type": "code",
   "execution_count": null,
   "id": "428bed93",
   "metadata": {},
   "outputs": [],
   "source": []
  },
  {
   "cell_type": "code",
   "execution_count": null,
   "id": "e96823d4",
   "metadata": {},
   "outputs": [],
   "source": []
  },
  {
   "cell_type": "markdown",
   "id": "efa8fadd",
   "metadata": {},
   "source": [
    "### Beta diversity and ANCOM analysis"
   ]
  },
  {
   "cell_type": "markdown",
   "id": "d19b1a82",
   "metadata": {},
   "source": [
    "Optionally we can run ANCOM with removed low abundance features with a given threshold"
   ]
  },
  {
   "cell_type": "code",
   "execution_count": null,
   "id": "bc00b39d",
   "metadata": {},
   "outputs": [],
   "source": [
    "#only if we want to run ANCOM pairwise\n",
    "news2 = newseparated[newseparated.size_code != 'L']\n",
    "news2 = news2[news2.size_code != 'SL']"
   ]
  },
  {
   "cell_type": "code",
   "execution_count": null,
   "id": "b563f2f4",
   "metadata": {},
   "outputs": [],
   "source": [
    "depths = [1,5,10,30,60]\n",
    "for depth in depths:\n",
    "    pca, pca_features, sfdclr, dm = pcaplot(newdf, depth, comm, 'size_code', 'DFr', 'week')"
   ]
  },
  {
   "cell_type": "code",
   "execution_count": null,
   "id": "70cabc53",
   "metadata": {},
   "outputs": [],
   "source": [
    "depths = [1,5,10,30,60]\n",
    "for depth in depths:\n",
    "    pca, pca_features, sfdclr, dm = pcaplot(newdf, depth, comm, 'size_code', 'DFr', 'week')\n",
    "    DAresults, DARejected_SC_taxonomy, prcentile = run_ancom(comm, newdf, sfdclr, depth, 'size_code', threshold=0)\n",
    "\n",
    "    #save outputs\n",
    "    DAresults.to_csv('outputs/ANCOM/chloroplast/none/'+comm+'_D'+str(depth)+'_WSLSL.csv')\n",
    "    DARejected_SC_taxonomy.to_csv('outputs/ANCOM/chloroplast/none/'+comm+'_D'+str(depth)+'_Trueonly_WSLSL.csv')\n",
    "\n",
    "    notify()"
   ]
  },
  {
   "cell_type": "markdown",
   "id": "d412eea7",
   "metadata": {},
   "source": [
    "Depending on ancom results, we can investigate single features temporal dynamics"
   ]
  },
  {
   "cell_type": "code",
   "execution_count": null,
   "id": "cd391fcc",
   "metadata": {},
   "outputs": [],
   "source": [
    "f_id = 'f3aa3ab8b0d2a94859675d59169af75'\n",
    "newdf.loc[newdf['feature_id'] == f_id, 'Taxon'].tolist()[0]"
   ]
  },
  {
   "cell_type": "markdown",
   "id": "9c0abfc9",
   "metadata": {},
   "source": [
    "Visualize the time series of a single feature in each size fraction over the 16 weeks"
   ]
  },
  {
   "cell_type": "code",
   "execution_count": null,
   "id": "0e5bfdc0",
   "metadata": {},
   "outputs": [],
   "source": [
    "timeseries_fid(comm, newseparated, f_id, 'g__Caenarcaniphilales', 1)"
   ]
  },
  {
   "cell_type": "code",
   "execution_count": null,
   "id": "60f1eac9",
   "metadata": {},
   "outputs": [],
   "source": []
  },
  {
   "cell_type": "code",
   "execution_count": null,
   "id": "56cc9acd",
   "metadata": {
    "scrolled": false
   },
   "outputs": [],
   "source": [
    "feature_id_summary = count_feature_id_presence_with_depth_and_W('outputs', comm)\n",
    "top_asvs_summary = filter_top_asvs(feature_id_summary, method=\"top_W_sum\", n=50)\n",
    "plot_asv_heatmap(comm, feature_id_summary, file_filter=\"WSLSL\")"
   ]
  },
  {
   "cell_type": "markdown",
   "id": "74750ee7",
   "metadata": {},
   "source": [
    "### Calculate euclidean distance between pairs of samples time-series"
   ]
  },
  {
   "cell_type": "code",
   "execution_count": null,
   "id": "44f5d527",
   "metadata": {},
   "outputs": [],
   "source": [
    "simtable = newdf.loc[newdf['size_code'] != 'L']\n",
    "simtable = simtable.loc[simtable['size_code'] != 'S']\n",
    "simtable = simtable.loc[simtable['depth'] == 1] "
   ]
  },
  {
   "cell_type": "code",
   "execution_count": null,
   "id": "615fcc6e",
   "metadata": {},
   "outputs": [],
   "source": [
    "def get_stage(weekNb):\n",
    "    if weekNb < 8:\n",
    "        return 'Pre-bloom'\n",
    "    elif weekNb >= 8:\n",
    "        return 'Bloom'\n",
    "\n",
    "simtable['period'] = simtable['weekn'].apply(get_stage)"
   ]
  },
  {
   "cell_type": "code",
   "execution_count": null,
   "id": "698fe8ed",
   "metadata": {},
   "outputs": [],
   "source": [
    "simtable = simtable[['sampleid', 'feature_id', 'ratio', 'weekn', 'size_code', 'period']].drop_duplicates()"
   ]
  },
  {
   "cell_type": "markdown",
   "id": "43cdd057",
   "metadata": {},
   "source": [
    "for calculation correlation for pre- and bloom"
   ]
  },
  {
   "cell_type": "code",
   "execution_count": null,
   "id": "7e891c53",
   "metadata": {},
   "outputs": [],
   "source": [
    "simtable = simtable.pivot(index=['feature_id', 'weekn', 'period'], columns='size_code', values='ratio').reset_index()"
   ]
  },
  {
   "cell_type": "code",
   "execution_count": null,
   "id": "38c1b30a",
   "metadata": {},
   "outputs": [],
   "source": [
    "simtable['SL'].fillna(0, inplace=True)\n",
    "simtable['W'].fillna(0, inplace=True)\n",
    "simtable['Difference'] = (simtable['SL'] - simtable['W']).abs()"
   ]
  },
  {
   "cell_type": "code",
   "execution_count": null,
   "id": "48779f8d",
   "metadata": {},
   "outputs": [],
   "source": [
    "simtable['Average_Abundance'] = simtable[['SL', 'W']].mean(axis=1)\n",
    "simtable['Category'] = simtable['Average_Abundance'].apply(lambda x: 'Abundant' if x > 0.01 else 'Rare')"
   ]
  },
  {
   "cell_type": "code",
   "execution_count": null,
   "id": "669ec1e6",
   "metadata": {},
   "outputs": [],
   "source": [
    "abundant = simtable[simtable['Category'] == 'Abundant']\n",
    "rare = simtable[simtable['Category'] == 'Rare']\n",
    "\n",
    "abundant_correlation = abundant[['SL', 'W']].corr(method='pearson')\n",
    "rare_correlation = rare[['SL', 'W']].corr(method='pearson')\n",
    "\n",
    "print(\"Abundant taxa correlation:\\n\", abundant_correlation)\n",
    "print(\"Rare taxa correlation:\\n\", rare_correlation)"
   ]
  },
  {
   "cell_type": "markdown",
   "id": "20532475",
   "metadata": {},
   "source": [
    "for comparing clr ratios"
   ]
  },
  {
   "cell_type": "code",
   "execution_count": null,
   "id": "885d0a9d",
   "metadata": {},
   "outputs": [],
   "source": [
    "pivoted = simtable.pivot(index='sampleid', columns='feature_id', values='ratio')\n",
    "pivoted.fillna(1e-6, inplace=True)\n",
    "#clr from skikit bio\n",
    "clr_transformed = clr(pivoted)\n",
    "#prepare df to merge back\n",
    "clr_df = pd.DataFrame(clr_transformed, index=pivoted.index, columns=pivoted.columns)\n",
    "clr_long = clr_df.reset_index().melt(id_vars='sampleid', var_name='feature_id', value_name='clr_ratio')\n",
    "simtable = pd.merge(simtable, clr_long, on=['sampleid', 'feature_id'])"
   ]
  },
  {
   "cell_type": "code",
   "execution_count": null,
   "id": "9e0a0910",
   "metadata": {},
   "outputs": [],
   "source": [
    "clr_median = simtable.groupby('feature_id')['clr_ratio'].transform('median')\n",
    "simtable['Category'] = ['Abundant' if clr >= median else 'Rare' for clr, median in zip(simtable['clr_ratio'], clr_median)]"
   ]
  },
  {
   "cell_type": "code",
   "execution_count": null,
   "id": "b712035b",
   "metadata": {},
   "outputs": [],
   "source": [
    "simtable"
   ]
  },
  {
   "cell_type": "code",
   "execution_count": null,
   "id": "e48095ec",
   "metadata": {},
   "outputs": [],
   "source": []
  },
  {
   "cell_type": "code",
   "execution_count": null,
   "id": "bfd26424",
   "metadata": {},
   "outputs": [],
   "source": []
  },
  {
   "cell_type": "code",
   "execution_count": null,
   "id": "84889c70",
   "metadata": {},
   "outputs": [],
   "source": []
  },
  {
   "cell_type": "code",
   "execution_count": null,
   "id": "48e95192",
   "metadata": {},
   "outputs": [],
   "source": []
  },
  {
   "cell_type": "code",
   "execution_count": null,
   "id": "b18e8076",
   "metadata": {},
   "outputs": [],
   "source": []
  },
  {
   "cell_type": "code",
   "execution_count": null,
   "id": "676bf182",
   "metadata": {},
   "outputs": [],
   "source": []
  },
  {
   "cell_type": "code",
   "execution_count": null,
   "id": "ca68d958",
   "metadata": {},
   "outputs": [],
   "source": []
  },
  {
   "cell_type": "code",
   "execution_count": null,
   "id": "506c70f4",
   "metadata": {},
   "outputs": [],
   "source": []
  },
  {
   "cell_type": "code",
   "execution_count": null,
   "id": "56f40f7f",
   "metadata": {},
   "outputs": [],
   "source": [
    "copy = simtable[['feature_id', 'Average_Abundance']].drop_duplicates()"
   ]
  },
  {
   "cell_type": "code",
   "execution_count": null,
   "id": "ba3b0748",
   "metadata": {},
   "outputs": [],
   "source": [
    "copy['Grouped_avg'] = copy.groupby('feature_id')['Average_Abundance'].transform('mean')\n",
    "copy = copy [['feature_id', 'Grouped_avg']].drop_duplicates()"
   ]
  },
  {
   "cell_type": "code",
   "execution_count": null,
   "id": "14bd929f",
   "metadata": {},
   "outputs": [],
   "source": [
    "copy.sort_values('Grouped_avg')"
   ]
  },
  {
   "cell_type": "code",
   "execution_count": null,
   "id": "c1c8d7be",
   "metadata": {},
   "outputs": [],
   "source": [
    "def taxonomic_barplot_with_separate_legend(df, level, n=15, include_other=True):\n",
    "    \"\"\"\n",
    "    Creates a grouped stacked barplot showing samples grouped by weekn+depth,\n",
    "    with size codes (W, SL, P) displayed within each group, ordered by weekn and depth.\n",
    "    The legend is saved as a separate vertical figure.\n",
    "\n",
    "    Parameters:\n",
    "        df (pd.DataFrame): DataFrame with columns: sampleid, size_code, genus, ratio, weekn, depth.\n",
    "        level (str): Taxonomic level to group by (e.g., genus, species).\n",
    "        n (int): Number of most abundant taxa to display (others grouped under 'Other').\n",
    "        include_other (bool): Whether to group less abundant taxa into \"Other\".\n",
    "    \"\"\"\n",
    "    # Filter size codes to include only W, SL, P\n",
    "    df = df[df['size_code'].isin(['W', 'SL', 'P'])]\n",
    "\n",
    "    # Create a new column for weekn+depth combination\n",
    "    df['weekn_depth'] = df['weekn'].astype(str) + \"_\" + df['depth'].astype(str)\n",
    "\n",
    "    # Replace \"Unassigned\" or \"uncultured+bacterium\" at the given level with its 'feature_id'\n",
    "    df[level] = df.apply(\n",
    "        lambda row: row['genus'] if row[level] in ['Unassigned', 'uncultured+bacterium', 'c__uncultured', 'g__uncultured'] else row[level],\n",
    "        axis=1\n",
    "    )\n",
    "\n",
    "    # Aggregate data globally to find the most abundant taxa\n",
    "    global_abundance = df.groupby(level)['ratio'].sum().sort_values(ascending=False)\n",
    "\n",
    "    # Select the top n most abundant taxa globally\n",
    "    top_taxa = global_abundance.head(n - 1).index.tolist()\n",
    "\n",
    "    if include_other:\n",
    "        # Group less abundant taxa into \"Other\"\n",
    "        df['plot_taxa'] = df[level].apply(lambda x: x if x in top_taxa else 'Other')\n",
    "        unique_taxa = ['Other'] + top_taxa\n",
    "    else:\n",
    "        df = df[df[level].isin(top_taxa)]\n",
    "        df['plot_taxa'] = df[level]\n",
    "        unique_taxa = top_taxa\n",
    "\n",
    "    # Format taxa labels for the legend (remove prefixes and \"__\")\n",
    "    def format_taxa_label(taxon):\n",
    "        return taxon.split(\"__\")[-1]\n",
    "\n",
    "    # Create a global discrete color palette for taxa\n",
    "    color_palette = plt.get_cmap('tab20').colors\n",
    "    color_dict = {taxon: color_palette[i % len(color_palette)] for i, taxon in enumerate(unique_taxa)}\n",
    "\n",
    "    # Group by weekn_depth, size_code, and taxa for plotting\n",
    "    phyld = df.groupby(['weekn', 'depth', 'size_code', 'plot_taxa'])['ratio'].sum().reset_index()\n",
    "\n",
    "    # Pivot the DataFrame for stacked bar plotting\n",
    "    phyld_pivot = phyld.pivot(index=['weekn', 'depth', 'size_code'], columns='plot_taxa', values='ratio').fillna(0).reset_index()\n",
    "\n",
    "    # Order size codes as W, SL, P\n",
    "    size_code_order = {'W': 0, 'SL': 1, 'P': 2}\n",
    "    phyld_pivot['size_code_order'] = phyld_pivot['size_code'].map(size_code_order)\n",
    "\n",
    "    # Sort the data by weekn (ascending), depth (ascending), and size_code (W, SL, P)\n",
    "    phyld_pivot = phyld_pivot.sort_values(by=['weekn', 'depth', 'size_code_order'])\n",
    "\n",
    "    # Generate x-axis positions with spacing between weekn_depth groups\n",
    "    x_positions = []\n",
    "    labels = []\n",
    "    current_x = 0\n",
    "    for (weekn, depth) in phyld_pivot[['weekn', 'depth']].drop_duplicates().values:\n",
    "        group_data = phyld_pivot[(phyld_pivot['weekn'] == weekn) & (phyld_pivot['depth'] == depth)]\n",
    "        x_group = np.arange(len(group_data)) + current_x\n",
    "        x_positions.extend(x_group)\n",
    "        labels.extend(group_data['weekn'].astype(str) + \"_\" + group_data['depth'].astype(str) + \" (\" + group_data['size_code'] + \")\")\n",
    "        current_x += len(group_data) + 1  # Add a gap between groups\n",
    "\n",
    "    # Initialize stack heights\n",
    "    bottom_stack = np.zeros(len(x_positions))\n",
    "\n",
    "    # Initialize the plot\n",
    "    fig, ax1 = plt.subplots(figsize=(18, 8))\n",
    "\n",
    "    # Iterate over each taxon and stack their relative abundances\n",
    "    taxa_categories = phyld_pivot.columns[3:-2]  # Skip 'weekn', 'depth', 'size_code', 'size_code_order'\n",
    "    for taxon in taxa_categories:\n",
    "        heights = phyld_pivot[taxon].values\n",
    "        ax1.bar(\n",
    "            x_positions,\n",
    "            heights,\n",
    "            bottom=bottom_stack,\n",
    "            alpha=0.8,\n",
    "            color=color_dict.get(taxon, 'gray')\n",
    "        )\n",
    "        bottom_stack += heights\n",
    "\n",
    "    # Customize x-axis\n",
    "    ax1.set_xticks(x_positions)\n",
    "    ax1.set_xticklabels(labels, rotation=90, ha='center', fontsize=10)\n",
    "    ax1.set_ylabel(\"Relative Abundance\", fontsize=14)\n",
    "    ax1.set_xlabel(\"Weekn_Depth (Size Code)\", fontsize=14)\n",
    "    ax1.tick_params(axis='y', labelsize=12)\n",
    "\n",
    "    # Save the main plot without a legend\n",
    "    plt.tight_layout()\n",
    "    plt.savefig(f'outputs/taxonomic_barplot_no_legend.png', dpi=300, bbox_inches='tight')\n",
    "    plt.show()\n",
    "\n",
    "    # Create a separate figure for the legend\n",
    "    fig_legend = plt.figure(figsize=(3, len(unique_taxa) * 0.5))  # Adjust size based on the number of taxa\n",
    "    legend_handles = [\n",
    "        plt.Line2D([0], [0], color=color_dict[taxon], lw=10, label=format_taxa_label(taxon))\n",
    "        for taxon in unique_taxa\n",
    "    ]\n",
    "    fig_legend.legend(\n",
    "        handles=legend_handles,\n",
    "        loc=\"center\",\n",
    "        frameon=False,\n",
    "        ncol=1,\n",
    "        title=level,\n",
    "        fontsize=10\n",
    "    )\n",
    "    plt.tight_layout()\n",
    "    plt.savefig(f'outputs/taxonomic_barplot_legend.png', dpi=300, bbox_inches='tight')\n",
    "    plt.show()\n"
   ]
  },
  {
   "cell_type": "code",
   "execution_count": null,
   "id": "3a7cb25b",
   "metadata": {},
   "outputs": [],
   "source": [
    "taxonomic_barplot_with_separate_legend(newdf, 'Genus', n=15, include_other=False)"
   ]
  },
  {
   "cell_type": "code",
   "execution_count": null,
   "id": "560a1fae",
   "metadata": {},
   "outputs": [],
   "source": [
    "def taxonomic_barplots_by_depth(df, level, n=15, include_other=True):\n",
    "    \"\"\"\n",
    "    Creates separate barplots for each depth, with consistent x-axis (weekn).\n",
    "    Missing data for a specific weekn is left blank.\n",
    "\n",
    "    Parameters:\n",
    "        df (pd.DataFrame): DataFrame with columns: sampleid, size_code, genus, ratio, weekn, depth.\n",
    "        level (str): Taxonomic level to group by (e.g., genus, species).\n",
    "        n (int): Number of most abundant taxa to display (others grouped under 'Other').\n",
    "        include_other (bool): Whether to group less abundant taxa into \"Other\".\n",
    "    \"\"\"\n",
    "    # Filter size codes to include only W, SL, P\n",
    "    df = df[df['size_code'].isin(['W', 'SL', 'P'])]\n",
    "\n",
    "    # Replace \"Unassigned\" or \"uncultured+bacterium\" at the given level with its 'feature_id'\n",
    "    df[level] = df.apply(\n",
    "        lambda row: row['genus'] if row[level] in ['Unassigned', 'uncultured+bacterium', 'c__uncultured', 'g__uncultured'] else row[level],\n",
    "        axis=1\n",
    "    )\n",
    "\n",
    "    # Aggregate data globally to find the most abundant taxa\n",
    "    global_abundance = df.groupby(level)['ratio'].sum().sort_values(ascending=False)\n",
    "\n",
    "    # Select the top n most abundant taxa globally\n",
    "    top_taxa = global_abundance.head(n - 1).index.tolist()\n",
    "\n",
    "    if include_other:\n",
    "        # Group less abundant taxa into \"Other\"\n",
    "        df['plot_taxa'] = df[level].apply(lambda x: x if x in top_taxa else 'Other')\n",
    "        unique_taxa = ['Other'] + top_taxa\n",
    "    else:\n",
    "        df = df[df[level].isin(top_taxa)]\n",
    "        df['plot_taxa'] = df[level]\n",
    "        unique_taxa = top_taxa\n",
    "\n",
    "    # Format taxa labels for the legend (remove prefixes and \"__\")\n",
    "    def format_taxa_label(taxon):\n",
    "        return taxon.split(\"__\")[-1]\n",
    "\n",
    "    # Create a global discrete color palette for taxa\n",
    "    color_palette = plt.get_cmap('tab20').colors\n",
    "    color_dict = {taxon: color_palette[i % len(color_palette)] for i, taxon in enumerate(unique_taxa)}\n",
    "\n",
    "    # Get all unique weekn values (for consistent x-axis across plots)\n",
    "    all_weekn = sorted(df['weekn'].unique())\n",
    "\n",
    "    # Group by depth and create separate plots\n",
    "    for depth in sorted(df['depth'].unique()):\n",
    "        # Filter data for the current depth\n",
    "        depth_df = df[df['depth'] == depth]\n",
    "\n",
    "        # Group by weekn, size_code, and taxa for plotting\n",
    "        phyld = depth_df.groupby(['weekn', 'size_code', 'plot_taxa'])['ratio'].sum().reset_index()\n",
    "\n",
    "        # Pivot the DataFrame for stacked bar plotting\n",
    "        phyld_pivot = phyld.pivot(index=['weekn', 'size_code'], columns='plot_taxa', values='ratio').fillna(0).reset_index()\n",
    "\n",
    "        # Order size codes as W, SL, P\n",
    "        size_code_order = {'W': 0, 'SL': 1, 'P': 2}\n",
    "        phyld_pivot['size_code_order'] = phyld_pivot['size_code'].map(size_code_order)\n",
    "        phyld_pivot = phyld_pivot.sort_values(by=['weekn', 'size_code_order'])\n",
    "\n",
    "        # Ensure all weekn are included in the plot\n",
    "        all_weekn_data = []\n",
    "        for weekn in all_weekn:\n",
    "            weekn_data = phyld_pivot[phyld_pivot['weekn'] == weekn]\n",
    "            if weekn_data.empty:\n",
    "                # Add empty rows for missing weekn\n",
    "                for size_code in ['W', 'SL', 'P']:\n",
    "                    all_weekn_data.append({'weekn': weekn, 'size_code': size_code, **{taxon: 0 for taxon in unique_taxa}})\n",
    "            else:\n",
    "                all_weekn_data.extend(weekn_data.to_dict('records'))\n",
    "\n",
    "        # Create a consistent DataFrame for the depth\n",
    "        consistent_df = pd.DataFrame(all_weekn_data)\n",
    "\n",
    "        # Generate x-axis positions with consistent weekn\n",
    "        consistent_df['x_label'] = consistent_df['weekn'].astype(str) + \" (\" + consistent_df['size_code'] + \")\"\n",
    "        x_positions = range(len(consistent_df))\n",
    "\n",
    "        # Initialize stack heights\n",
    "        bottom_stack = np.zeros(len(x_positions))\n",
    "\n",
    "        # Initialize the plot\n",
    "        fig, ax1 = plt.subplots(figsize=(18, 8))\n",
    "\n",
    "        # Iterate over each taxon and stack their relative abundances\n",
    "        taxa_categories = [col for col in consistent_df.columns if col not in ['weekn', 'size_code', 'size_code_order', 'x_label']]\n",
    "        for taxon in taxa_categories:\n",
    "            heights = consistent_df[taxon].values\n",
    "            ax1.bar(\n",
    "                x_positions,\n",
    "                heights,\n",
    "                bottom=bottom_stack,\n",
    "                alpha=0.8,\n",
    "                color=color_dict.get(taxon, 'gray'),\n",
    "                label=format_taxa_label(taxon)\n",
    "            )\n",
    "            bottom_stack += heights\n",
    "\n",
    "        # Customize x-axis\n",
    "        ax1.set_xticks(x_positions)\n",
    "        ax1.set_xticklabels(consistent_df['x_label'], rotation=90, ha='center', fontsize=10)\n",
    "        ax1.set_ylabel(\"Relative Abundance\", fontsize=14)\n",
    "        ax1.set_xlabel(f\"Weekn (Size Code) - Depth {depth}m\", fontsize=14)\n",
    "        ax1.tick_params(axis='y', labelsize=12)\n",
    "\n",
    "        # Save the plot for the current depth\n",
    "        plt.tight_layout()\n",
    "        plt.savefig(f'outputs/taxonomic_barplot_depth_{depth}m.png', dpi=300, bbox_inches='tight')\n",
    "        plt.show()\n",
    "\n",
    "    # Create a separate figure for the legend\n",
    "    fig_legend = plt.figure(figsize=(3, len(unique_taxa) * 0.5))  # Adjust size based on the number of taxa\n",
    "    legend_handles = [\n",
    "        plt.Line2D([0], [0], color=color_dict[taxon], lw=10, label=format_taxa_label(taxon))\n",
    "        for taxon in unique_taxa\n",
    "    ]\n",
    "    fig_legend.legend(\n",
    "        handles=legend_handles,\n",
    "        loc=\"center\",\n",
    "        frameon=False,\n",
    "        ncol=1,\n",
    "        title=level,\n",
    "        fontsize=10\n",
    "    )\n",
    "    plt.tight_layout()\n",
    "    plt.savefig(f'outputs/taxonomic_barplot_legend.png', dpi=300, bbox_inches='tight')\n",
    "    plt.show()\n"
   ]
  },
  {
   "cell_type": "code",
   "execution_count": null,
   "id": "11637e5b",
   "metadata": {},
   "outputs": [],
   "source": [
    "taxonomic_barplots_by_depth(newdf, 'Genus', n=15, include_other=False)"
   ]
  },
  {
   "cell_type": "code",
   "execution_count": null,
   "id": "e8ece5b9",
   "metadata": {},
   "outputs": [],
   "source": [
    "filtered_rows = newdf[newdf['sampleid'] == 'BB22.10C']  # or use ~df['column2'].isnull()"
   ]
  },
  {
   "cell_type": "code",
   "execution_count": null,
   "id": "eeca0721",
   "metadata": {},
   "outputs": [],
   "source": [
    "filtered_rows[['sampleid', 'Taxon', 'Family', 'Genus', 'ratio', 'feature_frequency', '[DNA]ng/ul']]"
   ]
  },
  {
   "cell_type": "code",
   "execution_count": null,
   "id": "54146ba5",
   "metadata": {},
   "outputs": [],
   "source": []
  },
  {
   "cell_type": "code",
   "execution_count": null,
   "id": "605a8ff4",
   "metadata": {},
   "outputs": [],
   "source": []
  },
  {
   "cell_type": "code",
   "execution_count": null,
   "id": "6248e82b",
   "metadata": {},
   "outputs": [],
   "source": []
  },
  {
   "cell_type": "code",
   "execution_count": null,
   "id": "ba608ff9",
   "metadata": {},
   "outputs": [],
   "source": []
  },
  {
   "cell_type": "code",
   "execution_count": null,
   "id": "dc40947f",
   "metadata": {},
   "outputs": [],
   "source": []
  },
  {
   "cell_type": "code",
   "execution_count": null,
   "id": "2ef09c1d",
   "metadata": {},
   "outputs": [],
   "source": [
    "newdf"
   ]
  },
  {
   "cell_type": "code",
   "execution_count": null,
   "id": "de2cc792",
   "metadata": {},
   "outputs": [],
   "source": []
  },
  {
   "cell_type": "code",
   "execution_count": null,
   "id": "391ddb70",
   "metadata": {},
   "outputs": [],
   "source": []
  },
  {
   "cell_type": "code",
   "execution_count": null,
   "id": "b3dc119c",
   "metadata": {},
   "outputs": [],
   "source": []
  },
  {
   "cell_type": "code",
   "execution_count": null,
   "id": "466dc6ca",
   "metadata": {},
   "outputs": [],
   "source": []
  },
  {
   "cell_type": "markdown",
   "id": "cb8900a1",
   "metadata": {},
   "source": [
    "### Export files"
   ]
  },
  {
   "cell_type": "markdown",
   "id": "4312145a",
   "metadata": {},
   "source": [
    "#### Files for NCBI"
   ]
  },
  {
   "cell_type": "markdown",
   "id": "631b6453",
   "metadata": {},
   "source": [
    "To generate MIMARKS file for NCBI sequence submission; the output is a .csv file for the samples and their metadata for submission (i.e sampleid, size fraction, date)"
   ]
  },
  {
   "cell_type": "code",
   "execution_count": null,
   "id": "5782332e",
   "metadata": {},
   "outputs": [],
   "source": [
    "make_MIMARKS(newseparated)"
   ]
  },
  {
   "cell_type": "markdown",
   "id": "9f02d3d5",
   "metadata": {},
   "source": [
    "#### Files for R"
   ]
  },
  {
   "cell_type": "markdown",
   "id": "f8bdf7ac",
   "metadata": {},
   "source": [
    "To create a phyloseq object, you need an ASV table, taxonomy file and metadata"
   ]
  },
  {
   "cell_type": "code",
   "execution_count": null,
   "id": "6fef52ea",
   "metadata": {},
   "outputs": [],
   "source": []
  },
  {
   "cell_type": "code",
   "execution_count": null,
   "id": "238fc456",
   "metadata": {},
   "outputs": [],
   "source": []
  },
  {
   "cell_type": "code",
   "execution_count": null,
   "id": "459f0437",
   "metadata": {},
   "outputs": [],
   "source": []
  },
  {
   "cell_type": "code",
   "execution_count": null,
   "id": "78855672",
   "metadata": {},
   "outputs": [],
   "source": []
  },
  {
   "cell_type": "code",
   "execution_count": null,
   "id": "07787f92",
   "metadata": {},
   "outputs": [],
   "source": [
    "filtered_data = newdf[['size_code', 'feature_id', 'ratio', 'Phylum', 'Genus', 'Family', 'Class']]\n",
    "filtered_data = newdf[newdf['size_code'].isin(['S', 'W', 'L'])]\n",
    "\n",
    "# Identify unshared ASVs for each size fraction\n",
    "unshared_asvs = filtered_data.groupby('size_code').apply(\n",
    "    lambda group: group.loc[~group['feature_id'].isin(\n",
    "        filtered_data.loc[filtered_data['size_code'] != group.name, 'feature_id']\n",
    "    )]\n",
    ").reset_index(drop=True)\n",
    "\n",
    "sizecodes = ['S', 'L', 'W']\n",
    "palette_colors = sns.color_palette()\n",
    "palette_dict = {sizecode: color for sizecode, color in zip(sizecodes, palette_colors)}\n",
    "\n",
    "sns.set_theme(style='ticks')\n",
    "sns.despine()\n",
    "sns.displot(\n",
    "    data=unshared_asvs,\n",
    "    x='ratio',\n",
    "    hue='size_code',\n",
    "    kind='hist',\n",
    "    multiple='stack',  # Bars are side-by-side\n",
    "    palette=palette_dict,\n",
    "    log_scale=(True, False),\n",
    "    height=4, aspect=1.1,\n",
    "    legend=False,\n",
    "    bins=25\n",
    ")\n",
    "\n",
    "\n",
    "plt.xlabel('log(Ratio)', fontsize=14, weight='bold')\n",
    "plt.ylabel('Number of features', fontsize=14, weight='bold')\n",
    "plt.xticks(fontsize=12)\n",
    "plt.yticks(fontsize=12)\n",
    "\n",
    "plt.tight_layout()\n",
    "plt.savefig(\"outputs/\"+comm+\"/displot.png\", dpi=300, bbox_inches=\"tight\")\n",
    "plt.show()"
   ]
  },
  {
   "cell_type": "code",
   "execution_count": null,
   "id": "35a3b6c1",
   "metadata": {},
   "outputs": [],
   "source": [
    "filtered_data = newdf[['size_code', 'feature_id', 'ratio', 'Phylum', 'Genus', 'Family', 'Class']]\n",
    "filtered_data = newdf[newdf['size_code'].isin(['S', 'W', 'L'])]\n",
    "\n",
    "# Identify unshared ASVs for each size fraction\n",
    "unshared_asvs = filtered_data.groupby('size_code').apply(\n",
    "    lambda group: group.loc[~group['feature_id'].isin(\n",
    "        filtered_data.loc[filtered_data['size_code'] != group.name, 'feature_id']\n",
    "    )]\n",
    ").reset_index(drop=True)\n",
    "\n",
    "sizecodes = ['S', 'L', 'W']\n",
    "palette_colors = sns.color_palette()\n",
    "palette_dict = {sizecode: color for sizecode, color in zip(sizecodes, palette_colors)}\n",
    "\n",
    "sns.set_theme(style='ticks')\n",
    "sns.despine()\n",
    "sns.displot(\n",
    "    data=unshared_asvs,\n",
    "    x='ratio',\n",
    "    hue='Phylum',\n",
    "    kind='hist',\n",
    "    multiple='stack',  # Bars are side-by-side,\n",
    "    log_scale=(True, False),\n",
    "    height=4, aspect=1.1,\n",
    "    bins=25\n",
    ")\n",
    "\n",
    "\n",
    "plt.xlabel('log(Ratio)', fontsize=14, weight='bold')\n",
    "plt.ylabel('Number of features', fontsize=14, weight='bold')\n",
    "plt.xticks(fontsize=12)\n",
    "plt.yticks(fontsize=12)\n",
    "\n",
    "plt.tight_layout()\n",
    "#plt.savefig(\"outputs/\"+comm+\"/displot.png\", dpi=300, bbox_inches=\"tight\")\n",
    "plt.show()"
   ]
  },
  {
   "cell_type": "code",
   "execution_count": null,
   "id": "448d924b",
   "metadata": {},
   "outputs": [],
   "source": [
    "sns.set_theme(style='ticks')\n",
    "sns.despine()\n",
    "sns.displot(\n",
    "    data=unshared_asvs,\n",
    "    x='ratio',\n",
    "    hue='size_code',\n",
    "    kind='hist',\n",
    "    multiple='stack',  # Bars are side-by-side\n",
    "    palette=palette_dict,\n",
    "    height=4, aspect=1.1,\n",
    "    legend=False\n",
    "#    ,bins=600\n",
    ")\n",
    "\n",
    "#plt.xlim(0, 0.1)\n",
    "plt.xlabel('Ratio', fontsize=14, weight='bold')\n",
    "plt.ylabel('Number of features', fontsize=14, weight='bold')\n",
    "plt.xticks(fontsize=12)\n",
    "plt.yticks(fontsize=12)\n",
    "plt.tight_layout()\n",
    "plt.savefig(\"outputs/\"+comm+\"/displot_nolog.png\", dpi=300, bbox_inches=\"tight\")\n",
    "plt.show()"
   ]
  },
  {
   "cell_type": "code",
   "execution_count": null,
   "id": "656b8ba7",
   "metadata": {},
   "outputs": [],
   "source": [
    "def dnacon(newseparated, depth='all'):\n",
    "    # Filter by depth if needed\n",
    "    if depth != 'all':\n",
    "        df = newseparated[newseparated.depth == depth]\n",
    "    else:\n",
    "        df = newseparated\n",
    "\n",
    "    # Sort and filter the data\n",
    "    sorted_data = df[[\"weekn\", \"[DNA]ng/ul\", \"size_code\", 'depth', 'date']].sort_values(by=[\"weekn\", \"size_code\", 'depth'])\n",
    "    filtered_df = sorted_data[sorted_data[\"size_code\"] != \"SL\"]\n",
    "\n",
    "    # Calculate the SL value as S + L\n",
    "    sl_data = (\n",
    "        filtered_df[filtered_df[\"size_code\"].isin([\"S\", \"L\"])]\n",
    "        .groupby([\"weekn\", \"depth\", \"date\"], as_index=False)[\"[DNA]ng/ul\"]\n",
    "        .sum()\n",
    "    )\n",
    "    sl_data[\"size_code\"] = \"SL\"\n",
    "\n",
    "    # Append the SL data back to the original filtered dataframe\n",
    "    updated_df = pd.concat([filtered_df, sl_data], ignore_index=True)\n",
    "\n",
    "    # Drop duplicates and sort\n",
    "    updated_df = updated_df.drop_duplicates().sort_values(by=[\"weekn\", \"size_code\", 'depth'])\n",
    "\n",
    "    # Define color palette for the size codes\n",
    "    sizecodes = ['S', 'L', 'W', 'SL', 'P']\n",
    "    palette_colors = sns.color_palette()\n",
    "    palette_dict = {sizecode: color for sizecode, color in zip(sizecodes, palette_colors)}\n",
    "\n",
    "    # Plotting\n",
    "    plt.figure(figsize=(12, 6))\n",
    "    sns.barplot(\n",
    "        data=updated_df,\n",
    "        x=\"date\",\n",
    "        y=\"[DNA]ng/ul\",\n",
    "        hue=\"size_code\",\n",
    "        palette=palette_dict\n",
    "    )\n",
    "\n",
    "    plt.xlabel(\"Time\", fontsize=12)\n",
    "    plt.ylabel(\"DNA Concentration (ng/µl)\", fontsize=12)\n",
    "    plt.legend(title=\"Size Code\", fontsize=10, title_fontsize=12)\n",
    "    plt.xticks(fontsize=10, rotation=45)\n",
    "    plt.yticks(fontsize=10)\n",
    "\n",
    "    # Display and save the plot\n",
    "    plt.tight_layout()\n",
    "    plt.savefig(\"outputs/grouped_bar_dnaconc\" + str(depth) + \".png\", dpi=300, bbox_inches=\"tight\")\n",
    "    plt.show()"
   ]
  },
  {
   "cell_type": "code",
   "execution_count": null,
   "id": "59fa0611",
   "metadata": {},
   "outputs": [],
   "source": [
    "# Group by 'weekn', 'depth', and 'date' to calculate the sum of 'S' and 'L'\n",
    "sl_fill_values = (\n",
    "    newseparated[newseparated[\"size_code\"].isin([\"S\", \"L\"])]\n",
    "    .groupby([\"weekn\", \"depth\", \"date\"], as_index=False)[\"[DNA]ng/ul\"]\n",
    "    .sum()\n",
    ")\n",
    "\n",
    "# Add a column to identify these as 'SL'\n",
    "sl_fill_values[\"size_code\"] = \"SL\"\n",
    "\n",
    "# Merge the sum values back into 'newseparated' to fill the NaN rows for 'SL'\n",
    "newseparated.loc[\n",
    "    (newseparated[\"size_code\"] == \"SL\") & (newseparated[\"[DNA]ng/ul\"].isna()),\n",
    "    \"[DNA]ng/ul\",\n",
    "] = newseparated.merge(\n",
    "    sl_fill_values,\n",
    "    on=[\"weekn\", \"depth\", \"date\", \"size_code\"],\n",
    "    how=\"left\"\n",
    ")[\"[DNA]ng/ul_y\"]"
   ]
  },
  {
   "cell_type": "code",
   "execution_count": null,
   "id": "dceb217c",
   "metadata": {},
   "outputs": [],
   "source": []
  },
  {
   "cell_type": "code",
   "execution_count": null,
   "id": "4a9c3879",
   "metadata": {},
   "outputs": [],
   "source": []
  },
  {
   "cell_type": "code",
   "execution_count": null,
   "id": "5b4df6fc",
   "metadata": {},
   "outputs": [],
   "source": [
    "import pandas as pd\n",
    "from scipy.stats import pearsonr\n",
    "\n",
    "# Filter the data for size codes SL and W\n",
    "sl_data = newseparated[newseparated['size_code'] == 'SL']\n",
    "w_data = newseparated[newseparated['size_code'] == 'W']\n",
    "\n",
    "# Merge the data to align SL and W for the same feature_id, weekn, and depth\n",
    "merged_data = pd.merge(\n",
    "    sl_data, \n",
    "    w_data, \n",
    "    on=[\"feature_id\", \"weekn\", \"depth\"], \n",
    "    suffixes=('_sl', '_w')\n",
    ")\n",
    "\n",
    "# List to store correlation results\n",
    "correlation_results = []\n",
    "\n",
    "# Calculate the Pearson correlation for each feature_id\n",
    "for feature in merged_data['feature_id'].unique():\n",
    "    # Filter rows for the current feature\n",
    "    feature_data = merged_data[merged_data['feature_id'] == feature]\n",
    "    \n",
    "    # Extract the SL and W ratios\n",
    "    sl_series = feature_data['ratio_sl']\n",
    "    w_series = feature_data['ratio_w']\n",
    "    \n",
    "    # Ensure there are enough data points for correlation\n",
    "    if len(sl_series) > 1 and len(w_series) > 1:  # At least 2 points\n",
    "        correlation, _ = pearsonr(sl_series, w_series)  # Pearson correlation\n",
    "        \n",
    "        # Calculate mean ratios for SL and W\n",
    "        mean_ratio_sl = sl_series.mean()\n",
    "        mean_ratio_w = w_series.mean()\n",
    "        \n",
    "        # Add correlation and metadata to the results list\n",
    "        correlation_results.append({\n",
    "            'feature_id': feature,\n",
    "            'correlation': correlation,\n",
    "            'depth': feature_data['depth'].iloc[0],  # Assume depth is constant for a feature\n",
    "            'mean_ratio_sl': mean_ratio_sl,\n",
    "            'mean_ratio_w': mean_ratio_w\n",
    "        })\n",
    "\n",
    "# Convert results to a DataFrame\n",
    "correlation_df = pd.DataFrame(correlation_results)\n",
    "\n",
    "# Sort the DataFrame by correlation score\n",
    "correlation_df = correlation_df.sort_values(by='correlation', ascending=False)\n",
    "\n",
    "# Extract the best and worst matches\n",
    "top_n_best_df = correlation_df.head(10)  # Top 10 best matches\n",
    "top_n_worst_df = correlation_df.tail(10)  # Top 10 worst matches\n",
    "\n",
    "# Display the best and worst matches\n",
    "print(\"Top 10 Best Matches:\")\n",
    "print(top_n_best_df)\n",
    "print(\"\\nTop 10 Worst Matches:\")\n",
    "print(top_n_worst_df)\n",
    "\n",
    "# Save to CSV if needed\n",
    "correlation_df.to_csv('correlation_results.csv', index=False)\n",
    "top_n_best_df.to_csv('best_matches.csv', index=False)\n",
    "top_n_worst_df.to_csv('worst_matches.csv', index=False)"
   ]
  },
  {
   "cell_type": "code",
   "execution_count": null,
   "id": "8fde9651",
   "metadata": {},
   "outputs": [],
   "source": [
    "correlation_df = correlation_df.sort_values(by='correlation', ascending=False)"
   ]
  },
  {
   "cell_type": "code",
   "execution_count": null,
   "id": "4903a4d8",
   "metadata": {},
   "outputs": [],
   "source": [
    "correlation_df.sort_values('correlationé')"
   ]
  },
  {
   "cell_type": "code",
   "execution_count": null,
   "id": "3e8065a2",
   "metadata": {},
   "outputs": [],
   "source": []
  },
  {
   "cell_type": "code",
   "execution_count": null,
   "id": "f0f7521b",
   "metadata": {},
   "outputs": [],
   "source": [
    "f_id = 'd93e9fdee1043924e16705e2be0f1912'\n",
    "newdf.loc[newdf['feature_id'] == f_id, 'Taxon'].tolist()[0]"
   ]
  },
  {
   "cell_type": "code",
   "execution_count": null,
   "id": "fbe35bec",
   "metadata": {},
   "outputs": [],
   "source": [
    "timeseries_fid(comm, newseparated, f_id, 'g__Clade_Ia', 5)"
   ]
  },
  {
   "cell_type": "code",
   "execution_count": null,
   "id": "919df467",
   "metadata": {},
   "outputs": [],
   "source": []
  }
 ],
 "metadata": {
  "kernelspec": {
   "display_name": "qiime2-2023.5",
   "language": "python",
   "name": "qiime2-2023.5"
  },
  "language_info": {
   "codemirror_mode": {
    "name": "ipython",
    "version": 3
   },
   "file_extension": ".py",
   "mimetype": "text/x-python",
   "name": "python",
   "nbconvert_exporter": "python",
   "pygments_lexer": "ipython3",
   "version": "3.8.16"
  }
 },
 "nbformat": 4,
 "nbformat_minor": 5
}
